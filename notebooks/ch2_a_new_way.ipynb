{
 "cells": [
  {
   "cell_type": "markdown",
   "id": "ff51afe5",
   "metadata": {},
   "source": [
    "# Chapter 2: Reasoning About Code - A New Way\n",
    "\n",
    "In Chapter 1, we implemented a working 1-D heat equation solver.\n",
    "It works, but it’s fragile, opaque, and difficult to test or extend.\n",
    "In this chapter, we'll take a step back and ask: can we design and reason about our code systematically, before we even run it?\n",
    "\n",
    "We'll introduce preconditions, postconditions, and invariants, which are concepts borrowed from formal logic, and use them to refactor our code step by step into something more modular, testable, and robust.\n",
    "\n",
    "---\n",
    "\n",
    "### Goals\n",
    "\n",
    " - Identify preconditions, postconditions, and invariants for a scientific computing problem.\n",
    " - Apply backward reasoning and stepwise refinement to improve a messy, monolithic implementation.\n",
    " - Separate concerns in your code: boundary conditions, flux computations, and updates.\n",
    " - Produce a modular version of the heat equation solver that sets the stage for unit and property-based testing.\n",
    "\n",
    "### Key Concepts\n",
    "\n",
    " - Abstraction: Viewing complex systems at a high-level, where irrelevant details are ignored.\n",
    " - Hoare Logic: reasoning about code with `{P} code {Q}` triples.\n",
    " - Backward reasoning: starting from a desired outcome and working backward.\n",
    " - Stepwise refinement: incrementally developing code.\n",
    " - Invariants: conditions that must always hold true during program execution.\n",
    " - Separation of concerns: organizing code into clean, testable components.\n",
    "\n",
    "---"
   ]
  },
  {
   "cell_type": "markdown",
   "id": "9bb41fc5",
   "metadata": {},
   "source": [
    "\n",
    "## Why Reason About Code?\n",
    "\n",
    "Scientific software is both a tool that enables science and a research product in and of itself. As such, it warrants a similar\n",
    "rigor and reasoning as the science it enables. How might we reason about software? Well,\n",
    "we can take inspiration from the scientific method:\n",
    "\n",
    "- Form hypotheses -> attempt refutation → refine toward confidence.\n",
    "\n",
    "Or, in the software world:\n",
    "\n",
    "- Specify properties and behaviors -> check -> refine.\n",
    "\n",
    "In practice, though, scientific computing applications are often developed in a \"code and fix\" fashion, and an assumption:\n",
    "\n",
    "> If the outputs look reasonable and don't crash, it must be correct. - A typical scientific programmer\n",
    "\n",
    "But trusting results without understanding the code is risky. The following is obviously true, but often undermined in scientific computing:\n",
    "\n",
    "> \"We can't get systems right if we don't understand them\" - Leslie Lamport"
   ]
  },
  {
   "cell_type": "markdown",
   "id": "ec1ef074",
   "metadata": {},
   "source": [
    "\n",
    "### Abstraction\n",
    "\n",
    "Reasoning about code requires a level of abstraction that allows us to focus on the high-level behavior of the system without getting bogged down in implementation details.\n",
    "\n",
    "Fortunately, as scientists and engineers, we are accustomed to this way of thinking: thinking about complex systems at a high level, i.e., by removing irrelevant details, and breaking such systems into smaller, more manageable components. This mindset is crucial for effective reasoning about code.\n",
    "\n",
    "But what happens to the low-level details? Don't the subtle, low-level considerations\n",
    "the most often cause of bugs? While that's true, a focus on high-level abstractions pay\n",
    "off in the form of better isolation of low-level details, overall integrity, and a better\n",
    "understanding. After all, many of the root causes of low-level bugs is due to a lack of understanding\n",
    "and attention to the high-level design and intent, or the trickling down of the bad high-level decisions to the low-level implementation.\n",
    "\n",
    "Abstractions are then useful for both reasoning about code and finding the best software design.\n",
    " While the focus of this tutorial is mainly on the former, it goes without saying\n",
    "that both go hand-in-hand, both are crucial for robust software development, and both are non-trivial tasks:\n",
    "\n",
    "> The hard part of building software is the conceptual construct, \n",
    "> not the labor of representing it.\n",
    "> *-FP Brooks. “No Silver Bullet” (1987)*\n",
    "\n",
    "> What matters is the fundamental structure of the design. If you get\n",
    "> it wrong, there is no amount of bug fixing and refactoring that will\n",
    "> produce a reliable, maintainable, and usable system\n",
    "> *- D. Jackson. The essence of software. (2021)*"
   ]
  },
  {
   "cell_type": "markdown",
   "id": "6a0013f7",
   "metadata": {},
   "source": [
    "\n",
    "### Specification\n",
    "\n",
    "Specification is the process of writing down abstractions in a precise way.\n",
    "\n",
    "Specifications can occur at a vast variety of rigom, from high-level descriptions of desired properties in plain language to highly-detailed, mathematically-based descriptions of instructions in dedicated formal languages.\n",
    "\n",
    "In this tutorial, we adopt a specification approach that's more on the practical side of the spectrum, focusing mainly on preconditions and postconditions (in the form of assertions). These are clear and actionable specifications that can guide the implementation process effectively, and facilitate testing, property checking, and symbolic execution.\n",
    "\n",
    "### Floyd-Hoare Triples\n",
    "\n",
    "A Hoare triple is a way of specifying what a code fragment should do:\n",
    "\n",
    "`  {P} code {Q}`\n",
    "\n",
    "where\n",
    " - `P` (precondition): what must be true before running the `code`.\n",
    " - `code` (implementation): the program fragment in question, e.g., a statement, block, function, etc.\n",
    " - `Q` (postcondition): what must be true after running the `code`.\n",
    "\n",
    "Example:"
   ]
  },
  {
   "cell_type": "code",
   "execution_count": 8,
   "id": "d450d8e8",
   "metadata": {},
   "outputs": [],
   "source": [
    "def div(x, y):\n",
    "    assert y != 0           # P    (precondition)\n",
    "    res = x / y             # code (implementation)\n",
    "    assert res * y == x     # Q    (postcondition)\n",
    "    return res"
   ]
  },
  {
   "cell_type": "markdown",
   "id": "04ad3366",
   "metadata": {},
   "source": [
    "The precondition `y != 0` and the postcondition `res * y == x` state that, for all inputs `x` and `y` satisfying the precondition, the function `div` will produce an output `res` such that when multiplied by `y`, it will yield `x`. \n",
    "\n",
    "### Exercise 2.1: \n",
    "Can you think of any inputs that might cause the function to fail even if the precondition is satisfied? Try various values for x and y in the below cell to see if the postcondition holds."
   ]
  },
  {
   "cell_type": "code",
   "execution_count": 2,
   "id": "0f26f243",
   "metadata": {},
   "outputs": [
    {
     "data": {
      "text/plain": [
       "2.0"
      ]
     },
     "execution_count": 2,
     "metadata": {},
     "output_type": "execute_result"
    }
   ],
   "source": [
    "div(4, 2)"
   ]
  },
  {
   "cell_type": "markdown",
   "id": "658434bd",
   "metadata": {},
   "source": [
    "#### Answer (expand to see)\n",
    "\n",
    "While these pre and postconditions are valid for real arithmetics, they are not necessarily true for floating-point arithmetic due to precision errors. For example, try running `div(7, 25)` in the above cell."
   ]
  },
  {
   "cell_type": "markdown",
   "id": "4bf4c698",
   "metadata": {},
   "source": [
    "While the limitations of floating point arithmetics are well known, it's not uncommon to overlook them in practice, leading to wrong assumptions, and, hence, potential failures in other parts of the code that rely on these assumptions. The following version of the `div` function relaxes the postcondition to avoid overpromises. And ensures that we are aware of (and documenting) the limitations of the code fragments that we develop. "
   ]
  },
  {
   "cell_type": "code",
   "execution_count": 3,
   "id": "5f45b55a",
   "metadata": {},
   "outputs": [],
   "source": [
    "import numpy as np\n",
    "\n",
    "def div(x, y):\n",
    "    assert y != 0                   # P    (precondition)\n",
    "    res = x / y                     # code (implementation)\n",
    "    assert np.isclose(res * y, x)   # Q    (postcondition)\n",
    "    return res"
   ]
  },
  {
   "cell_type": "code",
   "execution_count": 4,
   "id": "a5e55675",
   "metadata": {},
   "outputs": [
    {
     "data": {
      "text/plain": [
       "0.28"
      ]
     },
     "execution_count": 4,
     "metadata": {},
     "output_type": "execute_result"
    }
   ],
   "source": [
    "div(7, 25)"
   ]
  },
  {
   "cell_type": "markdown",
   "id": "dfdef918",
   "metadata": {},
   "source": [
    "### Exercise 2.2:\n",
    "\n",
    "Similar to Exercise 2.1, come up with an exercise where precondition is not strong enough, and, hence is not a valid \"weakest precondition\"]"
   ]
  },
  {
   "cell_type": "code",
   "execution_count": null,
   "id": "89a1a737",
   "metadata": {},
   "outputs": [],
   "source": []
  },
  {
   "cell_type": "markdown",
   "id": "4efd2ccb",
   "metadata": {},
   "source": [
    "To sum up, the precondition `P` and the postcondition `Q` together ***specify*** the intended behavior of the `code`.\n",
    "\n",
    "Goals in determining and specifying `P` and `Q`:\n",
    "- We wish to have `P` as general as possible while still being precise enough to be useful (weakest precondition). This allows us to maximize the applicability of our code fragment.\n",
    "- We wish to have `Q` as specific as possible while still being general enough to cover all desired outcomes (strongest postcondition). This allows us to give stronger guarantees about the behavior of our implementation."
   ]
  },
  {
   "cell_type": "markdown",
   "id": "ca212dc1",
   "metadata": {},
   "source": [
    "\n",
    "Our overall goal is then:\n",
    " - to determine and specify the precondition(s) `P` and postcondition(s) `Q` for our implementation `code` and to check that, given `P`, `code` satisfies `Q`."
   ]
  },
  {
   "cell_type": "code",
   "execution_count": null,
   "id": "658c7ff0",
   "metadata": {},
   "outputs": [],
   "source": []
  },
  {
   "cell_type": "markdown",
   "id": "9cdd1e2b",
   "metadata": {},
   "source": [
    "## Stepwise Refinement\n",
    "\n",
    "Stepwise refinement is the process of progressively developing a solution, starting\n",
    "from a high-level specification and moving toward a fully implemented system.\n",
    "\n",
    "You begin with abstract definitions, i.e., what the system should do, and gradually\n",
    "refine them into narrow, contract-bearing modules.\n",
    "\n",
    "This naturally produces modular, testable designs, where modularity emerges as\n",
    "a consequence, not as an afterthought.\n",
    "\n",
    "The steps of stepwise refinement are:\n",
    "\n",
    "*Step 0: Identify the What*: \n",
    "Clearly define the overall problem to be solved, focusing on desired outcomes,\n",
    "not how to achieve them.\n",
    "\n",
    "*Step 1: Decompose into Components*:\n",
    "Break the problem into smaller, manageable parts that represent meaningful abstractions.\n",
    "\n",
    "*Step 2: Specify Interfaces and Contracts*:\n",
    "For each component, define interfaces (or external APIs) that capture the behavior in precise, testable terms.\n",
    "\n",
    "*Step 3: Implement Incrementally*:\n",
    "Fill in the concrete implementations step by step, ensuring that each one respects or evolves its specification and interface contracts as you learn more.\n",
    "\n",
    "Think of each refinement step as making the \"what\" more precise, while keeping the \"how\" flexible until you need to commit to an implementation.\n",
    "\n",
    "## Why This Matters\n",
    "\n",
    "By deferring implementation details, stepwise refinement:\n",
    "\n",
    " - Encourages clean separation of concerns.\n",
    "\n",
    " - Makes invariants and properties local and testable.\n",
    "\n",
    " - Makes systems flexible to change: new implementations can replace old ones without breaking the whole system.\n",
    "\n",
    " - Aligns naturally with API-first approaches, where the external API is treated as a top-level contract to be refined and implemented independently.\n",
    "\n",
    "In short: start abstract, specify carefully, then refine iteratively. Modularity and robustness emerge by design, not by accident."
   ]
  },
  {
   "cell_type": "markdown",
   "id": "fb5f73d0",
   "metadata": {},
   "source": [
    "## Heat Equation Solver Revisited\n",
    "\n",
    "Based on the following description of stepwise refinement, let's develop a new version of the heat equation solver that we developed earlier."
   ]
  },
  {
   "cell_type": "markdown",
   "id": "bc8a6719",
   "metadata": {},
   "source": [
    "### Step 0 — Specification (the what)\n",
    "\n",
    "Advance a 1-D temperature field $u_i$ on a uniform grid with spacing $\\Delta x$ for `nt` time steps of size `dt`, thermal diffusivity $\\kappa$, and Neumann boundary heat fluxes $q_L$ and $q_R$ using a conservative finite volume method:\n",
    "\n",
    "$\n",
    "\\qquad\n",
    "u_i^{n+1} = u_i^{n} + \\Delta t \\, \\frac{F_{i} - F_{i+1}}{\\Delta x},\n",
    "\\qquad\n",
    "F_i =\n",
    "\\begin{cases}\n",
    "q_L & i = 0, \\\\[6pt]\n",
    "-\\kappa \\dfrac{u_i - u_{i-1}}{\\Delta x} & 1 \\leq i \\leq N-1, \\\\[10pt]\n",
    "q_R & i = N.\n",
    "\\end{cases}\n",
    "$\n",
    "\n",
    "#### Preconditions\n",
    "\n",
    "- `len(u) >= 3`\n",
    "- `dx > 0`, `dt > 0`, `nt > 0`\n",
    "\n",
    "#### Postconditions\n",
    "\n",
    "- The total heat is conserved, that is\n",
    "$$\n",
    "\\sum_{i=0}^{N} u_i^{n+1} \\Delta x = \\sum_{i=0}^{N} u_i^{n} \\Delta x + \\Delta t \\left( q_L - q_R \\right).\n",
    "$$\n",
    "\n",
    "- When `q_L` and `q_R` are both zero, the average temperature remains constant over time.\n",
    "- When `q_L` and `q_R` are constant, the temperature profile converges a steady state."
   ]
  },
  {
   "cell_type": "markdown",
   "id": "64d2ad15",
   "metadata": {},
   "source": [
    "#### Exercise 2.3:\n",
    "\n",
    "Can you come up with more pre- and postconditions for the heat equation solver?\n",
    "Both computational and physical constraints are fine."
   ]
  },
  {
   "cell_type": "markdown",
   "id": "5db50470",
   "metadata": {},
   "source": [
    "### Step 1 - Define the conceptual construct\n",
    "\n",
    "In this step, we define a small but complete core API (data structures and functions).\n",
    "Here, we are attempting to have a complete design of the full machinery\n",
    "at a high level. Our aim is therefore to create a set of abstractions\n",
    "(in the form of data structures and behaviors) that encapsulate the key concepts\n",
    "and operations involved in solving the heat equation.\n",
    "\n",
    "In coming up with a high level design, one threat is focusing too much on features\n",
    "(i.e., computational aspects) as opposed to the underlying concepts that define\n",
    "the system, and interactions between the components. In the words of John Ousterhout:\n",
    "\n",
    "> \"[T]he units of development should be abstractions, not features. Once you discover\n",
    "the need for an abstraction, don't create abstraction in pieces over time; design\n",
    "it all at once (or at least enough to provide a reasonably comprehensive set of core functions).\n",
    "This is more likely to produce a clean design whose pieces fit together well.\" (A Philosophy of Software Design, 2022)\n",
    "\n",
    "While it is crucial to design abstractions thoughtfully and comprehensively from the start, this does not mean they are fixed forever. Abstractions should be treated as evolving hypotheses: as our understanding of the problem deepens, we may need to refine or even redesign them. A core goal of software design is to create abstractions that are flexible, adaptable, and easy to refactor.\n",
    "\n",
    "The principles emphasized in this tutorial, e.g., clear specifications with pre- and post-conditions, testability, modularity, and separation of concerns, provide the safety nets and structure needed to revise and improve abstractions over time, without sacrificing correctness or adding unnecessary complexity.\n",
    "\n",
    "Before we develop the core API, let's outline the key abstract entities, i.e.,\n",
    "concepts, and relationships among them.\n",
    "\n",
    "#### Concepts in the Heat Equation Solver\n",
    "\n",
    "If we look at the 1-D heat equation solver through a concept-first lens, we don’t begin\n",
    "with arrays, loops, or even numerical schemes.\n",
    "\n",
    "We begin with the concepts, the fundamental things in the world of this problem that the\n",
    "software must represent faithfully and consistently.\n",
    "\n",
    "Here are the core concepts the solver should capture:\n",
    "\n",
    "- **Domain (Mesh)**: Represents the spatial discretization of the 1-D domain, including grid spacing and number of points.\n",
    "\n",
    "- **State Fields**: Represents the temperature distribution and fluxes within the domain.\n",
    "\n",
    "- **Physics**: The rules that tell us how the state fields evolve over time.\n",
    "\n",
    "- **Boundary Conditions**: External forcing that we apply at the boundaries of the domain.\n",
    "\n",
    "- **Numerical Schemes**: The methods we use to discretize the equations in time and space.\n",
    "\n",
    "Based on these principles, below is a proposed high-level design for the core API that\n",
    "will guide our implementation of the heat equation solver. Let's examine.\n",
    "\n",
    "[TODO: maybe add a relationship diagram]\n",
    "\n",
    "***Why This Matters***:\n",
    "\n",
    "When these concepts are explicit and separate, several good things follow:\n",
    "\n",
    "- Clarity:\n",
    "  The solver becomes easy to explain, extend, and test.\n",
    "  (e.g., swap in a new time-stepping method without touching the mesh or physics.)\n",
    "\n",
    "- Correctness:\n",
    "  Conservation and stability rules can be expressed and tested explicitly.\n",
    "\n",
    "- Evolution:\n",
    "  Features like non-uniform meshes or variable 𝜅 can be added without breaking other concepts.\n",
    "\n",
    "- Shared understanding:\n",
    "  Everyone talks about the same conceptual entities."
   ]
  },
  {
   "cell_type": "code",
   "execution_count": 5,
   "id": "90efe201",
   "metadata": {},
   "outputs": [],
   "source": [
    "def _stable(kappa, dx, dt):\n",
    "    assert dx > 0 and dt > 0 and kappa >= 0\n",
    "    return kappa * dt / (dx*dx) <= 0.5\n",
    "\n",
    "def flux(u, kappa, dx, qL, qR):\n",
    "    \"\"\"Face fluxes F[0..N]; F[0]=qL, F[N]=qR; interiors via Fourier law.\"\"\"\n",
    "    N = len(u)\n",
    "    assert N >= 2 and dx > 0 and kappa >= 0\n",
    "    F = [0.0]*(N+1)\n",
    "    F[0], F[-1] = qL, qR\n",
    "    for i in range(1, N):\n",
    "        F[i] = -kappa * (u[i] - u[i-1]) / dx\n",
    "    assert len(F) == N+1 and F[0] == qL and F[-1] == qR\n",
    "    return F\n",
    "\n",
    "def divergence(F, dx):\n",
    "    \"\"\"Cell tendencies dudt[i] = (F[i]-F[i+1])/dx.\"\"\"\n",
    "    N = len(F) - 1\n",
    "    assert N >= 1 and dx > 0\n",
    "    dudt = [(F[i] - F[i+1]) / dx for i in range(N)]\n",
    "    assert len(dudt) == N\n",
    "    return dudt\n",
    "\n",
    "def step(u, kappa, dx, dt, qL, qR):\n",
    "    \"\"\"One explicit Euler step.\"\"\"\n",
    "    assert len(u) >= 2 and dt > 0\n",
    "    F    = flux(u, kappa, dx, qL, qR)\n",
    "    dudt = divergence(F, dx)\n",
    "    u2   = [ui + dt*gi for ui, gi in zip(u, dudt)]\n",
    "    assert len(u2) == len(u)\n",
    "    return u2\n",
    "\n",
    "def solve(u0, kappa, dx, dt, qL, qR, nt):\n",
    "    \"\"\"Run nt steps; asserts stability; conserves sum(u) if qL=qR=0.\"\"\"\n",
    "    assert isinstance(nt, int) and nt >= 0\n",
    "    assert _stable(kappa, dx, dt), \"Unstable: kappa*dt/dx^2 > 0.5\"\n",
    "    u = list(u0)\n",
    "    baseline = sum(u) if (qL==0.0 and qR==0.0) else None\n",
    "    for _ in range(nt):\n",
    "        u = step(u, kappa, dx, dt, qL, qR)\n",
    "    if baseline is not None:\n",
    "        # conservation under zero-flux BCs (up to FP noise)\n",
    "        assert abs(sum(u) - baseline) <= 1e-9*max(1.0, abs(baseline))\n",
    "    return u"
   ]
  },
  {
   "cell_type": "code",
   "execution_count": 7,
   "id": "76b01d63",
   "metadata": {},
   "outputs": [
    {
     "data": {
      "text/plain": [
       "[33.333333333333314, 33.33333333333333, 33.333333333333314]"
      ]
     },
     "execution_count": 7,
     "metadata": {},
     "output_type": "execute_result"
    }
   ],
   "source": [
    "solve(\n",
    "    u0=[0.0, 100.0, 0.0],\n",
    "    kappa=0.1,\n",
    "    dx=1.0,\n",
    "    dt=1.0,\n",
    "    qL=0.0,\n",
    "    qR=0.0,\n",
    "    nt=1000\n",
    ")"
   ]
  },
  {
   "cell_type": "code",
   "execution_count": null,
   "id": "5c4caf1c",
   "metadata": {},
   "outputs": [],
   "source": []
  },
  {
   "cell_type": "code",
   "execution_count": null,
   "id": "b6808c35",
   "metadata": {},
   "outputs": [],
   "source": []
  },
  {
   "cell_type": "markdown",
   "id": "1ffc7561",
   "metadata": {},
   "source": [
    "### Step 1 - Pre- and Postconditions as assertions (executable specs)\n",
    "\n",
    "At each function boundary, let's define:\n",
    "\n",
    " - Preconditions: shapes, positivity (dx, dt), stability, finiteness.\n",
    " - Postconditions: output lengths, boundary fluxes match BCs, finiteness. \n",
    "    These asserts are guardrails for refactors and encode the spec near the code."
   ]
  },
  {
   "cell_type": "code",
   "execution_count": null,
   "id": "fc8b5083",
   "metadata": {},
   "outputs": [],
   "source": []
  },
  {
   "cell_type": "code",
   "execution_count": null,
   "id": "b6fc5121",
   "metadata": {},
   "outputs": [],
   "source": []
  },
  {
   "cell_type": "code",
   "execution_count": null,
   "id": "d23e6e19",
   "metadata": {},
   "outputs": [],
   "source": []
  },
  {
   "cell_type": "code",
   "execution_count": 157,
   "id": "7756d2f5",
   "metadata": {},
   "outputs": [
    {
     "data": {
      "text/plain": [
       "[33.33333333333137, 33.333333333337265, 33.33333333333137]"
      ]
     },
     "execution_count": 157,
     "metadata": {},
     "output_type": "execute_result"
    }
   ],
   "source": [
    "from typing import List, Sequence, TypedDict\n",
    "import math\n",
    "\n",
    "class Mesh(TypedDict):\n",
    "    dx: float\n",
    "    N: int\n",
    "\n",
    "CellField = List[float]\n",
    "FaceField = List[float]\n",
    "\n",
    "class Physics(TypedDict):\n",
    "    kappa: float\n",
    "\n",
    "class BC(TypedDict):\n",
    "    kind: str   # \"neumann\"\n",
    "    qL: float\n",
    "    qR: float\n",
    "\n",
    "class TimeCtl(TypedDict):\n",
    "    dt: float\n",
    "    nt: int\n",
    "\n",
    "# ---- flux: faces 0..N ----\n",
    "def flux(mesh: Mesh, u: Sequence[float], phys: Physics, bc: BC) -> FaceField:\n",
    "    # Preconditions\n",
    "    assert mesh[\"N\"] >= 2, \"Mesh must have at least 2 cells.\"\n",
    "    assert len(u) == mesh[\"N\"], \"u length must equal mesh.N.\"\n",
    "    assert mesh[\"dx\"] > 0.0, \"dx must be > 0.\"\n",
    "    assert phys[\"kappa\"] >= 0.0, \"kappa must be >= 0.\"\n",
    "    assert bc[\"kind\"] == \"neumann\", \"Only 'neumann' supported here.\"\n",
    "    for ui in u: assert math.isfinite(ui), \"u must be finite.\"\n",
    "\n",
    "    N, dx, kappa = mesh[\"N\"], mesh[\"dx\"], phys[\"kappa\"]\n",
    "    F: FaceField = [0.0]*(N+1)\n",
    "\n",
    "    # Boundary faces\n",
    "    F[0], F[-1] = bc[\"qL\"], bc[\"qR\"]\n",
    "\n",
    "    # Interior faces: i=1..N-1\n",
    "    for i in range(1, N):\n",
    "        F[i] = -kappa * (u[i] - u[i-1]) / dx\n",
    "\n",
    "    # Postconditions\n",
    "    assert len(F) == N+1, \"F must have N+1 faces.\"\n",
    "    assert F[0] == bc[\"qL\"] and F[-1] == bc[\"qR\"], \"BC mismatch.\"\n",
    "    for Fi in F: assert math.isfinite(Fi), \"Flux must be finite.\"\n",
    "    return F\n",
    "\n",
    "# ---- divergence: cells 0..N-1 ----\n",
    "def divergence(mesh: Mesh, F: Sequence[float]) -> CellField:\n",
    "    N, dx = mesh[\"N\"], mesh[\"dx\"]\n",
    "    # Preconditions\n",
    "    assert N >= 2 and len(F) == N+1, \"F must be face-centered length N+1.\"\n",
    "    assert dx > 0.0, \"dx must be > 0.\"\n",
    "    for Fi in F: assert math.isfinite(Fi), \"Flux must be finite.\"\n",
    "\n",
    "    dudt: CellField = [(F[i] - F[i+1]) / dx for i in range(N)]\n",
    "\n",
    "    # Postconditions\n",
    "    assert len(dudt) == N, \"dudt must be cell-centered length N.\"\n",
    "    for gi in dudt: assert math.isfinite(gi), \"dudt must be finite.\"\n",
    "    return dudt\n",
    "\n",
    "# ---- one explicit Euler step ----\n",
    "def advance_one(mesh: Mesh, u: Sequence[float], phys: Physics, bc: BC, dt: float) -> CellField:\n",
    "    # Preconditions\n",
    "    assert dt > 0.0, \"dt must be > 0.\"\n",
    "    assert len(u) == mesh[\"N\"], \"u length must equal mesh.N.\"\n",
    "    for ui in u: assert math.isfinite(ui), \"u must be finite.\"\n",
    "\n",
    "    F    = flux(mesh, u, phys, bc)\n",
    "    dudt = divergence(mesh, F)\n",
    "    u2: CellField = [ui + dt*gi for ui, gi in zip(u, dudt)]\n",
    "\n",
    "    # Postconditions\n",
    "    assert len(u2) == mesh[\"N\"], \"result length must equal mesh.N.\"\n",
    "    for ui in u2: assert math.isfinite(ui), \"u_next must be finite.\"\n",
    "    return u2\n",
    "\n",
    "# ---- stability predicate (FTCS) ----\n",
    "def stability_ok(mesh: Mesh, phys: Physics, dt: float) -> bool:\n",
    "    assert mesh[\"dx\"] > 0.0 and dt > 0.0 and phys[\"kappa\"] >= 0.0\n",
    "    r = phys[\"kappa\"] * dt / (mesh[\"dx\"] * mesh[\"dx\"])\n",
    "    return r <= 0.5\n",
    "\n",
    "# ---- run orchestrator ----\n",
    "def run(u0: Sequence[float], mesh: Mesh, phys: Physics, bc: BC, time: TimeCtl) -> CellField:\n",
    "    # Preconditions\n",
    "    assert mesh[\"N\"] >= 2 and len(u0) == mesh[\"N\"], \"u0 size must match mesh.N >= 2.\"\n",
    "    assert time[\"dt\"] > 0.0 and time[\"nt\"] >= 0, \"Bad time control.\"\n",
    "    assert phys[\"kappa\"] >= 0.0, \"kappa must be >= 0.\"\n",
    "    for ui in u0: assert math.isfinite(ui), \"u0 must be finite.\"\n",
    "    assert stability_ok(mesh, phys, time[\"dt\"]), \\\n",
    "        \"Unstable explicit step (kappa*dt/dx^2 > 0.5).\"\n",
    "\n",
    "    u: CellField = list(u0)\n",
    "\n",
    "    # Optional invariant: zero-flux Neumann => total heat ~ constant\n",
    "    track = (bc[\"kind\"]==\"neumann\" and bc[\"qL\"]==0.0 and bc[\"qR\"]==0.0)\n",
    "    baseline = sum(u) if track else None\n",
    "\n",
    "    for _ in range(time[\"nt\"]):\n",
    "        u = advance_one(mesh, u, phys, bc, time[\"dt\"])\n",
    "\n",
    "    # Postconditions\n",
    "    assert len(u) == mesh[\"N\"], \"Final field size must match mesh.N.\"\n",
    "    if track:\n",
    "        assert abs(sum(u) - baseline) <= 1e-9 * max(1.0, abs(baseline)), \\\n",
    "            \"Total heat not conserved with zero-flux BCs.\"\n",
    "    return u\n",
    "\n",
    "\n",
    "phys = Physics(kappa=1.0)\n",
    "bc = BC(kind=\"neumann\", qL=0.0, qR=0.0)\n",
    "time = TimeCtl(dt=0.01, nt=1000)\n",
    "\n",
    "run(s[\"u\"], Mesh(dx=s[\"dx\"], N=len(s[\"u\"])), phys, bc, time)"
   ]
  },
  {
   "cell_type": "markdown",
   "id": "68f94637",
   "metadata": {},
   "source": [
    "## Resources\n",
    "\n",
    "Jackson, Daniel. \"Software Abstractions: logic, language, and analysis.\" MIT press, 2012.\n",
    "\n",
    "Bradley, Aaron R., and Zohar Manna. \"The calculus of computation: decision procedures with applications to verification.\" Berlin, Heidelberg: Springer Berlin Heidelberg, 2007.\n",
    "\n",
    "Lamport, Leslie. \"The TLA+ Video Course\", https://lamport.azurewebsites.net/video/videos.html, accessed September 2025.\n",
    "\n",
    "---\n",
    "\n",
    "*This notebook is a part of the \"Rigor and Reasoning in Research Software\" (R3Sw) tutorial, led by Alper Altuntas and sponsored by the Better Scientific Software (BSSw) Fellowship Program. Copyright © 2025*"
   ]
  },
  {
   "cell_type": "markdown",
   "id": "64b60fc8",
   "metadata": {},
   "source": []
  }
 ],
 "metadata": {
  "kernelspec": {
   "display_name": "r3sw",
   "language": "python",
   "name": "python3"
  },
  "language_info": {
   "codemirror_mode": {
    "name": "ipython",
    "version": 3
   },
   "file_extension": ".py",
   "mimetype": "text/x-python",
   "name": "python",
   "nbconvert_exporter": "python",
   "pygments_lexer": "ipython3",
   "version": "3.12.11"
  }
 },
 "nbformat": 4,
 "nbformat_minor": 5
}
