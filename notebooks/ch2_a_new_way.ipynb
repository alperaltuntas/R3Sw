{
 "cells": [
  {
   "cell_type": "markdown",
   "id": "ff51afe5",
   "metadata": {},
   "source": [
    "# Chapter 2: Reasoning About Code - Abstraction and Specification\n",
    "\n",
    "In Chapter 1, we implemented a working 1-D heat equation solver.\n",
    "It runs, but it’s fragile, opaque, and hard to test or extend.\n",
    "\n",
    "This resembles a common situation in scientific computing:\n",
    "\n",
    " - write some code, see if it runs, fix what breaks, repeat. \n",
    " - It gets results quickly, but the codebase becomes harder to understand and maintain over time.\n",
    "\n",
    "In this chapter, we ask: can we design our code systematically, in a way that allows us to reason about it before we even run it?\n",
    "\n",
    "To achieve this, we need to manage complexity by breaking the problem into smaller pieces.\n",
    "\n",
    "But how do we decide how to break a problem into pieces?\n",
    " - We can use abstraction to identify the key concepts in our problem, and then use those abstractions to guide our decomposition.\n",
    " - Once we have a decomposition, we can write specifications for each piece, i.e., precise and testable descriptions of what each piece should do.\n",
    "\n",
    "The process of designing software in this way can be summarized in four steps:\n",
    "\n",
    " 1. **Abstraction:** determine the concepts that matter.\n",
    " 2. **Decomposition:** Based on our abstractions, break the problem into smaller pieces.\n",
    " 3. **Specification:** For each piece, write down what it should do, in a way that’s precise and testable.\n",
    " 4. **Implementation:** Write code that meets the specifications.\n",
    "\n",
    "*Note: This kind of design process is common in traditional software engineering, but it’s not often followed in scientific computing. The pioneers and advocates of this and similar approaches include [Barbara Liskov](https://en.wikipedia.org/wiki/Barbara_Liskov),...*"
   ]
  },
  {
   "cell_type": "markdown",
   "id": "ec1ef074",
   "metadata": {},
   "source": [
    "\n",
    "### 1. Abstraction\n",
    "\n",
    "In software design, **abstraction** is the first and most important step. Here, we form a high-level architecture for our system:\n",
    " - determine high-level concepts that matter.\n",
    " - ignore irrelevant details.\n",
    "\n",
    "This is a creative step, where we explore different ways to represent the system and its components.\n",
    "\n",
    "In scientific computing, this step isn’t given enough attention, but it is crucial:\n",
    "\n",
    "> What matters is the fundamental structure of the design. If you get\n",
    "> it wrong, there is no amount of bug fixing and refactoring that will\n",
    "> produce a reliable, maintainable, and usable system\n",
    "> *- D. Jackson. The essence of software. (2021)*\n",
    "\n",
    "As scientists and engineers, we are already accustomed to abstraction: we model complex systems by removing unnecessary details and breaking problems into components.\n",
    "\n",
    "\n",
    "![Abstraction](./img/esm.png)\n",
    "\n",
    "\n",
    "\n",
    "**A natural concern:** Aren’t most bugs caused by subtle low-level issues?\n",
    "\n",
    "Yes, but many “low-level” bugs are symptoms of unclear high-level intent. When top-level responsibilities are muddled, they trickle down into brittle, error-prone implementations.\n",
    "Abstraction pays off by:\n",
    " -  clarifying intent\n",
    " - making low-level details easier to manage.\n",
    "\n",
    "\n",
    "#### Data Abstraction vs. Procedural Abstraction\n",
    "\n",
    "In software design, there are two main forms of abstraction:\n",
    "\n",
    "- **Data Abstraction**: defining data structures that encapsulate state and behavior.\n",
    "- **Procedural Abstraction**: defining procedures (functions, methods) that encapsulate behavior.\n",
    "\n",
    "For our running example, we will use procedural abstraction, since that’s simpler and more appropriate for a small solver like the 1-D heat equation.\n",
    "\n",
    "For larger and more sophisticated applications, data abstraction (e.g., object-oriented programming) may be more appropriate. However, the fundamental principles of reasoning apply equally well to both."
   ]
  },
  {
   "cell_type": "markdown",
   "id": "fcaf132d",
   "metadata": {},
   "source": [
    "\n",
    "### 2. Decomposition\n",
    "\n",
    "If abstraction helps us decide what matters, decomposition helps us decide how to organize it.\n",
    "\n",
    "We want decomposition to:\n",
    "\n",
    " - Isolate concerns and manage complexity\n",
    "\n",
    " - Facilitate testing and reasoning\n",
    "\n",
    " - Improve maintainability and extensibility\n",
    "\n",
    "\n",
    "Forms of decomposition include functions/methods (procedures), classes, and modules.\n",
    "\n",
    "In the case of procedural abstraction, guiding principles in breaking a computation into procedures are:\n",
    "\n",
    " - Each procedure should have a single, well-defined purpose.\n",
    " - Procedures should be general: avoid hard-coding specific values or assumptions.\n",
    " - Each procedure should be as simple as possible, but no simpler:\n",
    "    > “A good check for simplicity is to give the procedure a name that describes its purpose.\n",
    "    >  If it is difficult to think of a name, there may be a problem with the procedure.” -Liskov"
   ]
  },
  {
   "cell_type": "markdown",
   "id": "6a0013f7",
   "metadata": {},
   "source": [
    "\n",
    "### 3. Specification: Writing Down Intent\n",
    "\n",
    "Once we have pieces, we need to say what each one should do.\n",
    "\n",
    "A *specification* is a precise statement of what software should do, independent of how it does it.\n",
    "\n",
    "Specifications can range from informal descriptions in plain English\n",
    "to fully formal mathematical models.\n",
    "\n",
    "In this tutorial, we’ll use a **lightweight, practical level** of specification that combines:\n",
    " - **type annotations** (for inputs and outputs),\n",
    " - **assertions** that serve as contracts, i.e., preconditions and postconditions.\n",
    "\n",
    "\n",
    "This lightweight approach:\n",
    " - Guides implementation,\n",
    " - Facilitates testing and validation.\n",
    " - Embeds reasoning directly into the program.\n",
    "\n",
    "### A simple example:\n",
    "\n",
    "Below simple function exemplifies our practical approach to specification:\n",
    " - Type annotations specify that `div` takes two floats and returns a float.\n",
    " - The first `assert` is a precondition (P): it specifies what must be true before the function is called.\n",
    " - The second `assert` is a postcondition (Q): it specifies what must be true after the function is called."
   ]
  },
  {
   "cell_type": "code",
   "execution_count": 1,
   "id": "d450d8e8",
   "metadata": {},
   "outputs": [],
   "source": [
    "def div(x: float, y: float) -> float: # Type annotations for inputs and output\n",
    "    assert y != 0           # P    (precondition)\n",
    "    res = x / y             # code (implementation)\n",
    "    assert res * y == x     # Q    (postcondition)\n",
    "    return res"
   ]
  },
  {
   "cell_type": "code",
   "execution_count": 2,
   "id": "0410f1c4",
   "metadata": {},
   "outputs": [
    {
     "data": {
      "text/plain": [
       "2.0"
      ]
     },
     "execution_count": 2,
     "metadata": {},
     "output_type": "execute_result"
    }
   ],
   "source": [
    "div(4.0, 2.0)"
   ]
  },
  {
   "cell_type": "markdown",
   "id": "634f616d",
   "metadata": {},
   "source": [
    "**Note:** Historically, preconditions and postconditions are often denoted `P` and `Q`, respectively, as in *Hoare logic*: \n",
    "\n",
    "    {P} C {Q}\n",
    "where C is a command (procedure).\n",
    "\n",
    "\n",
    "**Note:** Executable assertions as specifications is not universally loved. \n",
    "Some prefer to keep specifications as comments or separate documents. \n",
    "However, embedding specifications as executable assertions enables runtime checking and testing, \n",
    "something we'll utilize in the remaining chapters. Assertions can be disabled in production code,\n",
    "e.g., via `-O` flag in Python, if performance is critical.\n"
   ]
  },
  {
   "cell_type": "markdown",
   "id": "4dfe1dcb",
   "metadata": {},
   "source": [
    "### Exercise 2.1:\n",
    "\n",
    "Can you find inputs to `f` where this function fails the postcondition even when the precondition is satisfied?\n"
   ]
  },
  {
   "cell_type": "code",
   "execution_count": 3,
   "id": "4a5d9e4d",
   "metadata": {},
   "outputs": [
    {
     "data": {
      "text/plain": [
       "1.0"
      ]
     },
     "execution_count": 3,
     "metadata": {},
     "output_type": "execute_result"
    }
   ],
   "source": [
    "div(_, _)"
   ]
  },
  {
   "cell_type": "markdown",
   "id": "a85cf85a",
   "metadata": {},
   "source": [
    "**Answer:** One possible input is `f(7, 25)`. The precondition `y != 0` is satisfied, but the postcondition `res * y == x` fails because due to floating-point rounding error."
   ]
  },
  {
   "cell_type": "code",
   "execution_count": 4,
   "id": "edfb9730",
   "metadata": {},
   "outputs": [
    {
     "ename": "AssertionError",
     "evalue": "",
     "output_type": "error",
     "traceback": [
      "\u001b[31m---------------------------------------------------------------------------\u001b[39m",
      "\u001b[31mAssertionError\u001b[39m                            Traceback (most recent call last)",
      "\u001b[36mCell\u001b[39m\u001b[36m \u001b[39m\u001b[32mIn[4]\u001b[39m\u001b[32m, line 1\u001b[39m\n\u001b[32m----> \u001b[39m\u001b[32m1\u001b[39m \u001b[43mdiv\u001b[49m\u001b[43m(\u001b[49m\u001b[32;43m7\u001b[39;49m\u001b[43m,\u001b[49m\u001b[43m \u001b[49m\u001b[32;43m25\u001b[39;49m\u001b[43m)\u001b[49m\n",
      "\u001b[36mCell\u001b[39m\u001b[36m \u001b[39m\u001b[32mIn[1]\u001b[39m\u001b[32m, line 4\u001b[39m, in \u001b[36mdiv\u001b[39m\u001b[34m(x, y)\u001b[39m\n\u001b[32m      2\u001b[39m \u001b[38;5;28;01massert\u001b[39;00m y != \u001b[32m0\u001b[39m           \u001b[38;5;66;03m# P    (precondition)\u001b[39;00m\n\u001b[32m      3\u001b[39m res = x / y             \u001b[38;5;66;03m# code (implementation)\u001b[39;00m\n\u001b[32m----> \u001b[39m\u001b[32m4\u001b[39m \u001b[38;5;28;01massert\u001b[39;00m res * y == x     \u001b[38;5;66;03m# Q    (postcondition)\u001b[39;00m\n\u001b[32m      5\u001b[39m \u001b[38;5;28;01mreturn\u001b[39;00m res\n",
      "\u001b[31mAssertionError\u001b[39m: "
     ]
    }
   ],
   "source": [
    "div(7, 25)"
   ]
  },
  {
   "cell_type": "markdown",
   "id": "512051f5",
   "metadata": {},
   "source": [
    "**Note:** Floating-point arithmetic introduces unavoidable rounding errors. \n",
    "These aren’t bugs, but natural computational artifacts. We can *weaken* the postcondition\n",
    "to account for this by using approximate equality. We can do so using `pytest.approx` (or, similarly, `math.isclose`, `numpy.isclose`, etc.):"
   ]
  },
  {
   "cell_type": "code",
   "execution_count": 5,
   "id": "c3a32cde",
   "metadata": {},
   "outputs": [],
   "source": [
    "from pytest import approx\n",
    "\n",
    "def div(x: float, y: float) -> float: # Type annotations for inputs and output\n",
    "    assert y != 0               # P    (precondition)\n",
    "    res = x / y                 # code (implementation)\n",
    "    assert res * y == approx(x) # Q    (postcondition)\n",
    "    return res"
   ]
  },
  {
   "cell_type": "code",
   "execution_count": 6,
   "id": "a5e55675",
   "metadata": {},
   "outputs": [
    {
     "data": {
      "text/plain": [
       "0.28"
      ]
     },
     "execution_count": 6,
     "metadata": {},
     "output_type": "execute_result"
    }
   ],
   "source": [
    "div(7, 25)"
   ]
  },
  {
   "cell_type": "markdown",
   "id": "5b816b27",
   "metadata": {},
   "source": [
    "**Takeaway**: Postconditions should reflect computational realities (e.g., floating-point).\n",
    "\n",
    "**Preconditions deserve similar care.**\n",
    "\n",
    " **weakest precondition** :\n",
    "    the *most general condition* under which the code\n",
    "    works correctly. It ensures your function is usable in the widest range of scenarios\n",
    "    while still preventing incorrect behavior.\n",
    "\n",
    "Conversely, we want the **strongest postcondition** possible: the most precise guarantee\n",
    "about the outcome. This balance maximizes both the flexibility and reliability of our code.\n",
    "\n"
   ]
  },
  {
   "cell_type": "markdown",
   "id": "f9b02f15",
   "metadata": {},
   "source": [
    "### 4. Implementation: Writing Code that Meets Specifications\n",
    "\n",
    "With abstractions identified, pieces decomposed, and specifications written, we can implement code that satisfies them.\n",
    "\n",
    "This shifts our mindset: instead of starting with lines of code and hoping they work, we start with clear expectations and then fill in implementations that must meet them.\n",
    "\n",
    "We can then use testing and verification to ensure our implementations meet their specifications instantly."
   ]
  },
  {
   "cell_type": "markdown",
   "id": "fb5f73d0",
   "metadata": {},
   "source": [
    "## Heat Equation Solver, Revisited\n",
    "\n",
    "In Chapter 1, we wrote a quick, monolithic solver for the 1-D heat equation.\n",
    "It worked, but it mixed boundary conditions, flux calculations, and time-stepping into a single opaque function.\n",
    "\n",
    "Now we’ll redesign it systematically, using the four-step process:\n",
    "\n",
    "Abstraction → Decomposition → Specification → Implementation."
   ]
  },
  {
   "cell_type": "markdown",
   "id": "bc8a6719",
   "metadata": {},
   "source": [
    "### Step 1 — Abstraction\n",
    "\n",
    "At this stage, we define the *what* of our problem, i.e., the key concepts we need to model:\n",
    "\n",
    " - We want to advance a 1-D temperature field $u_i$ on a uniform grid using a conservative finite volume method:\n",
    "\n",
    "$\n",
    "\\qquad\n",
    "u_i^{n+1} = u_i^{n} + \\Delta t \\times \\, div(F_i),\n",
    "\\qquad\n",
    "div(F_i) = \\frac{F_{i} - F_{i+1}}{\\Delta x},\n",
    "\\qquad\n",
    "F_i =\n",
    "\\begin{cases}\n",
    "q_L & i = 0, \\\\[6pt]\n",
    "-\\kappa \\dfrac{u_i - u_{i-1}}{\\Delta x} & 1 \\leq i \\leq N-1, \\\\[10pt]\n",
    "q_R & i = N.\n",
    "\\end{cases}\n",
    "$\n",
    "\n",
    "The key concepts we need are:\n",
    "\n",
    " - Mesh: describes the geometry of the domain (dx, number of cells).\n",
    " - Cell fields (u, dudt): quantities stored at cell centers.\n",
    " - Face fields (F): quantities stored at cell faces.\n",
    " - Procedures to perform the time-stepping of the heat equation.\n",
    "\n",
    "These abstractions are all we need to model the system.\n"
   ]
  },
  {
   "cell_type": "markdown",
   "id": "fee88f0d",
   "metadata": {},
   "source": [
    "### Step 2 – Decomposition\n",
    "\n",
    "Based on our abstractions, we can break the solver into smaller pieces. Since we'll use procedural abstraction, our focus is on defining functions that carry out the computations. But first, let's determine the key data structures that we'll need:\n",
    "\n",
    " #### Data Structures:\n",
    "\n",
    "   - *mesh*: discrete representation of the computational domain (grid spacing, number of cells).\n",
    "   - *vector*: a simple 1-D array of floats.\n",
    "   - *cell field*: a vector storing cell-centered values (e.g., temperature, tendencies).\n",
    "   - *face field*: a vector storing face-centered values (e.g., diffusive fluxes).\n",
    "\n",
    "Let's start simple and define a type alias for vectors:"
   ]
  },
  {
   "cell_type": "code",
   "execution_count": 7,
   "id": "fd0f5712",
   "metadata": {},
   "outputs": [],
   "source": [
    "vec = list[float]"
   ]
  },
  {
   "cell_type": "markdown",
   "id": "0697bcaa",
   "metadata": {},
   "source": [
    "\n",
    "Next, let's define a mesh *data class*, i.e., a simple data structure intended for storing data without much additional functionality. Since our approach is procedural, we won't rely much on object-oriented programming features beyond this simple data class."
   ]
  },
  {
   "cell_type": "code",
   "execution_count": 8,
   "id": "49b0ab12",
   "metadata": {},
   "outputs": [],
   "source": [
    "from dataclasses import dataclass\n",
    "\n",
    "@dataclass\n",
    "class Mesh:\n",
    "    \"\"\"Uniform 1-D mesh.\"\"\"\n",
    "    \n",
    "    dx: float  # cell size\n",
    "    N: int     # number of cells\n",
    "\n",
    "    def cell_field(self) -> vec:\n",
    "        return [0.0] * self.N\n",
    "\n",
    "    def face_field(self) -> vec:\n",
    "        return [0.0] * (self.N + 1)"
   ]
  },
  {
   "cell_type": "markdown",
   "id": "6c49a634",
   "metadata": {},
   "source": [
    "Notice the helper methods `cell_field` and `face_field` that create zero-initialized fields of the appropriate size based on the mesh."
   ]
  },
  {
   "cell_type": "markdown",
   "id": "af65ec0c",
   "metadata": {},
   "source": [
    "\n",
    "#### Procedures:\n",
    "\n",
    "Recall the abstraction and decomposition principles we discussed for procedural abstraction, i.e.,\n",
    " - Each procedure should have a single, well-defined purpose.\n",
    " - Procedures should be general: avoid hard-coding specific values or assumptions.\n",
    " - Each procedure should be as simple as possible, but no simpler.\n",
    "\n",
    "Based on these principles, we can define the following *general* procedures:\n",
    "\n",
    " - `apply_bc(f, bc)`: apply boundary conditions to face fluxes.\n",
    " - `diffusive_flux(f, c, kappa, dx)`: compute interior fluxes.\n",
    " - `divergence(c, f, dx)`: compute tendencies from fluxes.\n",
    "\n",
    "The argument names use conventions to clarify the placement of vectors on the mesh:\n",
    "\n",
    " - `f` to denote face fields.\n",
    " - `c` to denote cell fields.\n",
    "\n",
    "This keeps the procedures general and reusable for different types of fields. If we were to compute the diffusive fluxes of a different quantity (e.g., concentration), we could reuse the same `diffusive_flux` procedure without modification. (This is called *abstraction by parameterization*.)\n",
    "\n",
    "In addition to the above general procedures, we need two more, specific to the heat equation solver. For\n",
    "these, the argument names are more specific to clarify their purpose:\n",
    "\n",
    "  - `step_heat_eqn(u, F, dudt, kappa, dt, mesh, bc)`: advance one time step.\n",
    "  - `solve_heat_eqn(u0, kappa, dt, nt, dx, bc)`: orchestrate multiple steps."
   ]
  },
  {
   "cell_type": "markdown",
   "id": "2687067c",
   "metadata": {},
   "source": [
    "### Step 3 – Specification\n",
    "\n",
    "Recall, our practical approach to specification combines:\n",
    " - type annotations\n",
    " - pre- and postconditions as assertions.\n",
    "\n",
    "First, let's write a core API that capture our procedural abstractions. This will\n",
    "include only the function signatures, i.e., functions names, arguments, and brief descriptions.\n",
    "While doing so, we'll include the first constituent of our specifications: type annotations.\n",
    "\n",
    "This isn’t about writing code yet: it’s about specifying the conceptual architecture of the system."
   ]
  },
  {
   "cell_type": "code",
   "execution_count": 9,
   "id": "0d9947ae",
   "metadata": {},
   "outputs": [],
   "source": [
    "# Procedures:\n",
    "\n",
    "def apply_bc(f: vec, bc: vec) -> None:\n",
    "    \"\"\"Apply BCs by overriding first and last face quantities (f).\"\"\"\n",
    "    ...\n",
    "\n",
    "def diffusive_flux(f: vec, c: vec, kappa: float, dx: float) -> None:\n",
    "    \"\"\"Given a cell field (c), compute the diffusive flux (f).\"\"\"\n",
    "    ...\n",
    "\n",
    "def divergence(c: vec, f: vec, dx: float) -> None:\n",
    "    \"\"\"Compute the divergence of face quantities (f) and store in (c).\"\"\"\n",
    "    ...\n",
    "\n",
    "def step_heat_eqn(u: vec, F: vec, dudt: vec, kappa: float, dt: float, mesh: Mesh, bc: vec) -> list:\n",
    "    \"\"\"Advance cell field u by one time step using explicit Euler method.\"\"\"\n",
    "    ...\n",
    "\n",
    "def solve_heat_eqn(u0: vec, kappa: float, dt: float, nt: int, dx: float, bc: vec) -> vec:\n",
    "    \"\"\"Orchestrate nt steps over cell field u.\"\"\"\n",
    "    ...\n"
   ]
  },
  {
   "cell_type": "markdown",
   "id": "73c2f357",
   "metadata": {},
   "source": [
    "Having defined the core API and type annotations, we can now add the next layer of specifications: \n",
    "\n",
    " - preconditions and postconditions as executable assertions.\n",
    "\n",
    "Take the `divergence` function that computes the divergence of face fluxes:\n",
    "\n",
    "$\\qquad\n",
    "\\nabla \\cdot F = \\frac{F_{i} - F_{i+1}}{\\Delta x}\n",
    "\\qquad$\n",
    "\n",
    "Given the above formula, one can identify two key preconditions:\n",
    " - The vector `c` (output) and the vector `f` (input) must have compatible sizes: specifically, `len(c) == len(f) - 1`.\n",
    " - The mesh spacing `dx` must be positive."
   ]
  },
  {
   "cell_type": "code",
   "execution_count": 10,
   "id": "b7b2cc66",
   "metadata": {},
   "outputs": [],
   "source": [
    "def divergence(c: vec, f: vec, dx: float) -> None:\n",
    "    \"\"\"Compute the divergence of face quantities (f) and store in (c).\"\"\"\n",
    "    assert len(c) == len(f) - 1, \"Size mismatch\"\n",
    "    assert dx > 0, \"Non-positive dx\"\n",
    "    ..."
   ]
  },
  {
   "cell_type": "markdown",
   "id": "126ef0fd",
   "metadata": {},
   "source": [
    "As for the postcondition, we can use a mathematical property of the divergence operator to define it precisely:\n",
    "\n",
    "**Telescoping Property of Divergence**: The sum of the divergence over all cells equals the net flux through the boundaries.\n",
    "\n",
    "$\\qquad\n",
    "\\sum_{i=0}^{N-1} (\\nabla \\cdot F)_i = F_0 - F_N\n",
    "\\qquad$\n",
    "\n",
    "We can encode this property as a function that returns `True` if the property holds, and `False` otherwise:"
   ]
  },
  {
   "cell_type": "code",
   "execution_count": 11,
   "id": "ae120dfa",
   "metadata": {},
   "outputs": [],
   "source": [
    "def telescoping(c: vec, f: vec, dx: float) -> bool:\n",
    "    \"\"\"Check the finite volume telescoping property.\"\"\"\n",
    "    total_divergence = sum(c) * dx\n",
    "    boundary_flux = f[0] - f[-1]\n",
    "    return total_divergence == approx(boundary_flux)"
   ]
  },
  {
   "cell_type": "markdown",
   "id": "4862a573",
   "metadata": {},
   "source": [
    "We can then add this check as a postcondition in the `divergence` function:\n"
   ]
  },
  {
   "cell_type": "code",
   "execution_count": 12,
   "id": "ed31282a",
   "metadata": {},
   "outputs": [],
   "source": [
    "def divergence(c: vec, f: vec, dx: float) -> None:\n",
    "    \"\"\"Compute the divergence of face quantities (f) and store in (c).\"\"\"\n",
    "    assert len(c) == len(f) - 1, \"Size mismatch\"\n",
    "    assert dx > 0, \"Non-positive dx\"\n",
    "    ...\n",
    "    assert telescoping(c, f, dx)           # {C} Postcondition"
   ]
  },
  {
   "cell_type": "markdown",
   "id": "6f9a4152",
   "metadata": {},
   "source": [
    "### Exercise 2.2:\n",
    "\n",
    "One of the key preconditions for the Euler (FTCS) scheme is the stability condition as given below:\n",
    "\n",
    "$\\qquad\n",
    "\\Delta t \\leq \\frac{\\Delta x^2}{2 \\kappa}\n",
    "\\qquad$\n",
    "\n",
    "Implement a function `stability_condition(...)` that checks this condition. Which \n",
    "function(s) would you add this as a precondition to?\n"
   ]
  },
  {
   "cell_type": "code",
   "execution_count": 13,
   "id": "d4323020",
   "metadata": {},
   "outputs": [],
   "source": [
    "def stability_condition(dt: float, dx: float, kappa: float) -> bool:\n",
    "    \"\"\"Check the stability condition for the explicit Euler scheme.\"\"\"\n",
    "    ..."
   ]
  },
  {
   "cell_type": "markdown",
   "id": "67a6542e",
   "metadata": {},
   "source": [
    "**Answer:**\n",
    "\n",
    "Below is a possible implementation of the `is_stable` function:"
   ]
  },
  {
   "cell_type": "code",
   "execution_count": 14,
   "id": "155b4461",
   "metadata": {},
   "outputs": [],
   "source": [
    "def stability_condition(dt: float, dx: float, kappa: float) -> bool:\n",
    "    \"\"\"Check the stability condition for the explicit Euler scheme.\"\"\"\n",
    "    return dt <= (dx ** 2) / (2 * kappa)"
   ]
  },
  {
   "cell_type": "markdown",
   "id": "3d34c5e5",
   "metadata": {},
   "source": [
    "The function `stability_condition` can be added as a precondition to the `solve_heat_eqn` function, as it ensures that the time step `dt` is appropriate for the spatial discretization `dx` and the diffusion coefficient `kappa`, which is crucial for the stability of the explicit Euler scheme used in the heat equation solver."
   ]
  },
  {
   "cell_type": "markdown",
   "id": "91ee6d03",
   "metadata": {},
   "source": [
    "### Exercise 2.3:\n",
    "\n",
    "Now let's check whether heat is conserved in our solver. The condition for conservation can be expressed as:\n",
    "\n",
    "$$\n",
    "\\sum_{i=0}^{N-1} u_i^{n+1} \\Delta x = \\sum_{i=0}^{N-1} u_i^{n} \\Delta x + \\Delta t \\left( q_L - q_R \\right).\n",
    "$$\n",
    "\n",
    "with special Cases:\n",
    "\n",
    " - If `q_L` == `q_R` == 0, the mean stays constant.\n",
    " - If `q_L` and `q_R` are constant, the temperature profile converges to a linear steady state."
   ]
  },
  {
   "cell_type": "code",
   "execution_count": 15,
   "id": "7598e4b5",
   "metadata": {},
   "outputs": [],
   "source": [
    "def heat_is_conserved(u_sum_old: float, u_sum_new: float, dt: float, F: vec) -> bool:\n",
    "    \"\"\"Check if heat is conserved.\"\"\"\n",
    "    ..."
   ]
  },
  {
   "cell_type": "markdown",
   "id": "3b78d1ef",
   "metadata": {},
   "source": [
    "**Answer:**\n",
    "\n",
    "The he following cell contains a possible implementation of the heat conservation check. As for which function(s) would need to be modified to incorporate this check, it may be added as a postcondition to the step function, or, alternatively, it may be added as a loop invariant in the timestepping loop within the solve function."
   ]
  },
  {
   "cell_type": "code",
   "execution_count": 16,
   "id": "4a7d1be5",
   "metadata": {},
   "outputs": [],
   "source": [
    "def heat_is_conserved(u_sum_old: float, u_sum_new: float, dt: float, F: vec) -> bool:\n",
    "    \"\"\"Check if heat is conserved.\"\"\"\n",
    "    expected_change = dt * (F[0] - F[-1])\n",
    "    actual_change = u_sum_new - u_sum_old\n",
    "    return actual_change == approx(expected_change)"
   ]
  },
  {
   "cell_type": "markdown",
   "id": "8cccb40e",
   "metadata": {},
   "source": [
    "\n",
    "**Loop invariants**\n",
    "\n",
    "A loop invariant is a condition (a boolean expression) that holds true before and after each iteration of a loop. It helps reason about the correctness of the loop by ensuring that certain properties hold:\n",
    "\n",
    " - before the loop starts\n",
    " - after each iteration of the loop\n",
    "\n",
    "which guarantees that once the loop has finished executing, the desired property holds for the final state.\n",
    "\n",
    "In the case of the heat equation solver, ensuring that heat is conserved after each time step guarantees that the total heat within the domain remains constant.\n",
    "\n"
   ]
  },
  {
   "cell_type": "markdown",
   "id": "48f0f21e",
   "metadata": {},
   "source": [
    "### Step 4 – Implementation\n",
    "\n",
    "With abstractions identified, pieces decomposed, and specifications written, we can implement code that satisfies them."
   ]
  },
  {
   "cell_type": "code",
   "execution_count": 21,
   "id": "e80b1cda",
   "metadata": {},
   "outputs": [],
   "source": [
    "def apply_bc(f: vec, bc: vec) -> None:\n",
    "    \"\"\"Apply BCs by overriding first and last face quantities (f).\"\"\"\n",
    "    assert len(f) > 1\n",
    "    f[0], f[-1] = bc[0], bc[1]\n",
    "\n",
    "def diffusive_flux(f: vec, c: vec, kappa: float, dx: float) -> None:\n",
    "    \"\"\"Given a cell field (c), compute the diffusive flux (f).\"\"\"\n",
    "    assert len(f) == len(c) + 1, \"Size mismatch\"\n",
    "    assert dx > 0, \"Non-positive dx\"\n",
    "    for i in range(1, len(f) - 1):\n",
    "        f[i] = -kappa * (c[i] - c[i-1]) / dx\n",
    "\n",
    "def divergence(c: vec, f: vec, dx: float) -> None:\n",
    "    \"\"\"Compute the divergence of face quantities (f) and store in (c).\"\"\"\n",
    "    assert len(c) == len(f) - 1, \"Size mismatch\"\n",
    "    assert dx > 0, \"Non-positive dx\"\n",
    "    for i in range(len(c)):\n",
    "        c[i] = (f[i] - f[i+1]) / dx\n",
    "    assert telescoping(c, f, dx)\n",
    "\n",
    "def step_heat_eqn(u: vec, F: vec, dudt: vec, kappa: float, dt: float, mesh: Mesh, bc: vec) -> list:\n",
    "    \"\"\"Advance cell field u by one time step using explicit Euler method.\"\"\"\n",
    "    assert dt > 0, \"Non-positive dt\"\n",
    "    assert mesh.N == len(u) == len(dudt) == len(F) - 1, \"Size mismatch\"\n",
    "\n",
    "    apply_bc(F, bc)\n",
    "    diffusive_flux(F, u, kappa, mesh.dx)\n",
    "    divergence(dudt, F, mesh.dx)\n",
    "\n",
    "    for i in range(mesh.N):\n",
    "        u[i] += dt * dudt[i]\n",
    "\n",
    "def solve_heat_eqn(u0: vec, kappa: float, dt: float, nt: int, dx: float, bc: vec) -> vec:\n",
    "    \"\"\"Orchestrate nt steps over cell field u.\"\"\"\n",
    "\n",
    "    assert nt > 0, \"Number of time steps must be positive\"\n",
    "    assert len(bc) == 2, \"Boundary conditions must be a list of two values\"\n",
    "    assert stability_condition(dt, dx, kappa), \"Stability condition not met\"\n",
    "\n",
    "    mesh = Mesh(dx, N=len(u0))\n",
    "    u = u0.copy()\n",
    "    F = mesh.face_field()\n",
    "    dudt = mesh.cell_field()\n",
    "\n",
    "    for _ in range(nt):\n",
    "        u_sum_old = sum(u) * mesh.dx\n",
    "        step_heat_eqn(u, F, dudt, kappa, dt, mesh, bc)\n",
    "        u_sum_new = sum(u) * mesh.dx\n",
    "        assert heat_is_conserved(u_sum_old, u_sum_new, dt, F), \"Heat not conserved\"\n",
    "\n",
    "    return u\n"
   ]
  },
  {
   "cell_type": "code",
   "execution_count": 22,
   "id": "55dc8f67",
   "metadata": {},
   "outputs": [
    {
     "data": {
      "text/plain": [
       "[33.333333333333314, 33.33333333333333, 33.333333333333314]"
      ]
     },
     "execution_count": 22,
     "metadata": {},
     "output_type": "execute_result"
    }
   ],
   "source": [
    "solve_heat_eqn(\n",
    "    u0 = [0.0, 100.0, 0.0],\n",
    "    kappa = 0.1,\n",
    "    dt = 1.0,\n",
    "    nt = 1000,\n",
    "    dx = 1.0,\n",
    "    bc = [0.0, 0.0]\n",
    ")"
   ]
  },
  {
   "cell_type": "markdown",
   "id": "6a59a464",
   "metadata": {},
   "source": [
    "## What we just did\n",
    "\n",
    "We now have a solver whose structure and reasoning are explicit. It’s modular: each function \n",
    "has a single purpose over well-defined data.\n",
    "\n",
    "We did write a lot more lines, because we added:\n",
    " - Isolation of concerns (apply_bc, flux, divergence, step, solve) instead of one monolith\n",
    " - Type annotations\n",
    " - Executable contracts (pre/postconditions, invariants)\n",
    " - Lightweight data types (Mesh, vec)\n",
    "\n",
    "**In real applications**, this \"ceremony\" is a small fraction of total code: The heavy lifting\n",
    "lives in numerical computations, I/O, parallelization, physics, etc.. The scaffolding pays\n",
    "off by reducing change amplification and cognitive load:\n",
    "\n",
    " - Safer changes (localized edits)\n",
    " - Better testing (unit, property, etc.)\n",
    " - Faster debugging (failures point to where)\n",
    " - Reusability (shared abstractions)\n",
    "\n",
    "**Do assertions hurt performance?** Potentially, if run every step. In practice you can disable\n",
    "them for production (`python -O`) or sample them periodically during long runs.\n",
    "\n",
    "## Looking Ahead\n",
    "\n",
    "In **Chapter 3**, we’ll take the next step:  \n",
    "turning these specifications into unit tests that run automatically,\n",
    "giving us rapid feedback and confidence as our code evolves."
   ]
  },
  {
   "cell_type": "markdown",
   "id": "3c3c4da4",
   "metadata": {},
   "source": [
    "\n",
    "---\n",
    "\n",
    "*This notebook is a part of the \"Rigor and Reasoning in Research Software\" (R3Sw) tutorial, led by Alper Altuntas and sponsored by the Better Scientific Software (BSSw) Fellowship Program. Copyright © 2025*"
   ]
  },
  {
   "cell_type": "markdown",
   "id": "43f30819",
   "metadata": {},
   "source": []
  }
 ],
 "metadata": {
  "kernelspec": {
   "display_name": "r3sw",
   "language": "python",
   "name": "python3"
  },
  "language_info": {
   "codemirror_mode": {
    "name": "ipython",
    "version": 3
   },
   "file_extension": ".py",
   "mimetype": "text/x-python",
   "name": "python",
   "nbconvert_exporter": "python",
   "pygments_lexer": "ipython3",
   "version": "3.12.11"
  }
 },
 "nbformat": 4,
 "nbformat_minor": 5
}
