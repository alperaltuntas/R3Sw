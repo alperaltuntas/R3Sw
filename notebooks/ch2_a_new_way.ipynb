{
 "cells": [
  {
   "cell_type": "markdown",
   "id": "ff51afe5",
   "metadata": {},
   "source": [
    "# Chapter 2: Reasoning About Code - A New Way\n",
    "\n",
    "In Chapter 1, we implemented a working 1-D heat equation solver.\n",
    "It works, but it’s fragile, opaque, and difficult to test or extend.\n",
    "In this chapter, we'll take a step back and ask: can we design and reason about our code systematically, before we even run it?\n",
    "\n",
    "We'll introduce preconditions, postconditions, and invariants, which are concepts borrowed from formal logic, and use them to refactor our code step by step into something more modular, testable, and robust.\n",
    "\n",
    "---\n",
    "\n",
    "### Goals\n",
    "\n",
    " - Identify preconditions, postconditions, and invariants for a scientific computing problem.\n",
    " - Apply backward reasoning and stepwise refinement to improve a messy, monolithic implementation.\n",
    " - Separate concerns in your code: boundary conditions, flux computations, and updates.\n",
    " - Produce a modular version of the heat equation solver that sets the stage for unit and property-based testing.\n",
    "\n",
    "### Key Concepts\n",
    "\n",
    " - Abstraction: Viewing complex systems at a high-level, where irrelevant details are ignored.\n",
    " - Hoare Logic: reasoning about code with `{P} code {Q}` triples.\n",
    " - Backward reasoning: starting from a desired outcome and working backward.\n",
    " - Stepwise refinement: incrementally developing code.\n",
    " - Invariants: conditions that must always hold true during program execution.\n",
    " - Separation of concerns: organizing code into clean, testable components.\n",
    "\n",
    "---"
   ]
  },
  {
   "cell_type": "markdown",
   "id": "9bb41fc5",
   "metadata": {},
   "source": [
    "\n",
    "## Why Reason About Code?\n",
    "\n",
    "Scientific software is both a tool that enables science and a research product in and of itself. As such, it warrants a similar\n",
    "rigor and reasoning as the science it enables. How might we reason about software? Well,\n",
    "we can take inspiration from the scientific method:\n",
    "\n",
    "- Form hypotheses -> attempt refutation → refine toward confidence.\n",
    "\n",
    "Or, in the software world:\n",
    "\n",
    "- Specify properties and behaviors -> check -> refine.\n",
    "\n",
    "In practice, though, scientific computing applications are often developed in a \"code and fix\" fashion, and an assumption:\n",
    "\n",
    "> If the outputs look reasonable and don't crash, it must be correct. - A typical scientific programmer\n",
    "\n",
    "But trusting results without understanding the code is risky. The following is obviously true, but often undermined in scientific computing:\n",
    "\n",
    "> \"We can't get systems right if we don't understand them\" - Leslie Lamport"
   ]
  },
  {
   "cell_type": "markdown",
   "id": "ec1ef074",
   "metadata": {},
   "source": [
    "\n",
    "### Abstraction\n",
    "\n",
    "Reasoning about code requires a level of abstraction that allows us to focus on the high-level behavior of the system without getting bogged down in implementation details.\n",
    "\n",
    "Fortunately, as scientists and engineers, we are accustomed to this way of thinking: thinking about complex systems at a high level, i.e., by removing irrelevant details, and breaking such systems into smaller, more manageable components. This mindset is crucial for effective reasoning about code.\n",
    "\n",
    "But what happens to the low-level details? Don't the subtle, low-level considerations\n",
    "the most often cause of bugs? While that's true, a focus on high-level abstractions pay\n",
    "off in the form of better isolation of low-level details, overall integrity, and a better\n",
    "understanding. After all, many of the root causes of low-level bugs is due to a lack of understanding\n",
    "and attention to the high-level design and intent, or the trickling down of the bad high-level decisions to the low-level implementation.\n",
    "\n",
    "Abstractions are then useful for both reasoning about code and finding the best software design.\n",
    " While the focus of this tutorial is mainly on the former, it goes without saying\n",
    "that both go hand-in-hand, both are crucial for robust software development, and both are non-trivial tasks:\n",
    "\n",
    "> The hard part of building software is the conceptual construct, \n",
    "> not the labor of representing it.\n",
    "> *-FP Brooks. “No Silver Bullet” (1987)*\n",
    "\n",
    "> What matters is the fundamental structure of the design. If you get\n",
    "> it wrong, there is no amount of bug fixing and refactoring that will\n",
    "> produce a reliable, maintainable, and usable system\n",
    "> *- D. Jackson. The essence of software. (2021)*"
   ]
  },
  {
   "cell_type": "markdown",
   "id": "6a0013f7",
   "metadata": {},
   "source": [
    "\n",
    "### Specification\n",
    "\n",
    "Specification is the process of writing down abstractions in a precise way.\n",
    "\n",
    "Specifications can occur at a vast variety of rigor and detail, from high-level descriptions of desired properties in plain language to highly-detailed, mathematically-based descriptions of instructions in dedicated formal languages.\n",
    "\n",
    "In this tutorial, we adopt a specification approach that's more on the practical side of the spectrum, focusing mainly on preconditions and postconditions (in the form of assertions). These are clear and actionable specifications that can guide the implementation process effectively, and facilitate testing, property checking, and symbolic execution.\n",
    "\n",
    "### Floyd-Hoare Triples\n",
    "\n",
    "A Hoare triple is a way of specifying what a code fragment should do:\n",
    "\n",
    "`  {P} code {Q}`\n",
    "\n",
    "where\n",
    " - `P` (precondition): what must be true before running the `code`.\n",
    " - `code` (implementation): the program fragment in question, e.g., a statement, block, function, etc.\n",
    " - `Q` (postcondition): what must be true after running the `code`.\n",
    "\n",
    "Example:"
   ]
  },
  {
   "cell_type": "code",
   "execution_count": 148,
   "id": "d450d8e8",
   "metadata": {},
   "outputs": [],
   "source": [
    "import numpy as np\n",
    "\n",
    "def div(x, y):\n",
    "    assert y != 0           # P    (precondition)\n",
    "    res = x / y             # code (implementation)\n",
    "    assert res * y == x     # Q    (postcondition)\n",
    "    return res"
   ]
  },
  {
   "cell_type": "markdown",
   "id": "04ad3366",
   "metadata": {},
   "source": [
    "The precondition `y != 0` and the postcondition `res * y == x` state that, for all inputs `x` and `y` satisfying the precondition, the function `div` will produce an output `res` such that when multiplied by `y`, it will yield `x`. \n",
    "\n",
    "### Exercise 2.1: \n",
    "Can you think of any inputs that might cause the function to fail even if the precondition is satisfied? Try various values for x and y in the below cell to see if the postcondition holds."
   ]
  },
  {
   "cell_type": "code",
   "execution_count": 144,
   "id": "0f26f243",
   "metadata": {},
   "outputs": [
    {
     "data": {
      "text/plain": [
       "2.0"
      ]
     },
     "execution_count": 144,
     "metadata": {},
     "output_type": "execute_result"
    }
   ],
   "source": [
    "div(4, 2)"
   ]
  },
  {
   "cell_type": "markdown",
   "id": "658434bd",
   "metadata": {},
   "source": [
    "#### Answer (expand to see)\n",
    "\n",
    "While these pre and postconditions are valid for real arithmetics, they are not necessarily true for floating-point arithmetic due to precision errors. For example, try running `div(7, 25)` in the above cell."
   ]
  },
  {
   "cell_type": "markdown",
   "id": "4bf4c698",
   "metadata": {},
   "source": [
    "While the limitations of floating point arithmetics are well known, it's not uncommon to overlook them in practice, leading to wrong assumptions, and, hence, potential failures in other parts of the code that rely on these assumptions. The following version of the `div` function relaxes the postcondition to avoid overpromises. And ensures that we are aware of (and documenting) the limitations of the code fragments that we develop. "
   ]
  },
  {
   "cell_type": "code",
   "execution_count": 147,
   "id": "5f45b55a",
   "metadata": {},
   "outputs": [],
   "source": [
    "import numpy as np\n",
    "\n",
    "def div(x, y):\n",
    "    assert y != 0                   # P    (precondition)\n",
    "    res = x / y                     # code (implementation)\n",
    "    assert np.isclose(res * y, x)   # Q    (postcondition)\n",
    "    return res"
   ]
  },
  {
   "cell_type": "code",
   "execution_count": 140,
   "id": "a5e55675",
   "metadata": {},
   "outputs": [
    {
     "data": {
      "text/plain": [
       "0.28"
      ]
     },
     "execution_count": 140,
     "metadata": {},
     "output_type": "execute_result"
    }
   ],
   "source": [
    "div(7, 25)"
   ]
  },
  {
   "cell_type": "markdown",
   "id": "dfdef918",
   "metadata": {},
   "source": [
    "### Exercise 2.2:\n",
    "\n",
    "Similar to Exercise 2.1, come up with an exercise where precondition is not strong enough, and, hence is not a valid \"weakest precondition\"]"
   ]
  },
  {
   "cell_type": "code",
   "execution_count": null,
   "id": "89a1a737",
   "metadata": {},
   "outputs": [],
   "source": []
  },
  {
   "cell_type": "markdown",
   "id": "4efd2ccb",
   "metadata": {},
   "source": [
    "To sum up, the precondition `P` and the postcondition `Q` together ***specify*** the intended behavior of the `code`.\n",
    "\n",
    "Goals in determining and specifying `P` and `Q`:\n",
    "- We wish to have `P` as general as possible while still being precise enough to be useful (weakest precondition). This allows us to maximize the applicability of our code fragment.\n",
    "- We wish to have `Q` as specific as possible while still being general enough to cover all desired outcomes (strongest postcondition). This allows us to give stronger guarantees about the behavior of our implementation."
   ]
  },
  {
   "cell_type": "markdown",
   "id": "ca212dc1",
   "metadata": {},
   "source": [
    "\n",
    "Our overall goal is then:\n",
    " - to determine and specify the precondition(s) `P` and postcondition(s) `Q` for our implementation `code` and to check that, given `P`, `code` satisfies `Q`."
   ]
  },
  {
   "cell_type": "code",
   "execution_count": null,
   "id": "658c7ff0",
   "metadata": {},
   "outputs": [],
   "source": []
  },
  {
   "cell_type": "markdown",
   "id": "9cdd1e2b",
   "metadata": {},
   "source": [
    "## Stepwise Refinement\n",
    "\n",
    "Stepwise refinement is the process of progressively developing a solution, starting\n",
    "from a high-level specification and moving toward a fully implemented system.\n",
    "\n",
    "You begin with abstract definitions, i.e., what the system should do, and gradually\n",
    "refine them into narrow, contract-bearing modules.\n",
    "\n",
    "This naturally produces modular, testable designs, where modularity emerges as\n",
    "a consequence, not as an afterthought.\n",
    "\n",
    "The steps of stepwise refinement are:\n",
    "\n",
    "*Step 0: Identify the What*: \n",
    "Clearly define the overall problem to be solved, focusing on desired outcomes,\n",
    "not how to achieve them.\n",
    "\n",
    "*Step 1: Decompose into Components*:\n",
    "Break the problem into smaller, manageable parts that represent meaningful abstractions.\n",
    "\n",
    "*Step 2: Specify Interfaces and Contracts*:\n",
    "For each component, define interfaces (or external APIs) that capture the behavior in precise, testable terms.\n",
    "\n",
    "*Step 3: Implement Incrementally*:\n",
    "Fill in the concrete implementations step by step, ensuring that each one respects or evolves its specification and interface contracts as you learn more.\n",
    "\n",
    "Think of each refinement step as making the \"what\" more precise, while keeping the \"how\" flexible until you need to commit to an implementation.\n",
    "\n",
    "## Why This Matters\n",
    "\n",
    "By deferring implementation details, stepwise refinement:\n",
    "\n",
    " - Encourages clean separation of concerns.\n",
    "\n",
    " - Makes invariants and properties local and testable.\n",
    "\n",
    " - Makes systems flexible to change: new implementations can replace old ones without breaking the whole system.\n",
    "\n",
    " - Aligns naturally with API-first approaches, where the external API is treated as a top-level contract to be refined and implemented independently.\n",
    "\n",
    "In short: start abstract, specify carefully, then refine iteratively. Modularity and robustness emerge by design, not by accident."
   ]
  },
  {
   "cell_type": "markdown",
   "id": "fb5f73d0",
   "metadata": {},
   "source": [
    "## Heat Equation Solver Revisited\n",
    "\n",
    "Based on the following description of stepwise refinement, let's develop a new version of the heat equation solver that we developed earlier."
   ]
  },
  {
   "cell_type": "code",
   "execution_count": null,
   "id": "df44b189",
   "metadata": {},
   "outputs": [],
   "source": []
  },
  {
   "cell_type": "markdown",
   "id": "bc8a6719",
   "metadata": {},
   "source": [
    "### Step 0 — Specification (the what)\n",
    "\n",
    "Advance a 1-D temperature field $u_i$ on a uniform grid with spacing $\\Delta x$ for `nt` time steps of size `dt`, thermal diffusivity $\\kappa$, and Neumann boundary heat fluxes $q_L$ and $q_R$ using a conservative finite volume method:\n",
    "\n",
    "$\n",
    "u_i^{n+1} = u_i^{n} + \\Delta t \\, \\frac{F_{i} - F_{i+1}}{\\Delta x},\n",
    "\\qquad\n",
    "F_i =\n",
    "\\begin{cases}\n",
    "q_L & i = 0, \\\\[6pt]\n",
    "-\\kappa \\dfrac{u_i - u_{i-1}}{\\Delta x} & 1 \\leq i \\leq N-1, \\\\[10pt]\n",
    "q_R & i = N.\n",
    "\\end{cases}\n",
    "$\n",
    "\n",
    "#### Preconditions\n",
    "\n",
    "- `len(u) >= 3`, `dx > 0`, `dt > 0`, `nt > 0`\n",
    "\n",
    "#### Postconditions\n",
    "\n",
    "- The total heat is conserved, that is\n",
    "$$\n",
    "\\sum_{i=0}^{N} u_i^{n+1} \\Delta x = \\sum_{i=0}^{N} u_i^{n} \\Delta x + \\Delta t \\left( q_L - q_R \\right).\n",
    "$$\n",
    "\n",
    "- When `q_L` and `q_R` are both zero, the average temperature remains constant over time.\n",
    "- When `q_L` and `q_R` are constant, the temperature profile reaches a steady state."
   ]
  },
  {
   "cell_type": "markdown",
   "id": "64d2ad15",
   "metadata": {},
   "source": [
    "#### Exercise 2.3:\n",
    "\n",
    "Can you come up with more pre- and postconditions for the heat equation solver?\n",
    "Both computational and physical constraints are fine."
   ]
  },
  {
   "cell_type": "markdown",
   "id": "5db50470",
   "metadata": {},
   "source": [
    "Step 1 — Decompose into components"
   ]
  },
  {
   "cell_type": "code",
   "execution_count": null,
   "id": "1db47104",
   "metadata": {},
   "outputs": [],
   "source": []
  },
  {
   "cell_type": "markdown",
   "id": "68f94637",
   "metadata": {},
   "source": [
    "## Resources\n",
    "\n",
    "Jackson, Daniel. \"Software Abstractions: logic, language, and analysis.\" MIT press, 2012.\n",
    "\n",
    "Bradley, Aaron R., and Zohar Manna. \"The calculus of computation: decision procedures with applications to verification.\" Berlin, Heidelberg: Springer Berlin Heidelberg, 2007.\n",
    "\n",
    "Lamport, Leslie. \"The TLA+ Video Course\", https://lamport.azurewebsites.net/video/videos.html, accessed September 2025.\n",
    "\n",
    "---\n",
    "\n",
    "*This notebook is a part of the \"Rigor and Reasoning in Research Software\" (R3Sw) tutorial, led by Alper Altuntas and sponsored by the Better Scientific Software (BSSw) Fellowship Program. Copyright © 2025*"
   ]
  },
  {
   "cell_type": "markdown",
   "id": "64b60fc8",
   "metadata": {},
   "source": []
  }
 ],
 "metadata": {
  "kernelspec": {
   "display_name": "r3sw",
   "language": "python",
   "name": "python3"
  },
  "language_info": {
   "codemirror_mode": {
    "name": "ipython",
    "version": 3
   },
   "file_extension": ".py",
   "mimetype": "text/x-python",
   "name": "python",
   "nbconvert_exporter": "python",
   "pygments_lexer": "ipython3",
   "version": "3.12.11"
  }
 },
 "nbformat": 4,
 "nbformat_minor": 5
}
