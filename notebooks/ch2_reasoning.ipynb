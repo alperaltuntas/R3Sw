{
 "cells": [
  {
   "cell_type": "markdown",
   "id": "ff51afe5",
   "metadata": {},
   "source": [
    "# Chapter 2: Reasoning About Code\n",
    "\n",
    "In Chapter 1, we implemented a working 1-D heat equation solver.\n",
    "It runs, but it’s fragile, opaque, and hard to test or extend.\n",
    "\n",
    "That's a common situation in scientific computing:\n",
    "\n",
    " - write some code, see if it runs, fix what breaks, repeat. \n",
    " - It gets results fast, but the code becomes hard to understand, maintain, or extend.\n",
    "\n",
    "**Step back: How can we do better?**\n",
    "\n",
    "The key is to *design intentionally*:\n",
    " - by thinking through the structure *before* diving into code.\n",
    "\n",
    "An upfront design exercise is valuable:\n",
    " - it clarifies purpose,\n",
    " - reveals assumptions,\n",
    " - identifies the main abstractions we’ll need.\n",
    "\n",
    "But this isn’t Big Design Up Front. We start with a lightweight design\n",
    "then refine through an iterative process.\n",
    "\n",
    "**Goal:**  surface intent early, stay flexible as understanding grows.\n",
    "\n",
    "**Managing complexity via decomposition**\n",
    "\n",
    "Break the problem into smaller, meaningful pieces.\n",
    "\n",
    "**How?**\n",
    "\n",
    " - Use *abstraction* to identify key concepts.\n",
    " - Use those abstractions to guide decomposition.\n",
    " - Write *specifications* for each piece: clear, testable descriptions of what each piece should do.\n",
    "\n",
    "**The four iterative steps:**\n",
    "\n",
    " 1. **Abstraction:** Identify the concepts that matter.\n",
    " 2. **Decomposition:** Organize the code around those abstractions.\n",
    " 3. **Specification:** For each piece, write down what it should do, in a way that’s precise and testable.\n",
    " 4. **Implementation:** Write code that satisfies the specifications.\n",
    "\n",
    "It's a cycle, and not a one-time process. As you learn:\n",
    " - Refine your abstractions and decomposition.\n",
    " - Update specifications as understanding deepens.\n",
    " - Implement and test iteratively."
   ]
  },
  {
   "cell_type": "markdown",
   "id": "ec1ef074",
   "metadata": {},
   "source": [
    "\n",
    "### 1. Abstraction\n",
    "\n",
    "Abstraction is deciding what matters and what doesn’t. A good software design is based on the right\n",
    "set of abstractions. As such, we start our design and development process by exploring abstractions.\n",
    "\n",
    "This is a creative step, where we explore different ways to represent the system and its components.\n",
    "\n",
    "In scientific computing, this step isn’t given enough attention, but it is crucial:\n",
    "\n",
    "> What matters is the fundamental structure of the design. If you get\n",
    "> it wrong, there is no amount of bug fixing and refactoring that will\n",
    "> produce a reliable, maintainable, and usable system\n",
    "> *- D. Jackson. The essence of software. (2021)*\n",
    "\n",
    "As scientists and engineers, we are already accustomed to abstraction: we model complex systems by removing unnecessary details and breaking problems into components.\n",
    "\n",
    "\n",
    "![Abstraction](./img/esm.png)\n",
    "\n",
    "\n",
    "\n",
    "**A natural concern:** Aren’t most bugs caused by subtle low-level issues?\n",
    "\n",
    "Yes, but many “low-level” bugs are symptoms of unclear high-level intent. When top-level responsibilities are muddled, they trickle down into brittle, error-prone implementations.\n",
    "Abstraction pays off by:\n",
    " -  clarifying intent\n",
    " - making low-level details easier to manage.\n",
    "\n",
    "\n",
    "#### Procedural, Data, and Functional Abstractions\n",
    "\n",
    "In software design, there are several complementary ways to capture and manage complexity:\n",
    "\n",
    " - Procedural abstraction: defining procedures (functions or methods) that encapsulate behavior.\n",
    " - Data abstraction: defining data structures that encapsulate state and behavior (think object-oriented design).\n",
    " - Functional abstraction: using pure functions that operate on immutable data.\n",
    "\n",
    "These forms aren’t mutually exclusive. But in this tutorial, we’ll mostly rely on procedural abstraction,\n",
    "since it’s simpler and fits the style of a small solver like the 1-D heat equation.\n",
    "The reasoning principles apply equally well across all abstraction styles."
   ]
  },
  {
   "cell_type": "markdown",
   "id": "fcaf132d",
   "metadata": {},
   "source": [
    "\n",
    "### 2. Decomposition\n",
    "\n",
    "If abstraction helps us decide what matters, decomposition helps us decide how to organize it.\n",
    "\n",
    "We want decomposition to:\n",
    "\n",
    " - Isolate concerns and manage complexity\n",
    "\n",
    " - Facilitate testing and reasoning\n",
    "\n",
    " - Improve maintainability and extensibility\n",
    "\n",
    "\n",
    "Forms of decomposition include functions/methods (procedures), classes, and modules.\n",
    "\n",
    "In the case of procedural abstraction, guiding principles in breaking a computation into procedures are:\n",
    "\n",
    " - Each procedure should have a single, well-defined purpose.\n",
    " - Procedures should be general: avoid hard-coding specific values or assumptions.\n",
    " - Each procedure should be as simple as possible, but no simpler:\n",
    "    > “A good check for simplicity is to give the procedure a name that describes its purpose.\n",
    "    >  If it is difficult to think of a name, there may be a problem with the procedure.” -Liskov"
   ]
  },
  {
   "cell_type": "markdown",
   "id": "6a0013f7",
   "metadata": {},
   "source": [
    "\n",
    "### 3. Specification: Writing Down Intent\n",
    "\n",
    "Once we have modular pieces, we need to say what each one should do.\n",
    "\n",
    "\n",
    "A *specification* is a precise statement of what software should do, independent of how it does it.\n",
    "\n",
    "Specifications can range from informal descriptions in plain English\n",
    "to fully formal mathematical models.\n",
    "\n",
    "In this tutorial, we adopt a **lightweight, practical style** of specification that combines:\n",
    " - **type annotations:** to capture data types and interfaces,\n",
    " - **assertions:** statements about what must hold before, during, or after execution.\n",
    "\n",
    "Assertions can take many forms: \n",
    " - Function-level contracts (preconditions and postconditions),\n",
    " - Semantic assertions that encode domain knowledge,\n",
    " - Computational properties.\n",
    "\n",
    " Some of these belong inside the code (e.g., preconditions that guard against invalid inputs),\n",
    " while others live *adjacent* to the code, where they can be checked in test suites. Some\n",
    " are local to a function, while others can span multiple functions or modules.\n",
    "\n",
    " **Where to specify assertions?**\n",
    "\n",
    "Place each assertions where it's easiest to maintain and run:\n",
    "\n",
    "- **Inline** for cheap, safety-critical checks (e.g., preconditions regarding input validity,\n",
    "invariants that must hold during execution, postconditions that check outputs).\n",
    "- **Alongside** the code (e.g., small boolean functions in the same module/class) for local\n",
    "semantic checks.\n",
    "- **In dedicated spec modules** for broader properties that span multiple components, or are\n",
    "common to many components.\n",
    "\n",
    "Regardless of where they live, specifications serve the same **role**:\n",
    " - to make intent explicit and testable.\n",
    "\n",
    "This flexible approach balances practicality and rigor:\n",
    "\n",
    " - It guides implementation by making expectations explicit.\n",
    " - It supports reasoning and testing by expressing scientific\n",
    "  or computational *facts* as executable checks, placed as close\n",
    "   as practical to the code they relate to.\n",
    " - It bridges levels of rigor, from quick runtime guards to \n",
    " property-based testing and formal verification.\n",
    "\n",
    "### Example:\n",
    "\n",
    "Below simple function exemplifies our practical approach to specification:"
   ]
  },
  {
   "cell_type": "code",
   "execution_count": 1,
   "id": "d450d8e8",
   "metadata": {},
   "outputs": [],
   "source": [
    "def div(x: float, y: float) -> float: # Type annotations for inputs and output\n",
    "    assert y != 0           # P    (precondition)\n",
    "    res = x / y             # code (implementation)\n",
    "    assert res * y == x     # Q    (postcondition)\n",
    "    return res"
   ]
  },
  {
   "cell_type": "code",
   "execution_count": 2,
   "id": "0410f1c4",
   "metadata": {},
   "outputs": [
    {
     "data": {
      "text/plain": [
       "2.0"
      ]
     },
     "execution_count": 2,
     "metadata": {},
     "output_type": "execute_result"
    }
   ],
   "source": [
    "div(4.0, 2.0)"
   ]
  },
  {
   "cell_type": "markdown",
   "id": "634f616d",
   "metadata": {},
   "source": [
    " - Type annotations specify that `div` takes two floats and returns a float.\n",
    " - The assertions specify contracts, i.e., pre- and postconditions.\n",
    "\n",
    "Historically, preconditions and postconditions are often denoted `P` and `Q`, respectively, as in *Hoare logic*: \n",
    "\n",
    "    {P} C {Q}\n",
    "\n",
    "where C is a command (procedure)."
   ]
  },
  {
   "cell_type": "markdown",
   "id": "4dfe1dcb",
   "metadata": {},
   "source": [
    "### Exercise 2.1:\n",
    "\n",
    "Can you find inputs to `div` where this function fails the postcondition even when the precondition is satisfied?\n"
   ]
  },
  {
   "cell_type": "code",
   "execution_count": 3,
   "id": "4a5d9e4d",
   "metadata": {},
   "outputs": [],
   "source": [
    "# div(?, ?)"
   ]
  },
  {
   "cell_type": "markdown",
   "id": "a85cf85a",
   "metadata": {},
   "source": [
    "**Answer:** One possible input is `f(7, 25)`. The precondition `y != 0` is satisfied, but the postcondition `res * y == x` fails due to floating-point rounding error."
   ]
  },
  {
   "cell_type": "code",
   "execution_count": 4,
   "id": "edfb9730",
   "metadata": {},
   "outputs": [
    {
     "ename": "AssertionError",
     "evalue": "",
     "output_type": "error",
     "traceback": [
      "\u001b[31m---------------------------------------------------------------------------\u001b[39m",
      "\u001b[31mAssertionError\u001b[39m                            Traceback (most recent call last)",
      "\u001b[36mCell\u001b[39m\u001b[36m \u001b[39m\u001b[32mIn[4]\u001b[39m\u001b[32m, line 1\u001b[39m\n\u001b[32m----> \u001b[39m\u001b[32m1\u001b[39m \u001b[43mdiv\u001b[49m\u001b[43m(\u001b[49m\u001b[32;43m7\u001b[39;49m\u001b[43m,\u001b[49m\u001b[43m \u001b[49m\u001b[32;43m25\u001b[39;49m\u001b[43m)\u001b[49m\n",
      "\u001b[36mCell\u001b[39m\u001b[36m \u001b[39m\u001b[32mIn[1]\u001b[39m\u001b[32m, line 4\u001b[39m, in \u001b[36mdiv\u001b[39m\u001b[34m(x, y)\u001b[39m\n\u001b[32m      2\u001b[39m \u001b[38;5;28;01massert\u001b[39;00m y != \u001b[32m0\u001b[39m           \u001b[38;5;66;03m# P    (precondition)\u001b[39;00m\n\u001b[32m      3\u001b[39m res = x / y             \u001b[38;5;66;03m# code (implementation)\u001b[39;00m\n\u001b[32m----> \u001b[39m\u001b[32m4\u001b[39m \u001b[38;5;28;01massert\u001b[39;00m res * y == x     \u001b[38;5;66;03m# Q    (postcondition)\u001b[39;00m\n\u001b[32m      5\u001b[39m \u001b[38;5;28;01mreturn\u001b[39;00m res\n",
      "\u001b[31mAssertionError\u001b[39m: "
     ]
    }
   ],
   "source": [
    "div(7, 25)"
   ]
  },
  {
   "cell_type": "markdown",
   "id": "512051f5",
   "metadata": {},
   "source": [
    "**Accounting for reality:**\n",
    "\n",
    " - Floating-point arithmetic isn’t exact.\n",
    " - We can relax postconditions using approximate equality:"
   ]
  },
  {
   "cell_type": "code",
   "execution_count": 5,
   "id": "c3a32cde",
   "metadata": {},
   "outputs": [],
   "source": [
    "from pytest import approx\n",
    "\n",
    "def div(x: float, y: float) -> float: # Type annotations for inputs and output\n",
    "    assert y != 0               # P    (precondition)\n",
    "    res = x / y                 # code (implementation)\n",
    "    assert res * y == approx(x) # Q    (postcondition)\n",
    "    return res"
   ]
  },
  {
   "cell_type": "code",
   "execution_count": 6,
   "id": "a5e55675",
   "metadata": {},
   "outputs": [
    {
     "data": {
      "text/plain": [
       "0.28"
      ]
     },
     "execution_count": 6,
     "metadata": {},
     "output_type": "execute_result"
    }
   ],
   "source": [
    "div(7, 25)"
   ]
  },
  {
   "cell_type": "markdown",
   "id": "5b816b27",
   "metadata": {},
   "source": [
    "**Takeaway**: Specifications should reflect computational realities (e.g., floating-point)."
   ]
  },
  {
   "cell_type": "markdown",
   "id": "f9b02f15",
   "metadata": {},
   "source": [
    "### 4. Implementation: Writing Code that Meets Specifications\n",
    "\n",
    "With abstractions identified, pieces decomposed, and specifications written, we can implement code that satisfies them.\n",
    "\n",
    "This shifts our mindset: instead of starting with lines of code and hoping they work, we start with clear expectations and then fill in implementations that must meet them.\n",
    "\n",
    "We can then use testing and verification to ensure our implementations meet their specifications instantly."
   ]
  },
  {
   "cell_type": "markdown",
   "id": "fb5f73d0",
   "metadata": {},
   "source": [
    "## Heat Equation Solver, Revisited\n",
    "\n",
    "In Chapter 1, we wrote a quick, monolithic solver for the 1-D heat equation.\n",
    "It worked, but it mixed boundary conditions, flux calculations, and time-stepping into a single opaque function.\n",
    "\n",
    "Now we’ll redesign it systematically, using the four-step, iterative process:\n",
    "\n",
    "Abstraction → Decomposition → Specification → Implementation."
   ]
  },
  {
   "cell_type": "markdown",
   "id": "bc8a6719",
   "metadata": {},
   "source": [
    "### Step 1 — Abstraction\n",
    "\n",
    "At this stage, we define the *what* of our problem, i.e., the key concepts we need to model:\n",
    "\n",
    " - We want to advance a 1-D temperature field $u_i$ on a uniform grid using a conservative finite volume method:\n",
    "\n",
    "$\n",
    "\\qquad\n",
    "u_i^{n+1} = u_i^{n} + \\Delta t \\times \\, div(F_i),\n",
    "\\qquad\n",
    "div(F_i) = \\frac{F_{i} - F_{i+1}}{\\Delta x},\n",
    "\\qquad\n",
    "F_i =\n",
    "\\begin{cases}\n",
    "q_L & i = 0, \\\\[6pt]\n",
    "-\\kappa \\dfrac{u_i - u_{i-1}}{\\Delta x} & 1 \\leq i \\leq N-1, \\\\[10pt]\n",
    "q_R & i = N.\n",
    "\\end{cases}\n",
    "$\n",
    "\n",
    "From this description, we can extract the essential concepts that our software must represent:\n",
    "\n",
    " - Mesh: describes the geometry of the domain (cell size $\\Delta x$, number of cells $N$).\n",
    " - Cell fields ($u_i$, $div(F_i)$): quantities stored at cell centers.\n",
    " - Face fields ($F_i$): quantities stored at cell faces.\n",
    " - Procedures to perform the time-stepping of the heat equation.\n",
    "\n",
    "These abstractions define what the system consists of, not how it will be computed.\n",
    "They form the conceptual backbone of the solver—independent of data structures, \n",
    "programming language, or numerical optimization choices."
   ]
  },
  {
   "cell_type": "markdown",
   "id": "fee88f0d",
   "metadata": {},
   "source": [
    "### Step 2 – Decomposition\n",
    "\n",
    "With our abstractions identified, we now decide how to organize the work.\n",
    "We’ll use procedural abstraction: small, single-purpose functions operating on simple data containers.\n",
    "\n",
    "The main data structures representing these abstractions are:\n",
    "\n",
    "   - *mesh*: discrete representation of the computational domain (grid spacing, number of cells).\n",
    "   - *cell field*: a vector storing cell-centered values (e.g., temperature, tendencies).\n",
    "   - *face field*: a vector storing face-centered values (e.g., diffusive fluxes).\n",
    "\n",
    "And for convenience, we’ll define a simple type alias for 1-D vectors:"
   ]
  },
  {
   "cell_type": "code",
   "execution_count": 7,
   "id": "fd0f5712",
   "metadata": {},
   "outputs": [],
   "source": [
    "vec = list[float]"
   ]
  },
  {
   "cell_type": "markdown",
   "id": "0697bcaa",
   "metadata": {},
   "source": [
    "\n",
    "Next, let's define a mesh *data class*, i.e., a simple data structure intended for storing data without much additional functionality. Since our approach is procedural, we won't rely much on object-oriented programming features beyond this simple data class."
   ]
  },
  {
   "cell_type": "code",
   "execution_count": 8,
   "id": "49b0ab12",
   "metadata": {},
   "outputs": [],
   "source": [
    "from dataclasses import dataclass\n",
    "\n",
    "@dataclass\n",
    "class Mesh:\n",
    "    \"\"\"Uniform 1-D mesh.\"\"\"\n",
    "    \n",
    "    dx: float  # cell size\n",
    "    N: int     # number of cells\n",
    "\n",
    "    def cell_field(self) -> vec:\n",
    "        return [0.0] * self.N\n",
    "\n",
    "    def face_field(self) -> vec:\n",
    "        return [0.0] * (self.N + 1)"
   ]
  },
  {
   "cell_type": "markdown",
   "id": "6c49a634",
   "metadata": {},
   "source": [
    "Notice the helper methods `cell_field` and `face_field` that create zero-initialized fields of the appropriate size based on the mesh. This makes correct sizing trivial and prevents off-by-one errors."
   ]
  },
  {
   "cell_type": "markdown",
   "id": "af65ec0c",
   "metadata": {},
   "source": [
    "\n",
    "#### Procedures:\n",
    "\n",
    "Next, we define the procedures that implement our abstractions.\n",
    "Following the principles of abstraction and decomposition:\n",
    "\n",
    " - Each procedure should have a single, clear purpose.\n",
    " - Procedures should be general: avoid narrowing to specific variables, values, or assumptions.\n",
    " - Each procedure should be as simple as possible, but no simpler.\n",
    "\n",
    "Based on these principles, we can define the following *general* procedures:\n",
    "\n",
    " - `apply_bc(f_out, bc)`: apply boundary conditions to face fluxes.\n",
    " - `diffusive_flux(f_out, c, kappa, dx)`: compute interior fluxes.\n",
    " - `divergence(c_out, f, dx)`: compute divergence of face quantities.\n",
    "\n",
    "\n",
    "** Naming Convention: **\n",
    "For generalizable procedures, we don't want to hard-code specific variable names (e.g., `temperature`, `heat_flux`).\n",
    "Instead, we use:\n",
    "\n",
    " - `f` to denote face fields.\n",
    " - `c` to denote cell fields.\n",
    "\n",
    "Additionally, we use `_out` suffixes to indicate output arguments that will be modified in place, and `_inout` for arguments that are both input and output.\n",
    "\n",
    "This makes the procedures general and reusable. If we were to compute the diffusive fluxes of a different quantity (e.g., concentration), we could reuse the same `diffusive_flux` procedure without modification. (This is called *abstraction by parameterization*.)\n",
    "\n",
    "In addition to the above general procedures, we need two more, specific to the heat equation solver. For\n",
    "these, the argument names are more specific to clarify their purpose:\n",
    "\n",
    "  - `step_heat_eqn(u_inout, kappa, dt, mesh, bc)`: advance one time step.\n",
    "  - `solve_heat_eqn(u0, kappa, dt, nt, dx, bc)`: orchestrate multiple steps.\n",
    "\n",
    "Why this decomposition works:\n",
    "\n",
    " - Clarity: Each function does one thing and does it well.\n",
    " - Reusability: Generic flux and divergence routines can be reused for other physical fields.\n",
    " - Testability: Small, side-effect-controlled procedures are easy to test and verify.\n",
    " - Robustness: Internals can evolve (vectorization, GPU backends, higher-order schemes)\n",
    "without breaking code that depends only on their interfaces."
   ]
  },
  {
   "cell_type": "markdown",
   "id": "2687067c",
   "metadata": {},
   "source": [
    "### Step 3 – Specification\n",
    "\n",
    "Having identified the pieces of our solver, the next step is to make their intent explicit.\n",
    "A specification is a precise statement of what a function or module should accomplish.\n",
    "Not how it does so, but what must hold true if it’s correct.\n",
    "\n",
    "Recall, our practical approach to specification combines:\n",
    " - **type annotations:** to capture data types and interfaces,\n",
    " - **assertions:** statements about what must hold before, during, or after execution.\n",
    "\n",
    "Assertions can take many forms:\n",
    "\n",
    " - Function-level contracts (preconditions and postconditions),\n",
    " - Semantic assertions that encode mathematical or physical relationships,\n",
    " - Computational properties.\n",
    "\n",
    "Some of these checks belong inside the code (for local or safety-critical guarantees),\n",
    "while others live adjacent to it, where they are (re)used in tests and analysis tools.\n",
    "\n",
    "#### Core API and Type Annotations\n",
    "\n",
    "Before writing any code, we begin by specifying a core API:\n",
    "the set of functions that define what the solver does.\n",
    "At this stage, we’re not implementing behavior, but defining interfaces that describe expectations.\n",
    "\n",
    "This follows the design principle:\n",
    "\n",
    "> Program to an interface, not an implementation. - Gamma et al. Design Patterns (1994)\n",
    "\n",
    "Our functions expose clear, minimal interfaces:\n",
    "they declare what inputs and outputs exist, but hide how results are computed.\n",
    "This separation makes the codebase easier to reason about, relate, and structure."
   ]
  },
  {
   "cell_type": "code",
   "execution_count": 9,
   "id": "0d9947ae",
   "metadata": {},
   "outputs": [],
   "source": [
    "# Procedures:\n",
    "\n",
    "def apply_bc(f_out: vec, bc: vec) -> None:\n",
    "    \"\"\"Apply BCs by overriding first and last face quantities (f_out).\"\"\"\n",
    "    ...\n",
    "\n",
    "def diffusive_flux(f_out: vec, c: vec, kappa: float, dx: float) -> None:\n",
    "    \"\"\"Given a cell field (c), compute the diffusive flux (f_out).\"\"\"\n",
    "    ...\n",
    "\n",
    "def divergence(c_out: vec, f: vec, dx: float) -> None:\n",
    "    \"\"\"Compute the divergence of face quantities (f) and store in (c_out).\"\"\"\n",
    "    ...\n",
    "\n",
    "def step_heat_eqn(u_inout: vec, kappa: float, dt: float, mesh: Mesh, bc: vec):\n",
    "    \"\"\"Advance cell field u by one time step using explicit Euler method.\"\"\"\n",
    "    ...\n",
    "\n",
    "def solve_heat_eqn(u0: vec, kappa: float, dt: float, nt: int, dx: float, bc: vec) -> vec:\n",
    "    \"\"\"Orchestrate nt steps over cell field u.\"\"\"\n",
    "    ..."
   ]
  },
  {
   "cell_type": "markdown",
   "id": "73c2f357",
   "metadata": {},
   "source": [
    "At this point, our type annotations and core API form the first layer of specification.\n",
    "\n",
    "#### Preconditions and Postconditions\n",
    "\n",
    "Next, we enrich the interfaces with contracts: conditions that must hold before and after execution.\n",
    "\n",
    "Take  `divergence` function that computes the divergence of face fluxes:\n",
    "\n",
    "$\\qquad\n",
    "\\nabla \\cdot F = \\frac{F_{i} - F_{i+1}}{\\Delta x}\n",
    "\\qquad$\n",
    "\n",
    "Two essential preconditions emerge from this formulation:\n",
    " - The mesh spacing `dx` must be positive.\n",
    " - The vector $\\nabla \\cdot F$ (passed as `c`) and the vector `F` (passed as `f`) must have compatible sizes: specifically, `len(c) == len(f) - 1`."
   ]
  },
  {
   "cell_type": "code",
   "execution_count": 10,
   "id": "b7b2cc66",
   "metadata": {},
   "outputs": [],
   "source": [
    "def divergence(c_out: vec, f: vec, dx: float) -> None:\n",
    "    \"\"\"Compute the divergence of face quantities (f) and store in (c_out).\"\"\"\n",
    "    assert len(c_out) == len(f) - 1, \"Size mismatch\"\n",
    "    assert dx > 0, \"Non-positive dx\"\n",
    "    ..."
   ]
  },
  {
   "cell_type": "markdown",
   "id": "126ef0fd",
   "metadata": {},
   "source": [
    "These are simple, local guarantees that keep the interface trustworthy.\n",
    "\n",
    "#### Semantic Assertions\n",
    "\n",
    "Beyond structural correctness, we can express scientific, mathematical, or computational facts\n",
    "that are expected to hold true.\n",
    "\n",
    "For example, the **Telescoping Property of Divergence**: Total divergence equals net flux through boundaries.\n",
    "\n",
    "$$\n",
    "\\sum_{i=0}^{N-1} (\\nabla \\cdot F)_i = F_0 - F_N\n",
    "$$\n",
    "\n",
    "We can encode this property as a function that returns `True` if the property holds, and `False` otherwise:"
   ]
  },
  {
   "cell_type": "code",
   "execution_count": 11,
   "id": "ae120dfa",
   "metadata": {},
   "outputs": [],
   "source": [
    "def telescoping(c: vec, f: vec, dx: float) -> bool:\n",
    "    \"\"\"Check the finite volume telescoping property.\"\"\"\n",
    "    total_divergence = sum(c) * dx\n",
    "    boundary_flux = f[0] - f[-1]\n",
    "    return total_divergence == approx(boundary_flux)"
   ]
  },
  {
   "cell_type": "markdown",
   "id": "4862a573",
   "metadata": {},
   "source": [
    "We can then add this check as a postcondition in the `divergence` function:"
   ]
  },
  {
   "cell_type": "code",
   "execution_count": 12,
   "id": "ed31282a",
   "metadata": {},
   "outputs": [],
   "source": [
    "def divergence(c_out: vec, f: vec, dx: float) -> None:\n",
    "    \"\"\"Compute the divergence of face quantities (f) and store in (c_out).\"\"\"\n",
    "    assert len(c_out) == len(f) - 1, \"Size mismatch\"\n",
    "    assert dx > 0, \"Non-positive dx\"\n",
    "    ...\n",
    "    assert telescoping(c_out, f, dx), \"Telescoping property violated\""
   ]
  },
  {
   "cell_type": "markdown",
   "id": "1e9637f0",
   "metadata": {},
   "source": [
    "Or, alternatively, rather than embedding this assertion directly inside the function,\n",
    "we can include it in a test function that’s part of our test suite."
   ]
  },
  {
   "cell_type": "markdown",
   "id": "6f9a4152",
   "metadata": {},
   "source": [
    "### Exercise 2.2:\n",
    "\n",
    "One of the key preconditions for the Euler (FTCS) scheme is the stability condition as given below:\n",
    "\n",
    "$\\qquad\n",
    "\\Delta t \\leq \\frac{\\Delta x^2}{2 \\kappa}\n",
    "\\qquad$\n",
    "\n",
    "Implement a function `stability_condition(...)` that checks this condition. Which \n",
    "function(s) would you add this as a precondition to?\n"
   ]
  },
  {
   "cell_type": "code",
   "execution_count": 13,
   "id": "d4323020",
   "metadata": {},
   "outputs": [],
   "source": [
    "def stability_condition(dt: float, dx: float, kappa: float) -> bool:\n",
    "    \"\"\"Check the stability condition for the explicit Euler scheme.\"\"\"\n",
    "    ..."
   ]
  },
  {
   "cell_type": "markdown",
   "id": "67a6542e",
   "metadata": {},
   "source": [
    "**Answer:**\n",
    "\n",
    "Below is a possible implementation of the `is_stable` function:"
   ]
  },
  {
   "cell_type": "code",
   "execution_count": 14,
   "id": "155b4461",
   "metadata": {},
   "outputs": [],
   "source": [
    "def stability_condition(dt: float, dx: float, kappa: float) -> bool:\n",
    "    \"\"\"Check the stability condition for the explicit Euler scheme.\"\"\"\n",
    "    return dt <= (dx ** 2) / (2 * kappa)"
   ]
  },
  {
   "cell_type": "markdown",
   "id": "3d34c5e5",
   "metadata": {},
   "source": [
    "The function `stability_condition` can be added as a precondition to the `solve_heat_eqn` function, as it ensures that the time step `dt` is appropriate for the spatial discretization `dx` and the diffusion coefficient `kappa`, which is crucial for the stability of the explicit Euler scheme used in the heat equation solver."
   ]
  },
  {
   "cell_type": "markdown",
   "id": "91ee6d03",
   "metadata": {},
   "source": [
    "### Exercise 2.3:\n",
    "\n",
    "Conservation of total heat can be expressed as:\n",
    "\n",
    "$$\n",
    "\\sum_{i=0}^{N-1} u_i^{n+1} \\Delta x = \\sum_{i=0}^{N-1} u_i^{n} \\Delta x + \\Delta t \\left( q_L - q_R \\right).\n",
    "$$\n",
    "\n",
    "Special Cases:\n",
    "\n",
    " - If `q_L` == `q_R` == 0, the mean stays constant.\n",
    " - If `q_L` and `q_R` are constant, the temperature profile converges to a linear steady state.\n",
    "\n",
    "\n",
    "Based on this formulation, implement a checker that verifies conservation between two successive states. Decide where to use it:\n",
    "\n",
    "- as a postcondition after one time step,\n",
    "- as a loop invariant inside the time-stepping loop, or\n",
    "- adjacent to the code in the test suite (recommended), verifying conservation after each step.\n",
    "\n",
    "Hint: consider floating-point tolerance when comparing totals."
   ]
  },
  {
   "cell_type": "code",
   "execution_count": 15,
   "id": "7598e4b5",
   "metadata": {},
   "outputs": [],
   "source": [
    "def heat_is_conserved(u_old: vec, u_new: vec, dt: float, dx: float, F: vec) -> bool:\n",
    "    \"\"\"Check if heat is conserved.\"\"\"\n",
    "    ..."
   ]
  },
  {
   "cell_type": "markdown",
   "id": "3b78d1ef",
   "metadata": {},
   "source": [
    "**Answer:**\n",
    "\n",
    "Below is one possible implementation of the heat conservation check.\n",
    "This condition can be incorporated in several ways: as a postcondition in the `step_heat_eqn` function,\n",
    "as a loop invariant within the time-stepping loop in `solve_heat_eqn`,\n",
    "or, preferably, as an adjacent specification in the test suite to verify conservation.\n",
    "\n",
    "Keep inexpensive, local guards inline, and place broader checks like this one nearby in tests,\n",
    "so they run regularly without cluttering the solver’s core logic or performance.\n",
    "This approach keeps the implementation lean and flexible while ensuring\n",
    "that the conservation property remains explicit, verifiable, and routinely checked."
   ]
  },
  {
   "cell_type": "code",
   "execution_count": 16,
   "id": "4a7d1be5",
   "metadata": {},
   "outputs": [],
   "source": [
    "def heat_is_conserved(u_old: vec, u_new: vec, dt: float, dx: float, F: vec) -> bool:\n",
    "    \"\"\"Check if heat is conserved.\"\"\"\n",
    "    lhs = sum(u_new) * dx\n",
    "    rhs = sum(u_old) * dx + dt * (F[0] - F[-1])\n",
    "    return lhs == approx(rhs)"
   ]
  },
  {
   "cell_type": "markdown",
   "id": "48f0f21e",
   "metadata": {},
   "source": [
    "### Step 4 – Implementation\n",
    "\n",
    "With our abstractions defined, the problem decomposed, and specifications in place, we can now write\n",
    "an implementation that satisfies them.\n",
    "\n",
    "In this step, we bring together all the functions from the decomposition stage into a single module, `heat1d.py`.\n",
    "Saving the code as a standalone file makes it easy to import and reuse in the following chapters.\n",
    "We also include the previously defined `vec` type alias and the `Mesh` data class for completeness."
   ]
  },
  {
   "cell_type": "code",
   "execution_count": 17,
   "id": "e80b1cda",
   "metadata": {},
   "outputs": [
    {
     "name": "stdout",
     "output_type": "stream",
     "text": [
      "Overwriting heat1d.py\n"
     ]
    }
   ],
   "source": [
    "%%writefile heat1d.py\n",
    "\n",
    "from dataclasses import dataclass\n",
    "from pytest import approx\n",
    "\n",
    "vec = list[float]\n",
    "\n",
    "@dataclass\n",
    "class Mesh:\n",
    "    \"\"\"Uniform 1-D mesh.\"\"\"\n",
    "    \n",
    "    dx: float  # cell size\n",
    "    N: int     # number of cells\n",
    "\n",
    "    def cell_field(self) -> vec:\n",
    "        return [0.0] * self.N\n",
    "\n",
    "    def face_field(self) -> vec:\n",
    "        return [0.0] * (self.N + 1)\n",
    "\n",
    "def apply_bc(f_out: vec, bc: vec) -> None:\n",
    "    \"\"\"Apply BCs by overriding first and last face quantities (f_out).\"\"\"\n",
    "    assert len(f_out) > 1, \"face field size too small\"\n",
    "    assert len(bc) == 2, \"bc must be of size 2\"\n",
    "    f_out[0], f_out[-1] = bc[0], bc[1]\n",
    "\n",
    "def diffusive_flux(f_out: vec, c: vec, kappa: float, dx: float) -> None:\n",
    "    \"\"\"Given a cell field (c), compute the diffusive flux (f_out).\"\"\"\n",
    "    assert len(f_out) == len(c) + 1, \"Size mismatch\"\n",
    "    assert dx > 0 and kappa > 0, \"Non-positive dx or kappa\"\n",
    "    for i in range(1, len(f_out) - 1):\n",
    "        f_out[i] = -kappa * (c[i] - c[i-1]) / dx\n",
    "\n",
    "def divergence(c_out: vec, f: vec, dx: float) -> None:\n",
    "    \"\"\"Compute the divergence of face quantities (f) and store in (c_out).\"\"\"\n",
    "    assert len(c_out) == len(f) - 1, \"Size mismatch\"\n",
    "    assert dx > 0, \"Non-positive dx\"\n",
    "    for i in range(len(c_out)):\n",
    "        c_out[i] = (f[i] - f[i+1]) / dx\n",
    "\n",
    "def step_heat_eqn(u_inout: vec, kappa: float, dt: float, mesh: Mesh, bc: vec):\n",
    "    \"\"\"Advance cell field u by one time step using explicit Euler method.\"\"\"\n",
    "    assert dt > 0, \"Non-positive dt\"\n",
    "    assert mesh.N == len(u_inout), \"Size mismatch\"\n",
    "\n",
    "    F = mesh.face_field()\n",
    "    divF = mesh.cell_field()\n",
    "\n",
    "    apply_bc(F, bc)\n",
    "    diffusive_flux(F, u_inout, kappa, mesh.dx)\n",
    "    divergence(divF, F, mesh.dx)\n",
    "\n",
    "    for i in range(mesh.N):\n",
    "        u_inout[i] += dt * divF[i]\n",
    "\n",
    "def solve_heat_eqn(u0: vec, kappa: float, dt: float, nt: int, dx: float, bc: vec) -> vec:\n",
    "    \"\"\"Orchestrate nt steps over cell field u.\"\"\"\n",
    "\n",
    "    assert nt > 0, \"Number of time steps must be positive\"\n",
    "    assert dt <= (dx ** 2) / (2 * kappa), \"Stability condition not met\"\n",
    "\n",
    "    mesh = Mesh(dx, N=len(u0))\n",
    "    u = u0.copy()\n",
    "    for _ in range(nt):\n",
    "        step_heat_eqn(u, kappa, dt, mesh, bc)\n",
    "\n",
    "    return u\n"
   ]
  },
  {
   "cell_type": "markdown",
   "id": "c700cb98",
   "metadata": {},
   "source": [
    "Now let's import the solver and run it:"
   ]
  },
  {
   "cell_type": "code",
   "execution_count": 18,
   "id": "55dc8f67",
   "metadata": {},
   "outputs": [
    {
     "data": {
      "text/plain": [
       "[33.333333333333314, 33.33333333333333, 33.333333333333314]"
      ]
     },
     "execution_count": 18,
     "metadata": {},
     "output_type": "execute_result"
    }
   ],
   "source": [
    "from heat1d import solve_heat_eqn\n",
    "\n",
    "solve_heat_eqn(\n",
    "    u0 = [0.0, 100.0, 0.0],\n",
    "    kappa = 0.1,\n",
    "    dt = 1.0,\n",
    "    nt = 1000,\n",
    "    dx = 1.0,\n",
    "    bc = [0.0, 0.0]\n",
    ")"
   ]
  },
  {
   "cell_type": "markdown",
   "id": "6a59a464",
   "metadata": {},
   "source": [
    "## What we just did\n",
    "\n",
    "We now have a solver whose structure and reasoning are explicit. It’s modular: each function \n",
    "has a single purpose over well-defined data.\n",
    "\n",
    "We did write a lot more lines, because we added:\n",
    " - Isolation of concerns (apply_bc, flux, divergence, step, solve) instead of one monolith\n",
    " - Type annotations\n",
    " - Executable contracts (pre/postconditions, invariants, semantic assertions)\n",
    " - Lightweight data types (Mesh, vec)\n",
    "\n",
    "**In real applications**, this \"ceremony\" is a small fraction of total code: The heavy lifting\n",
    "lives in numerical computations, I/O, parallelization, physics, etc.. The scaffolding pays\n",
    "off by reducing change amplification and cognitive load:\n",
    "\n",
    " - Safer changes (localized edits)\n",
    " - Better testing (unit, property, etc.)\n",
    " - Faster debugging (failures point to where)\n",
    " - Reusability (shared abstractions)\n",
    "\n",
    "## Looking Ahead\n",
    "\n",
    "In **Chapter 3**, we’ll take the next step:  \n",
    "turning these specifications into unit tests that run automatically,\n",
    "giving us rapid feedback and confidence as our code evolves.\n",
    "\n",
    "# Foundations and Influences\n",
    "\n",
    "For readers interested in the broader theoretical background,\n",
    "Appendix A traces the roots of our approach in the wider history of software design and development.\n",
    "It highlights related methodologies and advocates, such as Bertrand Meyer’s Design by Contract,\n",
    "Barbara Liskov’s work on abstraction and behavioral subtyping, Daniel Jackson’s model-based design,\n",
    "John Ousterhout’s abstraction-driven philosophy, Edsger Dijkstra’s reasoning about programs,\n",
    "and Niklaus Wirth’s principle of stepwise refinement, all of which shaped the foundations of our approach.\n",
    "\n",
    "## Connection to Test-Driven Development\n",
    "\n",
    "TDD and related test-first methods emphasize writing tests before code. This practice can be\n",
    "powerful for feature-driven projects, but in scientific computing we often don’t yet know what\n",
    "behavior to test. We’re still discovering the right abstractions.\n",
    "\n",
    "As such, we begin with abstraction-driven design: sketching clear concepts and contracts,\n",
    " then using tests and experiments as feedback tools to refine those ideas.\n",
    "\n",
    "In other words:\n",
    " - TDD focuses on getting a feature to work.\n",
    " - We focus on discovering the right design for the problem.\n",
    "\n",
    "As John Ousterhout argues, good design emerges from reasoning about abstractions. Tests then validate\n",
    "and illuminate those abstractions, not drive them."
   ]
  },
  {
   "cell_type": "markdown",
   "id": "3c3c4da4",
   "metadata": {},
   "source": [
    "\n",
    "---\n",
    "\n",
    "*This notebook is a part of the \"Rigor and Reasoning in Research Software\" (R3Sw) tutorial, led by Alper Altuntas and sponsored by the Better Scientific Software (BSSw) Fellowship Program. Copyright © 2025*"
   ]
  },
  {
   "cell_type": "markdown",
   "id": "43f30819",
   "metadata": {},
   "source": []
  }
 ],
 "metadata": {
  "kernelspec": {
   "display_name": "r3sw",
   "language": "python",
   "name": "python3"
  },
  "language_info": {
   "codemirror_mode": {
    "name": "ipython",
    "version": 3
   },
   "file_extension": ".py",
   "mimetype": "text/x-python",
   "name": "python",
   "nbconvert_exporter": "python",
   "pygments_lexer": "ipython3",
   "version": "3.12.11"
  }
 },
 "nbformat": 4,
 "nbformat_minor": 5
}
