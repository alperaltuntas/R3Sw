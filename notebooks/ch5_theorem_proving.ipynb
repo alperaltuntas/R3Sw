{
 "cells": [
  {
   "cell_type": "markdown",
   "id": "5e2b7254",
   "metadata": {},
   "source": [
    "# Ch. 5: Theorem Proving - Beyond Testing\n",
    "\n",
    "> Testing can be used to show the presence of bugs, but never to show their absence. - Edsger W. Dijkstra\n",
    "\n",
    "Unit tests (Ch.3) and property-based tests (Ch.4) give us confidence, but they still sample the input space. To climb the next rung on the ladder of rigor, we turn to **theorem proving**, a formal verification technique.\n",
    "\n",
    "In this chapter we will:\n",
    "\n",
    " - Use a theorem prover to check whether properties hold for all possible inputs (within specified ranges).\n",
    " - Encode the *what* of our computations, rather than the *how*, to make reasoning possible.\n",
    " - Explore both the strengths and the limits of theorem proving, and see how it complements testing.\n",
    "\n",
    "Theorem proving provides guarantees that testing alone cannot match. But these guarantees come at a cost:\n",
    "\n",
    " - **Encoding effort:** you must write down precise specifications and constraints.\n",
    " - **Computational expense:** solvers can become slow or intractable as problem size grows.\n",
    "\n",
    "In practice, theorem proving shines on select **critical** routines (where correctness is paramount) and core algorithms (where tests may miss subtle edge cases).\n",
    "\n",
    "## Small Scope Hypothesis\n",
    "\n",
    "Formal methods may not scale to arbitrarily large programs or input sizes. For example, we may only be able to prove properties of our heat equation solver for small meshes (e.g., 10-100 points). But this is still useful in practice, thanks to the **small scope hypothesis** (coined by Daniel Jackson):\n",
    "\n",
    "> A high proportion of bugs can be found by checking a program for all inputs within some small scope.\n",
    "\n",
    "Even such small proofs can expose bugs or confirm that a property is mathematically guaranteed under the right conditions."
   ]
  },
  {
   "cell_type": "markdown",
   "id": "00c245fe",
   "metadata": {},
   "source": [
    "## The Z3 Theorem Prover\n",
    "\n",
    "Z3 is a popular theorem prover developed by Microsoft Research. Workflow:\n",
    " - Declare symbolic variables (like `x`, `y`, `res`).\n",
    " - State constraints: preconditions `P` and the effects of the `code`.\n",
    " - Assert the postconditions `Q` you want to hold.\n",
    " - Ask Z3 to search for a counterexample to `P and code implies Q`.\n",
    "   - If it finds a counterexample, the property is not universally valid.\n",
    "   - If no counterexample exists, the property is proven (for the chose theory and input size).\n",
    "\n",
    "Unlike testing, which explores a handful of examples, Z3 can reason over all inputs in one shot.\n",
    "\n",
    "We’ll use Z3’s Python API, z3py, which matches the style of previous chapters."
   ]
  },
  {
   "cell_type": "markdown",
   "id": "847c547f",
   "metadata": {},
   "source": [
    "### Declaring Variables\n",
    "\n",
    "Z3 supports many symbolic types: integers, reals, booleans, bit-vectors, arrays, strings, and more. These are not ordinary variables but symbols that range over all possible values of their type, constrained only by what you add later."
   ]
  },
  {
   "cell_type": "code",
   "execution_count": 1,
   "id": "390b8743",
   "metadata": {},
   "outputs": [],
   "source": [
    "from z3 import Bool, Int, Real\n",
    "\n",
    "p = Bool('p')\n",
    "i = Int('i')\n",
    "x = Real('x')"
   ]
  },
  {
   "cell_type": "markdown",
   "id": "25784a55",
   "metadata": {},
   "source": [
    "Multiple variables can be declared at once:"
   ]
  },
  {
   "cell_type": "code",
   "execution_count": 2,
   "id": "5668a591",
   "metadata": {},
   "outputs": [],
   "source": [
    "from z3 import Bools, Ints, Reals\n",
    "\n",
    "p, q = Bools('p q')\n",
    "i, j, k = Ints('i j k')\n",
    "x, y, z, res = Reals('x y z res')"
   ]
  },
  {
   "cell_type": "markdown",
   "id": "2633d05c",
   "metadata": {},
   "source": [
    "You can also create arrays programmatically:"
   ]
  },
  {
   "cell_type": "code",
   "execution_count": 3,
   "id": "1870b7ee",
   "metadata": {},
   "outputs": [],
   "source": [
    "F = [Real(f'F{i}') for i in range(10)]"
   ]
  },
  {
   "cell_type": "markdown",
   "id": "cbffaae0",
   "metadata": {},
   "source": [
    "Here:\n",
    " - The strings on the RHS are names Z3 uses internally to identify the variables.\n",
    " - The Python variables on the LHS are what you’ll use in your constraints and properties.\n",
    "\n",
    "They don’t have to match, but keeping them consistent avoids confusion."
   ]
  },
  {
   "cell_type": "code",
   "execution_count": 4,
   "id": "1aa619e1",
   "metadata": {},
   "outputs": [
    {
     "data": {
      "text/plain": [
       "(x, y, res)"
      ]
     },
     "execution_count": 4,
     "metadata": {},
     "output_type": "execute_result"
    }
   ],
   "source": [
    "x, y, res"
   ]
  },
  {
   "cell_type": "code",
   "execution_count": 5,
   "id": "9c077394",
   "metadata": {},
   "outputs": [
    {
     "data": {
      "text/plain": [
       "(F0, F1, F2)"
      ]
     },
     "execution_count": 5,
     "metadata": {},
     "output_type": "execute_result"
    }
   ],
   "source": [
    "F[0], F[1], F[2]"
   ]
  },
  {
   "cell_type": "markdown",
   "id": "be3b8797",
   "metadata": {},
   "source": [
    "### Declarative Style\n",
    "\n",
    "Z3 is declarative: you describe what must hold, not how to compute.\n",
    "That means:\n",
    " - You don't *assign* values to variables.\n",
    " - Instead, you *constrain* variables with equations and (in)equalities.\n",
    "\n",
    "For example:"
   ]
  },
  {
   "cell_type": "code",
   "execution_count": 6,
   "id": "02f1f002",
   "metadata": {},
   "outputs": [
    {
     "data": {
      "text/html": [
       "y &ge; x + 1"
      ],
      "text/plain": [
       "y >= x + 1"
      ]
     },
     "execution_count": 6,
     "metadata": {},
     "output_type": "execute_result"
    }
   ],
   "source": [
    "x == 0        # a Boolean formula (not an assignment)\n",
    "y >= x + 1    # another Boolean formula"
   ]
  },
  {
   "cell_type": "markdown",
   "id": "cb57be46",
   "metadata": {},
   "source": [
    "On their own, these Boolean formulas don’t do anything, but once added to a solver, Z3 will try to find values of `x` and `y` that make them true."
   ]
  },
  {
   "cell_type": "markdown",
   "id": "9c39e600",
   "metadata": {},
   "source": [
    "### The Z3 Solver\n",
    "\n",
    "A solver collects constraints and checks *satisfiability*."
   ]
  },
  {
   "cell_type": "code",
   "execution_count": 7,
   "id": "e2f64638",
   "metadata": {},
   "outputs": [],
   "source": [
    "from z3 import Solver\n",
    "\n",
    "# Instantiate a solver object\n",
    "s = Solver()\n",
    "\n",
    "# Add constraints to the solver\n",
    "s.add(x == 0)\n",
    "s.add(y == x + 1)"
   ]
  },
  {
   "cell_type": "markdown",
   "id": "ad72de3c",
   "metadata": {},
   "source": [
    "If the constraints are contradictory, the solver will report `unsat` (unsatisfiable). If they can be satisfied, it will report `sat` (satisfiable)."
   ]
  },
  {
   "cell_type": "code",
   "execution_count": 8,
   "id": "6cb5d0a3",
   "metadata": {},
   "outputs": [
    {
     "data": {
      "text/html": [
       "<b>sat</b>"
      ],
      "text/plain": [
       "sat"
      ]
     },
     "execution_count": 8,
     "metadata": {},
     "output_type": "execute_result"
    }
   ],
   "source": [
    "s.check()"
   ]
  },
  {
   "cell_type": "markdown",
   "id": "38e2b036",
   "metadata": {},
   "source": [
    "#### sat vs. unsat\n",
    " - **Satisfiable** means there is at least one assignment of values to the variables that satisfies all the constraints.\n",
    " - **Unsatisfiable** means there is no assignment of values to the variables that satisfies all the constraints."
   ]
  },
  {
   "cell_type": "markdown",
   "id": "55e00940",
   "metadata": {},
   "source": [
    "### Logical Connectives\n",
    "\n",
    "Z3 supports standard logical connectives:"
   ]
  },
  {
   "cell_type": "code",
   "execution_count": 9,
   "id": "045c9ee9",
   "metadata": {},
   "outputs": [],
   "source": [
    "from z3 import And, Or, Not, Implies, If"
   ]
  },
  {
   "cell_type": "markdown",
   "id": "7043c1e6",
   "metadata": {},
   "source": [
    "\n",
    " - `And(a, b, ...)` - all must be true\n",
    " - `Or(a, b, ...)` - at least one must be true\n",
    " - `Not(a)` - negation\n",
    " - `Implies(a, b)` - if `a` is true, then `b` must be true\n",
    " - `If(a, b, c)` - if `a` is true, then `b`, else `c`"
   ]
  },
  {
   "cell_type": "markdown",
   "id": "b3be4a6f",
   "metadata": {},
   "source": [
    "### From Specs to Proofs\n",
    "\n",
    "Let's revisit our simple `div` function:"
   ]
  },
  {
   "cell_type": "code",
   "execution_count": 10,
   "id": "8170f78b",
   "metadata": {},
   "outputs": [],
   "source": [
    "def div(x, y):\n",
    "    assert y != 0           # precondition\n",
    "    res = x / y             # code\n",
    "    assert res * y == x     # postcondition\n",
    "    return res"
   ]
  },
  {
   "cell_type": "markdown",
   "id": "aabd766c",
   "metadata": {},
   "source": [
    "We can’t feed this Python directly to Z3, but we can encode the same idea declaratively:"
   ]
  },
  {
   "cell_type": "code",
   "execution_count": 11,
   "id": "a0caeea4",
   "metadata": {},
   "outputs": [],
   "source": [
    "def div(res, x, y):\n",
    "    return And(\n",
    "        y != 0,          # precondition\n",
    "        res == x / y,    # code\n",
    "        res * y == x     # postcondition\n",
    "    )"
   ]
  },
  {
   "cell_type": "markdown",
   "id": "709c6f1d",
   "metadata": {},
   "source": [
    "Now, we can check:"
   ]
  },
  {
   "cell_type": "code",
   "execution_count": 12,
   "id": "cbcdec91",
   "metadata": {},
   "outputs": [
    {
     "data": {
      "text/html": [
       "<b>sat</b>"
      ],
      "text/plain": [
       "sat"
      ]
     },
     "execution_count": 12,
     "metadata": {},
     "output_type": "execute_result"
    }
   ],
   "source": [
    "# Create a solver:\n",
    "s = Solver()\n",
    "\n",
    "# *call* div(res, x, y) with symbolic variables:\n",
    "s.add(div(*Reals('res x y')))\n",
    "\n",
    "# Check if the div constraints are satisfiable:\n",
    "s.check()"
   ]
  },
  {
   "cell_type": "markdown",
   "id": "1de100b9",
   "metadata": {},
   "source": [
    "This just tells us “there exists at least one input where it works.”\n",
    "\n",
    "To prove it works for all inputs, we flip the logic:"
   ]
  },
  {
   "cell_type": "code",
   "execution_count": 13,
   "id": "4ebc6b9d",
   "metadata": {},
   "outputs": [],
   "source": [
    "from z3 import Not\n",
    "\n",
    "def div(res, x, y):\n",
    "    return And(\n",
    "        y != 0,\n",
    "        res == x / y,\n",
    "        Not(res * y == x)   # negated postcondition\n",
    "    )"
   ]
  },
  {
   "cell_type": "code",
   "execution_count": 14,
   "id": "eb3e2c10",
   "metadata": {},
   "outputs": [
    {
     "data": {
      "text/html": [
       "<b>unsat</b>"
      ],
      "text/plain": [
       "unsat"
      ]
     },
     "execution_count": 14,
     "metadata": {},
     "output_type": "execute_result"
    }
   ],
   "source": [
    "# Create a solver:\n",
    "s = Solver()\n",
    "\n",
    "# *call* div(res, x, y) with symbolic variables:\n",
    "s.add(div(*Reals('res x y')))\n",
    "\n",
    "# Check if the div constraints are satisfiable:\n",
    "s.check()"
   ]
  },
  {
   "cell_type": "markdown",
   "id": "865590cc",
   "metadata": {},
   "source": [
    "Now Z3 confirms: there are no inputs (with y != 0) that break the postcondition, so the property holds universally, at least in real arithmetic."
   ]
  },
  {
   "cell_type": "markdown",
   "id": "73fae78e",
   "metadata": {},
   "source": [
    "### Real vs Floating-Point\n",
    "\n",
    "Note that we used Reals. Real arithmetic is exact; floating-point is not.\n",
    "That's why Z3 didn't *see* the earlier 7/25 counterexample.\n",
    " - Reals are good for proving mathematical properties of algorithms.\n",
    " - Floating-point (`FP` in Z3) lets you model IEEE-754 semantics, but is heavier and harder to reason about exhaustively.\n",
    "\n",
    "For our purposes, reasoning in reals is an advantage: it abstracts away round-off details and lets us focus on the algorithm’s conceptual correctness. Floating-point quirks can be handled later with testing or targeted FP analysis.\n",
    "\n",
    "### Why this matters\n",
    "\n",
    "Even with these limitations, Z3 gives you something testing cannot:\n",
    " - It can prove absence of counterexamples within a theory.\n",
    " - It can quickly expose missing or too-weak preconditions.\n",
    " - It can find subtle edge cases that tests might miss.\n",
    "\n",
    "In short, testing may show the presence of bugs; theorem proving will show their absence within specified bounds.\n"
   ]
  },
  {
   "cell_type": "markdown",
   "id": "b6b4a7ca",
   "metadata": {},
   "source": [
    "## Back to the Heat Equation Solver\n",
    "\n",
    "We’ll now reason about our finite-volume 1-D diffusion solver. \n",
    "\n",
    "So far we've worked *imperatively*, writing code that *does* things step-by-step. To use Z3, we need to switch to a more *declarative* style, describing *what* the code should achieve rather than *how* it does so.\n",
    "\n",
    "### Telescoping Property\n",
    "\n",
    "As a first step, let's prove the **telescoping property of divergence**: The sum of the divergence over all cells equals the net flux through the boundaries.\n",
    "\n",
    "$\\qquad\n",
    "\\sum_{i=0}^{N-1} (\\nabla \\cdot F)_i = F_0 - F_N\n",
    "\\qquad$\n",
    "\n",
    "\n",
    "To do so, we'll re-express the divergence procedure as a constraint generator: a function that takes Z3 variables and returns Z3 constraints representing the original procedure's behavior.\n",
    "\n",
    "Recall the divergence function and the telescoping property (assertions omitted for brevity):"
   ]
  },
  {
   "cell_type": "code",
   "execution_count": 15,
   "id": "c487460e",
   "metadata": {},
   "outputs": [],
   "source": [
    "def divergence(c, f, dx):\n",
    "    \"\"\"Compute the divergence of face quantities (f) and store in (c).\"\"\"\n",
    "    for i in range(len(c)):\n",
    "        c[i] = (f[i] - f[i+1]) / dx\n",
    "\n",
    "def telescoping(c, f, dx):\n",
    "    \"\"\"Check the finite volume telescoping property.\"\"\"\n",
    "    total_divergence = sum(c) * dx\n",
    "    boundary_flux = f[0] - f[-1]\n",
    "    return total_divergence == approx(boundary_flux)"
   ]
  },
  {
   "cell_type": "markdown",
   "id": "7650963a",
   "metadata": {},
   "source": [
    "The Z3 versions of these functions:"
   ]
  },
  {
   "cell_type": "code",
   "execution_count": 16,
   "id": "bf5ae4c0",
   "metadata": {},
   "outputs": [],
   "source": [
    "def divergence(c, f, dx):\n",
    "    \"\"\"Compute the divergence of face quantities (f) and store in (c).\"\"\"\n",
    "    N = len(c)\n",
    "    return [c[i] == (f[i] - f[i+1]) / dx for i in range(N)]\n",
    "\n",
    "def telescoping(c, f, dx):\n",
    "    \"\"\"Check the finite volume telescoping property.\"\"\"\n",
    "    N = len(c)\n",
    "    total_divergence = sum(c[i] for i in range(N)) * dx\n",
    "    boundary_flux = f[0] - f[-1]\n",
    "    return total_divergence == boundary_flux"
   ]
  },
  {
   "cell_type": "markdown",
   "id": "1d3faa15",
   "metadata": {},
   "source": [
    "Notice we no longer need the `approx` helper since Z3 handles real arithmetic exactly.\n",
    "\n",
    "To call these functions, we need to pass Z3 variables:"
   ]
  },
  {
   "cell_type": "code",
   "execution_count": 17,
   "id": "cc133204",
   "metadata": {},
   "outputs": [],
   "source": [
    "N = 3 # number of cells\n",
    "dx, dt, kappa = Reals('dx dt kappa')\n",
    "f = [Real(f'f{i}') for i in range(N+1)]\n",
    "c = [Real(f'c{i}') for i in range(N)]"
   ]
  },
  {
   "cell_type": "markdown",
   "id": "d49bb39a",
   "metadata": {},
   "source": [
    "Now we can set up a solver to check the telescoping property:"
   ]
  },
  {
   "cell_type": "code",
   "execution_count": 18,
   "id": "a26dc779",
   "metadata": {},
   "outputs": [
    {
     "data": {
      "text/html": [
       "<b>unsat</b>"
      ],
      "text/plain": [
       "unsat"
      ]
     },
     "execution_count": 18,
     "metadata": {},
     "output_type": "execute_result"
    }
   ],
   "source": [
    "s = Solver()\n",
    "s.add(dx > 0, dt > 0, kappa > 0)  # Preconditions:physical constraints\n",
    "s.add(divergence(c, f, dx))       # code: divergence\n",
    "s.add(Not(telescoping(c, f, dx))) # Postcondition: telescoping property\n",
    "s.check()"
   ]
  },
  {
   "cell_type": "markdown",
   "id": "14995ad8",
   "metadata": {},
   "source": [
    "The Z3 solver confirms `unsat`: there are no inputs that violate the telescoping property, so it holds universally for all valid inputs where N=3. Let's attempt to increase N and see how far we can go before Z3 struggles."
   ]
  },
  {
   "cell_type": "code",
   "execution_count": 19,
   "id": "5614683f",
   "metadata": {},
   "outputs": [],
   "source": [
    "def check_telescoping(N):\n",
    "    dx = Real('dx')\n",
    "    f = [Real(f'f{i}') for i in range(N+1)]\n",
    "    c = [Real(f'c{i}') for i in range(N)]\n",
    "\n",
    "    s = Solver()\n",
    "    s.add(dx > 0)                    # Preconditions: physical constraints\n",
    "    s.add(divergence(c, f, dx))      # code: divergence\n",
    "    s.add(Not(telescoping(c, f, dx)))# Postcondition: telescoping property\n",
    "    return s.check()"
   ]
  },
  {
   "cell_type": "code",
   "execution_count": 20,
   "id": "2ef26ab3",
   "metadata": {},
   "outputs": [
    {
     "name": "stdout",
     "output_type": "stream",
     "text": [
      "i=3, result=unsat, time=0.007177114486694336\n",
      "i=6, result=unsat, time=0.009918928146362305\n",
      "i=12, result=unsat, time=0.012493133544921875\n",
      "i=24, result=unsat, time=0.021453857421875\n",
      "i=48, result=unsat, time=0.05335807800292969\n",
      "i=96, result=unsat, time=0.1689441204071045\n",
      "i=192, result=unsat, time=0.6895480155944824\n",
      "i=384, result=unsat, time=3.858509063720703\n"
     ]
    }
   ],
   "source": [
    "import time\n",
    "\n",
    "i = 3\n",
    "while True:\n",
    "    start_time = time.time()\n",
    "    result = check_telescoping(i)\n",
    "    elapsed_time = time.time() - start_time\n",
    "    print(f'i={i}, result={result}, time={elapsed_time}')\n",
    "    if elapsed_time > 2:  # Stop if it takes too long\n",
    "        break\n",
    "    i *= 2"
   ]
  },
  {
   "cell_type": "markdown",
   "id": "09a6adb0",
   "metadata": {},
   "source": [
    "### Core Procedures as Constraints\n",
    "\n",
    "Let's re-express all of the core procedures of the heat equation solver \n",
    "as **constraint generators**: functions that take Z3 variables and return Z3 constraints representing\n",
    "the original procedures' behavior."
   ]
  },
  {
   "cell_type": "code",
   "execution_count": 21,
   "id": "b1f0b798",
   "metadata": {},
   "outputs": [],
   "source": [
    "def apply_bc(f, bc):\n",
    "    \"\"\"Apply BCs by overriding first and last face quantities (f).\"\"\"\n",
    "    return [f[0] == bc[0], f[-1] == bc[1]]\n",
    "\n",
    "def diffusive_flux(f, c, kappa, dx):\n",
    "    \"\"\"Given a cell field (c), compute the diffusive flux (f).\"\"\"\n",
    "    N = len(c)\n",
    "    return [f[i] == -kappa * (c[i] - c[i-1]) / dx for i in range(1, N)]\n",
    "\n",
    "def divergence(c, f, dx):\n",
    "    \"\"\"Compute the divergence of face quantities (f) and store in (c).\"\"\"\n",
    "    N = len(c)\n",
    "    return [c[i] == (f[i] - f[i+1]) / dx for i in range(N)]\n",
    "\n",
    "def step_heat_eqn(u0, u1, dudt, dt):\n",
    "    \"\"\"Advance cell field u by one time step using explicit Euler method.\"\"\"\n",
    "    N = len(u0)\n",
    "    return [u1[i] == u0[i] + dt * dudt[i] for i in range(N)]"
   ]
  },
  {
   "cell_type": "markdown",
   "id": "9b928207",
   "metadata": {},
   "source": [
    "Having specified these core computations declaratively, now let's define the symbolic variables:"
   ]
  },
  {
   "cell_type": "code",
   "execution_count": 22,
   "id": "1d373dde",
   "metadata": {},
   "outputs": [],
   "source": [
    "# Mesh size\n",
    "N = 3\n",
    "\n",
    "# Define the vectors\n",
    "u0 = [Real(f\"u0_{i}\") for i in range(N)]\n",
    "u = [Real(f\"u_{i}\") for i in range(N)]\n",
    "d = [Real(f\"d{i}\") for i in range(N)]\n",
    "F = [Real(f\"F{i}\") for i in range(N+1)]\n",
    "\n",
    "# Define the parameters\n",
    "dx, dt, kappa = Reals(\"dx dt kappa\")\n",
    "\n",
    "# Boundary conditions\n",
    "bc = Reals(\"bc0 bc1\")"
   ]
  },
  {
   "cell_type": "markdown",
   "id": "80abbf71",
   "metadata": {},
   "source": [
    "We are now ready to state and prove properties about our heat equation solver."
   ]
  },
  {
   "cell_type": "markdown",
   "id": "666cff83",
   "metadata": {},
   "source": [
    "### Proving the Positivity Property\n",
    "\n",
    "We expect that, given a non-negative initial temperature distribution and non-negative boundary conditions, the temperature remains non-negative after one time step. Below is an expression of this property in Z3:"
   ]
  },
  {
   "cell_type": "code",
   "execution_count": 23,
   "id": "81f9f83d",
   "metadata": {},
   "outputs": [],
   "source": [
    "def positive_property(c):\n",
    "    \"\"\"All cell values are non-negative.\"\"\"\n",
    "    N = len(c)\n",
    "    return And([c[i] >= 0 for i in range(N)])"
   ]
  },
  {
   "cell_type": "code",
   "execution_count": 24,
   "id": "52b693f7",
   "metadata": {},
   "outputs": [
    {
     "data": {
      "text/html": [
       "<b>sat</b>"
      ],
      "text/plain": [
       "sat"
      ]
     },
     "execution_count": 24,
     "metadata": {},
     "output_type": "execute_result"
    }
   ],
   "source": [
    "s = Solver()\n",
    "\n",
    "# Positive parameters\n",
    "s.add(dx > 0, dt > 0, kappa > 0)\n",
    "\n",
    "# Non-negative initial condition\n",
    "s.add([u0[i] >= 0 for i in range(N)])\n",
    "\n",
    "# Insulated boundaries (zero flux)\n",
    "s.add(apply_bc(F, bc=(0, 0)))\n",
    "\n",
    "# Constraints representing the computations\n",
    "s.add(diffusive_flux(F, u0, kappa, dx))\n",
    "s.add(divergence(d, F, dx))\n",
    "s.add(step_heat_eqn(u0, u, d, dt))\n",
    "\n",
    "# Ask for a violation of positivity in the new state\n",
    "s.add(Not(positive_property(u)))\n",
    "\n",
    "s.check()"
   ]
  },
  {
   "cell_type": "markdown",
   "id": "59b45b8a",
   "metadata": {},
   "source": [
    "The above check reports `sat`, meaning Z3 found a counterexample where the property does not hold. We can ask Z3 to show us the counterexample:"
   ]
  },
  {
   "cell_type": "code",
   "execution_count": 25,
   "id": "bdb0b106",
   "metadata": {},
   "outputs": [
    {
     "data": {
      "text/html": [
       "[F3 = 0,\n",
       " u_0 = 7/6,\n",
       " d0 = 1,\n",
       " u_2 = -1/6,\n",
       " u_1 = 1/2,\n",
       " u0_1 = 1/2,\n",
       " dt = 1,\n",
       " d1 = 0,\n",
       " dx = 1,\n",
       " F0 = 0,\n",
       " kappa = 3,\n",
       " u0_0 = 1/6,\n",
       " F2 = -1,\n",
       " u0_2 = 5/6,\n",
       " d2 = -1,\n",
       " F1 = -1,\n",
       " /0 = [(-1, 1) &rarr; -1, (1, 1) &rarr; 1, else &rarr; 0]]"
      ],
      "text/plain": [
       "[F3 = 0,\n",
       " u_0 = 7/6,\n",
       " d0 = 1,\n",
       " u_2 = -1/6,\n",
       " u_1 = 1/2,\n",
       " u0_1 = 1/2,\n",
       " dt = 1,\n",
       " d1 = 0,\n",
       " dx = 1,\n",
       " F0 = 0,\n",
       " kappa = 3,\n",
       " u0_0 = 1/6,\n",
       " F2 = -1,\n",
       " u0_2 = 5/6,\n",
       " d2 = -1,\n",
       " F1 = -1,\n",
       " /0 = [(-1, 1) -> -1, (1, 1) -> 1, else -> 0]]"
      ]
     },
     "execution_count": 25,
     "metadata": {},
     "output_type": "execute_result"
    }
   ],
   "source": [
    "s.model()"
   ]
  },
  {
   "cell_type": "markdown",
   "id": "ecb4d57f",
   "metadata": {},
   "source": [
    "Looking closely, we noticed that the timestep `dt` seems too large (1 sec) relative to the spatial discretization `dx`(1 m) and the diffusivity `kappa` (3). To print out the individual values, we can inspect the model"
   ]
  },
  {
   "cell_type": "code",
   "execution_count": 26,
   "id": "db188b7f",
   "metadata": {},
   "outputs": [
    {
     "data": {
      "text/plain": [
       "(1, 1, 3)"
      ]
     },
     "execution_count": 26,
     "metadata": {},
     "output_type": "execute_result"
    }
   ],
   "source": [
    "m = s.model()\n",
    "m[dt], m[dx], m[kappa]"
   ]
  },
  {
   "cell_type": "markdown",
   "id": "9d9cf2b6",
   "metadata": {},
   "source": [
    "To ensure stability, we need to add a constraint on `dt` (the stability condition for the explicit scheme):"
   ]
  },
  {
   "cell_type": "code",
   "execution_count": 27,
   "id": "3bfe0afb",
   "metadata": {},
   "outputs": [],
   "source": [
    "s.add(dt <= dx * dx / (2 * kappa))"
   ]
  },
  {
   "cell_type": "code",
   "execution_count": 28,
   "id": "046a294a",
   "metadata": {},
   "outputs": [
    {
     "data": {
      "text/html": [
       "<b>unsat</b>"
      ],
      "text/plain": [
       "unsat"
      ]
     },
     "execution_count": 28,
     "metadata": {},
     "output_type": "execute_result"
    }
   ],
   "source": [
    "s.check()"
   ]
  },
  {
   "cell_type": "markdown",
   "id": "f951c825",
   "metadata": {},
   "source": [
    "The solver now reports `unsat`: there are no inputs that violate the positivity property under the added stability condition."
   ]
  },
  {
   "cell_type": "markdown",
   "id": "28b175a4",
   "metadata": {},
   "source": [
    "### Conservation Property\n",
    "\n",
    "Conservation follows from the telescoping property of divergence and explicit time stepping. We expect that the total heat (sum of temperatures) remains constant after one time step, given isolated boundary conditions (zero flux at boundaries)."
   ]
  },
  {
   "cell_type": "code",
   "execution_count": 29,
   "id": "a638aa55",
   "metadata": {},
   "outputs": [],
   "source": [
    "def conservation(u0, u, dx, dt, F):\n",
    "    \n",
    "    lhs = (sum(u) - sum(u0)) * dx\n",
    "    rhs = dt * (F[0] - F[-1])\n",
    "    return lhs == rhs"
   ]
  },
  {
   "cell_type": "code",
   "execution_count": 30,
   "id": "5605290a",
   "metadata": {},
   "outputs": [
    {
     "data": {
      "text/html": [
       "<b>unsat</b>"
      ],
      "text/plain": [
       "unsat"
      ]
     },
     "execution_count": 30,
     "metadata": {},
     "output_type": "execute_result"
    }
   ],
   "source": [
    "s = Solver()\n",
    "\n",
    "# Positive parameters\n",
    "s.add(dx > 0, dt > 0, kappa > 0)\n",
    "\n",
    "# Stability condition\n",
    "s.add(dt <= dx * dx / (2 * kappa))\n",
    "\n",
    "# Non-negative initial condition\n",
    "s.add([u0[i] >= 0 for i in range(N)])\n",
    "\n",
    "# Insulated BCs\n",
    "s.add(apply_bc(F, bc=(0, 0)))\n",
    "\n",
    "# Constraints representing the computations\n",
    "s.add(diffusive_flux(F, u0, kappa, dx))\n",
    "s.add(divergence(d, F, dx))\n",
    "s.add(step_heat_eqn(u0, u, d, dt))\n",
    "\n",
    "# Ask for a violation of positivity in the new state\n",
    "s.add(Not(conservation(u0, u, dx, dt, F)))\n",
    "\n",
    "s.check()"
   ]
  },
  {
   "cell_type": "markdown",
   "id": "01bcd543",
   "metadata": {},
   "source": [
    "The `unsat` result confirms that the conservation property holds."
   ]
  },
  {
   "cell_type": "markdown",
   "id": "9fdbbe51",
   "metadata": {},
   "source": [
    "### More Properties\n",
    "\n",
    "[TODO: add more property checks ...]"
   ]
  },
  {
   "cell_type": "markdown",
   "id": "acdfacd2",
   "metadata": {},
   "source": [
    "\n",
    "## What we just did\n",
    "\n",
    "We re-expressed the solver’s core procedures as constraint generators and used Z3 to:\n",
    "\n",
    " - Prove universal identities (telescoping, conservation).\n",
    " - Find counterexamples when preconditions are missing (positivity).\n",
    " - Confirm fixes by adding the right guards (stability)\n",
    "\n",
    "This completes the ladder:\n",
    "\n",
    " - Ch.1: working baseline (code & fix)\n",
    " - Ch.2: abstractions & specs\n",
    " - Ch.3: unit tests\n",
    " - Ch.4: property-based tests\n",
    " - Ch.5: theorem proving\n",
    "\n",
    "In practice, you’d mix these: run unit/property tests in CI, and apply theorem proving judiciously on small kernels where stronger guarantees pay off. Together, they move scientific software toward explicit reasoning and trustworthy results, without heavy ceremony."
   ]
  }
 ],
 "metadata": {
  "kernelspec": {
   "display_name": "r3sw",
   "language": "python",
   "name": "python3"
  },
  "language_info": {
   "codemirror_mode": {
    "name": "ipython",
    "version": 3
   },
   "file_extension": ".py",
   "mimetype": "text/x-python",
   "name": "python",
   "nbconvert_exporter": "python",
   "pygments_lexer": "ipython3",
   "version": "3.12.11"
  }
 },
 "nbformat": 4,
 "nbformat_minor": 5
}
