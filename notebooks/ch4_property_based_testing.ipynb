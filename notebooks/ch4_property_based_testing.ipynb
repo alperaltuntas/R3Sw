{
 "cells": [
  {
   "cell_type": "markdown",
   "id": "7dcc98b8",
   "metadata": {},
   "source": [
    "# Chapter 4: Property-Based Testing - From Examples to Hypotheses\n",
    "\n",
    "In Chapters 1–3, we moved from a quick, monolithic solver to a modular design with unit tests.\n",
    "Unit tests gave us confidence, but only for cases that we handpicked.\n",
    "\n",
    "Now, we’ll take the next step by introducing property-based testing via the Hypothesis\n",
    "library:\n",
    "\n",
    " - Instead of manually writing individual test cases, we’ll state general properties such as conservation, symmetry, maximum principle intuition, or linearity.\n",
    " - Hypothesis will generate many random inputs automatically, exploring cases we might never think to test.\n",
    " - When a property fails, Hypothesis will shrink the failing case to the simplest possible counterexample, the testing equivalent of a controlled scientific experiment.\n",
    "\n",
    "## What is a \"property\"?\n",
    "\n",
    "A property is a statement about your program that you expect to hold for all valid inputs.\n",
    "It’s a general rule, not just a single example.\n",
    "\n",
    "For our 1-D heat equation solver, some key properties might include:\n",
    "\n",
    "- **Conservation under insulated BCs:** total heat stays constant.\n",
    "- **Boundary work balance:** with fixed flux BCs, the heat change matches net boundary flux over Δt.\n",
    "- **Symmetry:** symmetric initial states stay symmetric under symmetric BCs.\n",
    "- **Max Principle:** Diffusion shouldn’t create new temperature extremes, as long as the scheme is stable.\n",
    "- **Linearity:** The discrete update should scale linearly with the initial temperature distribution.\n",
    "\n",
    "## Unit tests vs. property-based tests:\n",
    " - Unit tests: \"for this input, expect this output\"\n",
    " - Property tests: \"for all inputs satisfying these preconditions, this relation should hold\"\n",
    "\n",
    "Property tests complement unit tests:\n",
    " - Unit tests are concrete and focused.\n",
    " - Property tests are broader and can reveal edge cases you never anticipated.\n",
    "\n",
    "## How this relates to Chapter 2\n",
    "\n",
    "In Chapter 2, we introduced preconditions, postconditions, and invariants as lightweight specifications for our solver.\n",
    "\n",
    "Property-based testing is a natural extension of these ideas:\n",
    "\n",
    " - The precondition {P} now defines the input space that Hypothesis will explore.\n",
    " - The postcondition {Q} or invariant becomes the property being checked.\n",
    " - When a test fails, Hypothesis provides a counterexample, helping you determine whether:\n",
    "   - The precondition was too weak (i.e., it allowed invalid inputs).\n",
    "   - The postcondition was too strong (i.e., it ruled out valid outputs).\n",
    "   - There’s a bug in the implementation.\n",
    "\n",
    "Think of this as turning your Chapter 2 contracts into scientific hypotheses:\n",
    "\n",
    " - “If the precondition holds, the property should always be true.”\n",
    "\n",
    "Hypothesis plays the role of the experimenter, probing your code with many randomized “experiments” to try and refute your claim."
   ]
  },
  {
   "cell_type": "markdown",
   "id": "626a3117",
   "metadata": {},
   "source": [
    "## The `Hypothesis` library\n",
    "\n",
    "Hypothesis is a Python library for property-based testing.\n",
    "Instead of handpicking test cases, you describe the space of valid inputs, and Hypothesis generates random examples within that space.\n",
    "\n",
    "If a failure is found, Hypothesis automatically shrinks the input to the simplest version that still causes the failure. This helps you debug by giving a clear, minimal failing example.\n",
    "\n",
    "Let's revisit our `div` function from the previous chapters."
   ]
  },
  {
   "cell_type": "code",
   "execution_count": 9,
   "id": "4a866a31",
   "metadata": {},
   "outputs": [],
   "source": [
    "def div(x, y):\n",
    "    assert y != 0           # P    (precondition)\n",
    "    res = x / y             # code (implementation)\n",
    "    assert res * y == x     # Q    (postcondition)\n",
    "    return res"
   ]
  },
  {
   "cell_type": "markdown",
   "id": "4ee3a93a",
   "metadata": {},
   "source": [
    "In Chapter 3, we tested this manually:"
   ]
  },
  {
   "cell_type": "code",
   "execution_count": 10,
   "id": "761d59be",
   "metadata": {},
   "outputs": [
    {
     "ename": "AssertionError",
     "evalue": "",
     "output_type": "error",
     "traceback": [
      "\u001b[31m---------------------------------------------------------------------------\u001b[39m",
      "\u001b[31mAssertionError\u001b[39m                            Traceback (most recent call last)",
      "\u001b[36mCell\u001b[39m\u001b[36m \u001b[39m\u001b[32mIn[10]\u001b[39m\u001b[32m, line 4\u001b[39m\n\u001b[32m      1\u001b[39m \u001b[38;5;28;01mdef\u001b[39;00m\u001b[38;5;250m \u001b[39m\u001b[34mtest_division\u001b[39m():\n\u001b[32m      2\u001b[39m     div(\u001b[32m7\u001b[39m, \u001b[32m25\u001b[39m)\n\u001b[32m----> \u001b[39m\u001b[32m4\u001b[39m \u001b[43mtest_division\u001b[49m\u001b[43m(\u001b[49m\u001b[43m)\u001b[49m\n",
      "\u001b[36mCell\u001b[39m\u001b[36m \u001b[39m\u001b[32mIn[10]\u001b[39m\u001b[32m, line 2\u001b[39m, in \u001b[36mtest_division\u001b[39m\u001b[34m()\u001b[39m\n\u001b[32m      1\u001b[39m \u001b[38;5;28;01mdef\u001b[39;00m\u001b[38;5;250m \u001b[39m\u001b[34mtest_division\u001b[39m():\n\u001b[32m----> \u001b[39m\u001b[32m2\u001b[39m     \u001b[43mdiv\u001b[49m\u001b[43m(\u001b[49m\u001b[32;43m7\u001b[39;49m\u001b[43m,\u001b[49m\u001b[43m \u001b[49m\u001b[32;43m25\u001b[39;49m\u001b[43m)\u001b[49m\n",
      "\u001b[36mCell\u001b[39m\u001b[36m \u001b[39m\u001b[32mIn[9]\u001b[39m\u001b[32m, line 4\u001b[39m, in \u001b[36mdiv\u001b[39m\u001b[34m(x, y)\u001b[39m\n\u001b[32m      2\u001b[39m \u001b[38;5;28;01massert\u001b[39;00m y != \u001b[32m0\u001b[39m           \u001b[38;5;66;03m# P    (precondition)\u001b[39;00m\n\u001b[32m      3\u001b[39m res = x / y             \u001b[38;5;66;03m# code (implementation)\u001b[39;00m\n\u001b[32m----> \u001b[39m\u001b[32m4\u001b[39m \u001b[38;5;28;01massert\u001b[39;00m res * y == x     \u001b[38;5;66;03m# Q    (postcondition)\u001b[39;00m\n\u001b[32m      5\u001b[39m \u001b[38;5;28;01mreturn\u001b[39;00m res\n",
      "\u001b[31mAssertionError\u001b[39m: "
     ]
    }
   ],
   "source": [
    "def test_division():\n",
    "    div(7, 25)\n",
    "\n",
    "test_division()"
   ]
  },
  {
   "cell_type": "markdown",
   "id": "866f70a0",
   "metadata": {},
   "source": [
    "Running this fails because 7 / 25 cannot be represented exactly in floating point.\n",
    "But notice: we only found this case because we happened to test exactly this input.\n",
    "If we had tested other pairs like the ones listed in the below cell, the test\n",
    "might have passed, which would leave us unaware of the issue."
   ]
  },
  {
   "cell_type": "code",
   "execution_count": 14,
   "id": "04ac698b",
   "metadata": {},
   "outputs": [
    {
     "name": "stdout",
     "output_type": "stream",
     "text": [
      "No assertion violations encountered!\n"
     ]
    }
   ],
   "source": [
    "def test_more_divisions():\n",
    "    div(7, 26)\n",
    "    div(7, 24)\n",
    "    div(7, 23)\n",
    "    div(6, 1)\n",
    "    div(2, 4)\n",
    "    div(0, 1)\n",
    "    div(46, 7)\n",
    "    div(7657, 26)\n",
    "    div(1, 3)\n",
    "    div (23, 23424)\n",
    "    div(1000, 3)\n",
    "    div(123,456)\n",
    "    print(\"No assertion violations encountered!\")\n",
    "\n",
    "test_more_divisions()"
   ]
  },
  {
   "cell_type": "markdown",
   "id": "7224337c",
   "metadata": {},
   "source": [
    "### Hypothesis to the rescue\n",
    "\n",
    "Let's use Hypothesis to generate a wide range of test cases for our division function."
   ]
  },
  {
   "cell_type": "code",
   "execution_count": 4,
   "id": "58937fe4",
   "metadata": {},
   "outputs": [],
   "source": [
    "from hypothesis import assume, given, strategies as st\n",
    "\n",
    "@given(st.integers(), st.integers())\n",
    "def test_div_property(x, y):\n",
    "    assume(y != 0)\n",
    "    div(x, y)"
   ]
  },
  {
   "cell_type": "markdown",
   "id": "70cffa55",
   "metadata": {},
   "source": [
    "The above test definition highlights the key components of property-based testing with Hypothesis:\n",
    "\n",
    "1. The @given decorator\n",
    "  - This is the main entry point for defining a property-based test.\n",
    "  - It takes zero or more strategies as arguments, which describe how Hypothesis should generate input data for the test.\n",
    "\n",
    "2. Strategies\n",
    "  - Strategies define the space of possible inputs.\n",
    "  - In our example, we used st.integers() to generate random integers for both x and y.\n",
    "\n",
    "We also used the assume function to enforce our precondition {P}.\n",
    "Here, the precondition is that y != 0 to avoid division by zero. Adding `assume(y != 0)` ensures that we only test valid inputs.\n",
    "\n",
    "With these pieces in place, we can now run the property-based test and let Hypothesis explore a wide range of inputs automatically:"
   ]
  },
  {
   "cell_type": "code",
   "execution_count": 5,
   "id": "cc1f067b",
   "metadata": {},
   "outputs": [
    {
     "ename": "AssertionError",
     "evalue": "",
     "output_type": "error",
     "traceback": [
      "\u001b[31m---------------------------------------------------------------------------\u001b[39m",
      "\u001b[31mAssertionError\u001b[39m                            Traceback (most recent call last)",
      "\u001b[36mCell\u001b[39m\u001b[36m \u001b[39m\u001b[32mIn[5]\u001b[39m\u001b[32m, line 1\u001b[39m\n\u001b[32m----> \u001b[39m\u001b[32m1\u001b[39m \u001b[43mtest_div_property\u001b[49m\u001b[43m(\u001b[49m\u001b[43m)\u001b[49m\n",
      "\u001b[36mCell\u001b[39m\u001b[36m \u001b[39m\u001b[32mIn[4]\u001b[39m\u001b[32m, line 4\u001b[39m, in \u001b[36mtest_div_property\u001b[39m\u001b[34m()\u001b[39m\n\u001b[32m      1\u001b[39m \u001b[38;5;28;01mfrom\u001b[39;00m\u001b[38;5;250m \u001b[39m\u001b[34;01mhypothesis\u001b[39;00m\u001b[38;5;250m \u001b[39m\u001b[38;5;28;01mimport\u001b[39;00m assume, given, strategies \u001b[38;5;28;01mas\u001b[39;00m st\n\u001b[32m      3\u001b[39m \u001b[38;5;129m@given\u001b[39m(st.integers(), st.integers())\n\u001b[32m----> \u001b[39m\u001b[32m4\u001b[39m \u001b[38;5;28;01mdef\u001b[39;00m\u001b[38;5;250m \u001b[39m\u001b[34mtest_div_property\u001b[39m(x, y):\n\u001b[32m      5\u001b[39m     assume(y != \u001b[32m0\u001b[39m)\n\u001b[32m      6\u001b[39m     div(x, y)\n",
      "    \u001b[31m[... skipping hidden 1 frame]\u001b[39m\n",
      "\u001b[36mCell\u001b[39m\u001b[36m \u001b[39m\u001b[32mIn[4]\u001b[39m\u001b[32m, line 6\u001b[39m, in \u001b[36mtest_div_property\u001b[39m\u001b[34m(x, y)\u001b[39m\n\u001b[32m      3\u001b[39m \u001b[38;5;129m@given\u001b[39m(st.integers(), st.integers())\n\u001b[32m      4\u001b[39m \u001b[38;5;28;01mdef\u001b[39;00m\u001b[38;5;250m \u001b[39m\u001b[34mtest_div_property\u001b[39m(x, y):\n\u001b[32m      5\u001b[39m     assume(y != \u001b[32m0\u001b[39m)\n\u001b[32m----> \u001b[39m\u001b[32m6\u001b[39m     \u001b[43mdiv\u001b[49m\u001b[43m(\u001b[49m\u001b[43mx\u001b[49m\u001b[43m,\u001b[49m\u001b[43m \u001b[49m\u001b[43my\u001b[49m\u001b[43m)\u001b[49m\n",
      "\u001b[36mCell\u001b[39m\u001b[36m \u001b[39m\u001b[32mIn[1]\u001b[39m\u001b[32m, line 4\u001b[39m, in \u001b[36mdiv\u001b[39m\u001b[34m(x, y)\u001b[39m\n\u001b[32m      2\u001b[39m \u001b[38;5;28;01massert\u001b[39;00m y != \u001b[32m0\u001b[39m           \u001b[38;5;66;03m# P    (precondition)\u001b[39;00m\n\u001b[32m      3\u001b[39m res = x / y             \u001b[38;5;66;03m# code (implementation)\u001b[39;00m\n\u001b[32m----> \u001b[39m\u001b[32m4\u001b[39m \u001b[38;5;28;01massert\u001b[39;00m res * y == x     \u001b[38;5;66;03m# Q    (postcondition)\u001b[39;00m\n\u001b[32m      5\u001b[39m \u001b[38;5;28;01mreturn\u001b[39;00m res\n",
      "\u001b[31mAssertionError\u001b[39m: ",
      "Falsifying example: test_div_property(\n    x=1,\n    y=389,\n)"
     ]
    }
   ],
   "source": [
    "test_div_property()"
   ]
  },
  {
   "cell_type": "markdown",
   "id": "d4d5c4f9",
   "metadata": {},
   "source": [
    "Running the above property-based test should reveal a pair of integers (x, y) that violate the division property. Recall, the inputs are generated randomly, so you might see different failing cases each time you run the test. \n",
    "\n",
    "### Shrinking\n",
    "\n",
    "Hypothesis automatically *shrinks* the input, step by step, until it finds the simplest failing \n",
    "example. This makes debugging much easier, since you don’t need to wade through massive random inputs.\n",
    "\n",
    "### Combining strategies\n",
    "\n",
    "In the above example, we only tested integer division. However, we can also test floating-point division by using the `st.floats()` strategy from Hypothesis. Better yet, we can combine both strategies to test the `div` function with a wider range of inputs:"
   ]
  },
  {
   "cell_type": "code",
   "execution_count": 73,
   "id": "6edb2b41",
   "metadata": {},
   "outputs": [],
   "source": [
    "from hypothesis import assume, given, strategies as st\n",
    "\n",
    "# Combine integers and floats into a single strategy:\n",
    "numbers = st.one_of(st.integers(), st.floats(allow_nan=False, allow_infinity=False))\n",
    "\n",
    "@given(numbers, numbers)\n",
    "def test_div_property(x, y):\n",
    "    assume(y != 0)\n",
    "    div(x, y)"
   ]
  },
  {
   "cell_type": "code",
   "execution_count": 74,
   "id": "b7f57e2e",
   "metadata": {},
   "outputs": [
    {
     "ename": "AssertionError",
     "evalue": "",
     "output_type": "error",
     "traceback": [
      "\u001b[31m---------------------------------------------------------------------------\u001b[39m",
      "\u001b[31mAssertionError\u001b[39m                            Traceback (most recent call last)",
      "\u001b[36mCell\u001b[39m\u001b[36m \u001b[39m\u001b[32mIn[74]\u001b[39m\u001b[32m, line 1\u001b[39m\n\u001b[32m----> \u001b[39m\u001b[32m1\u001b[39m \u001b[43mtest_div_property\u001b[49m\u001b[43m(\u001b[49m\u001b[43m)\u001b[49m\n",
      "\u001b[36mCell\u001b[39m\u001b[36m \u001b[39m\u001b[32mIn[73]\u001b[39m\u001b[32m, line 7\u001b[39m, in \u001b[36mtest_div_property\u001b[39m\u001b[34m()\u001b[39m\n\u001b[32m      3\u001b[39m \u001b[38;5;66;03m# Combine integers and floats into a single strategy:\u001b[39;00m\n\u001b[32m      4\u001b[39m numbers = st.one_of(st.integers(), st.floats(allow_nan=\u001b[38;5;28;01mFalse\u001b[39;00m, allow_infinity=\u001b[38;5;28;01mFalse\u001b[39;00m))\n\u001b[32m      6\u001b[39m \u001b[38;5;129m@given\u001b[39m(numbers, numbers)\n\u001b[32m----> \u001b[39m\u001b[32m7\u001b[39m \u001b[38;5;28;01mdef\u001b[39;00m\u001b[38;5;250m \u001b[39m\u001b[34mtest_div_property\u001b[39m(x, y):\n\u001b[32m      8\u001b[39m     assume(y != \u001b[32m0\u001b[39m)\n\u001b[32m      9\u001b[39m     div(x, y)\n",
      "    \u001b[31m[... skipping hidden 1 frame]\u001b[39m\n",
      "\u001b[36mCell\u001b[39m\u001b[36m \u001b[39m\u001b[32mIn[73]\u001b[39m\u001b[32m, line 9\u001b[39m, in \u001b[36mtest_div_property\u001b[39m\u001b[34m(x, y)\u001b[39m\n\u001b[32m      6\u001b[39m \u001b[38;5;129m@given\u001b[39m(numbers, numbers)\n\u001b[32m      7\u001b[39m \u001b[38;5;28;01mdef\u001b[39;00m\u001b[38;5;250m \u001b[39m\u001b[34mtest_div_property\u001b[39m(x, y):\n\u001b[32m      8\u001b[39m     assume(y != \u001b[32m0\u001b[39m)\n\u001b[32m----> \u001b[39m\u001b[32m9\u001b[39m     \u001b[43mdiv\u001b[49m\u001b[43m(\u001b[49m\u001b[43mx\u001b[49m\u001b[43m,\u001b[49m\u001b[43m \u001b[49m\u001b[43my\u001b[49m\u001b[43m)\u001b[49m\n",
      "\u001b[36mCell\u001b[39m\u001b[36m \u001b[39m\u001b[32mIn[9]\u001b[39m\u001b[32m, line 4\u001b[39m, in \u001b[36mdiv\u001b[39m\u001b[34m(x, y)\u001b[39m\n\u001b[32m      2\u001b[39m \u001b[38;5;28;01massert\u001b[39;00m y != \u001b[32m0\u001b[39m           \u001b[38;5;66;03m# P    (precondition)\u001b[39;00m\n\u001b[32m      3\u001b[39m res = x / y             \u001b[38;5;66;03m# code (implementation)\u001b[39;00m\n\u001b[32m----> \u001b[39m\u001b[32m4\u001b[39m \u001b[38;5;28;01massert\u001b[39;00m res * y == x     \u001b[38;5;66;03m# Q    (postcondition)\u001b[39;00m\n\u001b[32m      5\u001b[39m \u001b[38;5;28;01mreturn\u001b[39;00m res\n",
      "\u001b[31mAssertionError\u001b[39m: ",
      "Falsifying example: test_div_property(\n    x=1.0,\n    y=103,\n)"
     ]
    }
   ],
   "source": [
    "test_div_property()"
   ]
  },
  {
   "cell_type": "markdown",
   "id": "217ff1cb",
   "metadata": {},
   "source": [
    "### Controlling how many examples are generated\n",
    "\n",
    "By default, `hypothesis` generates 100 random input values. You can control this with the @settings decorator:"
   ]
  },
  {
   "cell_type": "code",
   "execution_count": 72,
   "id": "80b073a7",
   "metadata": {},
   "outputs": [
    {
     "name": "stdout",
     "output_type": "stream",
     "text": [
      "Test no. 1 with random input 0\n",
      "Test no. 2 with random input -8477684967185004649\n",
      "Test no. 3 with random input 6386\n",
      "Test no. 4 with random input -31712\n",
      "Test no. 5 with random input -17165\n",
      "Test no. 6 with random input 4\n",
      "Test no. 7 with random input 114\n",
      "Test no. 8 with random input -24931\n",
      "Test no. 9 with random input -1854951769\n",
      "Test no. 10 with random input -16623\n"
     ]
    }
   ],
   "source": [
    "from hypothesis import given, settings, strategies as st\n",
    "\n",
    "ctr = 0\n",
    "\n",
    "@settings(max_examples=10)\n",
    "@given(st.integers())\n",
    "def test_random(x):\n",
    "    global ctr; ctr += 1\n",
    "    print(f\"Test no. {ctr} with random input {x}\")\n",
    "\n",
    "test_random()"
   ]
  },
  {
   "cell_type": "markdown",
   "id": "9ac273db",
   "metadata": {},
   "source": [
    "In the above cell, we reduced `max_examples` from the default 100 to 10. In practice, one\n",
    "should consider increasing the `max_examples` parameter based on the complexity of the property being tested, particularly in the absence of failing cases when no counterexamples are found."
   ]
  },
  {
   "cell_type": "markdown",
   "id": "f3eeed2d",
   "metadata": {},
   "source": [
    "## What we just did\n",
    "\n",
    "...\n",
    "\n",
    "\n",
    "## Looking Ahead\n"
   ]
  },
  {
   "cell_type": "markdown",
   "id": "526aa89f",
   "metadata": {},
   "source": [
    "---\n",
    "\n",
    "*This notebook is a part of the \"Rigor and Reasoning in Research Software\" (R3Sw) tutorial, led by Alper Altuntas and sponsored by the Better Scientific Software (BSSw) Fellowship Program. Copyright © 2025*"
   ]
  }
 ],
 "metadata": {
  "kernelspec": {
   "display_name": "r3sw",
   "language": "python",
   "name": "python3"
  },
  "language_info": {
   "codemirror_mode": {
    "name": "ipython",
    "version": 3
   },
   "file_extension": ".py",
   "mimetype": "text/x-python",
   "name": "python",
   "nbconvert_exporter": "python",
   "pygments_lexer": "ipython3",
   "version": "3.12.11"
  }
 },
 "nbformat": 4,
 "nbformat_minor": 5
}
