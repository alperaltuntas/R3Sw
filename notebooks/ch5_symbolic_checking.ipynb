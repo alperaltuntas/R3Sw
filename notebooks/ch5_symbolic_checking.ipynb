{
 "cells": [
  {
   "cell_type": "markdown",
   "id": "5e2b7254",
   "metadata": {},
   "source": [
    "# Ch. 5: Symbolic Checking - Beyond Testing\n",
    "\n",
    "Unit tests (Ch.3) and property-based tests (Ch.4) give high confidence, but they still sample the input space. In this chapter we climb the next rung on the “ladder of rigor”: **symbolic/bounded checking.** We’ll:\n",
    "\n",
    " - Encode **contracts** (preconditions, postconditions, invariants) as executable checks.\n",
    " - Use **bounded checking** to exhaustively explore small input domains.\n",
    " - Use **CrossHair** to do symbolic execution on pure-Python functions and automatically find counterexamples (or prove safety within a bound).\n",
    "\n",
    "This isn’t full-blown theorem proving; it’s the pragmatic middle: fast feedback and stronger guarantees for core routines."
   ]
  },
  {
   "cell_type": "markdown",
   "id": "624d0b27",
   "metadata": {},
   "source": [
    "[TODO]\n",
    "\n",
    "> Testing can be used to show the presence of bugs, but never to show their absence. - Edsger W. Dijkstra\n",
    "\n",
    "[TODO]\n",
    "\n",
    "**Small Scope Hypothesis:** A high proportion of bugs can be found by testing a program for all test inputs within some small scope.\n",
    "[todo: add the coverage graph]\n"
   ]
  },
  {
   "cell_type": "markdown",
   "id": "755e42af",
   "metadata": {},
   "source": [
    "## CrossHair\n",
    "\n",
    "CrossHair tries to prove or refute your `assert`s by exploring the possible execution paths of your code with a symbolic execution engine. It's perfect for small functions. Hence, another\n",
    "reason for having modular code with functions that have single responsibility and clear APIs.\n",
    "\n",
    "Just like the `pytest` framework, CrossHair is used as a command-line tool, so we'll mimic\n",
    "the workflow we adopted for `pytest`:\n",
    "\n",
    "1. Using the `%%writefile` magic command, we will save our test codes to Python files.\n",
    "2. We will then run the tests using the command line command `crosshair`. Recall, in Jupyter notebooks, we can run such shell commands by prefixing them with `!`."
   ]
  },
  {
   "cell_type": "code",
   "execution_count": 22,
   "id": "c98546b2",
   "metadata": {},
   "outputs": [
    {
     "name": "stdout",
     "output_type": "stream",
     "text": [
      "Overwriting check_div.py\n"
     ]
    }
   ],
   "source": [
    "%%writefile check_div.py\n",
    "\n",
    "def div(x: float, y: float) -> float:\n",
    "    assert y != 0           # P    (precondition)\n",
    "    res = x / y             # code (implementation)\n",
    "    assert res * y == x     # Q    (postcondition)\n",
    "    return res"
   ]
  },
  {
   "cell_type": "code",
   "execution_count": 23,
   "id": "02bdefd9",
   "metadata": {},
   "outputs": [
    {
     "name": "stdout",
     "output_type": "stream",
     "text": [
      "/Users/altuntas/r3sw/notebooks/check_div.py:5: error: AssertionError:  when calling div(0.0, float(\"inf\"))\n"
     ]
    }
   ],
   "source": [
    "!crosshair check --analysis_kind=asserts check_div.py"
   ]
  },
  {
   "cell_type": "markdown",
   "id": "f3a73fb6",
   "metadata": {},
   "source": [
    "Based on the counterexample returned by CrossHair, let's refine our precondition to include checks for infinity:"
   ]
  },
  {
   "cell_type": "code",
   "execution_count": 43,
   "id": "e9b57df9",
   "metadata": {},
   "outputs": [
    {
     "name": "stdout",
     "output_type": "stream",
     "text": [
      "Overwriting check_div.py\n"
     ]
    }
   ],
   "source": [
    "%%writefile check_div.py\n",
    "\n",
    "def div(x: float, y: float) -> float:\n",
    "    assert y != 0                       # P    (precondition)\n",
    "    assert float('inf') not in (x, y)   # P cont'd: check for infinity\n",
    "    res = x / y                         # code (implementation)\n",
    "    assert res * y == x                 # Q    (postcondition)\n",
    "    return res"
   ]
  },
  {
   "cell_type": "code",
   "execution_count": 44,
   "id": "7beb622a",
   "metadata": {},
   "outputs": [],
   "source": [
    "!crosshair check --analysis_kind=asserts check_div.py"
   ]
  },
  {
   "cell_type": "markdown",
   "id": "49f9d0c6",
   "metadata": {},
   "source": [
    "With this refined precondition, CrossHair no longer reports any counterexamples.\n",
    "But what about the edge cases we discovered earlier, such as the 7/25 scenario?\n",
    "CrossHair fails to detect these because, as a symbolic execution tool, it reasons primarily over real numbers, not actual floating-point values.\n",
    "\n",
    "This distinction matters. Real arithmetic is exact and free of rounding, while floating-point arithmetic introduces finite precision, rounding errors, and special values like NaN and inf.\n",
    "As a result, subtle bugs that arise from precision loss or rounding behavior, such as the slight inaccuracy of 7/25—can slip past CrossHair’s analysis.\n",
    "\n",
    "Even with this limitation, CrossHair remains a powerful tool for uncovering a wide range of other issues: missing or overly weak preconditions, invalid assumptions about inputs, computational bugs, and logical errors in algorithms.\n",
    "These are often the most challenging and costly bugs to identify through traditional testing alone.\n",
    "\n",
    "In fact, this limitation can also be seen as an opportunity. By reasoning in terms of real arithmetic, CrossHair allows us to abstract away from low-level floating-point inaccuracies and focus instead on the mathematical and computational correctness of our scientific applications.\n",
    "This higher-level perspective helps us verify the intended behavior of our algorithms and modeling machinery without getting bogged down by the intricacies of floating-point implementation details.\n",
    "\n",
    "Once the core logic is proven sound in this idealized setting, we can then address floating-point concerns separately by using complementary techniques like unit testing or \n",
    "property-based testing.\n",
    "\n",
    "In this way, CrossHair serves as a valuable partner: it ensures that our scientific software is conceptually correct, while leaving room for other tools and strategies to handle the unavoidable complexities of real-world floating-point computation."
   ]
  },
  {
   "cell_type": "markdown",
   "id": "6f3759ad",
   "metadata": {},
   "source": [
    "## Back to the 1-D Heat Equation Solver\n",
    "\n",
    "Now let's use CrossHair to test the core functions of our heat equation solver.\n",
    "\n",
    "[TODO}]\n",
    "\n",
    "...\n"
   ]
  },
  {
   "cell_type": "markdown",
   "id": "acdfacd2",
   "metadata": {},
   "source": [
    "\n",
    "## What we just did\n",
    "\n",
    " - We promoted core properties (telescoping, symmetry, linearity) into machine-checked contracts.\n",
    " - We combined two tactics:\n",
    "   - Bounded checking (exhaustive on tiny domains).\n",
    "   - Symbolic execution with CrossHair (auto-finds counterexamples).\n",
    " - This gives deeper, earlier confidence in the computational heart of the solver—before large simulations run.\n",
    "\n",
    "## Looking Ahead\n",
    "\n",
    "You now have the full ladder:\n",
    "\n",
    " - Ch.1: working baseline (code & fix)\n",
    " - Ch.2: specs & structure\n",
    " - Ch.3: unit tests\n",
    " - Ch.4: property-based tests\n",
    " - Ch.5: symbolic & bounded checking\n",
    "\n",
    "In practice, you’d mix these: unit/property tests run all the time including within automated CI/CD testing pipelines. Symbolic/bounded checks run on small kernels when stronger guarantees are warranted. Together, they shift scientific software toward explicit reasoning and trustworthy results, without heavy ceremony."
   ]
  },
  {
   "cell_type": "markdown",
   "id": "e89e409f",
   "metadata": {},
   "source": []
  }
 ],
 "metadata": {
  "kernelspec": {
   "display_name": "r3sw",
   "language": "python",
   "name": "python3"
  },
  "language_info": {
   "codemirror_mode": {
    "name": "ipython",
    "version": 3
   },
   "file_extension": ".py",
   "mimetype": "text/x-python",
   "name": "python",
   "nbconvert_exporter": "python",
   "pygments_lexer": "ipython3",
   "version": "3.12.11"
  }
 },
 "nbformat": 4,
 "nbformat_minor": 5
}
