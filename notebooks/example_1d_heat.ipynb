{
 "cells": [
  {
   "cell_type": "markdown",
   "id": "7dcc98b8",
   "metadata": {},
   "source": [
    "# Step-0 · Simulating 1-D Heat Diffusion (Warm-Up)\n",
    "\n",
    "Consider a 1-D insulated rod with no internal heat sources or sinks.\n",
    "The heat equation, a foundational PDE in physics and engineering, describes how heat diffuses along this rod:\n",
    "\n",
    "$$\\frac{\\partial u}{\\partial t} = \\kappa \\frac{\\partial^2 u}{\\partial x^2}$$\n",
    "\n",
    "where:\n",
    " -  $u(x,t)$ is the temperature at position $x$ and time $t$,\n",
    " - $\\kappa$ is the thermal diffusivity of the material [$m^2/s$].\n",
    "\n",
    "\n",
    "## Discretizing the Problem\n",
    "\n",
    "To solve this equation numerically, we use a finite-volume approach:\n",
    " - Divide the 1-D domain into $N$ cells of equal size $\\Delta x$.\n",
    " - Let $u_i(t)$ be the average temperature in the i-th cell.\n",
    "\n",
    "Each cell exchanges heat with its neighbors through fluxes at the cell interfaces.\n",
    "\n",
    "### Fourier's Law for Heat Flux\n",
    "\n",
    "For the heat equation, the flux at a cell interface is given by Fourier's law:\n",
    "\n",
    "$$F_{i+1/2} = -\\kappa \\frac{u_{i+1} - u_i}{\\Delta x}$$\n",
    "\n",
    "where\n",
    " - $F_{i+1/2}$ is the heat flux at the interface between cells i and i+1.\n",
    " - Positive $F$ is defined as flowing to the right.\n",
    "\n",
    "When storing fluxes in arrays:\n",
    " - We use the convention $F[i]$ to represent the flux at the interface between cells i-1 and i.\n",
    "\n",
    "At the outermost interfaces, we apply Neumann boundary conditions:\n",
    " - Prescribed heat fluxes at the boundaries ($q_L$ and $q_R$).\n",
    " - Setting $q_L$ = $q_R$ = 0.0 models an insulated rod (no heat leaving or entering the domain).\n",
    "\n",
    "### Explicit Euler Update\n",
    "\n",
    "The time evolution of each cell’s temperature is computed using the explicit Euler method:\n",
    "\n",
    "$$u_i^{n+1} = u_i^n + \\Delta t \\left( \\frac{F_{i-1/2} - F_{i+1/2}}{\\Delta x} \\right)$$\n",
    "\n",
    "where:\n",
    " - $u_i^n$ is the temperature in cell i at time step n,\n",
    " - $\\Delta t$ is the time step size,\n",
    " - $F_{i-1/2}$ and $F_{i+1/2}$ are the heat fluxes at the left and right interfaces of cell i, respectively.\n"
   ]
  },
  {
   "cell_type": "markdown",
   "id": "2d686011",
   "metadata": {},
   "source": [
    "### Exercise - Implement the timestepping routine\n",
    "\n",
    "Complete the following function that advances the temperature by nt steps\n",
    "using the formulas above. Keep it pure (do not mutate the input array). "
   ]
  },
  {
   "cell_type": "code",
   "execution_count": 7,
   "id": "ba28d733",
   "metadata": {},
   "outputs": [],
   "source": [
    "def solve_heat_eqn(u, kappa, dx, dt, qL, qR, nt):\n",
    "    \"\"\"Numerically solve the 1D heat equation.\n",
    "\n",
    "    Arguments\n",
    "    ---------\n",
    "    u : array,      The initial temperature distribution (C)\n",
    "    kappa : float,  The thermal diffusivity (m^2/s).\n",
    "    dx : float,     The spacing between grid points (m).\n",
    "    dt : float,     The time step size (s).\n",
    "    qL : float,     The heat flux at the left boundary (W/m^2).\n",
    "    qR : float,     The heat flux at the right boundary (W/m^2).\n",
    "    nt : int,       The number of time steps to simulate.\n",
    "\n",
    "    Returns\n",
    "    -------\n",
    "    array,          The updated temperature distribution.\n",
    "    \"\"\"\n",
    "\n",
    "    N = len(u)          # Number of grid points\n",
    "    F = [0.0] * (N+1)   # Fluxes at interfaces\n",
    "\n",
    "    for _ in range(nt):\n",
    "\n",
    "        # Boundary conditions\n",
    "        F[0] = qL\n",
    "        F[-1] = qR\n",
    "\n",
    "        # Fluxes at intermediate interfaces\n",
    "        for i in range(1, N):\n",
    "            pass # TODO: F[i]: ...\n",
    "\n",
    "        # Update the temperature distribution\n",
    "        for i in range(len(u)):\n",
    "            pass # TODO: u[i]: ...\n",
    "\n",
    "    return u"
   ]
  },
  {
   "cell_type": "markdown",
   "id": "f0510cd9",
   "metadata": {},
   "source": [
    "***Solution***\n",
    "\n",
    "Below collapsed cell includes a possible solution. Compare it with your own implementation. One possible source of inconsistency could be in the way the indexing for the fluxes and temperature are handled. Recall, the fluxes F are defined at the interfaces between the grid points, while the temperature u is defined at the grid points themselves.\n"
   ]
  },
  {
   "cell_type": "code",
   "execution_count": 8,
   "id": "74200ca3",
   "metadata": {},
   "outputs": [],
   "source": [
    "def solve_heat_eqn(u, kappa, dx, dt, qL, qR, nt):\n",
    "    \"\"\"Numerically solve the 1D heat equation.\n",
    "\n",
    "    Arguments\n",
    "    ---------\n",
    "    u : array,      The initial temperature distribution (C)\n",
    "    kappa : float,  The thermal diffusivity (m^2/s).\n",
    "    dx : float,     The spacing between grid points (m).\n",
    "    dt : float,     The time step size (s).\n",
    "    qL : float,     The heat flux at the left boundary (W/m^2).\n",
    "    qR : float,     The heat flux at the right boundary (W/m^2).\n",
    "    nt : int,       The number of time steps to simulate.\n",
    "\n",
    "    Returns\n",
    "    -------\n",
    "    array,          The updated temperature distribution.\n",
    "    \"\"\"\n",
    "\n",
    "    N = len(u)          # Number of grid points\n",
    "    F = [0.0] * (N+1)   # Fluxes at interfaces\n",
    "\n",
    "    for _ in range(nt):\n",
    "\n",
    "        # Boundary conditions\n",
    "        F[0] = qL\n",
    "        F[-1] = qR\n",
    "\n",
    "        # Fluxes at intermediate interfaces\n",
    "        for i in range(1, N):\n",
    "            F[i] = -kappa * (u[i] - u[i-1]) / dx\n",
    "\n",
    "        # Update the temperature distribution\n",
    "        for i in range(len(u)):\n",
    "            dudt = (F[i] - F[i+1]) / dx\n",
    "            u[i] += dt * dudt\n",
    "\n",
    "    return u"
   ]
  },
  {
   "cell_type": "markdown",
   "id": "aef7dc28",
   "metadata": {},
   "source": [
    "### Execute the function\n",
    "\n",
    "Now, let's try running this function for one timestep with the following input temperature distibution: [0.0, 100.0, 0.0]. The expected output is a new array representing the temperature distribution after one time step. One would expect the middle value, which is greater than its neighbors to decrease given the heat diffusion."
   ]
  },
  {
   "cell_type": "code",
   "execution_count": 9,
   "id": "10c5431b",
   "metadata": {},
   "outputs": [
    {
     "data": {
      "text/plain": [
       "[0.1, 99.8, 0.1]"
      ]
     },
     "execution_count": 9,
     "metadata": {},
     "output_type": "execute_result"
    }
   ],
   "source": [
    "solve_heat_eqn(\n",
    "    u = [0.0, 100.0, 0.0],\n",
    "    kappa = 0.1, # thermal diffusivity (m^2/s)\n",
    "    dx = 1.0,    # spatial step size (m)\n",
    "    dt = 0.01,    # time step size (s)\n",
    "    qL = 0.0,    # left boundary heat flux (W/m^2)\n",
    "    qR = 0.0,    # right boundary heat flux (W/m^2)\n",
    "    nt = 1\n",
    ")"
   ]
  },
  {
   "cell_type": "markdown",
   "id": "7b67bbe7",
   "metadata": {},
   "source": [
    "Now, let's re-run the function with longer time steps and see how the temperature distribution evolves."
   ]
  },
  {
   "cell_type": "code",
   "execution_count": 10,
   "id": "30df049d",
   "metadata": {},
   "outputs": [
    {
     "data": {
      "text/plain": [
       "[10.0, 80.0, 10.0]"
      ]
     },
     "execution_count": 10,
     "metadata": {},
     "output_type": "execute_result"
    }
   ],
   "source": [
    "solve_heat_eqn(\n",
    "    u = [0.0, 100.0, 0.0],\n",
    "    kappa = 0.1, # thermal diffusivity (m^2/s)\n",
    "    dx = 1.0,    # length of each spatial cell (m)\n",
    "    dt = 1.0,    # time step size (s)\n",
    "    qL = 0.0,    # left boundary heat flux (W/m^2)\n",
    "    qR = 0.0,    # right boundary heat flux (W/m^2)\n",
    "    nt = 1\n",
    ")"
   ]
  },
  {
   "cell_type": "markdown",
   "id": "1a60423e",
   "metadata": {},
   "source": [
    "As expected, the temperature drop is more pronounced with a larger time step. Now let's run the simulation for 1000 time steps instead of just 1."
   ]
  },
  {
   "cell_type": "code",
   "execution_count": 11,
   "id": "191e5193",
   "metadata": {},
   "outputs": [
    {
     "data": {
      "text/plain": [
       "[33.33333333333137, 33.333333333337265, 33.33333333333137]"
      ]
     },
     "execution_count": 11,
     "metadata": {},
     "output_type": "execute_result"
    }
   ],
   "source": [
    "solve_heat_eqn(\n",
    "    u = [0.0, 100.0, 0.0],\n",
    "    kappa = 0.1, # thermal diffusivity (m^2/s)\n",
    "    dx = 1.0,    # length of each spatial cell (m)\n",
    "    dt = 0.1,    # time step size (s)\n",
    "    qL = 0.0,    # left boundary heat flux (W/m^2)\n",
    "    qR = 0.0,    # right boundary heat flux (W/m^2)\n",
    "    nt = 1000\n",
    ")"
   ]
  },
  {
   "cell_type": "markdown",
   "id": "bf4eafcd",
   "metadata": {},
   "source": [
    "The result of the above function call should converge to the steady-state solution of the heat equation, i.e., the mean temperature of the three nodes [0.0, 100.0, 0.0], i.e., 33.33 °C everywhere."
   ]
  },
  {
   "cell_type": "markdown",
   "id": "f3eeed2d",
   "metadata": {},
   "source": [
    "## What we did\n",
    "\n",
    " - We implemented a simple function to simulate the 1-D heat equation\n",
    "   with Neumann (no-flux) boundary conditions.\n",
    "\n",
    " - Our approach was instinctive: get something working quickly to capture\n",
    "   the essential physics of the problem.\n",
    "\n",
    " - We didn’t explicitly think about the computational properties the code\n",
    "   should satisfy, how to structure it for clarity, or how to handle edge cases.\n",
    "\n",
    "- Any checks we made were after-the-fact sanity checks, \n",
    "  rather than planned from the start.\n",
    "\n",
    "This “code-and-fix” style is common in scientific computing. It works for prototyping\n",
    "but has serious drawbacks as complexity grows. Even in our small example, a single\n",
    "function mixes boundary conditions, flux computations, the update of the prognostic\n",
    "variable (temperature) and time stepping.\n",
    "\n",
    "In real models, similar routines can grow to hundreds or thousands of lines,\n",
    "becoming hard to understand, test, and maintain. Often, tests and reasoning\n",
    "about correctness only happen long after the code is written (if at all).\n",
    "\n",
    "\n",
    "## What We Can Do Better\n",
    "\n",
    " - Define desired behavior first: Think carefully about the properties\n",
    "   and invariants the code should satisfy before writing it.\n",
    "\n",
    " - Modularize: Break the implementation into smaller, reusable functions\n",
    "   with clear responsibilities.\n",
    "\n",
    " - Build in testing early: Write unit tests and sanity checks\n",
    "   alongside the code, not as an afterthought.\n",
    "\n",
    " - Reason systematically: Use logical reasoning to understand and\n",
    "   guarantee the behavior of our code, even for edge cases.\n",
    "\n",
    "\n",
    "In the remainder of this tutorial, we’ll refactor this initial prototype and explore strategies to make it more robust, testable, and trustworthy, ultimately gaining deeper confidence in both the code and the science it supports."
   ]
  },
  {
   "cell_type": "markdown",
   "id": "18f2d9bf",
   "metadata": {},
   "source": []
  }
 ],
 "metadata": {
  "kernelspec": {
   "display_name": "r3sw",
   "language": "python",
   "name": "python3"
  },
  "language_info": {
   "codemirror_mode": {
    "name": "ipython",
    "version": 3
   },
   "file_extension": ".py",
   "mimetype": "text/x-python",
   "name": "python",
   "nbconvert_exporter": "python",
   "pygments_lexer": "ipython3",
   "version": "3.12.11"
  }
 },
 "nbformat": 4,
 "nbformat_minor": 5
}
