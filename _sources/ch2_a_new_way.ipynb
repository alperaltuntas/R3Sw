{
 "cells": [
  {
   "cell_type": "markdown",
   "id": "ff51afe5",
   "metadata": {},
   "source": [
    "# Chapter 2: Reasoning About Code - A New Way\n",
    "\n",
    "In Chapter 1, we implemented a working 1-D heat equation solver.\n",
    "It runs, but it’s fragile, opaque, and hard to test or extend.\n",
    "\n",
    "In this chapter, we ask: can we design and reason about our code systematically, before we even run it?\n",
    "\n",
    "We’ll introduce preconditions, postconditions, and invariants (concepts borrowed from formal logic)\n",
    "and use them to refactor step by step into something more modular, testable, and robust.\n",
    "\n",
    "---\n",
    "\n",
    "### Goals\n",
    "\n",
    " - Identify preconditions, postconditions, and invariants for a scientific computing problem.\n",
    " - Apply stepwise refinement to improve a messy, monolithic implementation.\n",
    " - Separate concerns in your code: boundary conditions, flux computations, and updates.\n",
    " - Produce a modular version of the heat equation solver that sets the stage for unit and property-based testing.\n",
    "\n",
    "### Key Concepts\n",
    "\n",
    " - Abstraction: Viewing complex systems at a high-level, where irrelevant details are ignored.\n",
    " - Hoare Logic: reasoning about code with `{P} code {Q}` triples.\n",
    " - Stepwise refinement: incrementally developing code.\n",
    " - Invariants: conditions that must always hold true during program execution.\n",
    " - Separation of concerns: organizing code into clean, testable components.\n",
    "\n",
    "---"
   ]
  },
  {
   "cell_type": "markdown",
   "id": "9bb41fc5",
   "metadata": {},
   "source": [
    "\n",
    "## Why Reason About Code?\n",
    "\n",
    "Scientific software is both:\n",
    " - A *tool* that enables science,\n",
    " - A *research product* in its own right.\n",
    "\n",
    "As such, it warrants a similar rigor and reasoning as the science it enables. \n",
    "\n",
    "Toward the goal of understanding and improving our code, we can even take inspiration from the scientific method:\n",
    "\n",
    "- Form hypotheses -> attempt refutation → refine toward confidence.\n",
    "\n",
    "Reasoning About Code:\n",
    "\n",
    "- Specified properties and behaviors -> Test / Check against specifications -> Refine implementation.\n",
    "\n",
    "In practice, much scientific software evolves through a *code and fix* process:\n",
    "\n",
    "> If the outputs look reasonable and it doesn't crash, it must be correct.\n",
    "\n",
    "But trusting results without understanding the code is risky.\n",
    "\n",
    "> \"We can't get systems right if we don't understand them\" - Leslie Lamport"
   ]
  },
  {
   "cell_type": "markdown",
   "id": "ec1ef074",
   "metadata": {},
   "source": [
    "\n",
    "### Abstraction\n",
    "\n",
    "Abstraction lets us reason about what a system should do without drowning in how it’s done. \n",
    "\n",
    "As scientists and engineers, we are already accustomed to this way of thinking: we model complex systems by removing unnecessary details and breaking problems into components.\n",
    "\n",
    "**Where do the low-level details go?**\n",
    "\n",
    "**A natural concern:** Aren’t most bugs caused by subtle low-level issues?  \n",
    "\n",
    "Yes, but many of those \"low-level\" bugs are really symptoms of unclear high-level intent.\n",
    "When top-level responsibilities are muddled or poorly defined, they trickle down into brittle,\n",
    "error-prone implementations.  \n",
    "\n",
    "Abstraction then pays off in two ways:\n",
    " - Reasoning: We can understand and predict behavior at a manageable scale.\n",
    " - Design: We can isolate low-level details, reducing complexity and making the system easier to extend.\n",
    "\n",
    "> The hard part of building software is the conceptual construct, \n",
    "> not the labor of representing it.\n",
    "> *-FP Brooks. “No Silver Bullet” (1987)*\n",
    "\n",
    "> What matters is the fundamental structure of the design. If you get\n",
    "> it wrong, there is no amount of bug fixing and refactoring that will\n",
    "> produce a reliable, maintainable, and usable system\n",
    "> *- D. Jackson. The essence of software. (2021)*"
   ]
  },
  {
   "cell_type": "markdown",
   "id": "6a0013f7",
   "metadata": {},
   "source": [
    "\n",
    "### Specification: Writing Down Intent\n",
    "\n",
    "A *specification* is a precise statement of what software should do, independent of how it does it.\n",
    "\n",
    "Specifications can range from informal descriptions in plain English\n",
    "to fully formal mathematical models.  In this tutorial, we’ll use a\n",
    "**lightweight, practical level**: preconditions and postconditions\n",
    "expressed as simple `assert` statements directly in code.\n",
    "\n",
    "This lightweight approach:\n",
    " - Guides implementation,\n",
    " - Facilitates testing and validation.\n",
    "\n",
    "### Floyd-Hoare Triples\n",
    "\n",
    "A Hoare triple expresses the contract for a code fragment:\n",
    "\n",
    "`  {P} code {Q}`\n",
    "\n",
    "where\n",
    " - `P` (precondition): what must be true before running the `code`.\n",
    " - `code` (implementation): the program fragment in question, e.g., a statement, block, function, etc.\n",
    " - `Q` (postcondition): what must be true after running the `code`.\n",
    "\n",
    "#### Exercise 2.1:\n",
    "\n",
    "Can you find inputs where this function fails the postcondition even when the precondition is satisfied?"
   ]
  },
  {
   "cell_type": "code",
   "execution_count": 1,
   "id": "d450d8e8",
   "metadata": {},
   "outputs": [],
   "source": [
    "def div(x, y):\n",
    "    assert y != 0           # P    (precondition)\n",
    "    res = x / y             # code (implementation)\n",
    "    assert res * y == x     # Q    (postcondition)\n",
    "    return res"
   ]
  },
  {
   "cell_type": "code",
   "execution_count": 2,
   "id": "f6257fd0",
   "metadata": {},
   "outputs": [
    {
     "data": {
      "text/plain": [
       "2.0"
      ]
     },
     "execution_count": 2,
     "metadata": {},
     "output_type": "execute_result"
    }
   ],
   "source": [
    "div(4, 2)"
   ]
  },
  {
   "cell_type": "markdown",
   "id": "04ad3366",
   "metadata": {},
   "source": [
    "*Observation:* Floating-point arithmetic introduces unavoidable rounding errors.\n",
    "These aren’t bugs, but natural computational artifacts.\n",
    "We can **weaken the postcondition** to account for this by using approximate equality."
   ]
  },
  {
   "cell_type": "code",
   "execution_count": 3,
   "id": "5f45b55a",
   "metadata": {},
   "outputs": [],
   "source": [
    "import numpy as np\n",
    "\n",
    "def div(x, y):\n",
    "    assert y != 0                   # P    (precondition)\n",
    "    res = x / y                     # code (implementation)\n",
    "    assert np.isclose(res * y, x)   # Q    (postcondition)\n",
    "    return res"
   ]
  },
  {
   "cell_type": "code",
   "execution_count": 4,
   "id": "a5e55675",
   "metadata": {},
   "outputs": [
    {
     "data": {
      "text/plain": [
       "0.28"
      ]
     },
     "execution_count": 4,
     "metadata": {},
     "output_type": "execute_result"
    }
   ],
   "source": [
    "div(7, 25)"
   ]
  },
  {
   "cell_type": "markdown",
   "id": "5b816b27",
   "metadata": {},
   "source": [
    "**Takeaway**: Postconditions should reflect computational realities (e.g., floating-point).\n",
    "\n",
    "**Preconditions deserve similar care.**\n",
    "\n",
    "A **weakest precondition** is the *most general condition* under which the code\n",
    "works correctly. It ensures your function is usable in the widest range of scenarios\n",
    "while still preventing incorrect behavior.\n",
    "\n",
    "Conversely, we want the **strongest postcondition** possible: the most precise guarantee\n",
    "about the outcome. This balance maximizes both the flexibility and reliability of our code.\n",
    "\n"
   ]
  },
  {
   "cell_type": "markdown",
   "id": "9cdd1e2b",
   "metadata": {},
   "source": [
    "## Stepwise Refinement: From Abstract to Concrete\n",
    "\n",
    "Stepwise refinement is the process of progressively developing a solution, starting with high-level considerations and gradually refining it into an implementation.\n",
    "\n",
    "The process:\n",
    " 1. **Identify the What:** Define the overall problem and desired outcome.\n",
    " 2. **Choose the Abstractions:** Select the conceptual building blocks.\n",
    " 3. **Design the Core API:** the main interfaces and interactions\n",
    " 4. **Implement Incrementally:** Fill in implementations step by step.\n",
    "\n",
    "Benefits:\n",
    " - Clear separation of concerns,\n",
    " - Local, testable invariants,\n",
    " - Flexibility to change or replace components,\n",
    " - Robustness that emerges naturally."
   ]
  },
  {
   "cell_type": "markdown",
   "id": "fb5f73d0",
   "metadata": {},
   "source": [
    "## Heat Equation Solver, Revisited\n",
    "\n",
    "We now apply stepwise refinement to redesign our 1-D heat equation solver."
   ]
  },
  {
   "cell_type": "markdown",
   "id": "bc8a6719",
   "metadata": {},
   "source": [
    "### Step 1 — Specification (the what)\n",
    "\n",
    "We want to advance a 1-D temperature field $u_i$ on a uniform grid using a conservative finite volume method:\n",
    "\n",
    "$\n",
    "\\qquad\n",
    "u_i^{n+1} = u_i^{n} + \\Delta t \\, \\frac{F_{i} - F_{i+1}}{\\Delta x},\n",
    "\\qquad\n",
    "F_i =\n",
    "\\begin{cases}\n",
    "q_L & i = 0, \\\\[6pt]\n",
    "-\\kappa \\dfrac{u_i - u_{i-1}}{\\Delta x} & 1 \\leq i \\leq N-1, \\\\[10pt]\n",
    "q_R & i = N.\n",
    "\\end{cases}\n",
    "$\n",
    "\n",
    "#### Preconditions\n",
    "\n",
    "- `len(u) == N >= 3`, `len(F) == N+1`, `len(dudt) == N` \n",
    "- `dx > 0`, `dt > 0`, `nt > 0`, `kappa > 0`\n",
    "- Stability condition for explicit Euler (FTCS):\n",
    "$$\n",
    "\\frac{\\kappa \\Delta t}{\\Delta x^2} \\leq \\frac{1}{2}\n",
    "$$\n",
    "\n",
    "#### Postconditions\n",
    "\n",
    "- Conservation (per step):\n",
    "$$\n",
    "\\sum_{i=0}^{N-1} u_i^{n+1} \\Delta x = \\sum_{i=0}^{N-1} u_i^{n} \\Delta x + \\Delta t \\left( q_L - q_R \\right).\n",
    "$$\n",
    "\n",
    "- Special Cases:\n",
    "    - If `q_L` == `q_R` == 0, the mean stays constant.\n",
    "    - If `q_L` and `q_R` are constant, the temperature profile converges to a linear steady state."
   ]
  },
  {
   "cell_type": "markdown",
   "id": "5db50470",
   "metadata": {},
   "source": [
    "### Step 2 – Choose the abstractions\n",
    "\n",
    "If we look at the 1-D heat equation solver at an abstract level, we don’t begin with arrays,\n",
    "loops, or numerical schemes. We begin with the concepts: the fundamental entities in the\n",
    "world of this problem that the software must represent faithfully and consistently.\n",
    "\n",
    "Concepts we commit to, upfront, are then:\n",
    "\n",
    " - *Mesh*: domain geometry: `(dx, N)`.\n",
    " - *BC*: boundary heat fluxes: `(qL, qR)`.\n",
    " - *Cell Field*: cell-centered field $u$, length $N$.\n",
    " - *Face Field*: face-centered field $F$, length $N+1$.\n",
    " - Operations:\n",
    "    - `apply_bc(F, qL, qR)`\n",
    "    - `flux(u, kappa, dx)`, \n",
    "    - `divergence(F, mesh)`, \n",
    "    - `step(...)`, \n",
    "    - `solve(...)`.\n",
    "\n",
    "This gives a small, coherent core that matches the math and isolates concerns.\n",
    "\n",
    "### Step 3 – Design the Core API\n",
    "\n",
    "Our task now is to design a small but complete core API: a minimal set of data structures\n",
    "and functions that capture the essential ideas of our solver. This isn’t about writing code yet:\n",
    "it’s about defining the conceptual architecture of the system.\n",
    "\n",
    "The goal is to capture the set of abstractions we have identified, i.e., the fundamental\n",
    "building blocks of the solver, and relationships among them. These abstractions form the\n",
    "\"language\" of the system: every part of the solver will communicate through them.\n",
    "\n",
    "Below is a core API that encodes the fundamental concepts of our solver.\n",
    "This API is small, expressive, and built around the essential entities of the problem: \n",
    "the mesh, the boundary conditions, and *state transitions* that move our system forward in time."
   ]
  },
  {
   "cell_type": "code",
   "execution_count": 5,
   "id": "470378c3",
   "metadata": {},
   "outputs": [],
   "source": [
    "from dataclasses import dataclass\n",
    "from typing import List, Sequence\n",
    "\n",
    "# Data abstractions\n",
    "\n",
    "@dataclass\n",
    "class Mesh:\n",
    "    \"\"\"Uniform 1-D mesh.\"\"\"\n",
    "    dx: float\n",
    "    N: int  # number of cells\n",
    "    def cell_centered_arr(self): return [0.0] * self.N\n",
    "    def face_centered_arr(self): return [0.0] * (self.N + 1)\n",
    "\n",
    "@dataclass\n",
    "class BC:\n",
    "    \"\"\"Neumann flux boundary conditions on the diffusive flux.\"\"\"\n",
    "    qL: float\n",
    "    qR: float\n",
    "\n",
    "# Behavior abstractions\n",
    "\n",
    "def apply_bc(F: list, qL: float, qR: float) -> None:\n",
    "    \"\"\"Apply Neumann BCs to face fluxes F.\"\"\"\n",
    "    ...\n",
    "\n",
    "def flux(F: list, u: list, kappa: float, dx: float) -> None:\n",
    "    \"\"\"Update interior face fluxes F based on cell field u.\"\"\"\n",
    "    ...\n",
    "\n",
    "def divergence(dudt: list, F: list, dx: float) -> None:\n",
    "    \"\"\"Update cell tendencies dudt based on face fluxes F.\"\"\"\n",
    "    ...\n",
    "\n",
    "def step(u: list, F: list, dudt: list, kappa: float, dt: float, mesh: Mesh, bc: BC) -> list:\n",
    "    \"\"\"Advance cell field u by one time step using explicit Euler method.\"\"\"\n",
    "    ...\n",
    "\n",
    "def solve(u0: list, kappa: float, dt: float, nt: int, dx: float, bc: BC) -> list:\n",
    "    \"\"\"Orchestrate nt steps over cell field u.\"\"\"\n",
    "    ..."
   ]
  },
  {
   "cell_type": "markdown",
   "id": "48f0f21e",
   "metadata": {},
   "source": [
    "### Step 4 – Implement Incrementally: Fill in implementations step by step, maintaining the contracts.\n",
    "\n",
    " - Step 4a — Contracts first: write the behavioral *facts* of functions (preconditions, postconditions, invariants) without code.\n",
    " - Step 4b — Concrete code: implement to those contracts, with lightweight asserts that make the spec executable.\n",
    "\n",
    "\n",
    "**Why split these steps?** This mirrors science itself: hypotheses come before\n",
    "experiments, just as specifications come before code. This also makes failures diagnostic:\n",
    "if a 4a assertion trips, your spec is wrong or incomplete. If 4b trips, your code violates\n",
    "a correct spec.\n",
    "\n",
    "\n",
    "#### Step 4a: Contracts\n",
    "\n",
    "Before diving into coding, it may be worth thinking about what pre- and/or postconditions\n",
    "we want to hold before, during, and after execution of our functions."
   ]
  },
  {
   "cell_type": "markdown",
   "id": "bf5ac3c9",
   "metadata": {},
   "source": [
    "**Preconditions**\n",
    "\n",
    "Let's begin with a few simple preconditions on the input arguments of our functions. Subsequently, we will implement a precondition that checks the stability condition for the explicit Euler (FTCS) scheme."
   ]
  },
  {
   "cell_type": "code",
   "execution_count": 6,
   "id": "77fb4f9e",
   "metadata": {},
   "outputs": [],
   "source": [
    "def apply_bc(F: list, qL: float, qR: float) -> None:\n",
    "    \"\"\"Apply Neumann BCs to face fluxes F.\"\"\"\n",
    "    assert len(F) > 1\n",
    "    ...\n",
    "\n",
    "def flux(F: list, u: list, kappa: float, dx: float) -> None:\n",
    "    \"\"\"Update face fluxes F based on cell field u.\"\"\"\n",
    "    assert dx > 0 and len(F) == len(u) + 1\n",
    "    ...\n",
    "\n",
    "def divergence(dudt: list, F: list, dx: float) -> None:\n",
    "    \"\"\"Update cell tendencies dudt based on face fluxes F.\"\"\"\n",
    "    assert len(F) == len(dudt) + 1\n",
    "    ...\n",
    "\n",
    "def step(u: list, F: list, dudt: list, kappa: float, dt: float, mesh: Mesh, bc: BC) -> None:\n",
    "    \"\"\"Advance cell field u by one time step using explicit Euler method.\"\"\"\n",
    "    assert dt > 0\n",
    "\n",
    "def solve(u0: list, kappa: float, dt: float, nt: int, dx: float, bc: BC) -> list:\n",
    "    \"\"\"Orchestrate nt steps over cell field u.\"\"\"\n",
    "    assert nt > 0"
   ]
  },
  {
   "cell_type": "markdown",
   "id": "139031f3",
   "metadata": {},
   "source": [
    "\n",
    "\n",
    "#### Exercise 2.2: \n",
    "\n",
    "One of the key preconditions for the Euler (FTCS) scheme is the stability condition\n",
    "as given below:\n",
    "\n",
    "$$\\frac{\\kappa \\Delta t}{\\Delta x^2} < \\frac{1}{2}$$\n",
    "\n",
    "Implement a function to check the stability condition. Which function(s) would you modify to incorporate this check as an assertion? "
   ]
  },
  {
   "cell_type": "code",
   "execution_count": 7,
   "id": "e778872a",
   "metadata": {},
   "outputs": [],
   "source": [
    "def Euler_FTCS_stability(dt: float, dx: float, kappa: float) -> bool:\n",
    "    \"\"\"Check stability condition for explicit Euler (FTCS) scheme.\"\"\"\n",
    "    ..."
   ]
  },
  {
   "cell_type": "markdown",
   "id": "edbd90ea",
   "metadata": {},
   "source": [
    "**Answer:** \n",
    "\n",
    "The function `Euler_FTCS_stability` can be used to check the stability condition\n",
    "as a precondition in the `solve` function. If the condition is not met, we can raise an error\n",
    "or adjust the time step accordingly."
   ]
  },
  {
   "cell_type": "code",
   "execution_count": 8,
   "id": "6e463f26",
   "metadata": {},
   "outputs": [],
   "source": [
    "def Euler_FTCS_stability(dt: float, dx: float, kappa: float) -> bool:\n",
    "    \"\"\"Check stability condition for explicit Euler (FTCS) scheme.\"\"\"\n",
    "    r = kappa * dt / dx**2\n",
    "    return r <= 0.5"
   ]
  },
  {
   "cell_type": "markdown",
   "id": "4978133e",
   "metadata": {},
   "source": [
    "**Postconditions**\n",
    "\n",
    "Consider the update rule for cell-centered tendencies:\n",
    "\n",
    "$$\n",
    "\\text{dudt[i]} = \\frac{F_{i-1} - F_i}{\\Delta x}\n",
    "$$\n",
    "\n",
    "The finite volume telescoping property states that summing the tendencies (`dudt[i]`) over all cells and multiplying by `dx` must equal the net boundary flux (`F[0] - F[-1]`). Below is a function that checks if this property holds, which can be called as a postcondition after each \n",
    "time `divergence` is computed:\n"
   ]
  },
  {
   "cell_type": "code",
   "execution_count": 9,
   "id": "4395802f",
   "metadata": {},
   "outputs": [],
   "source": [
    "def divergence_telescoping(F, dudt, dx):\n",
    "    \"\"\"Check the finite volume telescoping property.\"\"\"\n",
    "    total_divergence = sum(dudt) * dx\n",
    "    boundary_flux = F[0] - F[-1]\n",
    "    return np.isclose(total_divergence, boundary_flux)"
   ]
  },
  {
   "cell_type": "markdown",
   "id": "ada901e2",
   "metadata": {},
   "source": [
    "Below is how this function could be utilized as a postcondition after each time `divergence` is computed:"
   ]
  },
  {
   "cell_type": "code",
   "execution_count": 19,
   "id": "e31c6354",
   "metadata": {},
   "outputs": [],
   "source": [
    "def divergence(dudt: list, F: list, mesh: Mesh) -> None:\n",
    "    \"\"\"Update cell tendencies dudt based on face fluxes F.\"\"\"\n",
    "    assert len(dudt) == mesh.N and len(F) == mesh.N + 1 # P (precondition)\n",
    "    ...                                                 # code\n",
    "    assert divergence_telescoping(F, dudt, mesh)        # Q (postcondition)"
   ]
  },
  {
   "cell_type": "markdown",
   "id": "18f164b1",
   "metadata": {},
   "source": [
    "#### Exercise 2.3: \n",
    "\n",
    "Now, let's check whether the heat is conserved, a condition that's closely related to the `divergence_telescoping` check.\n",
    "Recall the condition for heat conservation:\n",
    "\n",
    "$$\n",
    "\\sum_{i=0}^{N-1} u_i^{n+1} \\Delta x = \\sum_{i=0}^{N-1} u_i^{n} \\Delta x + \\Delta t \\left( q_L - q_R \\right).\n",
    "$$\n",
    "\n",
    "Similar to how we checked for divergence, implement a function to check the conservation of \n",
    "heat. The function arguments should give you a good hint about how to implement this.\n",
    "Which function(s) would you modify to incorporate this check?"
   ]
  },
  {
   "cell_type": "code",
   "execution_count": 12,
   "id": "5d6f3823",
   "metadata": {},
   "outputs": [],
   "source": [
    "def heat_is_conserved(u_sum_before: float, u_sum_after: float, dt: float, bc: BC, mesh: Mesh) -> bool:\n",
    "    \"\"\"Check if heat is conserved.\"\"\"\n",
    "    ..."
   ]
  },
  {
   "cell_type": "markdown",
   "id": "e4fd9dfd",
   "metadata": {},
   "source": [
    "**Answer**\n",
    "\n",
    "The following cell contains a possible implementation of the heat conservation check.\n",
    "As for which function(s) would need to be modified to incorporate this check, it may be\n",
    "added as a postcondition to the `step` function, or, alternatively, it may be added\n",
    "as a loop invariant in the timestepping loop within the `solve` function."
   ]
  },
  {
   "cell_type": "code",
   "execution_count": 13,
   "id": "11799577",
   "metadata": {},
   "outputs": [],
   "source": [
    "def heat_is_conserved(u_sum_before: float, u_sum_after: float, dt: float, bc: BC, mesh: Mesh) -> bool:\n",
    "    \"\"\"Check if heat is conserved.\"\"\"\n",
    "    expected_change = dt * (bc.qL - bc.qR)\n",
    "    actual_change = u_sum_after - u_sum_before\n",
    "    return np.isclose(actual_change, expected_change)"
   ]
  },
  {
   "cell_type": "markdown",
   "id": "f6bf32cd",
   "metadata": {},
   "source": [
    "**Loop invariants**\n",
    "\n",
    "A loop invariant is a condition (a boolean expression) that holds true before and after each iteration of a loop. It helps reason about the correctness of the loop by ensuring that certain properties hold:\n",
    "\n",
    "  - before the loop starts\n",
    "  - after each iteration of the loop\n",
    "  \n",
    "which guarantees that once the loop has finished executing, the desired property holds for the final state.\n",
    "\n",
    "In the case of the heat equation solver, ensuring that heat is conserved after each time step guarantees that the total heat within the domain remains constant."
   ]
  },
  {
   "cell_type": "markdown",
   "id": "52f39195",
   "metadata": {},
   "source": [
    "#### Step 4b: Concrete Code"
   ]
  },
  {
   "cell_type": "code",
   "execution_count": 16,
   "id": "f1fd658a",
   "metadata": {},
   "outputs": [],
   "source": [
    "from dataclasses import dataclass\n",
    "from typing import List, Sequence\n",
    "import numpy as np\n",
    "\n",
    "# Data abstractions\n",
    "\n",
    "@dataclass\n",
    "class Mesh:\n",
    "    \"\"\"Uniform 1-D mesh.\"\"\"\n",
    "    dx: float\n",
    "    N: int  # number of cells\n",
    "    def cell_centered_arr(self): return [0.0] * self.N\n",
    "    def face_centered_arr(self): return [0.0] * (self.N + 1)\n",
    "\n",
    "@dataclass\n",
    "class BC:\n",
    "    \"\"\"Neumann flux boundary conditions on the diffusive flux.\"\"\"\n",
    "    qL: float\n",
    "    qR: float\n",
    "\n",
    "# Behavior abstractions\n",
    "\n",
    "def apply_bc(F: list, qL: float, qR: float) -> None:\n",
    "    \"\"\"Apply Neumann BCs to face fluxes F.\"\"\"\n",
    "    assert len(F) > 1\n",
    "    F[0], F[-1] = qL, qR\n",
    "\n",
    "def flux(F: list, u: list, kappa: float, dx: float) -> None:\n",
    "    \"\"\"Update face fluxes F based on cell field u.\"\"\"\n",
    "    assert dx > 0 and len(F) == len(u) + 1\n",
    "    for i in range(1, len(u)):\n",
    "        F[i] = -kappa * (u[i] - u[i-1]) / dx\n",
    "\n",
    "def divergence(dudt: list, F: list, dx: float) -> None:\n",
    "    \"\"\"Update cell tendencies dudt based on face fluxes F.\"\"\"\n",
    "    assert len(F) == len(dudt) + 1\n",
    "    for i in range(len(dudt)):\n",
    "        dudt[i] = (F[i] - F[i+1]) / dx\n",
    "    assert divergence_telescoping(F, dudt, dx)\n",
    "\n",
    "def step(u: list, F: list, dudt: list, kappa: float, dt: float, mesh: Mesh, bc: BC) -> list:\n",
    "    \"\"\"Advance cell field u by one time step using explicit Euler method.\"\"\"\n",
    "    assert dt > 0\n",
    "\n",
    "    apply_bc(F, bc.qL, bc.qR)\n",
    "    flux(F, u, kappa, mesh.dx)\n",
    "    divergence(dudt, F, mesh.dx)\n",
    "\n",
    "    for i in range(mesh.N):\n",
    "        u[i] += dt * dudt[i]\n",
    "\n",
    "def solve(u0: list, kappa: float, dt: float, nt: int, dx: float, bc: BC) -> list:\n",
    "    \"\"\"Orchestrate nt steps over cell field u.\"\"\"\n",
    "\n",
    "    assert nt > 0\n",
    "    assert Euler_FTCS_stability(dt, dx, kappa), \"Stability condition not met\"\n",
    "\n",
    "    mesh = Mesh(dx, N=len(u0))\n",
    "    u = u0.copy()\n",
    "    F = mesh.face_centered_arr()\n",
    "    dudt = mesh.cell_centered_arr()\n",
    "\n",
    "    for _ in range(nt):\n",
    "        u_sum_before = sum(u) * mesh.dx\n",
    "        step(u, F, dudt, kappa, dt, mesh, bc)\n",
    "        u_sum_after = sum(u) * mesh.dx\n",
    "        assert heat_is_conserved(u_sum_before, u_sum_after, dt, bc, mesh), \"Heat not conserved\"\n",
    "\n",
    "    return u\n"
   ]
  },
  {
   "cell_type": "code",
   "execution_count": 17,
   "id": "55dc8f67",
   "metadata": {},
   "outputs": [
    {
     "data": {
      "text/plain": [
       "[33.333333333333314, 33.33333333333333, 33.333333333333314]"
      ]
     },
     "execution_count": 17,
     "metadata": {},
     "output_type": "execute_result"
    }
   ],
   "source": [
    "solve(\n",
    "    u0 = [0.0, 100.0, 0.0],\n",
    "    kappa = 0.1,\n",
    "    dt = 1.0,\n",
    "    nt = 1000,\n",
    "    dx = 1.0,\n",
    "    bc = BC(qL=0.0, qR=0.0)\n",
    ")"
   ]
  },
  {
   "cell_type": "markdown",
   "id": "6a59a464",
   "metadata": {},
   "source": [
    "## What we just did\n",
    "\n",
    "We now have a solver whose structure and reasoning are explicit. It’s modular: each function \n",
    "has a single purpose over well-defined data.\n",
    "\n",
    "We did write a lot more lines, because we added:\n",
    " - Separation of concerns (apply_bc, flux, divergence, step, solve) instead of one monolith\n",
    " - Executable contracts (pre/postconditions, invariants)\n",
    " - Lightweight data types (Mesh, BC)\n",
    "\n",
    "**In real applications**, this \"ceremony\" is a small fraction of total code: The heavy lifting\n",
    "lives in numerical computations, I/O, parallelization, physics, etc.. The scaffolding pays\n",
    "off by reducing change amplification and cognitive load:\n",
    "\n",
    " - Safer changes (localized edits)\n",
    " - Better testing (unit, property, etc.)\n",
    " - Faster debugging (failures point to where)\n",
    " - Reusability (shared abstractions)\n",
    "\n",
    "**Do assertions hurt performance?** Potentially, if run every step. In practice you can disable\n",
    "them for production (`python -O`) or sample them periodically during long runs.\n",
    "\n",
    "## Looking Ahead\n",
    "\n",
    "In **Chapter 3**, we’ll take the next step:  \n",
    "turning these specifications into unit tests that run automatically,\n",
    "giving us rapid feedback and confidence as our code evolves."
   ]
  },
  {
   "cell_type": "markdown",
   "id": "3c3c4da4",
   "metadata": {},
   "source": [
    "\n",
    "---\n",
    "\n",
    "*This notebook is a part of the \"Rigor and Reasoning in Research Software\" (R3Sw) tutorial, led by Alper Altuntas and sponsored by the Better Scientific Software (BSSw) Fellowship Program. Copyright © 2025*"
   ]
  },
  {
   "cell_type": "markdown",
   "id": "43f30819",
   "metadata": {},
   "source": []
  }
 ],
 "metadata": {
  "kernelspec": {
   "display_name": "r3sw",
   "language": "python",
   "name": "python3"
  },
  "language_info": {
   "codemirror_mode": {
    "name": "ipython",
    "version": 3
   },
   "file_extension": ".py",
   "mimetype": "text/x-python",
   "name": "python",
   "nbconvert_exporter": "python",
   "pygments_lexer": "ipython3",
   "version": "3.12.11"
  }
 },
 "nbformat": 4,
 "nbformat_minor": 5
}
