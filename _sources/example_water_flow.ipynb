{
 "cells": [
  {
   "cell_type": "markdown",
   "id": "a633ac17",
   "metadata": {},
   "source": [
    "# Pacific Atlantic Water Flow\n"
   ]
  },
  {
   "cell_type": "code",
   "execution_count": 17,
   "id": "813bc56d",
   "metadata": {},
   "outputs": [],
   "source": [
    "import matplotlib.pyplot as plt\n",
    "from typing import List"
   ]
  },
  {
   "cell_type": "markdown",
   "id": "09f58e95",
   "metadata": {},
   "source": [
    "## Warm Up: BFS, DFS"
   ]
  },
  {
   "cell_type": "code",
   "execution_count": 18,
   "id": "49b0919d",
   "metadata": {},
   "outputs": [],
   "source": [
    "heights = [\n",
    "    [1,2,2,0,5],\n",
    "    [3,2,0,4,4],\n",
    "    [2,4,0,0,1],\n",
    "    [6,7,1,4,5],\n",
    "    [5,1,1,2,4]\n",
    "]"
   ]
  },
  {
   "cell_type": "code",
   "execution_count": 19,
   "id": "a6b79254",
   "metadata": {},
   "outputs": [
    {
     "data": {
      "text/plain": [
       "<matplotlib.image.AxesImage at 0x11ae097c0>"
      ]
     },
     "execution_count": 19,
     "metadata": {},
     "output_type": "execute_result"
    },
    {
     "data": {
      "image/png": "[encoded data removed]",
      "text/plain": [
       "<Figure size 640x480 with 1 Axes>"
      ]
     },
     "metadata": {},
     "output_type": "display_data"
    }
   ],
   "source": [
    "plt.imshow(heights, cmap='Oranges')"
   ]
  },
  {
   "cell_type": "code",
   "execution_count": 20,
   "id": "baaccfc3",
   "metadata": {},
   "outputs": [],
   "source": [
    "from collections import deque"
   ]
  },
  {
   "cell_type": "code",
   "execution_count": 21,
   "id": "a345895a",
   "metadata": {},
   "outputs": [],
   "source": [
    "def neighbors(j, i, m, n):\n",
    "    if j > 0:     yield (j-1, i)\n",
    "    if j < m-1:   yield (j+1, i)\n",
    "    if i > 0:     yield (j, i-1)\n",
    "    if i < n-1:   yield (j, i+1)"
   ]
  },
  {
   "cell_type": "code",
   "execution_count": 22,
   "id": "c027afbb",
   "metadata": {},
   "outputs": [],
   "source": [
    "def bfs(arr):\n",
    "\n",
    "    if not arr or not arr[0]: \n",
    "        return []\n",
    "\n",
    "    m = len(arr)\n",
    "    n = len(arr[0])\n",
    "\n",
    "    q = deque([(0,0)])\n",
    "    enqueued = [[False for _ in range(n)] for _ in range(m)]\n",
    "    enqueued[0][0] = True\n",
    "\n",
    "    while q:\n",
    "        j, i = q.popleft()\n",
    "        print(j,i)\n",
    "        for j_n, i_n in neighbors(j,i,m,n):\n",
    "            if (not enqueued[j_n][i_n]):\n",
    "                enqueued[j_n][i_n] = True\n",
    "                if arr[j_n][i_n] != 0:\n",
    "                    q.append((j_n, i_n))\n"
   ]
  },
  {
   "cell_type": "code",
   "execution_count": 23,
   "id": "c3ed1483",
   "metadata": {},
   "outputs": [
    {
     "name": "stdout",
     "output_type": "stream",
     "text": [
      "0 0\n",
      "1 0\n",
      "0 1\n",
      "2 0\n",
      "1 1\n",
      "0 2\n",
      "3 0\n",
      "2 1\n",
      "4 0\n",
      "3 1\n",
      "4 1\n",
      "3 2\n",
      "4 2\n",
      "3 3\n",
      "4 3\n",
      "3 4\n",
      "4 4\n",
      "2 4\n",
      "1 4\n",
      "0 4\n",
      "1 3\n"
     ]
    }
   ],
   "source": [
    "bfs(heights)"
   ]
  },
  {
   "cell_type": "code",
   "execution_count": 24,
   "id": "9a957b2f",
   "metadata": {},
   "outputs": [],
   "source": [
    "def dfs(arr):\n",
    "\n",
    "    if not arr or not arr[0]: \n",
    "        return []\n",
    "\n",
    "    m = len(arr)\n",
    "    n = len(arr[0])\n",
    "\n",
    "    visited = [[False for _ in range(n)] for _ in range(m)]\n",
    "\n",
    "    def recurse(j, i):\n",
    "        visited[j][i] = True\n",
    "        print(j,i)\n",
    "        for j_n, i_n in neighbors(j,i,m,n):\n",
    "            if not visited[j_n][i_n] and arr[j_n][i_n] !=0:\n",
    "                recurse(j_n, i_n)\n",
    "\n",
    "    recurse(0,0)"
   ]
  },
  {
   "cell_type": "code",
   "execution_count": 25,
   "id": "8f4864d8",
   "metadata": {},
   "outputs": [
    {
     "name": "stdout",
     "output_type": "stream",
     "text": [
      "0 0\n",
      "1 0\n",
      "2 0\n",
      "3 0\n",
      "4 0\n",
      "4 1\n",
      "3 1\n",
      "2 1\n",
      "1 1\n",
      "0 1\n",
      "0 2\n",
      "3 2\n",
      "4 2\n",
      "4 3\n",
      "3 3\n",
      "3 4\n",
      "2 4\n",
      "1 4\n",
      "0 4\n",
      "1 3\n",
      "4 4\n"
     ]
    }
   ],
   "source": [
    "dfs(heights)"
   ]
  },
  {
   "cell_type": "markdown",
   "id": "ffc47ba2",
   "metadata": {},
   "source": [
    "## Pacific Atlantic Water Flow - Solution"
   ]
  },
  {
   "cell_type": "code",
   "execution_count": 27,
   "id": "19da32f5",
   "metadata": {},
   "outputs": [],
   "source": [
    "heights = [\n",
    "    [1,2,2,3,5],\n",
    "    [3,2,3,4,4],\n",
    "    [2,4,5,3,1],\n",
    "    [6,7,1,4,5],\n",
    "    [5,1,1,2,4]\n",
    "]"
   ]
  },
  {
   "cell_type": "code",
   "execution_count": 28,
   "id": "b41b099e",
   "metadata": {},
   "outputs": [
    {
     "data": {
      "text/plain": [
       "<matplotlib.image.AxesImage at 0x11aeda5a0>"
      ]
     },
     "execution_count": 28,
     "metadata": {},
     "output_type": "execute_result"
    },
    {
     "data": {
      "image/png": "[encoded data removed]",
      "text/plain": [
       "<Figure size 640x480 with 1 Axes>"
      ]
     },
     "metadata": {},
     "output_type": "display_data"
    }
   ],
   "source": [
    "plt.imshow(heights, cmap='Oranges', vmin=0)"
   ]
  },
  {
   "cell_type": "code",
   "execution_count": 58,
   "id": "d5c3752f",
   "metadata": {},
   "outputs": [],
   "source": [
    "class Solution(object):\n",
    "    def pacificAtlantic(self, arr):\n",
    "        \"\"\"\n",
    "        :type heights: List[List[int]]\n",
    "        :rtype: List[List[int]]\n",
    "        \"\"\"\n",
    "\n",
    "        m = len(arr)\n",
    "        n = len(arr[0])\n",
    "\n",
    "        def neighbors(j, i, m, n):\n",
    "            if j > 0:     yield (j-1, i)\n",
    "            if j < m-1:   yield (j+1, i)\n",
    "            if i > 0:     yield (j, i-1)\n",
    "            if i < n-1:   yield (j, i+1)\n",
    "\n",
    "        # pacific\n",
    "        q = deque()\n",
    "        enqueued = [[False for _ in range(n)] for _ in range(m)]\n",
    "        pacific = [[False for _ in range(n)] for _ in range(m)]\n",
    "\n",
    "        def enqueue(j,i):\n",
    "            q.append((j,i))\n",
    "            enqueued[j][i] = True\n",
    "\n",
    "        for j in range(m):\n",
    "            enqueue(j,0)\n",
    "        for i in range(1,n):\n",
    "            enqueue(0,i)\n",
    "\n",
    "        while q:\n",
    "            j, i = q.popleft()\n",
    "            pacific[j][i] = True\n",
    "            for j_n, i_n in neighbors(j,i,m,n):\n",
    "                if (not enqueued[j_n][i_n]) and arr[j_n][i_n] >= arr[j][i]:\n",
    "                    enqueue(j_n, i_n)\n",
    "\n",
    "        # atlantic\n",
    "        enqueued = [[False for _ in range(n)] for _ in range(m)]\n",
    "        res = []\n",
    "\n",
    "        for j in range(m):\n",
    "            enqueue(j,n-1)\n",
    "        for i in range(n-1):\n",
    "            enqueue(m-1,i)\n",
    "\n",
    "        while q:\n",
    "            j, i = q.popleft()\n",
    "            #atlantic[j][i] = True\n",
    "            if pacific[j][i]:\n",
    "                res.append((j,i))\n",
    "            for j_n, i_n in neighbors(j,i,m,n):\n",
    "                if (not enqueued[j_n][i_n]) and arr[j_n][i_n] >= arr[j][i]:\n",
    "                    enqueue(j_n, i_n)\n",
    "\n",
    "        return res\n",
    "\n"
   ]
  },
  {
   "cell_type": "code",
   "execution_count": 59,
   "id": "d3380900",
   "metadata": {},
   "outputs": [
    {
     "data": {
      "text/plain": [
       "[(0, 4), (1, 4), (4, 0), (1, 3), (3, 0), (3, 1), (2, 2)]"
      ]
     },
     "execution_count": 59,
     "metadata": {},
     "output_type": "execute_result"
    }
   ],
   "source": [
    "Solution().pacificAtlantic(heights)"
   ]
  },
  {
   "cell_type": "code",
   "execution_count": null,
   "id": "c5f3886f",
   "metadata": {},
   "outputs": [],
   "source": []
  }
 ],
 "metadata": {
  "kernelspec": {
   "display_name": "r3sw",
   "language": "python",
   "name": "python3"
  },
  "language_info": {
   "codemirror_mode": {
    "name": "ipython",
    "version": 3
   },
   "file_extension": ".py",
   "mimetype": "text/x-python",
   "name": "python",
   "nbconvert_exporter": "python",
   "pygments_lexer": "ipython3",
   "version": "3.12.11"
  }
 },
 "nbformat": 4,
 "nbformat_minor": 5
}
