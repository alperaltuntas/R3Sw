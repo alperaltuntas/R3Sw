{
 "cells": [
  {
   "cell_type": "markdown",
   "id": "1a4c8157",
   "metadata": {},
   "source": [
    "# Rigor and Reasoning in Resarch Software (R3Sw)\n",
    "\n",
    "Welcome to the **R3Sw** tutorial. We’ll cover practical and cutting-edge techniques to bring more rigor and reasoning to research software development. The aim is to help you write software that’s more robust software with greater confidence"
   ]
  },
  {
   "cell_type": "markdown",
   "id": "878daa8a",
   "metadata": {},
   "source": [
    "## Tutorial Structure\n",
    "\n",
    "The tutorial is structured into several sections, each building on the previous one. Throughout the tutorial, we will work with a sample research software project, which will serve as a practical example to illustrate the concepts and techniques discussed. We will cover topics such as:\n",
    "- Unit testing\n",
    "- Property-based testing\n",
    "- Formal reasoning\n",
    "\n",
    "With each section, more advanced concepts will be introduced, allowing you to progressively increase confidence in your research software.\n"
   ]
  },
  {
   "cell_type": "markdown",
   "id": "7a638794",
   "metadata": {
    "vscode": {
     "languageId": "markdown"
    }
   },
   "source": [
    "\n",
    "## What's Research Software?\n",
    "\n",
    "In this tutorial, we define research software as any software that is used to conduct research, including but not limited to:\n",
    "\n",
    "- Physically-based simulations\n",
    "- Numerical computations\n",
    "- Statistical analysis\n",
    "- AI/ML models\n",
    "- Data analysis, pre- and post-processing, and visualization tools\n",
    "\n",
    "that are used in academic or industrial research settings and may range from small scripts to large, complex systems.\n"
   ]
  },
  {
   "cell_type": "markdown",
   "id": "8fdec74d",
   "metadata": {},
   "source": [
    "## What's Rigor?\n",
    "\n",
    "By rigor, we refer to the degree to which the we can trust the software to perform as expected at all times and under various conditions. Rigor is essential in research software because it ensures that the software is reliable, maintainable, and can be used to produce valid results.  It helps prevent bugs, errors, and unexpected behaviors that could lead to incorrect scientific conclusions or results that are not reproducible or trustworthy.\n",
    "\n",
    "Rigor is achieved through a combination of practices, including:\n",
    "\n",
    "- **Traditional Testing**: Writing and executing tests with high coverage.\n",
    "    - **Unit Tests**: Testing individual components or functions to ensure they work as expected.\n",
    "    - **Integration Tests**: Testing how different components work together.\n",
    "    - **System Tests**: Testing the entire system to ensure it meets the requirements.\n",
    "    - **Continuous Integration (CI)**: Automating the testing process to catch issues early.\n",
    "\n",
    "- **Non-Traditional Testing**: Using advanced techniques to improve the rigor of testing.\n",
    "    - **Property-Based Testing**: While there are a variety of approaches, in this tutorial we will focus on property-based testing, which involves defining properties that the software should satisfy and generating random inputs to test those properties. This can help uncover edge cases and unexpected behaviors that traditional testing might miss.\n",
    "to ensure that the software behaves as expected.\n",
    "- **Static Analysis**: Using tools to analyze the code for potential issues without executing it. This can help catch bugs, enforce coding standards, and improve code quality.\n",
    "- **Formal Reasoning**: Using mathematical or logical methods to reason about the software's behavior. This can include formal verification, model checking, and theorem proving to ensure that the software meets its specifications and behaves correctly under all conditions.\n",
    "- **Other Best Practices**: Documenting the software to make it easier to understand, use, and maintain. Using version control to track changes and ensure reproducibility. Conducting code reviews to catch potential issues early. \n"
   ]
  },
  {
   "cell_type": "markdown",
   "id": "cf796ae7",
   "metadata": {},
   "source": [
    "## What's Reasoning?\n",
    "\n",
    "\n",
    "> Fifteen years ago computer programming was so badly understood  \n",
    "> that hardly anyone even thought about proving programs correct;  \n",
    "> we just fiddled with a program until we \"knew\" it worked.  \n",
    ">\n",
    ">  Donald Knuth, \"Computer programming as an art\" (1974)\n",
    "\n",
    "With rigorous techniques, we increase the confidence in our software, but we also need to understand how it works and why it behaves the way it does. This is where reasoning comes into play. By reasoning, we refer to the ability to understand and explain the behavior of the software, including its correctness, performance, and limitations."
   ]
  }
 ],
 "metadata": {
  "kernelspec": {
   "display_name": "r3sw",
   "language": "python",
   "name": "python3"
  },
  "language_info": {
   "codemirror_mode": {
    "name": "ipython",
    "version": 3
   },
   "file_extension": ".py",
   "mimetype": "text/x-python",
   "name": "python",
   "nbconvert_exporter": "python",
   "pygments_lexer": "ipython3",
   "version": "3.12.11"
  }
 },
 "nbformat": 4,
 "nbformat_minor": 5
}
