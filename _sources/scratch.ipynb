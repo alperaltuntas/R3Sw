{
 "cells": [
  {
   "cell_type": "markdown",
   "id": "4b355931",
   "metadata": {},
   "source": [
    "## A 60-second z3py primer\n",
    "\n",
    "### Variables:"
   ]
  },
  {
   "cell_type": "code",
   "execution_count": 83,
   "id": "ac930463",
   "metadata": {},
   "outputs": [],
   "source": [
    "from z3 import Bool, Int, Real, String\n",
    "\n",
    "# Single variable declarations\n",
    "p = Bool('p')\n",
    "i = Int('i')\n",
    "x = Real('x')\n",
    "s = String('s')\n",
    "\n",
    "from z3 import Bools, Ints, Reals, Strings\n",
    "\n",
    "# Multiple variable declarations\n",
    "p, q = Bools('p q')\n",
    "i, j = Ints('i j')\n",
    "x, y = Reals('x y')\n",
    "s1, s2 = Strings('s1 s2')"
   ]
  },
  {
   "cell_type": "markdown",
   "id": "8bfc8957",
   "metadata": {},
   "source": [
    "Operations:\n",
    "\n",
    "z3 is a **declarative** language. That means:\n",
    " - There are no assignments or state changes. \n",
    " - Instead, you declare variables and state constraints on them.\n",
    " \n",
    " For example, the expression `x == 10` does not mean \"set x to 10\". It means \"x is equal to 10\"."
   ]
  },
  {
   "cell_type": "code",
   "execution_count": 86,
   "id": "5aedaee8",
   "metadata": {},
   "outputs": [
    {
     "data": {
      "text/html": [
       "x = 10"
      ],
      "text/plain": [
       "x == 10"
      ]
     },
     "execution_count": 86,
     "metadata": {},
     "output_type": "execute_result"
    }
   ],
   "source": [
    "x == 10"
   ]
  },
  {
   "cell_type": "code",
   "execution_count": 88,
   "id": "92887f6f",
   "metadata": {},
   "outputs": [
    {
     "data": {
      "text/html": [
       "y = x + 5"
      ],
      "text/plain": [
       "y == x + 5"
      ]
     },
     "execution_count": 88,
     "metadata": {},
     "output_type": "execute_result"
    }
   ],
   "source": [
    "y  == x + 5"
   ]
  },
  {
   "cell_type": "markdown",
   "id": "fc4491a5",
   "metadata": {},
   "source": [
    "So, how do we reason about state changes in z3py? We do it by declaring new variables that represent the new state. For example, to represent a reassignment of `x`, we would declare a new variable `x'` (pronounced \"x prime\") and state the relationship between `x` and `x'`. \n",
    "\n",
    "```python\n",
    "x = Int('x')      # Declare an integer variable x\n",
    "x_prime = Int(\"x'\")  # Declare a new integer variable x'\n",
    "```\n",
    "\n",
    "How do we actually *do* things in z3py? We use a `Solver` object to manage our constraints and check for satisfiability."
   ]
  },
  {
   "cell_type": "code",
   "execution_count": 89,
   "id": "119659f1",
   "metadata": {},
   "outputs": [
    {
     "data": {
      "text/html": [
       "<b>sat</b>"
      ],
      "text/plain": [
       "sat"
      ]
     },
     "execution_count": 89,
     "metadata": {},
     "output_type": "execute_result"
    }
   ],
   "source": [
    "s = Solver()\n",
    "s.add(x == 10)\n",
    "s.add(y == x + 5)\n",
    "s.check()"
   ]
  },
  {
   "cell_type": "code",
   "execution_count": null,
   "id": "f915a5dd",
   "metadata": {},
   "outputs": [],
   "source": []
  },
  {
   "cell_type": "code",
   "execution_count": 90,
   "id": "a1faf15e",
   "metadata": {},
   "outputs": [],
   "source": [
    "def div(x: float, y: float) -> float:\n",
    "    assert y != 0          # P\n",
    "    res = x / y\n",
    "    assert res * y == x    # Q  (idealized exact arithmetic)\n",
    "    return res"
   ]
  },
  {
   "cell_type": "code",
   "execution_count": 108,
   "id": "4d73beb3",
   "metadata": {},
   "outputs": [],
   "source": [
    "def check_spec(spec):\n",
    "    s = Solver()\n",
    "    s.add(spec)\n",
    "    if s.check() == sat:\n",
    "        print(\"Specification is valid.\")\n",
    "    else:\n",
    "        print(\"Specification is NOT valid.\")"
   ]
  },
  {
   "cell_type": "code",
   "execution_count": 43,
   "id": "24f73991",
   "metadata": {},
   "outputs": [
    {
     "ename": "TypeError",
     "evalue": "check_spec() missing 2 required positional arguments: 'code' and 'post'",
     "output_type": "error",
     "traceback": [
      "\u001b[31m---------------------------------------------------------------------------\u001b[39m",
      "\u001b[31mTypeError\u001b[39m                                 Traceback (most recent call last)",
      "\u001b[36mCell\u001b[39m\u001b[36m \u001b[39m\u001b[32mIn[43]\u001b[39m\u001b[32m, line 17\u001b[39m\n\u001b[32m     14\u001b[39m \u001b[38;5;66;03m# Postcondition\u001b[39;00m\n\u001b[32m     15\u001b[39m spec.append(res * y == x)\n\u001b[32m---> \u001b[39m\u001b[32m17\u001b[39m \u001b[43mcheck_spec\u001b[49m\u001b[43m(\u001b[49m\u001b[43mspec\u001b[49m\u001b[43m)\u001b[49m\n",
      "\u001b[31mTypeError\u001b[39m: check_spec() missing 2 required positional arguments: 'code' and 'post'"
     ]
    }
   ],
   "source": [
    "from z3 import Real, Solver, sat\n",
    "\n",
    "spec= []\n",
    "\n",
    "# Declare symbolic variables\n",
    "x, y = Real('x'), Real('y')\n",
    "\n",
    "# Preconditions\n",
    "spec.append(y != 0)\n",
    "\n",
    "# Code\n",
    "res = x / y\n",
    "\n",
    "# Postcondition\n",
    "spec.append(res * y == x)\n",
    "\n",
    "check_spec(spec)"
   ]
  },
  {
   "cell_type": "code",
   "execution_count": 1,
   "id": "bd200ecf",
   "metadata": {},
   "outputs": [
    {
     "ename": "NameError",
     "evalue": "name 'check_spec' is not defined",
     "output_type": "error",
     "traceback": [
      "\u001b[31m---------------------------------------------------------------------------\u001b[39m",
      "\u001b[31mNameError\u001b[39m                                 Traceback (most recent call last)",
      "\u001b[36mCell\u001b[39m\u001b[36m \u001b[39m\u001b[32mIn[1]\u001b[39m\u001b[32m, line 19\u001b[39m\n\u001b[32m     16\u001b[39m \u001b[38;5;66;03m# Postcondition\u001b[39;00m\n\u001b[32m     17\u001b[39m spec.append(res * y == x)\n\u001b[32m---> \u001b[39m\u001b[32m19\u001b[39m \u001b[43mcheck_spec\u001b[49m(spec)\n",
      "\u001b[31mNameError\u001b[39m: name 'check_spec' is not defined"
     ]
    }
   ],
   "source": [
    "from z3 import Real, Solver, sat\n",
    "from z3 import FP, Float32\n",
    "\n",
    "spec= []\n",
    "\n",
    "# Declare symbolic variables\n",
    "x = FP('x', Float32())\n",
    "y = FP('y', Float32())\n",
    "\n",
    "# Preconditions\n",
    "spec.append(y != 0)\n",
    "\n",
    "# Code\n",
    "res = x / y\n",
    "\n",
    "# Postcondition\n",
    "spec.append(res * y == x)\n",
    "\n",
    "check_spec(spec)"
   ]
  },
  {
   "cell_type": "code",
   "execution_count": 17,
   "id": "4da4c411",
   "metadata": {},
   "outputs": [],
   "source": [
    "from z3 import FP, Float32, Float64"
   ]
  },
  {
   "cell_type": "code",
   "execution_count": 25,
   "id": "63e9d0e0",
   "metadata": {},
   "outputs": [],
   "source": [
    "x = FP('x', Float32())\n",
    "y = FP('y', Float32())\n",
    "res = FP('res', Float32())"
   ]
  },
  {
   "cell_type": "code",
   "execution_count": null,
   "id": "e086c883",
   "metadata": {},
   "outputs": [
    {
     "data": {
      "text/html": [
       "res = fpDiv(RNE(), x, y)"
      ],
      "text/plain": [
       "res == x / y"
      ]
     },
     "execution_count": 26,
     "metadata": {},
     "output_type": "execute_result"
    }
   ],
   "source": []
  },
  {
   "cell_type": "code",
   "execution_count": 39,
   "id": "d3b694fe",
   "metadata": {},
   "outputs": [],
   "source": [
    "def check(pre, code, post):\n",
    "    from z3 import Solver, Not, And, sat\n",
    "    s = Solver()\n",
    "    s.add(And(pre))\n",
    "    s.add(And(code))\n",
    "    s.add(Not(And(post)))\n",
    "    if s.check() == sat:\n",
    "        print(\"Specification is NOT valid. Counterexample:\")\n",
    "        print(s.model())\n",
    "    else:\n",
    "        print(\"Specification is valid.\")"
   ]
  },
  {
   "cell_type": "code",
   "execution_count": 47,
   "id": "1ec05a5f",
   "metadata": {},
   "outputs": [
    {
     "name": "stdout",
     "output_type": "stream",
     "text": [
      "Specification is NOT valid. Counterexample:\n",
      "[x = 1.89798057079315185546875*(2**-79),\n",
      " y = 1.89404284954071044921875*(2**64)]\n"
     ]
    }
   ],
   "source": [
    "x = FP('x', Float32())\n",
    "y = FP('y', Float32())\n",
    "\n",
    "check(\n",
    "    (y != 0, x==x, y==y),\n",
    "    res == x / y,\n",
    "    res * y == x\n",
    ")"
   ]
  },
  {
   "cell_type": "code",
   "execution_count": 48,
   "id": "8a7c40e1",
   "metadata": {},
   "outputs": [
    {
     "name": "stdout",
     "output_type": "stream",
     "text": [
      "Specification is NOT valid. Counterexample:\n",
      "[x = -1.63922965526580810546875*(2**4),\n",
      " y = -1.63300418853759765625*(2**-124)]\n"
     ]
    }
   ],
   "source": [
    "x = FP('x', Float32())\n",
    "y = FP('y', Float32())\n",
    "\n",
    "check(\n",
    "    (y != 0, x==x, y==y, -30 < x, x < 30, -30 < y, y < 30),\n",
    "    res == x / y,\n",
    "    res * y == x\n",
    ")"
   ]
  },
  {
   "cell_type": "code",
   "execution_count": 50,
   "id": "49f1190e",
   "metadata": {},
   "outputs": [],
   "source": [
    "from z3 import FP, Float16"
   ]
  },
  {
   "cell_type": "code",
   "execution_count": 54,
   "id": "97e508aa",
   "metadata": {},
   "outputs": [
    {
     "name": "stdout",
     "output_type": "stream",
     "text": [
      "Specification is NOT valid. Counterexample:\n",
      "[y = -0.0, x = +0.0, res = NaN]\n"
     ]
    }
   ],
   "source": [
    "x = FP('x', Float16())\n",
    "y = FP('y', Float16())\n",
    "res = FP('res', Float16())\n",
    "\n",
    "check(\n",
    "    (y != 0, x==x, y==y, -30 < x, x < 30, -30 < y, y < 30),\n",
    "    res == x / y,\n",
    "    res * y == x\n",
    ")"
   ]
  },
  {
   "cell_type": "code",
   "execution_count": null,
   "id": "b0340302",
   "metadata": {},
   "outputs": [],
   "source": [
    "(0.0 / -0.0)"
   ]
  },
  {
   "cell_type": "code",
   "execution_count": 58,
   "id": "0b482a4c",
   "metadata": {},
   "outputs": [],
   "source": [
    "def check(pre=None, code=None, post=None, verbose=True):\n",
    "    pre  = [] if pre  is None else ([pre]  if not isinstance(pre, (list, tuple)) else list(pre))\n",
    "    code = [] if code is None else ([code] if not isinstance(code, (list, tuple)) else list(code))\n",
    "    post = [] if post is None else ([post] if not isinstance(post, (list, tuple)) else list(post))\n",
    "    s = Solver()\n",
    "    s.add(And(pre + code))\n",
    "    if post: s.add(Not(And(post)))   # refute the postcondition(s)\n",
    "    res = s.check()\n",
    "    if verbose:\n",
    "        if res == sat:\n",
    "            print(\"❌ NOT valid. Counterexample:\\n\", s.model())\n",
    "        else:\n",
    "            print(\"✅ Valid (unsat).\")\n",
    "    return res, (s.model() if res == sat else None)\n",
    "\n"
   ]
  },
  {
   "cell_type": "code",
   "execution_count": 61,
   "id": "78d5a276",
   "metadata": {},
   "outputs": [
    {
     "name": "stdout",
     "output_type": "stream",
     "text": [
      "✅ Valid (unsat).\n",
      "✅ Valid (unsat).\n"
     ]
    },
    {
     "data": {
      "text/plain": [
       "(unsat, None)"
      ]
     },
     "execution_count": 61,
     "metadata": {},
     "output_type": "execute_result"
    }
   ],
   "source": [
    "def telescoping_check(N: int, verbose=True):\n",
    "    \"\"\"\n",
    "    Prove: sum_i dudt[i]*dx == F[0] - F[N] for a 1-D FV divergence with N cells.\n",
    "    \"\"\"\n",
    "    assert N >= 1\n",
    "    dx  = Real('dx')\n",
    "    F   = [Real(f'F{i}') for i in range(N+1)]   # faces 0..N\n",
    "    dudt= [Real(f'd{i}') for i in range(N)]     # cells 0..N-1\n",
    "\n",
    "    pre  = [dx > 0]\n",
    "    code = [(dudt[i] == (F[i] - F[i+1]) / dx) for i in range(N)]\n",
    "    post = [ (sum(dudt)*dx == (F[0] - F[-1])) ]\n",
    "\n",
    "    return check(pre, code, post, verbose=verbose)\n",
    "\n",
    "# examples:\n",
    "telescoping_check(2)\n",
    "telescoping_check(5)"
   ]
  },
  {
   "cell_type": "code",
   "execution_count": 63,
   "id": "1b51fff2",
   "metadata": {},
   "outputs": [
    {
     "name": "stdout",
     "output_type": "stream",
     "text": [
      "✅ Valid (unsat).\n",
      "✅ Valid (unsat).\n"
     ]
    },
    {
     "data": {
      "text/plain": [
       "(unsat, None)"
      ]
     },
     "execution_count": 63,
     "metadata": {},
     "output_type": "execute_result"
    }
   ],
   "source": [
    "def telescoping_check(N: int, verbose=True):\n",
    "    \"\"\"\n",
    "    Prove: sum_i dudt[i]*dx == F[0] - F[N] for a 1-D FV divergence with N cells.\n",
    "    \"\"\"\n",
    "    assert N >= 1\n",
    "    dx  = Real('dx')\n",
    "    F   = [Real(f'F{i}') for i in range(N+1)]   # faces 0..N\n",
    "    dudt= [Real(f'd{i}') for i in range(N)]     # cells 0..N-1\n",
    "\n",
    "    pre  = [dx > 0]\n",
    "    code = [(dudt[i] == (F[i] - F[i+1]) / dx) for i in range(N)]\n",
    "    post = [ (sum(dudt)*dx == (F[0] - F[-1])) ]\n",
    "\n",
    "    return check(pre, code, post, verbose=verbose)\n",
    "\n",
    "# examples:\n",
    "telescoping_check(2)\n",
    "telescoping_check(5)"
   ]
  },
  {
   "cell_type": "code",
   "execution_count": 93,
   "id": "cdcf338a",
   "metadata": {},
   "outputs": [],
   "source": [
    "def _divergence(c, f, dx):\n",
    "    \"\"\"Finite-volume divergence for N cells given face fluxes F (len=N+1).\"\"\"\n",
    "    N = len(c)\n",
    "    return [c[i] == (f[i] - f[i+1]) / dx for i in range(N)]\n"
   ]
  },
  {
   "cell_type": "code",
   "execution_count": null,
   "id": "3432a39a",
   "metadata": {},
   "outputs": [],
   "source": [
    "def _diffusive_flux(f, c, kappa, dx):\n",
    "    \"\"\"Given a cell field (c), compute the diffusive flux (f).\"\"\"\n",
    "    N = len(c)\n",
    "    return [f[i] == -kappa * (c[i] - c[i-1]) / dx for i in range(1, N)]\n"
   ]
  },
  {
   "cell_type": "code",
   "execution_count": 88,
   "id": "aacc2f56",
   "metadata": {},
   "outputs": [],
   "source": [
    "def euler_step_constraints(u0, u1, dudt, dt):\n",
    "    \"\"\"Explicit Euler update: u^{n+1} = u^n + dt * dudt.\"\"\"\n",
    "    N = len(u0)\n",
    "    return [u1[i] == u0[i] + dt * dudt[i] for i in range(N)]\n"
   ]
  },
  {
   "cell_type": "code",
   "execution_count": 89,
   "id": "4134e945",
   "metadata": {},
   "outputs": [],
   "source": [
    "def conservation_property(u0, u1, dx, dt, F):\n",
    "    \"\"\"Check conservation: Δ(sum(u)*dx) == dt*(F0 - FN).\"\"\"\n",
    "    lhs = (sum(u1) - sum(u0)) * dx\n",
    "    rhs = dt * (F[0] - F[-1])\n",
    "    return lhs == rhs"
   ]
  },
  {
   "cell_type": "code",
   "execution_count": 90,
   "id": "e342e6e0",
   "metadata": {},
   "outputs": [],
   "source": [
    "u0 = [Real(f'u0_{i}') for i in range(3)]   # u at time n\n",
    "u = [Real(f'u1_{i}') for i in range(3)]   # u at time n+1\n",
    "d = [Real(f'd{i}') for i in range(3)]     # du/dt at time n\n",
    "F = [Real(f'F{i}') for i in range(4)]     # flux\n",
    "dx, dt, kappa = Real('dx'), Real('dt'), Real('kappa')"
   ]
  },
  {
   "cell_type": "code",
   "execution_count": 98,
   "id": "800ca486",
   "metadata": {},
   "outputs": [],
   "source": [
    "s = Solver()\n",
    "s.add(dx > 0)#, dt > 0)#, kappa >= 0)"
   ]
  },
  {
   "cell_type": "code",
   "execution_count": 99,
   "id": "2a1ba302",
   "metadata": {},
   "outputs": [],
   "source": [
    "s.add(_divergence(d, F, dx))\n",
    "s.add(flux_constraints(u0, F, kappa, dx))\n",
    "s.add(euler_step_constraints(u0, u, d, dt))\n"
   ]
  },
  {
   "cell_type": "code",
   "execution_count": 100,
   "id": "3c275b50",
   "metadata": {},
   "outputs": [
    {
     "data": {
      "text/html": [
       "<b>unsat</b>"
      ],
      "text/plain": [
       "unsat"
      ]
     },
     "execution_count": 100,
     "metadata": {},
     "output_type": "execute_result"
    }
   ],
   "source": [
    "s.check(Not(conservation_property(u0, u, dx, dt, F)))"
   ]
  },
  {
   "cell_type": "code",
   "execution_count": 101,
   "id": "e5b78536",
   "metadata": {},
   "outputs": [
    {
     "ename": "Z3Exception",
     "evalue": "model is not available",
     "output_type": "error",
     "traceback": [
      "\u001b[31m---------------------------------------------------------------------------\u001b[39m",
      "\u001b[31mZ3Exception\u001b[39m                               Traceback (most recent call last)",
      "\u001b[36mFile \u001b[39m\u001b[32m~/miniconda3/envs/r3sw/lib/python3.12/site-packages/z3/z3.py:7292\u001b[39m, in \u001b[36mSolver.model\u001b[39m\u001b[34m(self)\u001b[39m\n\u001b[32m   7291\u001b[39m \u001b[38;5;28;01mtry\u001b[39;00m:\n\u001b[32m-> \u001b[39m\u001b[32m7292\u001b[39m     \u001b[38;5;28;01mreturn\u001b[39;00m ModelRef(\u001b[43mZ3_solver_get_model\u001b[49m\u001b[43m(\u001b[49m\u001b[38;5;28;43mself\u001b[39;49m\u001b[43m.\u001b[49m\u001b[43mctx\u001b[49m\u001b[43m.\u001b[49m\u001b[43mref\u001b[49m\u001b[43m(\u001b[49m\u001b[43m)\u001b[49m\u001b[43m,\u001b[49m\u001b[43m \u001b[49m\u001b[38;5;28;43mself\u001b[39;49m\u001b[43m.\u001b[49m\u001b[43msolver\u001b[49m\u001b[43m)\u001b[49m, \u001b[38;5;28mself\u001b[39m.ctx)\n\u001b[32m   7293\u001b[39m \u001b[38;5;28;01mexcept\u001b[39;00m Z3Exception:\n",
      "\u001b[36mFile \u001b[39m\u001b[32m~/miniconda3/envs/r3sw/lib/python3.12/site-packages/z3/z3core.py:4345\u001b[39m, in \u001b[36mZ3_solver_get_model\u001b[39m\u001b[34m(a0, a1, _elems)\u001b[39m\n\u001b[32m   4344\u001b[39m r = _elems.f(a0, a1)\n\u001b[32m-> \u001b[39m\u001b[32m4345\u001b[39m \u001b[43m_elems\u001b[49m\u001b[43m.\u001b[49m\u001b[43mCheck\u001b[49m\u001b[43m(\u001b[49m\u001b[43ma0\u001b[49m\u001b[43m)\u001b[49m\n\u001b[32m   4346\u001b[39m \u001b[38;5;28;01mreturn\u001b[39;00m r\n",
      "\u001b[36mFile \u001b[39m\u001b[32m~/miniconda3/envs/r3sw/lib/python3.12/site-packages/z3/z3core.py:1581\u001b[39m, in \u001b[36mElementaries.Check\u001b[39m\u001b[34m(self, ctx)\u001b[39m\n\u001b[32m   1580\u001b[39m \u001b[38;5;28;01mif\u001b[39;00m err != \u001b[38;5;28mself\u001b[39m.OK:\n\u001b[32m-> \u001b[39m\u001b[32m1581\u001b[39m     \u001b[38;5;28;01mraise\u001b[39;00m \u001b[38;5;28mself\u001b[39m.Exception(\u001b[38;5;28mself\u001b[39m.get_error_message(ctx, err))\n",
      "\u001b[31mZ3Exception\u001b[39m: b'there is no current model'",
      "\nDuring handling of the above exception, another exception occurred:\n",
      "\u001b[31mZ3Exception\u001b[39m                               Traceback (most recent call last)",
      "\u001b[32m/var/folders/f1/1h2dc57x5yg621dmd5y0gx1w0000gp/T/ipykernel_26471/2283438259.py\u001b[39m in \u001b[36m?\u001b[39m\u001b[34m()\u001b[39m\n\u001b[32m----> \u001b[39m\u001b[32m1\u001b[39m s.model()\n",
      "\u001b[32m~/miniconda3/envs/r3sw/lib/python3.12/site-packages/z3/z3.py\u001b[39m in \u001b[36m?\u001b[39m\u001b[34m(self)\u001b[39m\n\u001b[32m   7290\u001b[39m         \"\"\"\n\u001b[32m   7291\u001b[39m         \u001b[38;5;28;01mtry\u001b[39;00m:\n\u001b[32m   7292\u001b[39m             \u001b[38;5;28;01mreturn\u001b[39;00m ModelRef(Z3_solver_get_model(self.ctx.ref(), self.solver), self.ctx)\n\u001b[32m   7293\u001b[39m         \u001b[38;5;28;01mexcept\u001b[39;00m Z3Exception:\n\u001b[32m-> \u001b[39m\u001b[32m7294\u001b[39m             \u001b[38;5;28;01mraise\u001b[39;00m Z3Exception(\u001b[33m\"model is not available\"\u001b[39m)\n",
      "\u001b[31mZ3Exception\u001b[39m: model is not available"
     ]
    }
   ],
   "source": [
    "s.model()"
   ]
  },
  {
   "cell_type": "code",
   "execution_count": null,
   "id": "620fd241",
   "metadata": {},
   "outputs": [],
   "source": []
  }
 ],
 "metadata": {
  "kernelspec": {
   "display_name": "r3sw",
   "language": "python",
   "name": "python3"
  },
  "language_info": {
   "codemirror_mode": {
    "name": "ipython",
    "version": 3
   },
   "file_extension": ".py",
   "mimetype": "text/x-python",
   "name": "python",
   "nbconvert_exporter": "python",
   "pygments_lexer": "ipython3",
   "version": "3.12.11"
  }
 },
 "nbformat": 4,
 "nbformat_minor": 5
}
