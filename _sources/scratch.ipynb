{
 "cells": [
  {
   "cell_type": "code",
   "execution_count": 47,
   "id": "a42f80ed",
   "metadata": {},
   "outputs": [
    {
     "name": "stdout",
     "output_type": "stream",
     "text": [
      "Overwriting check_div.py\n"
     ]
    }
   ],
   "source": [
    "%%writefile check_div.py\n",
    "import math\n",
    "\n",
    "def div(x: float, y: float) -> float:\n",
    "    assert y != 0\n",
    "    assert math.isfinite(x) and math.isfinite(y)\n",
    "    #print(f\"Dividing x={x} y={y}\")\n",
    "    res = x / y\n",
    "    assert res * y == x\n",
    "    return res"
   ]
  },
  {
   "cell_type": "code",
   "execution_count": 48,
   "id": "5a50bea9",
   "metadata": {},
   "outputs": [],
   "source": [
    "!crosshair check --analysis_kind=asserts check_div.py"
   ]
  },
  {
   "cell_type": "code",
   "execution_count": 49,
   "id": "09ce8db5",
   "metadata": {},
   "outputs": [
    {
     "name": "stdout",
     "output_type": "stream",
     "text": [
      "div(0.0, 1.0)\n",
      "div(0.0, float(\"inf\"))\n",
      "div(0.0, 0.0)\n"
     ]
    }
   ],
   "source": [
    "!crosshair cover check_div.py"
   ]
  },
  {
   "cell_type": "code",
   "execution_count": 50,
   "id": "a63b050b",
   "metadata": {},
   "outputs": [],
   "source": [
    "def div(x: float, y: float) -> float:\n",
    "    assert y != 0\n",
    "    res = x / y\n",
    "    assert res * y == x\n",
    "    return res\n"
   ]
  },
  {
   "cell_type": "code",
   "execution_count": 58,
   "id": "44d2dd50",
   "metadata": {},
   "outputs": [
    {
     "name": "stdout",
     "output_type": "stream",
     "text": [
      "No counterexamples (property holds).\n"
     ]
    }
   ],
   "source": [
    "from z3 import Real, Solver, sat\n",
    "\n",
    "# Declare symbolic variables\n",
    "x, y = Real('x'), Real('y')\n",
    "\n",
    "# Preconditions\n",
    "preconditions = [y != 0]\n",
    "\n",
    "# Postcondition\n",
    "res = x / y\n",
    "postcondition = (res * y == x)\n",
    "\n",
    "# Ask Z3: can preconditions hold AND postcondition fail?\n",
    "with Solver() as s:\n",
    "    \n",
    "    s.add(preconditions)\n",
    "    s.add(res * y != x)  # Negation of postcondition\n",
    "\n",
    "    if s.check() == sat:\n",
    "        print(\"Counterexample:\", s.model())\n",
    "    else:\n",
    "        print(\"No counterexamples (property holds).\")\n"
   ]
  },
  {
   "cell_type": "code",
   "execution_count": 59,
   "id": "2b59a582",
   "metadata": {},
   "outputs": [
    {
     "name": "stdout",
     "output_type": "stream",
     "text": [
      "Counterexample (floating-point): [y_fp = NaN, x_fp = -1.4716269969940185546875*(2**-96)]\n"
     ]
    }
   ],
   "source": [
    "from z3 import FP, Float32  # Need FP to create floating-point variables\n",
    "\n",
    "# Use separate variable names to avoid overwriting existing Real variables x, y\n",
    "x_fp = FP('x_fp', Float32())\n",
    "y_fp = FP('y_fp', Float32())\n",
    "\n",
    "# Preconditions for floating point version\n",
    "preconditions_fp = [y_fp != 0]\n",
    "\n",
    "# Postcondition (may fail due to rounding)\n",
    "res_fp = x_fp / y_fp\n",
    "postcondition_fp = (res_fp * y_fp == x_fp)\n",
    "\n",
    "# Ask Z3: can preconditions hold AND postcondition fail?\n",
    "s_fp = Solver()\n",
    "s_fp.add(preconditions_fp)\n",
    "s_fp.add(res_fp * y_fp != x_fp)  # Negation of postcondition\n",
    "\n",
    "if s_fp.check() == sat:\n",
    "    print(\"Counterexample (floating-point):\", s_fp.model())\n",
    "else:\n",
    "    print(\"No counterexamples (floating-point property holds).\")\n"
   ]
  },
  {
   "cell_type": "code",
   "execution_count": null,
   "id": "da2798f2",
   "metadata": {},
   "outputs": [],
   "source": []
  },
  {
   "cell_type": "code",
   "execution_count": null,
   "id": "be17717d",
   "metadata": {},
   "outputs": [],
   "source": []
  }
 ],
 "metadata": {
  "kernelspec": {
   "display_name": "r3sw",
   "language": "python",
   "name": "python3"
  },
  "language_info": {
   "codemirror_mode": {
    "name": "ipython",
    "version": 3
   },
   "file_extension": ".py",
   "mimetype": "text/x-python",
   "name": "python",
   "nbconvert_exporter": "python",
   "pygments_lexer": "ipython3",
   "version": "3.12.11"
  }
 },
 "nbformat": 4,
 "nbformat_minor": 5
}
