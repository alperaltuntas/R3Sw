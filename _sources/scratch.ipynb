{
 "cells": [
  {
   "cell_type": "code",
   "execution_count": 5,
   "id": "db19a037",
   "metadata": {},
   "outputs": [],
   "source": [
    "def mult(x, y):\n",
    "    assert y >= 0\n",
    "    k = 0\n",
    "    z = 0\n",
    "    while k < y:\n",
    "        assert z == k * x\n",
    "        k += 1\n",
    "        z += x\n",
    "        assert z == k * x\n",
    "    return z"
   ]
  },
  {
   "cell_type": "code",
   "execution_count": null,
   "id": "cab16640",
   "metadata": {},
   "outputs": [],
   "source": [
    "def intdiv(x ,y):\n",
    "    assert x >= 0\n",
    "    assert y > 0\n",
    "    while r >= y:\n",
    "        r -= y"
   ]
  },
  {
   "cell_type": "code",
   "execution_count": 6,
   "id": "a1e7479d",
   "metadata": {},
   "outputs": [
    {
     "data": {
      "text/plain": [
       "15"
      ]
     },
     "execution_count": 6,
     "metadata": {},
     "output_type": "execute_result"
    }
   ],
   "source": [
    "mult(3,5)"
   ]
  },
  {
   "cell_type": "code",
   "execution_count": 36,
   "id": "7a089bf5",
   "metadata": {},
   "outputs": [],
   "source": [
    "def fac(n):\n",
    "    if n > 1:\n",
    "        return n * fac(n-1)\n",
    "    else:\n",
    "        return 1"
   ]
  },
  {
   "cell_type": "code",
   "execution_count": 37,
   "id": "53fd21ed",
   "metadata": {},
   "outputs": [
    {
     "name": "stdout",
     "output_type": "stream",
     "text": [
      "CPU times: user 31 μs, sys: 22 μs, total: 53 μs\n",
      "Wall time: 57.2 μs\n"
     ]
    },
    {
     "data": {
      "text/plain": [
       "57133839564458545904789328652610540031895535786011264182548375833179829124845398393126574488675311145377107878746854204162666250198684504466355949195922066574942592095735778929325357290444962472405416790722118445437122269675520000000000000000000000000000000000000"
      ]
     },
     "execution_count": 37,
     "metadata": {},
     "output_type": "execute_result"
    }
   ],
   "source": [
    "%%time\n",
    "fac(150)"
   ]
  },
  {
   "cell_type": "code",
   "execution_count": 38,
   "id": "55d20162",
   "metadata": {},
   "outputs": [],
   "source": [
    "def fac(n):\n",
    "    k = 0\n",
    "    f = 1\n",
    "    while k < n:\n",
    "        k += 1\n",
    "        f *= k\n",
    "    return f"
   ]
  },
  {
   "cell_type": "code",
   "execution_count": 39,
   "id": "d5c985ed",
   "metadata": {},
   "outputs": [
    {
     "name": "stdout",
     "output_type": "stream",
     "text": [
      "CPU times: user 20 μs, sys: 1 μs, total: 21 μs\n",
      "Wall time: 23.8 μs\n"
     ]
    },
    {
     "data": {
      "text/plain": [
       "57133839564458545904789328652610540031895535786011264182548375833179829124845398393126574488675311145377107878746854204162666250198684504466355949195922066574942592095735778929325357290444962472405416790722118445437122269675520000000000000000000000000000000000000"
      ]
     },
     "execution_count": 39,
     "metadata": {},
     "output_type": "execute_result"
    }
   ],
   "source": [
    "%%time\n",
    "fac(150)"
   ]
  },
  {
   "cell_type": "code",
   "execution_count": 41,
   "id": "70ffdedb",
   "metadata": {},
   "outputs": [],
   "source": [
    "import numpy as np"
   ]
  },
  {
   "cell_type": "code",
   "execution_count": 42,
   "id": "a952cfa4",
   "metadata": {},
   "outputs": [],
   "source": [
    "# create a numpy array with random number between 0 and 1:\n",
    "arr = np.random.rand(100)"
   ]
  },
  {
   "cell_type": "code",
   "execution_count": 43,
   "id": "a00476e9",
   "metadata": {},
   "outputs": [
    {
     "data": {
      "text/plain": [
       "array([0.95871809, 0.50431525, 0.312198  , 0.65707839, 0.61826706,\n",
       "       0.13469539, 0.2880884 , 0.36055625, 0.3947069 , 0.03281793,\n",
       "       0.22253951, 0.02600889, 0.48654752, 0.52286754, 0.64498851,\n",
       "       0.10208027, 0.55811722, 0.4838407 , 0.63285058, 0.17730075,\n",
       "       0.3983198 , 0.31474612, 0.27980401, 0.41558305, 0.58690247,\n",
       "       0.50459756, 0.40284853, 0.69902083, 0.90138163, 0.51018693,\n",
       "       0.90995718, 0.6287358 , 0.55954788, 0.29671631, 0.16083373,\n",
       "       0.70988071, 0.90490407, 0.22362193, 0.67805226, 0.62600366,\n",
       "       0.25565602, 0.48819371, 0.30034874, 0.20441551, 0.56935576,\n",
       "       0.96950693, 0.88296689, 0.93950195, 0.49095827, 0.6296728 ,\n",
       "       0.71923183, 0.81364468, 0.16426221, 0.77938285, 0.59014043,\n",
       "       0.98039696, 0.32940962, 0.23042995, 0.45327409, 0.86708643,\n",
       "       0.96855377, 0.65048685, 0.59767627, 0.36925174, 0.14859245,\n",
       "       0.65153934, 0.7455679 , 0.31067714, 0.63672091, 0.60484334,\n",
       "       0.77501894, 0.26430361, 0.48255351, 0.863149  , 0.37246988,\n",
       "       0.5629166 , 0.81159018, 0.84925144, 0.20262319, 0.91253169,\n",
       "       0.60680729, 0.1854973 , 0.80802791, 0.10803581, 0.28282313,\n",
       "       0.70969365, 0.49928108, 0.44658769, 0.12841871, 0.21470074,\n",
       "       0.80261083, 0.9425906 , 0.28904938, 0.69671678, 0.26454175,\n",
       "       0.94442082, 0.70259194, 0.2789497 , 0.17917762, 0.31849706])"
      ]
     },
     "execution_count": 43,
     "metadata": {},
     "output_type": "execute_result"
    }
   ],
   "source": [
    "arr"
   ]
  },
  {
   "cell_type": "code",
   "execution_count": 45,
   "id": "4576ce5b",
   "metadata": {},
   "outputs": [
    {
     "data": {
      "text/plain": [
       "np.float64(0.06693050781917315)"
      ]
     },
     "execution_count": 45,
     "metadata": {},
     "output_type": "execute_result"
    }
   ],
   "source": [
    "# compute variance of a given numpy array arr:\n",
    "arr.var()"
   ]
  },
  {
   "cell_type": "code",
   "execution_count": null,
   "id": "01bb961a",
   "metadata": {},
   "outputs": [],
   "source": [
    "# define a function that computes the variance of a given numpy array\n",
    "def compute_variance(arr):\n",
    "    N = arr.size\n",
    "    arr_mean = arr.sum() / N\n",
    "    \n",
    "    \n",
    "    return squared_diffs.sum() / N"
   ]
  },
  {
   "cell_type": "code",
   "execution_count": 50,
   "id": "361a3cf6",
   "metadata": {},
   "outputs": [
    {
     "data": {
      "text/plain": [
       "np.float64(0.06693050781917315)"
      ]
     },
     "execution_count": 50,
     "metadata": {},
     "output_type": "execute_result"
    }
   ],
   "source": [
    "compute_variance(arr)"
   ]
  },
  {
   "cell_type": "code",
   "execution_count": null,
   "id": "1b56f1d4",
   "metadata": {},
   "outputs": [],
   "source": [
    "def runavg(data, W):\n",
    "    \"\"\"Compute a running average of a given dataset.\n",
    "\n",
    "    Parameters\n",
    "    ----------\n",
    "    data: numpy.ndarray\n",
    "        The input array for which the running average is to be computed.\n",
    "    W: int\n",
    "        The window size for computing the running average.\n",
    "\n",
    "    Returns\n",
    "    -------\n",
    "    numpy.ndarray\n",
    "        An array containing the running averages.\n",
    "    \"\"\"\n",
    "    \n",
    "    pass # todo"
   ]
  },
  {
   "cell_type": "code",
   "execution_count": null,
   "id": "e379a70d",
   "metadata": {},
   "outputs": [],
   "source": []
  }
 ],
 "metadata": {
  "kernelspec": {
   "display_name": "r3sw",
   "language": "python",
   "name": "python3"
  },
  "language_info": {
   "codemirror_mode": {
    "name": "ipython",
    "version": 3
   },
   "file_extension": ".py",
   "mimetype": "text/x-python",
   "name": "python",
   "nbconvert_exporter": "python",
   "pygments_lexer": "ipython3",
   "version": "3.12.11"
  }
 },
 "nbformat": 4,
 "nbformat_minor": 5
}
