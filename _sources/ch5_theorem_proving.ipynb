{
 "cells": [
  {
   "cell_type": "markdown",
   "id": "5e2b7254",
   "metadata": {},
   "source": [
    "# Chapter 5: Theorem Proving\n",
    "\n",
    "> Testing can be used to show the presence of bugs, but never to show their absence. - Edsger W. Dijkstra\n",
    "\n",
    "Unit tests (Ch.3) and property-based tests (Ch.4) give us confidence, but they still sample the input space. To climb the next rung on the ladder of rigor, we turn to **theorem proving**, a formal verification technique.\n",
    "\n",
    "In this chapter we will:\n",
    "\n",
    " - Use a theorem prover to check whether properties hold for all possible inputs (within specified ranges).\n",
    " - Encode the *what* of our computations, rather than the *how*, to make reasoning possible.\n",
    " - Explore both the strengths and the limits of theorem proving, and see how it complements testing.\n",
    "\n",
    "Theorem proving provides guarantees that testing alone cannot match. But these guarantees come at a cost:\n",
    "\n",
    " - **Encoding effort:** you must write down precise specifications and constraints.\n",
    " - **Computational expense:** solvers can become slow or intractable as problem size grows.\n",
    "\n",
    "In practice, theorem proving shines on select **critical** routines (where correctness is paramount) and core algorithms (where tests may miss subtle edge cases).\n",
    "\n",
    "## Small Scope Hypothesis\n",
    "\n",
    "Formal methods may not scale to arbitrarily large programs or input sizes. For example, we may only be able to prove properties of our heat equation solver for small meshes (e.g., 10-100 points). But this is still useful in practice, thanks to the **small scope hypothesis** (coined by Daniel Jackson):\n",
    "\n",
    "> A high proportion of bugs can be found by checking a program for all inputs within some small scope.\n",
    "\n",
    "Even such small proofs can expose bugs or confirm that a property is mathematically guaranteed under the right conditions."
   ]
  },
  {
   "cell_type": "markdown",
   "id": "00c245fe",
   "metadata": {},
   "source": [
    "## The Z3 Theorem Prover\n",
    "\n",
    "Z3 is a popular theorem prover developed by Microsoft Research. Workflow:\n",
    " - Declare symbolic variables (like `x`, `y`, `res`).\n",
    " - State constraints: preconditions `P` and the effects of the `code`.\n",
    " - Assert the postconditions `Q` you want to hold.\n",
    " - Ask Z3 to search for a counterexample to `P and code implies Q`.\n",
    "   - If it finds a counterexample, the property is not universally valid.\n",
    "   - If no counterexample exists, the property is proven (for the chosen theory and input size).\n",
    "\n",
    "Unlike testing, which explores a handful of examples, Z3 can reason over all inputs in one shot.\n",
    "\n",
    "We’ll use Z3’s Python API, z3py."
   ]
  },
  {
   "cell_type": "markdown",
   "id": "847c547f",
   "metadata": {},
   "source": [
    "### Declaring Variables\n",
    "\n",
    "Z3 supports many symbolic types: integers, reals, booleans, bit-vectors, arrays, strings, and more. These are not ordinary variables but symbols that range over all possible values of their type, constrained only by what you add later."
   ]
  },
  {
   "cell_type": "code",
   "execution_count": 1,
   "id": "390b8743",
   "metadata": {},
   "outputs": [],
   "source": [
    "from z3 import Bool, Int, Real\n",
    "\n",
    "p = Bool('p')\n",
    "i = Int('i')\n",
    "x = Real('x')"
   ]
  },
  {
   "cell_type": "markdown",
   "id": "25784a55",
   "metadata": {},
   "source": [
    "Multiple variables can be declared at once:"
   ]
  },
  {
   "cell_type": "code",
   "execution_count": 2,
   "id": "5668a591",
   "metadata": {},
   "outputs": [],
   "source": [
    "from z3 import Bools, Ints, Reals\n",
    "\n",
    "p, q = Bools('p q')\n",
    "i, j, k = Ints('i j k')\n",
    "x, y, z, res = Reals('x y z res')"
   ]
  },
  {
   "cell_type": "markdown",
   "id": "2633d05c",
   "metadata": {},
   "source": [
    "You can also create arrays programmatically:"
   ]
  },
  {
   "cell_type": "code",
   "execution_count": 3,
   "id": "1870b7ee",
   "metadata": {},
   "outputs": [],
   "source": [
    "F = [Real(f'F{i}') for i in range(10)]"
   ]
  },
  {
   "cell_type": "markdown",
   "id": "cbffaae0",
   "metadata": {},
   "source": [
    "Here:\n",
    " - The strings on the RHS are names Z3 uses internally to identify the variables.\n",
    " - The Python variables on the LHS are what you’ll use in your constraints and properties.\n",
    "\n",
    "They don’t have to match, but keeping them consistent avoids confusion."
   ]
  },
  {
   "cell_type": "code",
   "execution_count": 4,
   "id": "1aa619e1",
   "metadata": {},
   "outputs": [
    {
     "data": {
      "text/plain": [
       "(x, y, res)"
      ]
     },
     "execution_count": 4,
     "metadata": {},
     "output_type": "execute_result"
    }
   ],
   "source": [
    "x, y, res"
   ]
  },
  {
   "cell_type": "code",
   "execution_count": 5,
   "id": "9c077394",
   "metadata": {},
   "outputs": [
    {
     "data": {
      "text/plain": [
       "(F0, F1, F2)"
      ]
     },
     "execution_count": 5,
     "metadata": {},
     "output_type": "execute_result"
    }
   ],
   "source": [
    "F[0], F[1], F[2]"
   ]
  },
  {
   "cell_type": "markdown",
   "id": "be3b8797",
   "metadata": {},
   "source": [
    "### Declarative Style\n",
    "\n",
    "Z3 is declarative: you describe what must hold, not how to compute.\n",
    "That means:\n",
    " - You don't *assign* values to variables.\n",
    " - Instead, you *constrain* variables with equations and (in)equalities.\n",
    "\n",
    "For example:"
   ]
  },
  {
   "cell_type": "code",
   "execution_count": 6,
   "id": "02f1f002",
   "metadata": {},
   "outputs": [
    {
     "data": {
      "text/html": [
       "y &ge; x + 1"
      ],
      "text/plain": [
       "y >= x + 1"
      ]
     },
     "execution_count": 6,
     "metadata": {},
     "output_type": "execute_result"
    }
   ],
   "source": [
    "x == 0        # a Boolean formula (not an assignment)\n",
    "y >= x + 1    # another Boolean formula"
   ]
  },
  {
   "cell_type": "markdown",
   "id": "cb57be46",
   "metadata": {},
   "source": [
    "On their own, these Boolean formulas don’t do anything, but once added to a solver, Z3 will try to find values of `x` and `y` that make them true."
   ]
  },
  {
   "cell_type": "markdown",
   "id": "9c39e600",
   "metadata": {},
   "source": [
    "### The Z3 Solver\n",
    "\n",
    "A solver collects constraints and checks *satisfiability*."
   ]
  },
  {
   "cell_type": "code",
   "execution_count": 7,
   "id": "e2f64638",
   "metadata": {},
   "outputs": [],
   "source": [
    "from z3 import Solver\n",
    "\n",
    "# Instantiate a solver object\n",
    "s = Solver()\n",
    "\n",
    "# Add constraints to the solver\n",
    "s.add(x == 0)\n",
    "s.add(y == x + 1)"
   ]
  },
  {
   "cell_type": "markdown",
   "id": "ad72de3c",
   "metadata": {},
   "source": [
    "If the constraints are contradictory, the solver will report `unsat` (unsatisfiable). If they can be satisfied, it will report `sat` (satisfiable)."
   ]
  },
  {
   "cell_type": "code",
   "execution_count": 8,
   "id": "6cb5d0a3",
   "metadata": {},
   "outputs": [
    {
     "data": {
      "text/html": [
       "<b>sat</b>"
      ],
      "text/plain": [
       "sat"
      ]
     },
     "execution_count": 8,
     "metadata": {},
     "output_type": "execute_result"
    }
   ],
   "source": [
    "s.check()"
   ]
  },
  {
   "cell_type": "markdown",
   "id": "38e2b036",
   "metadata": {},
   "source": [
    "#### sat vs. unsat"
   ]
  },
  {
   "cell_type": "code",
   "execution_count": 10,
   "id": "fd2ae2bc",
   "metadata": {},
   "outputs": [],
   "source": [
    "from z3 import sat, unsat"
   ]
  },
  {
   "cell_type": "markdown",
   "id": "03f3d24f",
   "metadata": {},
   "source": [
    " - **Satisfiable** means there is at least one assignment of values to the variables that satisfies all the constraints.\n",
    " - **Unsatisfiable** means there is no assignment of values to the variables that satisfies all the constraints."
   ]
  },
  {
   "cell_type": "markdown",
   "id": "55e00940",
   "metadata": {},
   "source": [
    "### Logical Connectives\n",
    "\n",
    "Z3 supports standard logical connectives:"
   ]
  },
  {
   "cell_type": "code",
   "execution_count": 11,
   "id": "045c9ee9",
   "metadata": {},
   "outputs": [],
   "source": [
    "from z3 import And, Or, Not, Implies, If"
   ]
  },
  {
   "cell_type": "markdown",
   "id": "7043c1e6",
   "metadata": {},
   "source": [
    "\n",
    " - `And(a, b, ...)` - all must be true\n",
    " - `Or(a, b, ...)` - at least one must be true\n",
    " - `Not(a)` - negation\n",
    " - `Implies(a, b)` - if `a` is true, then `b` must be true\n",
    " - `If(a, b, c)` - if `a` is true, then `b`, else `c`"
   ]
  },
  {
   "cell_type": "markdown",
   "id": "b3be4a6f",
   "metadata": {},
   "source": [
    "### From Specs to Proofs\n",
    "\n",
    "Let's revisit our simple `div` function:"
   ]
  },
  {
   "cell_type": "code",
   "execution_count": 12,
   "id": "8170f78b",
   "metadata": {},
   "outputs": [],
   "source": [
    "def div(x, y):\n",
    "    assert y != 0           # precondition\n",
    "    res = x / y             # code\n",
    "    assert res * y == x     # postcondition\n",
    "    return res"
   ]
  },
  {
   "cell_type": "markdown",
   "id": "aabd766c",
   "metadata": {},
   "source": [
    "We can’t feed this Python directly to Z3, but we can encode the same idea declaratively:"
   ]
  },
  {
   "cell_type": "code",
   "execution_count": 13,
   "id": "a0caeea4",
   "metadata": {},
   "outputs": [],
   "source": [
    "def div(res, x, y):\n",
    "    return And(\n",
    "        y != 0,          # precondition\n",
    "        res == x / y,    # code\n",
    "        res * y == x     # postcondition\n",
    "    )"
   ]
  },
  {
   "cell_type": "markdown",
   "id": "709c6f1d",
   "metadata": {},
   "source": [
    "Now, we can check:"
   ]
  },
  {
   "cell_type": "code",
   "execution_count": 14,
   "id": "cbcdec91",
   "metadata": {},
   "outputs": [
    {
     "data": {
      "text/html": [
       "<b>sat</b>"
      ],
      "text/plain": [
       "sat"
      ]
     },
     "execution_count": 14,
     "metadata": {},
     "output_type": "execute_result"
    }
   ],
   "source": [
    "# Create a solver:\n",
    "s = Solver()\n",
    "\n",
    "# *call* div(res, x, y) with symbolic variables:\n",
    "s.add(div(*Reals('res x y')))\n",
    "\n",
    "# Check if the div constraints are satisfiable:\n",
    "s.check()"
   ]
  },
  {
   "cell_type": "markdown",
   "id": "1de100b9",
   "metadata": {},
   "source": [
    "This just tells us “there exists at least one input where it works.”\n",
    "\n",
    "To prove it works for all inputs, we flip the logic:"
   ]
  },
  {
   "cell_type": "code",
   "execution_count": 15,
   "id": "4ebc6b9d",
   "metadata": {},
   "outputs": [],
   "source": [
    "from z3 import Not\n",
    "\n",
    "def div(res, x, y):\n",
    "    return And(\n",
    "        y != 0,\n",
    "        res == x / y,\n",
    "        Not(res * y == x)   # negated postcondition\n",
    "    )"
   ]
  },
  {
   "cell_type": "code",
   "execution_count": 16,
   "id": "eb3e2c10",
   "metadata": {},
   "outputs": [
    {
     "data": {
      "text/html": [
       "<b>unsat</b>"
      ],
      "text/plain": [
       "unsat"
      ]
     },
     "execution_count": 16,
     "metadata": {},
     "output_type": "execute_result"
    }
   ],
   "source": [
    "# Create a solver:\n",
    "s = Solver()\n",
    "\n",
    "# *call* div(res, x, y) with symbolic variables:\n",
    "s.add(div(*Reals('res x y')))\n",
    "\n",
    "# Check if the div constraints are satisfiable:\n",
    "s.check()"
   ]
  },
  {
   "cell_type": "markdown",
   "id": "865590cc",
   "metadata": {},
   "source": [
    "Now Z3 confirms: there are no inputs (with y != 0) that break the postcondition, so the property holds universally, at least in real arithmetic."
   ]
  },
  {
   "cell_type": "markdown",
   "id": "73fae78e",
   "metadata": {},
   "source": [
    "### Real vs Floating-Point\n",
    "\n",
    "Note that we used Reals. Real arithmetic is exact; floating-point is not.\n",
    "That's why Z3 didn't *see* the earlier 7/25 counterexample.\n",
    " - Reals are good for proving mathematical properties of algorithms.\n",
    " - Floating-point (`FP` in Z3) lets you model IEEE-754 semantics, but is heavier and harder to reason about exhaustively.\n",
    "\n",
    "For our purposes, reasoning in reals is an advantage: it abstracts away round-off details and lets us focus on the algorithm’s conceptual correctness. Floating-point quirks can be handled later with testing or targeted FP analysis.\n",
    "\n",
    "### Why this matters\n",
    "\n",
    "Even with these limitations, Z3 gives you something testing cannot:\n",
    " - It can prove absence of counterexamples within a theory.\n",
    " - It can quickly expose missing or too-weak preconditions.\n",
    " - It can find subtle edge cases that tests might miss.\n",
    "\n",
    "In short, testing may show the presence of bugs; theorem proving will show their absence within specified bounds.\n"
   ]
  },
  {
   "cell_type": "markdown",
   "id": "b6b4a7ca",
   "metadata": {},
   "source": [
    "## Back to the Heat Equation Solver\n",
    "\n",
    "We’ll now reason about our finite-volume 1-D diffusion solver. \n",
    "\n",
    "So far we've worked *imperatively*, writing code that *does* things step-by-step. To use Z3, we need to switch to a more *declarative* style, describing *what* the code should achieve rather than *how* it does so.\n",
    "\n",
    "### Telescoping Property\n",
    "\n",
    "As a first step, let's prove the **telescoping property of divergence**: The sum of the divergence over all cells equals the net flux through the boundaries.\n",
    "\n",
    "$\\qquad\n",
    "\\sum_{i=0}^{N-1} (\\nabla \\cdot F)_i = F_0 - F_N\n",
    "\\qquad$\n",
    "\n",
    "\n",
    "To do so, we'll re-express the divergence procedure as a constraint generator: a function that takes Z3 variables and returns Z3 constraints representing the original procedure's behavior.\n",
    "\n",
    "Recall the divergence function and the telescoping property (assertions omitted for brevity):"
   ]
  },
  {
   "cell_type": "code",
   "execution_count": 17,
   "id": "c487460e",
   "metadata": {},
   "outputs": [],
   "source": [
    "def divergence(c, f, dx):\n",
    "    \"\"\"Compute the divergence of face quantities (f) and store in (c).\"\"\"\n",
    "    for i in range(len(c)):\n",
    "        c[i] = (f[i] - f[i+1]) / dx\n",
    "\n",
    "def telescoping(c, f, dx):\n",
    "    \"\"\"Check the finite volume telescoping property.\"\"\"\n",
    "    total_divergence = sum(c) * dx\n",
    "    boundary_flux = f[0] - f[-1]\n",
    "    return total_divergence == approx(boundary_flux)"
   ]
  },
  {
   "cell_type": "markdown",
   "id": "7650963a",
   "metadata": {},
   "source": [
    "The Z3 versions of these functions:"
   ]
  },
  {
   "cell_type": "code",
   "execution_count": 18,
   "id": "bf5ae4c0",
   "metadata": {},
   "outputs": [],
   "source": [
    "def divergence(c, f, dx):\n",
    "    \"\"\"Compute the divergence of face quantities (f) and store in (c).\"\"\"\n",
    "    N = len(c)\n",
    "    return [c[i] == (f[i] - f[i+1]) / dx for i in range(N)]\n",
    "\n",
    "def telescoping(c, f, dx):\n",
    "    \"\"\"Check the finite volume telescoping property.\"\"\"\n",
    "    N = len(c)\n",
    "    total_divergence = sum(c[i] for i in range(N)) * dx\n",
    "    boundary_flux = f[0] - f[-1]\n",
    "    return total_divergence == boundary_flux"
   ]
  },
  {
   "cell_type": "markdown",
   "id": "1d3faa15",
   "metadata": {},
   "source": [
    "Notice we no longer need the `approx` helper since Z3 handles real arithmetic exactly.\n",
    "\n",
    "To call these functions, we need to pass Z3 variables:"
   ]
  },
  {
   "cell_type": "code",
   "execution_count": 19,
   "id": "cc133204",
   "metadata": {},
   "outputs": [],
   "source": [
    "N = 3 # number of cells\n",
    "dx, dt, kappa = Reals('dx dt kappa')\n",
    "f = [Real(f'f{i}') for i in range(N+1)]\n",
    "c = [Real(f'c{i}') for i in range(N)]"
   ]
  },
  {
   "cell_type": "markdown",
   "id": "d49bb39a",
   "metadata": {},
   "source": [
    "Now we can set up a solver to check the telescoping property:"
   ]
  },
  {
   "cell_type": "code",
   "execution_count": 20,
   "id": "a26dc779",
   "metadata": {},
   "outputs": [
    {
     "data": {
      "text/html": [
       "<b>unsat</b>"
      ],
      "text/plain": [
       "unsat"
      ]
     },
     "execution_count": 20,
     "metadata": {},
     "output_type": "execute_result"
    }
   ],
   "source": [
    "s = Solver()\n",
    "s.add(dx > 0, dt > 0, kappa > 0)  # Preconditions:physical constraints\n",
    "s.add(divergence(c, f, dx))       # code: divergence\n",
    "s.add(Not(telescoping(c, f, dx))) # Postcondition: telescoping property\n",
    "s.check()"
   ]
  },
  {
   "cell_type": "markdown",
   "id": "14995ad8",
   "metadata": {},
   "source": [
    "The Z3 solver confirms `unsat`: there are no inputs that violate the telescoping property, so it holds universally for all valid inputs where N=3. Let's attempt to increase N and see how far we can go before Z3 struggles."
   ]
  },
  {
   "cell_type": "code",
   "execution_count": 21,
   "id": "5614683f",
   "metadata": {},
   "outputs": [],
   "source": [
    "def prove_telescoping(N):\n",
    "    dx = Real('dx')\n",
    "    f = [Real(f'f{i}') for i in range(N+1)]\n",
    "    c = [Real(f'c{i}') for i in range(N)]\n",
    "\n",
    "    s = Solver()\n",
    "    s.add(dx > 0)                    # Preconditions: physical constraints\n",
    "    s.add(divergence(c, f, dx))      # code: divergence\n",
    "    s.add(Not(telescoping(c, f, dx)))# Postcondition: telescoping property\n",
    "    return s.check() == unsat"
   ]
  },
  {
   "cell_type": "code",
   "execution_count": 22,
   "id": "2ef26ab3",
   "metadata": {},
   "outputs": [
    {
     "name": "stdout",
     "output_type": "stream",
     "text": [
      "i=3, result=True, time=0.007091045379638672\n",
      "i=6, result=True, time=0.008424043655395508\n",
      "i=12, result=True, time=0.011858940124511719\n",
      "i=24, result=True, time=0.02184295654296875\n",
      "i=48, result=True, time=0.05122995376586914\n",
      "i=96, result=True, time=0.1603546142578125\n",
      "i=192, result=True, time=0.7051713466644287\n",
      "i=384, result=True, time=3.7941009998321533\n"
     ]
    }
   ],
   "source": [
    "import time\n",
    "\n",
    "i = 3\n",
    "while True:\n",
    "    start_time = time.time()\n",
    "    result = prove_telescoping(i)\n",
    "    elapsed_time = time.time() - start_time\n",
    "    print(f'i={i}, result={result}, time={elapsed_time}')\n",
    "    if elapsed_time > 2:  # Stop if it takes too long\n",
    "        break\n",
    "    i *= 2"
   ]
  },
  {
   "cell_type": "markdown",
   "id": "09a6adb0",
   "metadata": {},
   "source": [
    "### Core Procedures as Constraints\n",
    "\n",
    "Let's re-express all of the core procedures of the heat equation solver \n",
    "as **constraint generators**: functions that take Z3 variables and return Z3 constraints representing\n",
    "the original procedures' behavior."
   ]
  },
  {
   "cell_type": "code",
   "execution_count": 23,
   "id": "b1f0b798",
   "metadata": {},
   "outputs": [],
   "source": [
    "def apply_bc(f, bc):\n",
    "    \"\"\"Apply BCs by overriding first and last face quantities (f).\"\"\"\n",
    "    return [f[0] == bc[0], f[-1] == bc[1]]\n",
    "\n",
    "def diffusive_flux(f, c, kappa, dx):\n",
    "    \"\"\"Given a cell field (c), compute the diffusive flux (f).\"\"\"\n",
    "    N = len(c)\n",
    "    return [f[i] == -kappa * (c[i] - c[i-1]) / dx for i in range(1, N)]\n",
    "\n",
    "def divergence(c, f, dx):\n",
    "    \"\"\"Compute the divergence of face quantities (f) and store in (c).\"\"\"\n",
    "    N = len(c)\n",
    "    return [c[i] == (f[i] - f[i+1]) / dx for i in range(N)]\n",
    "\n",
    "def step_heat_eqn(u0, u1, divF, dt):\n",
    "    \"\"\"Advance cell field u by one time step using explicit Euler method.\"\"\"\n",
    "    N = len(u0)\n",
    "    return [u1[i] == u0[i] + dt * divF[i] for i in range(N)]"
   ]
  },
  {
   "cell_type": "markdown",
   "id": "9b928207",
   "metadata": {},
   "source": [
    "We'll use these declarative versions of the core computations to model the heat equation time step and prove properties about it.\n",
    "\n",
    "Having specified these core computations declaratively, now let's define the symbolic variables. In unit tests, we handpicked specific inputs. In property-based tests, we sampled many inputs randomly. Here, we define symbolic variables that represent *all possible* inputs within specified bounds."
   ]
  },
  {
   "cell_type": "code",
   "execution_count": 28,
   "id": "1d373dde",
   "metadata": {},
   "outputs": [],
   "source": [
    "# Define the parameters\n",
    "dx, dt, kappa = Reals(\"dx dt kappa\")\n",
    "\n",
    "# Boundary conditions\n",
    "bc = Reals(\"bc0 bc1\")\n",
    "\n",
    "# Define the vectors based on mesh size N\n",
    "def allocate_vectors(N):\n",
    "    u_old = [Real(f\"u_old_{i}\") for i in range(N)]\n",
    "    u_new = [Real(f\"u_new_{i}\") for i in range(N)]\n",
    "    divF = [Real(f\"divF_{i}\") for i in range(N)]\n",
    "    F = [Real(f\"F{i}\") for i in range(N+1)]\n",
    "    return u_old, u_new, divF, F"
   ]
  },
  {
   "cell_type": "markdown",
   "id": "80abbf71",
   "metadata": {},
   "source": [
    "### Proving a property\n",
    "\n",
    "Below, we define a helper function to run the Solver `check` method. If the solver returns `unsat`, the property holds; otherwise, we print a counterexample."
   ]
  },
  {
   "cell_type": "code",
   "execution_count": 71,
   "id": "337303bf",
   "metadata": {},
   "outputs": [],
   "source": [
    "def prove(s):\n",
    "    if s.check() == unsat:\n",
    "        print(\"Property holds.\")\n",
    "    else:\n",
    "        print(\"Property does NOT hold!\")\n",
    "        print(\"Below is a counterexample:\")\n",
    "        print(s.model())"
   ]
  },
  {
   "cell_type": "markdown",
   "id": "d38b121e",
   "metadata": {},
   "source": [
    "We are now ready to state and prove more properties about our heat equation solver.\n",
    "\n",
    "### Conservation\n",
    "\n",
    "Recall the below encoding of the **conservation property** from the previous chapters:"
   ]
  },
  {
   "cell_type": "code",
   "execution_count": 60,
   "id": "e459ef70",
   "metadata": {},
   "outputs": [],
   "source": [
    "def heat_is_conserved(u_old, u_new, dt, dx, bc):\n",
    "    \"\"\"Check if heat is conserved.\"\"\"\n",
    "    lhs = sum(u_new) * dx\n",
    "    rhs = sum(u_old) * dx + dt * (bc[0] - bc[1])\n",
    "    return lhs == rhs"
   ]
  },
  {
   "cell_type": "code",
   "execution_count": 64,
   "id": "4a4fe0b2",
   "metadata": {},
   "outputs": [],
   "source": [
    "def prove_conservation(N=5):\n",
    "    s = Solver()\n",
    "\n",
    "    # Allocate vectors\n",
    "    u_old, u_new, divF, F = allocate_vectors(N)\n",
    "\n",
    "    # Positive, arbitrary parameters\n",
    "    s.add(dx > 0, dt > 0, kappa > 0)\n",
    "\n",
    "    # Model the heat equation time step\n",
    "    s.add(apply_bc(F, bc))\n",
    "    s.add(diffusive_flux(F, u_old, kappa, dx))\n",
    "    s.add(divergence(divF, F, dx))\n",
    "    s.add(step_heat_eqn(u_old, u_new, divF, dt))\n",
    "\n",
    "    # Attempt to disprove conservation\n",
    "    s.add(Not(heat_is_conserved(u_old, u_new, dt, dx, bc)))\n",
    "\n",
    "    prove(s)"
   ]
  },
  {
   "cell_type": "code",
   "execution_count": 65,
   "id": "ed96d292",
   "metadata": {},
   "outputs": [
    {
     "name": "stdout",
     "output_type": "stream",
     "text": [
      "Property holds.\n"
     ]
    }
   ],
   "source": [
    "prove_conservation()"
   ]
  },
  {
   "cell_type": "markdown",
   "id": "8d007aa0",
   "metadata": {},
   "source": [
    "The `unsat` result indicates that Z3 is unable to find any counterexample that violates the conservation property. As such, we have proven that the conservation property holds for all possible inputs (for real arithmetic and N=5).\n",
    "\n",
    "### Symmetry\n",
    "\n",
    "If the initial state is symmetric about the center and the boundary fluxes are equal and opposite (antisymmetric),\n",
    "then the updated state is also symmetric:\n",
    " \n",
    " - Mesh length $N$ is chosen odd so there's a unique center.\n",
    " - We encode symmetry as $u_{i} = u_{N-1-i}$ for all $i$.\n",
    " - Antisymmetric BCs: $F_0 = -F_{N}$."
   ]
  },
  {
   "cell_type": "code",
   "execution_count": 66,
   "id": "a098faaa",
   "metadata": {},
   "outputs": [],
   "source": [
    "def is_symmetric(u):\n",
    "    N = len(u)\n",
    "    return And([u[i] == u[N-1-i] for i in range(N)])\n",
    "\n",
    "def prove_symmetry_preserved(N=5):\n",
    "    s = Solver()\n",
    "\n",
    "    # Allocate vectors\n",
    "    u_old, u_new, divF, F = allocate_vectors(N)\n",
    "\n",
    "    # Positive, arbitrary parameters\n",
    "    s.add(dx > 0, dt > 0, kappa > 0)\n",
    "\n",
    "    # symmetric initial condition\n",
    "    s.add(is_symmetric(u_old))\n",
    "\n",
    "    # Apply antisymmetric, arbitrary BCs\n",
    "    s.add(bc[0] == -bc[1])\n",
    "\n",
    "    # Model the heat equation time step\n",
    "    s.add(apply_bc(F, bc))\n",
    "    s.add(diffusive_flux(F, u_old, kappa, dx))\n",
    "    s.add(divergence(divF, F, dx))\n",
    "    s.add(step_heat_eqn(u_old, u_new, divF, dt))\n",
    "\n",
    "    # Attempt to disprove symmetry preservation\n",
    "    s.add(Not(is_symmetric(u_new)))\n",
    "\n",
    "    prove(s)"
   ]
  },
  {
   "cell_type": "code",
   "execution_count": 67,
   "id": "c97236b0",
   "metadata": {},
   "outputs": [
    {
     "name": "stdout",
     "output_type": "stream",
     "text": [
      "Property holds.\n"
     ]
    }
   ],
   "source": [
    "prove_symmetry_preserved()"
   ]
  },
  {
   "cell_type": "markdown",
   "id": "666cff83",
   "metadata": {},
   "source": [
    "### Monotonicity\n",
    "\n",
    "Diffusion smooths. One way to express this intuition discretely is through monotonicity preservation:\n",
    "if a temperature profile is nondecreasing at the start of a step, it should remain so after the update.\n",
    "In other words, diffusion should not create new inversions."
   ]
  },
  {
   "cell_type": "code",
   "execution_count": 68,
   "id": "74762e39",
   "metadata": {},
   "outputs": [],
   "source": [
    "def is_nondecreasing(u):\n",
    "    return And([u[i] <= u[i+1] for i in range(len(u)-1)])\n",
    "\n",
    "def prove_monotonicity(N=3):\n",
    "    s = Solver()\n",
    "\n",
    "    # Allocate vectors\n",
    "    u_old, u_new, divF, F = allocate_vectors(N)\n",
    "\n",
    "    # Positive, arbitrary parameters\n",
    "    s.add(dx > 0, dt > 0, kappa > 0)\n",
    "    #s.add(dt <= dx*dx / (2*kappa))  # r <= 1/2\n",
    "\n",
    "    # insulated boundaries\n",
    "    s.add(bc[0] == 0, bc[1] == 0)\n",
    "\n",
    "    # Model the heat equation time step\n",
    "    s.add(apply_bc(F, bc))\n",
    "    s.add(diffusive_flux(F, u_old, kappa, dx))\n",
    "    s.add(divergence(divF, F, dx))\n",
    "    s.add(step_heat_eqn(u_old, u_new, divF, dt))\n",
    "\n",
    "    # nondecreasing initial profile\n",
    "    s.add(is_nondecreasing(u_old))\n",
    "\n",
    "    # ask Z3 to find a counterexample that breaks monotonicity\n",
    "    s.add(Not(is_nondecreasing(u_new)))\n",
    "\n",
    "    prove(s)"
   ]
  },
  {
   "cell_type": "code",
   "execution_count": 69,
   "id": "609ae7b7",
   "metadata": {},
   "outputs": [
    {
     "name": "stdout",
     "output_type": "stream",
     "text": [
      "Property does not hold.\n",
      "Below is a counterexample:\n",
      "[u_new_1 = 0,\n",
      " kappa = 2,\n",
      " u_new_2 = -1/2,\n",
      " u_old_1 = 0,\n",
      " F3 = 0,\n",
      " F0 = 0,\n",
      " dt = 1,\n",
      " dx = 1,\n",
      " bc1 = 0,\n",
      " u_old_2 = 1/2,\n",
      " u_new_0 = 1/2,\n",
      " divF_1 = 0,\n",
      " F2 = -1,\n",
      " bc0 = 0,\n",
      " u_old_0 = -1/2,\n",
      " divF_2 = -1,\n",
      " divF_0 = 1,\n",
      " F1 = -1,\n",
      " /0 = [(-1, 1) -> -1, (1, 1) -> 1, else -> 0]]\n"
     ]
    }
   ],
   "source": [
    "prove_monotonicity()"
   ]
  },
  {
   "cell_type": "markdown",
   "id": "b5384590",
   "metadata": {},
   "source": [
    "Above output reveals that the monotonicity property does NOT hold universally. The counterexample provided by Z3 shows specific values for the parameters and initial conditions where the property fails. This insight can guide us in refining our model or understanding the limitations of the diffusion process under certain conditions:\n",
    "\n",
    "Looking closely at the counterexample, we see that `dt` is quite large relative to `dx` and `kappa`, leading to instability in the diffusion process. Let's introduce the stability condition and see if that helps prove monotonicity."
   ]
  },
  {
   "cell_type": "code",
   "execution_count": 72,
   "id": "cc3fa58b",
   "metadata": {},
   "outputs": [],
   "source": [
    "def is_nondecreasing(u):\n",
    "    return And([u[i] <= u[i+1] for i in range(len(u)-1)])\n",
    "\n",
    "def prove_monotonicity(N=3):\n",
    "    s = Solver()\n",
    "\n",
    "    # Allocate vectors\n",
    "    u_old, u_new, divF, F = allocate_vectors(N)\n",
    "\n",
    "    # Positive, arbitrary parameters\n",
    "    s.add(dx > 0, dt > 0, kappa > 0)\n",
    "    s.add(dt <= dx*dx / (2*kappa))  # r <= 1/2\n",
    "\n",
    "    # insulated boundaries\n",
    "    s.add(bc[0] == 0, bc[1] == 0)\n",
    "\n",
    "    # Model the heat equation time step\n",
    "    s.add(apply_bc(F, bc))\n",
    "    s.add(diffusive_flux(F, u_old, kappa, dx))\n",
    "    s.add(divergence(divF, F, dx))\n",
    "    s.add(step_heat_eqn(u_old, u_new, divF, dt))\n",
    "\n",
    "    # nondecreasing initial profile\n",
    "    s.add(is_nondecreasing(u_old))\n",
    "\n",
    "    # ask Z3 to find a counterexample that breaks monotonicity\n",
    "    s.add(Not(is_nondecreasing(u_new)))\n",
    "\n",
    "    prove(s)"
   ]
  },
  {
   "cell_type": "code",
   "execution_count": 73,
   "id": "f3e6c256",
   "metadata": {},
   "outputs": [
    {
     "name": "stdout",
     "output_type": "stream",
     "text": [
      "Property holds.\n"
     ]
    }
   ],
   "source": [
    "prove_monotonicity()"
   ]
  },
  {
   "cell_type": "markdown",
   "id": "16e6d36a",
   "metadata": {},
   "source": [
    "With the added stability condition, Z3 confirms that the monotonicity property holds universally for the heat equation time step under the specified conditions. This demonstrates how Z3 can help us identify necessary conditions for properties to hold."
   ]
  },
  {
   "cell_type": "markdown",
   "id": "e84a742a",
   "metadata": {},
   "source": [
    "### Positivity\n",
    "\n",
    "We expect that, given a non-negative initial temperature distribution and non-negative boundary conditions, the temperature remains non-negative after one time step. Below is an expression of this property in Z3:"
   ]
  },
  {
   "cell_type": "code",
   "execution_count": 76,
   "id": "81f9f83d",
   "metadata": {},
   "outputs": [],
   "source": [
    "def all_positive(c):\n",
    "    \"\"\"All cell values are non-negative.\"\"\"\n",
    "    N = len(c)\n",
    "    return And([c[i] >= 0 for i in range(N)])\n",
    "\n",
    "def prove_positivity(N=4):\n",
    "    s = Solver()\n",
    "\n",
    "    # Allocate vectors\n",
    "    u_old, u_new, divF, F = allocate_vectors(N)\n",
    "\n",
    "    # Positive, arbitrary parameters\n",
    "    s.add(dx > 0, dt > 0, kappa > 0)\n",
    "    s.add(dt <= dx*dx / (2*kappa))  # r <= 1/2\n",
    "    s.add(bc[0] >= 0, bc[1] <= 0)\n",
    "\n",
    "    # Model the heat equation time step\n",
    "    s.add(apply_bc(F, bc))\n",
    "    s.add(diffusive_flux(F, u_old, kappa, dx))\n",
    "    s.add(divergence(divF, F, dx))\n",
    "    s.add(step_heat_eqn(u_old, u_new, divF, dt))\n",
    "\n",
    "    # non-negative initial profile and BCs\n",
    "    s.add(all_positive(u_old))\n",
    "\n",
    "    # ask Z3 to find a counterexample that produces negative temperature\n",
    "    s.add(Not(all_positive(u_new)))\n",
    "\n",
    "    prove(s)"
   ]
  },
  {
   "cell_type": "code",
   "execution_count": 77,
   "id": "d3991451",
   "metadata": {},
   "outputs": [
    {
     "name": "stdout",
     "output_type": "stream",
     "text": [
      "Property holds.\n"
     ]
    }
   ],
   "source": [
    "prove_positivity()"
   ]
  },
  {
   "cell_type": "markdown",
   "id": "acdfacd2",
   "metadata": {},
   "source": [
    "\n",
    "## What we just did\n",
    "\n",
    "We re-expressed the solver’s core procedures as constraint generators and used Z3 to:\n",
    "\n",
    " - Prove universal identities (telescoping, conservation).\n",
    " - Find counterexamples when preconditions are missing (positivity).\n",
    " - Confirm fixes by adding the right guards (stability)\n",
    "\n",
    "This completes the ladder:\n",
    "\n",
    " - Ch.1: working baseline (code & fix)\n",
    " - Ch.2: abstractions & specs\n",
    " - Ch.3: unit tests\n",
    " - Ch.4: property-based tests\n",
    " - Ch.5: theorem proving\n",
    "\n",
    "In practice, you’d mix these: run unit/property tests in CI, and apply theorem proving judiciously on small kernels where stronger guarantees pay off. Together, they move scientific software toward explicit reasoning and trustworthy results, without heavy ceremony."
   ]
  },
  {
   "cell_type": "markdown",
   "id": "39b65edd",
   "metadata": {},
   "source": [
    "---\n",
    "\n",
    "R3Sw tutorial by Alper Altuntas (NSF NCAR). Guest lecture by **Philip Zucker** (Draper). Sponsored by the BSSw Fellowship Program. © 2025.\n",
    "\n",
    "Cite as: Alper Altuntas, Philip Zucker, Deepak Cherian, Adrianna Foster, Manish Venumuddula, and Helen Kershaw. (2025). *\"Rigor and Reasoning in Research Software (R3Sw) Tutorial.\"* https://www.alperaltuntas.com/R3Sw"
   ]
  }
 ],
 "metadata": {
  "kernelspec": {
   "display_name": "r3sw",
   "language": "python",
   "name": "python3"
  },
  "language_info": {
   "codemirror_mode": {
    "name": "ipython",
    "version": 3
   },
   "file_extension": ".py",
   "mimetype": "text/x-python",
   "name": "python",
   "nbconvert_exporter": "python",
   "pygments_lexer": "ipython3",
   "version": "3.12.11"
  }
 },
 "nbformat": 4,
 "nbformat_minor": 5
}
