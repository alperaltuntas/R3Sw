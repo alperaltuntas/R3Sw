{
 "cells": [
  {
   "cell_type": "markdown",
   "id": "7dcc98b8",
   "metadata": {},
   "source": [
    "# Chapter 4: Property-Based Testing\n",
    "\n",
    "In Chapters 1–3, we moved from a quick, monolithic solver to a modular design with unit tests.\n",
    "Unit tests gave us confidence, but only for cases that we handpicked.\n",
    "\n",
    "Now, we’ll take the next step by introducing property-based testing via the Hypothesis\n",
    "library:\n",
    "\n",
    " - Instead of manually writing individual test cases, we’ll state general properties such as conservation, symmetry, maximum principle intuition, or linearity.\n",
    " - Hypothesis will generate many random inputs automatically, exploring cases we might never think to test.\n",
    " - When a property fails, Hypothesis will shrink the failing case to the simplest possible counterexample, the testing equivalent of a controlled scientific experiment.\n",
    "\n",
    "## What is a \"property\"?\n",
    "\n",
    "A property is a statement about your program that you expect to hold for all valid inputs.\n",
    "It’s a general rule, not just a single example.\n",
    "\n",
    "For our 1-D heat equation solver, some key properties might include:\n",
    "\n",
    "- **Conservation under insulated BCs:** total heat stays constant.\n",
    "- **Telescoping property:** The sum of the divergence over all cells equals the net flux through the boundaries.\n",
    "- **Symmetry:** symmetric initial states stay symmetric under symmetric BCs.\n",
    "- **Max Principle:** Diffusion shouldn’t create new temperature extremes.\n",
    "- **Linearity:** The discrete update should scale linearly with the initial temperature distribution.\n",
    "\n",
    "## Unit tests vs. property-based tests:\n",
    " - Unit tests: \"for this input, expect this output\"\n",
    " - Property tests: \"for all inputs satisfying these preconditions, this relation should hold\"\n",
    "\n",
    "Property tests complement unit tests:\n",
    " - Unit tests are concrete and focused.\n",
    " - Property tests are broader and can reveal edge cases you never anticipated.\n",
    "\n",
    "## How this relates to Chapter 2\n",
    "\n",
    "In Chapter 2, we introduced preconditions, postconditions, and invariants as lightweight specifications for our solver.\n",
    "\n",
    "Property-based testing is a natural extension of these ideas:\n",
    "\n",
    " - The precondition {P} now defines the input space that Hypothesis will explore.\n",
    " - The postcondition {Q} or invariant becomes the property being checked.\n",
    " - When a test fails, Hypothesis provides a counterexample, helping you determine whether:\n",
    "   - The precondition was too weak (i.e., it allowed invalid inputs).\n",
    "   - The postcondition was too strong (i.e., it ruled out valid outputs).\n",
    "   - There’s a bug in the implementation.\n",
    "\n",
    "Think of this as turning your Chapter 2 contracts into scientific hypotheses:\n",
    "\n",
    " - \"If the precondition holds, the property should always be true.\"\n",
    "\n",
    "Hypothesis plays the role of the experimenter, probing your code with many randomized “experiments” to try and refute your claim."
   ]
  },
  {
   "cell_type": "markdown",
   "id": "626a3117",
   "metadata": {},
   "source": [
    "## The `Hypothesis` library\n",
    "\n",
    "Hypothesis is a Python library for property-based testing.\n",
    "Instead of handpicking test cases, you describe the space of valid inputs, and it generates random examples within that space.\n",
    "\n",
    "If a failure is found, Hypothesis automatically shrinks the input to the simplest version that still causes the failure. This helps you debug by giving a clear, minimal failing example.\n",
    "\n",
    "Let's revisit our `div` function from the previous chapters."
   ]
  },
  {
   "cell_type": "code",
   "execution_count": 1,
   "id": "4a866a31",
   "metadata": {},
   "outputs": [],
   "source": [
    "def div(x, y):\n",
    "    assert y != 0           # P    (precondition)\n",
    "    res = x / y             # code (implementation)\n",
    "    assert res * y == x     # Q    (postcondition)\n",
    "    return res"
   ]
  },
  {
   "cell_type": "markdown",
   "id": "4ee3a93a",
   "metadata": {},
   "source": [
    "In Chapter 3, we tested this manually:"
   ]
  },
  {
   "cell_type": "code",
   "execution_count": 2,
   "id": "761d59be",
   "metadata": {},
   "outputs": [
    {
     "ename": "AssertionError",
     "evalue": "",
     "output_type": "error",
     "traceback": [
      "\u001b[31m---------------------------------------------------------------------------\u001b[39m",
      "\u001b[31mAssertionError\u001b[39m                            Traceback (most recent call last)",
      "\u001b[36mCell\u001b[39m\u001b[36m \u001b[39m\u001b[32mIn[2]\u001b[39m\u001b[32m, line 4\u001b[39m\n\u001b[32m      1\u001b[39m \u001b[38;5;28;01mdef\u001b[39;00m\u001b[38;5;250m \u001b[39m\u001b[34mtest_division\u001b[39m():\n\u001b[32m      2\u001b[39m     div(\u001b[32m7\u001b[39m, \u001b[32m25\u001b[39m)\n\u001b[32m----> \u001b[39m\u001b[32m4\u001b[39m \u001b[43mtest_division\u001b[49m\u001b[43m(\u001b[49m\u001b[43m)\u001b[49m\n",
      "\u001b[36mCell\u001b[39m\u001b[36m \u001b[39m\u001b[32mIn[2]\u001b[39m\u001b[32m, line 2\u001b[39m, in \u001b[36mtest_division\u001b[39m\u001b[34m()\u001b[39m\n\u001b[32m      1\u001b[39m \u001b[38;5;28;01mdef\u001b[39;00m\u001b[38;5;250m \u001b[39m\u001b[34mtest_division\u001b[39m():\n\u001b[32m----> \u001b[39m\u001b[32m2\u001b[39m     \u001b[43mdiv\u001b[49m\u001b[43m(\u001b[49m\u001b[32;43m7\u001b[39;49m\u001b[43m,\u001b[49m\u001b[43m \u001b[49m\u001b[32;43m25\u001b[39;49m\u001b[43m)\u001b[49m\n",
      "\u001b[36mCell\u001b[39m\u001b[36m \u001b[39m\u001b[32mIn[1]\u001b[39m\u001b[32m, line 4\u001b[39m, in \u001b[36mdiv\u001b[39m\u001b[34m(x, y)\u001b[39m\n\u001b[32m      2\u001b[39m \u001b[38;5;28;01massert\u001b[39;00m y != \u001b[32m0\u001b[39m           \u001b[38;5;66;03m# P    (precondition)\u001b[39;00m\n\u001b[32m      3\u001b[39m res = x / y             \u001b[38;5;66;03m# code (implementation)\u001b[39;00m\n\u001b[32m----> \u001b[39m\u001b[32m4\u001b[39m \u001b[38;5;28;01massert\u001b[39;00m res * y == x     \u001b[38;5;66;03m# Q    (postcondition)\u001b[39;00m\n\u001b[32m      5\u001b[39m \u001b[38;5;28;01mreturn\u001b[39;00m res\n",
      "\u001b[31mAssertionError\u001b[39m: "
     ]
    }
   ],
   "source": [
    "def test_division():\n",
    "    div(7, 25)\n",
    "\n",
    "test_division()"
   ]
  },
  {
   "cell_type": "markdown",
   "id": "866f70a0",
   "metadata": {},
   "source": [
    "Running this fails because 7 / 25 cannot be represented exactly in floating point.\n",
    "But notice: we only found this case because we happened to test exactly this input.\n",
    "If we had tested other pairs like the ones listed below, the test\n",
    "might have passed, which would leave us unaware of the issue."
   ]
  },
  {
   "cell_type": "code",
   "execution_count": 3,
   "id": "04ac698b",
   "metadata": {},
   "outputs": [
    {
     "name": "stdout",
     "output_type": "stream",
     "text": [
      "No assertion violations encountered!\n"
     ]
    }
   ],
   "source": [
    "def test_more_divisions():\n",
    "    div(7, 26)\n",
    "    div(7, 24)\n",
    "    div(7, 23)\n",
    "    div(6, 1)\n",
    "    div(2, 4)\n",
    "    div(0, 1)\n",
    "    div(46, 7)\n",
    "    div(7657, 26)\n",
    "    div(1, 3)\n",
    "    div (23, 23424)\n",
    "    div(1000, 3)\n",
    "    div(123,456)\n",
    "    print(\"No assertion violations encountered!\")\n",
    "\n",
    "test_more_divisions()"
   ]
  },
  {
   "cell_type": "markdown",
   "id": "7224337c",
   "metadata": {},
   "source": [
    "### Hypothesis to the rescue\n",
    "\n",
    "Let's use Hypothesis to generate a wide range of test cases for our division function."
   ]
  },
  {
   "cell_type": "code",
   "execution_count": 4,
   "id": "58937fe4",
   "metadata": {},
   "outputs": [],
   "source": [
    "from hypothesis import assume, given, strategies as st\n",
    "\n",
    "@given(st.integers(), st.integers())\n",
    "def test_div_property(x, y):\n",
    "    assume(y != 0)\n",
    "    div(x, y)"
   ]
  },
  {
   "cell_type": "markdown",
   "id": "70cffa55",
   "metadata": {},
   "source": [
    "The above test definition highlights the key components of property-based testing with Hypothesis:\n",
    "\n",
    "1. The `@given` decorator\n",
    "    - This is the main entry point for defining a property-based test.\n",
    "    - It takes zero or more strategies as arguments, which describe how Hypothesis should generate input data for the test.\n",
    "\n",
    "2. Strategies\n",
    "    - Strategies define the space of possible inputs.\n",
    "    - In our example, we used `st.integers()` to generate random integers for both x and y.\n",
    "\n",
    "We also used the `assume` function to enforce our precondition {P}.\n",
    "Here, the precondition is that `y != 0` to avoid division by zero. Adding `assume(y != 0)` ensures that we only test valid inputs.\n",
    "\n",
    "With these pieces in place, we can now run the property-based test and let Hypothesis explore a wide range of inputs automatically:"
   ]
  },
  {
   "cell_type": "code",
   "execution_count": 5,
   "id": "cc1f067b",
   "metadata": {},
   "outputs": [
    {
     "ename": "AssertionError",
     "evalue": "",
     "output_type": "error",
     "traceback": [
      "\u001b[31m---------------------------------------------------------------------------\u001b[39m",
      "\u001b[31mAssertionError\u001b[39m                            Traceback (most recent call last)",
      "\u001b[36mCell\u001b[39m\u001b[36m \u001b[39m\u001b[32mIn[5]\u001b[39m\u001b[32m, line 1\u001b[39m\n\u001b[32m----> \u001b[39m\u001b[32m1\u001b[39m \u001b[43mtest_div_property\u001b[49m\u001b[43m(\u001b[49m\u001b[43m)\u001b[49m\n",
      "\u001b[36mCell\u001b[39m\u001b[36m \u001b[39m\u001b[32mIn[4]\u001b[39m\u001b[32m, line 4\u001b[39m, in \u001b[36mtest_div_property\u001b[39m\u001b[34m()\u001b[39m\n\u001b[32m      1\u001b[39m \u001b[38;5;28;01mfrom\u001b[39;00m\u001b[38;5;250m \u001b[39m\u001b[34;01mhypothesis\u001b[39;00m\u001b[38;5;250m \u001b[39m\u001b[38;5;28;01mimport\u001b[39;00m assume, given, strategies \u001b[38;5;28;01mas\u001b[39;00m st\n\u001b[32m      3\u001b[39m \u001b[38;5;129m@given\u001b[39m(st.integers(), st.integers())\n\u001b[32m----> \u001b[39m\u001b[32m4\u001b[39m \u001b[38;5;28;01mdef\u001b[39;00m\u001b[38;5;250m \u001b[39m\u001b[34mtest_div_property\u001b[39m(x, y):\n\u001b[32m      5\u001b[39m     assume(y != \u001b[32m0\u001b[39m)\n\u001b[32m      6\u001b[39m     div(x, y)\n",
      "    \u001b[31m[... skipping hidden 1 frame]\u001b[39m\n",
      "\u001b[36mCell\u001b[39m\u001b[36m \u001b[39m\u001b[32mIn[4]\u001b[39m\u001b[32m, line 6\u001b[39m, in \u001b[36mtest_div_property\u001b[39m\u001b[34m(x, y)\u001b[39m\n\u001b[32m      3\u001b[39m \u001b[38;5;129m@given\u001b[39m(st.integers(), st.integers())\n\u001b[32m      4\u001b[39m \u001b[38;5;28;01mdef\u001b[39;00m\u001b[38;5;250m \u001b[39m\u001b[34mtest_div_property\u001b[39m(x, y):\n\u001b[32m      5\u001b[39m     assume(y != \u001b[32m0\u001b[39m)\n\u001b[32m----> \u001b[39m\u001b[32m6\u001b[39m     \u001b[43mdiv\u001b[49m\u001b[43m(\u001b[49m\u001b[43mx\u001b[49m\u001b[43m,\u001b[49m\u001b[43m \u001b[49m\u001b[43my\u001b[49m\u001b[43m)\u001b[49m\n",
      "\u001b[36mCell\u001b[39m\u001b[36m \u001b[39m\u001b[32mIn[1]\u001b[39m\u001b[32m, line 4\u001b[39m, in \u001b[36mdiv\u001b[39m\u001b[34m(x, y)\u001b[39m\n\u001b[32m      2\u001b[39m \u001b[38;5;28;01massert\u001b[39;00m y != \u001b[32m0\u001b[39m           \u001b[38;5;66;03m# P    (precondition)\u001b[39;00m\n\u001b[32m      3\u001b[39m res = x / y             \u001b[38;5;66;03m# code (implementation)\u001b[39;00m\n\u001b[32m----> \u001b[39m\u001b[32m4\u001b[39m \u001b[38;5;28;01massert\u001b[39;00m res * y == x     \u001b[38;5;66;03m# Q    (postcondition)\u001b[39;00m\n\u001b[32m      5\u001b[39m \u001b[38;5;28;01mreturn\u001b[39;00m res\n",
      "\u001b[31mAssertionError\u001b[39m: ",
      "Falsifying example: test_div_property(\n    x=117,\n    y=5183,\n)"
     ]
    }
   ],
   "source": [
    "test_div_property()"
   ]
  },
  {
   "cell_type": "markdown",
   "id": "d4d5c4f9",
   "metadata": {},
   "source": [
    "Running the above property-based test should reveal a pair of integers (x, y) that violate the division property. Recall, the inputs are generated randomly, so you might see different failing cases each time you run the test. \n",
    "\n",
    "### Shrinking\n",
    "\n",
    "Hypothesis automatically *shrinks* the input, step by step, until it finds the simplest failing \n",
    "example. This makes debugging much easier, since you don’t need to wade through massive random inputs.\n",
    "\n",
    "### Combining strategies\n",
    "\n",
    "In the above example, we only tested integer division. However, we can also test floating-point division by using the `st.floats()` strategy from Hypothesis. Better yet, we can combine both strategies to test the `div` function with a wider range of inputs:"
   ]
  },
  {
   "cell_type": "code",
   "execution_count": 6,
   "id": "6edb2b41",
   "metadata": {},
   "outputs": [],
   "source": [
    "from hypothesis import assume, given, strategies as st\n",
    "\n",
    "# Combine integers and floats into a single strategy:\n",
    "numbers = st.one_of(st.integers(), st.floats(allow_nan=False, allow_infinity=False))\n",
    "\n",
    "@given(numbers, numbers)\n",
    "def test_div_property(x, y):\n",
    "    assume(y != 0)\n",
    "    div(x, y)"
   ]
  },
  {
   "cell_type": "code",
   "execution_count": 7,
   "id": "b7f57e2e",
   "metadata": {},
   "outputs": [
    {
     "ename": "AssertionError",
     "evalue": "",
     "output_type": "error",
     "traceback": [
      "\u001b[31m---------------------------------------------------------------------------\u001b[39m",
      "\u001b[31mAssertionError\u001b[39m                            Traceback (most recent call last)",
      "\u001b[36mCell\u001b[39m\u001b[36m \u001b[39m\u001b[32mIn[7]\u001b[39m\u001b[32m, line 1\u001b[39m\n\u001b[32m----> \u001b[39m\u001b[32m1\u001b[39m \u001b[43mtest_div_property\u001b[49m\u001b[43m(\u001b[49m\u001b[43m)\u001b[49m\n",
      "\u001b[36mCell\u001b[39m\u001b[36m \u001b[39m\u001b[32mIn[6]\u001b[39m\u001b[32m, line 7\u001b[39m, in \u001b[36mtest_div_property\u001b[39m\u001b[34m()\u001b[39m\n\u001b[32m      3\u001b[39m \u001b[38;5;66;03m# Combine integers and floats into a single strategy:\u001b[39;00m\n\u001b[32m      4\u001b[39m numbers = st.one_of(st.integers(), st.floats(allow_nan=\u001b[38;5;28;01mFalse\u001b[39;00m, allow_infinity=\u001b[38;5;28;01mFalse\u001b[39;00m))\n\u001b[32m      6\u001b[39m \u001b[38;5;129m@given\u001b[39m(numbers, numbers)\n\u001b[32m----> \u001b[39m\u001b[32m7\u001b[39m \u001b[38;5;28;01mdef\u001b[39;00m\u001b[38;5;250m \u001b[39m\u001b[34mtest_div_property\u001b[39m(x, y):\n\u001b[32m      8\u001b[39m     assume(y != \u001b[32m0\u001b[39m)\n\u001b[32m      9\u001b[39m     div(x, y)\n",
      "    \u001b[31m[... skipping hidden 1 frame]\u001b[39m\n",
      "\u001b[36mCell\u001b[39m\u001b[36m \u001b[39m\u001b[32mIn[6]\u001b[39m\u001b[32m, line 9\u001b[39m, in \u001b[36mtest_div_property\u001b[39m\u001b[34m(x, y)\u001b[39m\n\u001b[32m      6\u001b[39m \u001b[38;5;129m@given\u001b[39m(numbers, numbers)\n\u001b[32m      7\u001b[39m \u001b[38;5;28;01mdef\u001b[39;00m\u001b[38;5;250m \u001b[39m\u001b[34mtest_div_property\u001b[39m(x, y):\n\u001b[32m      8\u001b[39m     assume(y != \u001b[32m0\u001b[39m)\n\u001b[32m----> \u001b[39m\u001b[32m9\u001b[39m     \u001b[43mdiv\u001b[49m\u001b[43m(\u001b[49m\u001b[43mx\u001b[49m\u001b[43m,\u001b[49m\u001b[43m \u001b[49m\u001b[43my\u001b[49m\u001b[43m)\u001b[49m\n",
      "\u001b[36mCell\u001b[39m\u001b[36m \u001b[39m\u001b[32mIn[1]\u001b[39m\u001b[32m, line 4\u001b[39m, in \u001b[36mdiv\u001b[39m\u001b[34m(x, y)\u001b[39m\n\u001b[32m      2\u001b[39m \u001b[38;5;28;01massert\u001b[39;00m y != \u001b[32m0\u001b[39m           \u001b[38;5;66;03m# P    (precondition)\u001b[39;00m\n\u001b[32m      3\u001b[39m res = x / y             \u001b[38;5;66;03m# code (implementation)\u001b[39;00m\n\u001b[32m----> \u001b[39m\u001b[32m4\u001b[39m \u001b[38;5;28;01massert\u001b[39;00m res * y == x     \u001b[38;5;66;03m# Q    (postcondition)\u001b[39;00m\n\u001b[32m      5\u001b[39m \u001b[38;5;28;01mreturn\u001b[39;00m res\n",
      "\u001b[31mAssertionError\u001b[39m: ",
      "Falsifying example: test_div_property(\n    x=161,\n    y=37,\n)"
     ]
    }
   ],
   "source": [
    "test_div_property()"
   ]
  },
  {
   "cell_type": "markdown",
   "id": "217ff1cb",
   "metadata": {},
   "source": [
    "### Controlling how many examples are generated\n",
    "\n",
    "By default, `hypothesis` generates 100 random input values. You can control this with the @settings decorator:"
   ]
  },
  {
   "cell_type": "code",
   "execution_count": 8,
   "id": "80b073a7",
   "metadata": {},
   "outputs": [
    {
     "name": "stdout",
     "output_type": "stream",
     "text": [
      "Test no. 1 with random input 0\n",
      "Test no. 2 with random input -31329\n",
      "Test no. 3 with random input 20370\n",
      "Test no. 4 with random input -10430\n",
      "Test no. 5 with random input -1665\n",
      "Test no. 6 with random input -14\n",
      "Test no. 7 with random input -94\n",
      "Test no. 8 with random input -9677\n",
      "Test no. 9 with random input -18097\n",
      "Test no. 10 with random input -16431764420473060\n"
     ]
    }
   ],
   "source": [
    "from hypothesis import given, settings, strategies as st\n",
    "\n",
    "ctr = 0\n",
    "\n",
    "@settings(max_examples=10)\n",
    "@given(st.integers())\n",
    "def test_random(x):\n",
    "    global ctr; ctr += 1\n",
    "    print(f\"Test no. {ctr} with random input {x}\")\n",
    "\n",
    "test_random()"
   ]
  },
  {
   "cell_type": "markdown",
   "id": "9ac273db",
   "metadata": {},
   "source": [
    "In the above cell, we reduced `max_examples` from the default 100 to 10. In practice, one\n",
    "should consider increasing the `max_examples` parameter based on the complexity of the property being tested, particularly in the absence of failing cases when no counterexamples are found."
   ]
  },
  {
   "cell_type": "markdown",
   "id": "23de13e2",
   "metadata": {},
   "source": [
    "## Back to the 1-D Heat Equation Solver\n",
    "\n",
    "Now let's use Hypothesis to test our heat equation solver. Execute the below cell that contains the entire source code of our solver, so it becomes available for property-based testing."
   ]
  },
  {
   "cell_type": "code",
   "execution_count": 9,
   "id": "ff6cb616",
   "metadata": {},
   "outputs": [],
   "source": [
    "from pytest import approx\n",
    "from dataclasses import dataclass\n",
    "\n",
    "vec  = list[float]\n",
    "\n",
    "@dataclass\n",
    "class Mesh:\n",
    "    \"\"\"Uniform 1-D mesh.\"\"\"\n",
    "    \n",
    "    dx: float  # cell size\n",
    "    N: int     # number of cells\n",
    "\n",
    "    def cell_field(self) -> vec:\n",
    "        return [0.0] * self.N\n",
    "\n",
    "    def face_field(self) -> vec:\n",
    "        return [0.0] * (self.N + 1)\n",
    "\n",
    "# --- Property Checks ---\n",
    "\n",
    "def telescoping(c: vec, f: vec, dx: float) -> bool:\n",
    "    \"\"\"Check the finite volume telescoping property.\"\"\"\n",
    "    total_divergence = sum(c) * dx\n",
    "    boundary_flux = f[0] - f[-1]\n",
    "    return total_divergence == approx(boundary_flux)\n",
    "\n",
    "def stability_condition(dt: float, dx: float, kappa: float) -> bool:\n",
    "    \"\"\"Check the stability condition for the explicit Euler scheme.\"\"\"\n",
    "    return dt <= (dx ** 2) / (2 * kappa)\n",
    "\n",
    "def heat_is_conserved(u_sum_old: float, u_sum_new: float, dt: float, F: vec) -> bool:\n",
    "    \"\"\"Check if heat is conserved.\"\"\"\n",
    "    expected_change = dt * (F[0] - F[-1])\n",
    "    actual_change = u_sum_new - u_sum_old\n",
    "    return actual_change == approx(expected_change)\n",
    "\n",
    "# --- Procedures ---\n",
    "\n",
    "def apply_bc(f: vec, bc: vec) -> None:\n",
    "    \"\"\"Apply BCs by overriding first and last face quantities (f).\"\"\"\n",
    "    assert len(f) > 1\n",
    "    f[0], f[-1] = bc[0], bc[1]\n",
    "\n",
    "def diffusive_flux(f: vec, c: vec, kappa: float, dx: float) -> None:\n",
    "    \"\"\"Given a cell field (c), compute the diffusive flux (f).\"\"\"\n",
    "    assert len(f) == len(c) + 1, \"Size mismatch\"\n",
    "    assert dx > 0, \"Non-positive dx\"\n",
    "    for i in range(1, len(f) - 1):\n",
    "        f[i] = -kappa * (c[i] - c[i-1]) / dx\n",
    "\n",
    "def divergence(c: vec, f: vec, dx: float) -> None:\n",
    "    \"\"\"Compute the divergence of face quantities (f) and store in (c).\"\"\"\n",
    "    assert len(c) == len(f) - 1, \"Size mismatch\"\n",
    "    assert dx > 0, \"Non-positive dx\"\n",
    "    for i in range(len(c)):\n",
    "        c[i] = (f[i] - f[i+1]) / dx\n",
    "    #assert telescoping(c, f, dx)\n",
    "\n",
    "def step_heat_eqn(u: vec, F: vec, dudt: vec, kappa: float, dt: float, mesh: Mesh, bc: vec) -> list:\n",
    "    \"\"\"Advance cell field u by one time step using explicit Euler method.\"\"\"\n",
    "    assert dt > 0, \"Non-positive dt\"\n",
    "    assert mesh.N == len(u) == len(dudt) == len(F) - 1, \"Size mismatch\"\n",
    "\n",
    "    apply_bc(F, bc)\n",
    "    diffusive_flux(F, u, kappa, mesh.dx)\n",
    "    divergence(dudt, F, mesh.dx)\n",
    "\n",
    "    for i in range(mesh.N):\n",
    "        u[i] += dt * dudt[i]\n",
    "\n",
    "def solve_heat_eqn(u0: vec, kappa: float, dt: float, nt: int, dx: float, bc: vec) -> vec:\n",
    "    \"\"\"Orchestrate nt steps over cell field u.\"\"\"\n",
    "\n",
    "    assert nt > 0, \"Number of time steps must be positive\"\n",
    "    assert len(bc) == 2, \"Boundary conditions must be a list of two values\"\n",
    "    assert stability_condition(dt, dx, kappa), \"Stability condition not met\"\n",
    "\n",
    "    mesh = Mesh(dx, N=len(u0))\n",
    "    u = u0.copy()\n",
    "    F = mesh.face_field()\n",
    "    dudt = mesh.cell_field()\n",
    "\n",
    "    for _ in range(nt):\n",
    "        u_sum_old = sum(u) * mesh.dx\n",
    "        step_heat_eqn(u, F, dudt, kappa, dt, mesh, bc)\n",
    "        u_sum_new = sum(u) * mesh.dx\n",
    "        assert heat_is_conserved(u_sum_old, u_sum_new, dt, F), \"Heat not conserved\"\n",
    "\n",
    "    return u"
   ]
  },
  {
   "cell_type": "markdown",
   "id": "12b54fbf",
   "metadata": {},
   "source": [
    "\n",
    "### Scaffolding\n",
    "\n",
    "Before encoding our properties, we need to set up some scaffolding to facilitate testing.\n",
    "\n",
    "First, let's define some strategies for generating *sane* floating-point numbers for our tests:\n"
   ]
  },
  {
   "cell_type": "code",
   "execution_count": 11,
   "id": "3d3ddba6",
   "metadata": {},
   "outputs": [],
   "source": [
    "floats_st = st.floats(min_value=-1e3, max_value=1e3, allow_nan=False, allow_infinity=False)\n",
    "kappa_st  = st.floats(min_value=1e-4, max_value=10, allow_nan=False, allow_infinity=False)\n",
    "dx_st     = st.floats(min_value=1e-3, max_value=10, allow_nan=False, allow_infinity=False)\n",
    "dt_st     = st.floats(min_value=1e-6, max_value=10, allow_nan=False, allow_infinity=False)"
   ]
  },
  {
   "cell_type": "markdown",
   "id": "7b078144",
   "metadata": {},
   "source": [
    "Next, let's define a mesh size strategy to generate reasonable and manageable mesh sizes,\n",
    "as well as a strategy for generating a tuple of boundary conditions."
   ]
  },
  {
   "cell_type": "code",
   "execution_count": 12,
   "id": "84d87304",
   "metadata": {},
   "outputs": [],
   "source": [
    "# Mesh sizes\n",
    "n_st = st.integers(min_value=3, max_value=40)\n",
    "\n",
    "# Boundary faces (qL, qR)\n",
    "bc_st= st.tuples(\n",
    "    st.floats(min_value=-100.0, max_value=100.0, allow_nan=False, allow_infinity=False),\n",
    "    st.floats(min_value=-100.0, max_value=100.0, allow_nan=False, allow_infinity=False),\n",
    ")"
   ]
  },
  {
   "cell_type": "markdown",
   "id": "80b24048",
   "metadata": {},
   "source": [
    "\n",
    "### Telescoping Property\n",
    "\n",
    "Before testing overall conservation, let’s start one level deeper with the local flux balance\n",
    "that makes conservation possible.\n",
    "\n",
    "In finite-volume discretizations, fluxes between neighboring cells telescope: \n",
    "the flux leaving one cell enters the next (except in the presence of sources, \n",
    "variable cell volumes or densities, or numerical errors.)\n",
    "\n",
    "Consequently, when we sum the discrete divergence over all cells, the interior\n",
    "fluxes cancel pairwise, leaving only the boundary contributions.\n",
    "in other words, the total divergence equals the net flux through the boundaries:\n",
    "\n",
    "$\\qquad\n",
    "\\sum_{i=0}^{N-1} (\\nabla \\cdot F)_i = F_0 - F_N\n",
    "\\qquad$\n",
    "\n",
    "Recall the encoding of this property:"
   ]
  },
  {
   "cell_type": "code",
   "execution_count": 13,
   "id": "1dc53a19",
   "metadata": {},
   "outputs": [],
   "source": [
    "def telescoping(c: vec, f: vec, dx: float) -> bool:\n",
    "    \"\"\"Check the finite volume telescoping property.\"\"\"\n",
    "    total_divergence = sum(c) * dx\n",
    "    boundary_flux = f[0] - f[-1]\n",
    "    return total_divergence == approx(boundary_flux)"
   ]
  },
  {
   "cell_type": "markdown",
   "id": "0f9ba35d",
   "metadata": {},
   "source": [
    "\n",
    "### Conservation\n",
    "\n",
    "We can test the conservation property of the heat equation solver by checking if the total heat remains constant over time when insulated boundary conditions are applied. Below is an example of how to implement this test using Hypothesis:\n"
   ]
  },
  {
   "cell_type": "code",
   "execution_count": null,
   "id": "8e2f64d5",
   "metadata": {},
   "outputs": [],
   "source": [
    "# A custom strategy for boundary condition fluxes\n",
    "bc_flux_strat= st.floats(min_value=-100, max_value=100, allow_nan=False, allow_infinity=False)\n",
    "\n",
    "def cell_field(min_n=3, max_n=30):\n",
    "    return st.lists(floats_sane, min_size=min_n, max_size=max_n)\n",
    "\n",
    "# Stability guard: r = kappa*dt/dx^2 <= 0.5\n",
    "def stable_tuple():\n",
    "    return st.tuples(cell_field(),\n",
    "                     kappa_strat,\n",
    "                     dx_strat,\n",
    "                     dt_strat).filter(lambda t: (t[1]*t[3]/(t[2]*t[2])) <= 0.5)\n",
    "\n",
    "\n",
    "\n",
    "@given(stable_tuple(), bc_flux_strat, bc_flux_strat)\n",
    "def test_conservation_insulated_is_invariant(args, qL, qR):\n",
    "    \"\"\"\n",
    "    With qL=qR=0, the discrete heat sum(u)*dx must remain invariant after one step.\n",
    "    \"\"\"\n",
    "    u0, kappa, dx, dt = args\n",
    "    assume(len(u0) >= 3)\n",
    "    mesh = Mesh(dx=dx, N=len(u0))\n",
    "    bc   = BC(qL=0.0, qR=0.0)\n",
    "\n",
    "    # Prepare state arrays\n",
    "    F    = mesh.face_centered_arr()\n",
    "    dudt = mesh.cell_centered_arr()\n",
    "    u    = u0[:]  # copy\n",
    "\n",
    "    total_before = sum(u) * dx\n",
    "    step(u, F, dudt, kappa=kappa, dt=dt, mesh=mesh, bc=bc)\n",
    "    total_after  = sum(u) * dx\n",
    "\n",
    "    assert total_after == approx(total_before, rel=1e-12, abs=1e-12)"
   ]
  },
  {
   "cell_type": "code",
   "execution_count": null,
   "id": "aba98990",
   "metadata": {},
   "outputs": [
    {
     "name": "stdout",
     "output_type": "stream",
     "text": [
      "Test completed\n"
     ]
    }
   ],
   "source": [
    "test_conservation_insulated_is_invariant()\n",
    "print(\"Test completed\")"
   ]
  },
  {
   "cell_type": "markdown",
   "id": "74c423e4",
   "metadata": {},
   "source": [
    "\n",
    "### Symmetry\n",
    "\n",
    "We can test the symmetry property of the heat equation solver by checking if the solution remains\n",
    " symmetric when the initial conditions are mirrored and boundary conditions are applied symmetrically.\n",
    "  To check this property, let's first define a helper function to generate symmetric initial conditions.\n",
    "\n",
    "**Feature Spotlight:** The `st.builds()` method can be used to build complex data structures by\n",
    "combining simpler strategies. Below, we use it to create symmetric arrays."
   ]
  },
  {
   "cell_type": "code",
   "execution_count": null,
   "id": "f94f1076",
   "metadata": {},
   "outputs": [],
   "source": [
    "def symmetric_field(min_n=3, max_n=31):\n",
    "    # Produce palindromic arrays (odd length preferred for strict central symmetry)\n",
    "    # Build half then mirror\n",
    "    half = st.lists(floats_st, min_size=(min_n//2), max_size=(max_n//2))\n",
    "    center = floats_st\n",
    "    return st.builds(lambda h, c: h + [c] + list(reversed(h)), half, center)"
   ]
  },
  {
   "cell_type": "markdown",
   "id": "36a7b883",
   "metadata": {},
   "source": [
    "We are now ready to implement the symmetry property test using Hypothesis:"
   ]
  },
  {
   "cell_type": "code",
   "execution_count": null,
   "id": "aeccef9d",
   "metadata": {},
   "outputs": [],
   "source": [
    "@given(symmetric_field(), dx_st, kappa_st, dt_st, floats_st)\n",
    "def test_symmetry_preservation(u0, dx, kappa, dt, q):\n",
    "    assume(stability_condition(dt, dx, kappa))\n",
    "    n = len(u0)\n",
    "    assume(n >= 3 and n % 2 == 1)  # keep a clear center\n",
    "\n",
    "    mesh = Mesh(dx=dx, N=n)\n",
    "    F    = mesh.face_field()\n",
    "    dudt = mesh.cell_field()\n",
    "\n",
    "    u = u0[:]  # copy to update\n",
    "    step_heat_eqn(u, F, dudt, kappa, dt, mesh, bc=[q, -q])\n",
    "\n",
    "    # palindromic within FP tolerance\n",
    "    for i in range(n//2):\n",
    "        assert u[i] == approx(u[-i-1])"
   ]
  },
  {
   "cell_type": "code",
   "execution_count": null,
   "id": "c3b10c76",
   "metadata": {},
   "outputs": [
    {
     "name": "stdout",
     "output_type": "stream",
     "text": [
      "Test completed\n"
     ]
    }
   ],
   "source": [
    "test_symmetry_preservation()\n",
    "print(\"Test completed\")"
   ]
  },
  {
   "cell_type": "markdown",
   "id": "f3eeed2d",
   "metadata": {},
   "source": [
    "## What we just did\n",
    "\n",
    "Property-based testing lets you codify physics and math as executable claims:\n",
    "\n",
    " - We encoded conservation, boundary work, symmetry, a max-principle intuition, telescoping, linearity.\n",
    "\n",
    " - Hypothesis searched broad input spaces and shrank counterexamples when things went wrong.\n",
    "\n",
    " - This directly operationalizes the scientific method for software: state a hypothesis (property), attempt refutation (generation + shrinking), refine code or specs.\n",
    "\n",
    "## Looking Ahead\n",
    "\n",
    "In Chapter 5, we’ll step across the next rung of the rigor ladder: theorem proving—automating reasoning over all inputs within a finite domain and turning some of these properties into machine-checked contracts.\n"
   ]
  },
  {
   "cell_type": "markdown",
   "id": "526aa89f",
   "metadata": {},
   "source": [
    "---\n",
    "\n",
    "*This notebook is a part of the \"Rigor and Reasoning in Research Software\" (R3Sw) tutorial, led by Alper Altuntas and sponsored by the Better Scientific Software (BSSw) Fellowship Program. Copyright © 2025*"
   ]
  }
 ],
 "metadata": {
  "kernelspec": {
   "display_name": "r3sw",
   "language": "python",
   "name": "python3"
  },
  "language_info": {
   "codemirror_mode": {
    "name": "ipython",
    "version": 3
   },
   "file_extension": ".py",
   "mimetype": "text/x-python",
   "name": "python",
   "nbconvert_exporter": "python",
   "pygments_lexer": "ipython3",
   "version": "3.12.11"
  }
 },
 "nbformat": 4,
 "nbformat_minor": 5
}
