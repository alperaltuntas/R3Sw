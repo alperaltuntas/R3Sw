{
 "cells": [
  {
   "cell_type": "markdown",
   "id": "a8075b07",
   "metadata": {},
   "source": [
    "# Applying the Scientific Method to Scientific Software\n",
    "\n",
    "Scientific software developers are accustomed to applying the scientific method\n",
    "to complex research problems, ie., by formulating hypotheses, running experiments,\n",
    "and analyzing results. The software they build to model, simulate, or analyze\n",
    "these problems is often just as complex and can benefit from a similar \n",
    "methodological approach to ensure correctness and reliability.\n",
    "\n",
    "In scientific research, confidence is established through rigorous reasoning,\n",
    "experimentation, and validation against empirical data. Yet the software that\n",
    "underpins this research is often developed with far less rigor. At best, it typically relies\n",
    "on conventional unit, integration, and regression tests involving a number of hand-picked\n",
    "cases that the developers believe are representative of the software's general use cases.\n",
    "However, these tests often fail to capture the full range of behaviors or edge cases\n",
    "the software could encounter in real-world use.\n",
    "\n",
    "Given the central role software plays in modern scientific discovery, it deserves\n",
    "an equally rigorous and systematic approach. One possible way to towards achieving\n",
    "more confidence in software correctness is through property-based testing, which\n",
    "brings together two essential qualities:\n",
    "\n",
    "Rigor: Property-based testing systematically explores a wide and often surprising range\n",
    "of inputs, not just a few, hand-picked cases.\n",
    "\n",
    "Reasoning: It encourages developers to express general behavioral properties,\n",
    "promoting abstraction, logical thinking, and clarity about the software’s intended behavior."
   ]
  },
  {
   "cell_type": "markdown",
   "id": "71528b42",
   "metadata": {},
   "source": [
    "## So What is Property-Based Testing?\n",
    "\n",
    "Property-based testing emerged in ... Haskell .. Quickcheck"
   ]
  },
  {
   "cell_type": "markdown",
   "id": "ae1e29db",
   "metadata": {},
   "source": [
    "# The hypothesis library\n",
    "\n",
    "[REWORD] The [hypothesis](https://hypothesis.works/) library is a property-based testing framework for Python. It is the most widely used property-based testing library in the Python ecosystem and is inspired by Haskell's QuickCheck. Hypothesis allows developers to define properties that their code should satisfy, and it automatically generates a wide range of test cases to verify these properties."
   ]
  },
  {
   "cell_type": "markdown",
   "id": "430e1bb9",
   "metadata": {},
   "source": [
    "We'll introduce the fundamental concepts of property-based testing on the example of a simple multiplication function. This will help us understand how the main concepts of property-based testing work."
   ]
  },
  {
   "cell_type": "code",
   "execution_count": 53,
   "id": "f20baf2c",
   "metadata": {},
   "outputs": [],
   "source": [
    "def multiply(a, b):\n",
    "    \"\"\"Returns the product of two numbers.\"\"\"\n",
    "    return a * b"
   ]
  },
  {
   "cell_type": "markdown",
   "id": "968b589d",
   "metadata": {},
   "source": [
    "Before diving into property-based testing, let’s begin (as we should) with some simple unit tests.\n",
    "\n",
    "We’ll check whether our multiply function satisfies the associativity property, i.e., that `(a*b)*c == a*(b*c)` holds true.\n",
    "\n",
    "Let’s write a few test cases to verify this property for our multiply function:\n"
   ]
  },
  {
   "cell_type": "code",
   "execution_count": 105,
   "id": "4714572f",
   "metadata": {},
   "outputs": [
    {
     "name": "stdout",
     "output_type": "stream",
     "text": [
      "All tests passed!\n"
     ]
    }
   ],
   "source": [
    "def test_associative():\n",
    "    \"\"\"Test that multiplication is associative.\"\"\"\n",
    "    assert multiply(multiply(2, 3), 4) == multiply(2, multiply(3, 4))\n",
    "    assert multiply(multiply(-1, 5), 6) == multiply(-1, multiply(5, 6))\n",
    "    assert multiply(multiply(0, 10), 20) == multiply(0, multiply(10, 20))\n",
    "    assert multiply(multiply(1, 1), 1) == multiply(1, multiply(1, 1))\n",
    "    assert multiply(multiply(2.5, 4.0), 1.5) == multiply(2.5, multiply(4.0, 1.5))\n",
    "    assert multiply(multiply(-3.5, 2.0), 3.0) == multiply(-3.5, multiply(2.0, 3.0))\n",
    "    assert multiply(multiply(1e20, 1e30), 1e40) == multiply(1e20, multiply(1e30, 1e40))\n",
    "    assert multiply(multiply(0.0, 0.0), 0.0) == multiply(0.0, multiply(0.0, 0.0))\n",
    "    assert multiply(multiply(2.765, 4), 3.14) == multiply(2.765, multiply(4, 3.14))\n",
    "    assert multiply(multiply(2.81, 3.76), 1.61) == multiply(2.81, multiply(3.76, 1.61))\n",
    "    print(\"All tests passed!\")\n",
    "\n",
    "test_associative()"
   ]
  },
  {
   "cell_type": "markdown",
   "id": "7d9de780",
   "metadata": {},
   "source": [
    "\n",
    "Running the following code should pass all tests, confirming that our multiply function appears to be associative.\n",
    "\n",
    "**But wait!** \n",
    "\n",
    "Floating-point multiplication isn’t actually associative. So what’s going on here?\n",
    "\n",
    "This example highlights a few common pitfalls of unit testing: while it's certainly a necessary first step toward correctness, it can be tedious, repetitive, and misleading. Unit tests often overlook subtle numerical behaviors and edge cases, giving us a false sense of confidence.\n",
    "\n",
    "Can we do better? Yes. We can use property-based testing to explore the behavior of our multiplication function more rigorously and systematically, uncovering issues that traditional unit tests might miss."
   ]
  },
  {
   "cell_type": "code",
   "execution_count": 79,
   "id": "067dd60e",
   "metadata": {},
   "outputs": [],
   "source": [
    "import numpy as np"
   ]
  },
  {
   "cell_type": "code",
   "execution_count": 81,
   "id": "c88f3d2f",
   "metadata": {},
   "outputs": [
    {
     "data": {
      "text/plain": [
       "nan"
      ]
     },
     "execution_count": 81,
     "metadata": {},
     "output_type": "execute_result"
    }
   ],
   "source": [
    "np.inf * 0"
   ]
  },
  {
   "cell_type": "code",
   "execution_count": 83,
   "id": "b841b207",
   "metadata": {},
   "outputs": [
    {
     "data": {
      "text/plain": [
       "inf"
      ]
     },
     "execution_count": 83,
     "metadata": {},
     "output_type": "execute_result"
    }
   ],
   "source": [
    "1 * np.inf"
   ]
  },
  {
   "cell_type": "code",
   "execution_count": null,
   "id": "294c18db",
   "metadata": {},
   "outputs": [],
   "source": []
  },
  {
   "cell_type": "markdown",
   "id": "faa39e43",
   "metadata": {},
   "source": [
    "Now let's test out several properties of this multiplication function using property-based testing.\n",
    "First, we'll confirm that the multiplication function is commutative, meaning that the order of the operands does not affect the result.\n",
    "\n",
    "The two main components of property-based testing are:\n",
    "- *strategy*: This is a way to define the types of inputs that will be generated for testing.\n",
    "- *given*: This is a decorator that allows you to define a property that should hold true for a wide range of inputs.\n",
    "\n",
    "Let's start by importign these two components from the hypothesis library:"
   ]
  },
  {
   "cell_type": "code",
   "execution_count": 54,
   "id": "2779e1d1",
   "metadata": {},
   "outputs": [],
   "source": [
    "from hypothesis import strategies as st\n",
    "from hypothesis import given"
   ]
  },
  {
   "cell_type": "code",
   "execution_count": 55,
   "id": "a2da93b2",
   "metadata": {},
   "outputs": [],
   "source": [
    "@given(st.integers(), st.integers())\n",
    "def test_commutative(a, b):\n",
    "    \"\"\"Test that integer multiplication is commutative.\"\"\"\n",
    "    assert multiply(a, b) == multiply(b, a)\n",
    "\n",
    "test_commutative()"
   ]
  },
  {
   "cell_type": "markdown",
   "id": "98a98ff1",
   "metadata": {},
   "source": [
    "Running the above cell produces no output, which means that no assertion\n",
    "was violated—in other words, the property held true for all generated inputs.\n",
    "To confirm that Hypothesis is indeed generating random inputs and evaluating\n",
    "the property, we can add a print statement before the assertion. Also,\n",
    "by default, Hypothesis runs 100 test cases per property. To make the output\n",
    "easier to follow, we’ll reduce this number to 10 using the @settings decorator.\n",
    "\n",
    "In summary, we’ll:\n",
    "- Use `@settings(max_examples=10)` to limit the number of generated cases\n",
    "- Add `print(f\"Testing a={a}, b={b}\")` to display the generated inputs\n",
    "\n",
    "Let’s update the test accordingly."
   ]
  },
  {
   "cell_type": "code",
   "execution_count": 62,
   "id": "0891ec6e",
   "metadata": {},
   "outputs": [
    {
     "name": "stdout",
     "output_type": "stream",
     "text": [
      "Testing a=0, b=0\n",
      "Testing a=-8185, b=0\n",
      "Testing a=-8185, b=-31381\n",
      "Testing a=17881, b=-2461788500594381115\n",
      "Testing a=133495542271790161, b=-37\n",
      "Testing a=-17478, b=-86851563182348660229424653882970253239\n",
      "Testing a=-22843, b=-11046\n",
      "Testing a=-97, b=3274\n",
      "Testing a=-96, b=-5953898863333731411\n",
      "Testing a=-1252919588, b=-3307258136486730639\n"
     ]
    }
   ],
   "source": [
    "from hypothesis import settings\n",
    "\n",
    "@settings(max_examples=10)  # Run with 10 test cases instead of default (100)\n",
    "@given(st.integers(), st.integers())\n",
    "def test_commutative(a, b):\n",
    "    \"\"\"Test that integer multiplication is commutative.\"\"\"\n",
    "    print(f\"Testing a={a}, b={b}\")\n",
    "    assert multiply(a, b) == multiply(b, a)\n",
    "\n",
    "test_commutative()"
   ]
  },
  {
   "cell_type": "markdown",
   "id": "a7ced0af",
   "metadata": {},
   "source": [
    "Run the above cell multiple times to see how the generated inputs change.\n",
    "This demonstrates that Hypothesis is indeed generating random inputs for the property.\n",
    "\n",
    "Now let's test the same property for floating-point numbers. To do so, we simply change\n",
    "the input strategy to `st.floats()`:"
   ]
  },
  {
   "cell_type": "code",
   "execution_count": 71,
   "id": "79d8088f",
   "metadata": {},
   "outputs": [
    {
     "ename": "AssertionError",
     "evalue": "",
     "output_type": "error",
     "traceback": [
      "\u001b[31m---------------------------------------------------------------------------\u001b[39m",
      "\u001b[31mAssertionError\u001b[39m                            Traceback (most recent call last)",
      "\u001b[36mCell\u001b[39m\u001b[36m \u001b[39m\u001b[32mIn[71]\u001b[39m\u001b[32m, line 6\u001b[39m\n\u001b[32m      3\u001b[39m \u001b[38;5;250m    \u001b[39m\u001b[33;03m\"\"\"Test that multiplication is commutative for floats.\"\"\"\u001b[39;00m\n\u001b[32m      4\u001b[39m     \u001b[38;5;28;01massert\u001b[39;00m multiply(a, b) == multiply(b, a)\n\u001b[32m----> \u001b[39m\u001b[32m6\u001b[39m \u001b[43mtest_commutative\u001b[49m\u001b[43m(\u001b[49m\u001b[43m)\u001b[49m\n",
      "\u001b[36mCell\u001b[39m\u001b[36m \u001b[39m\u001b[32mIn[71]\u001b[39m\u001b[32m, line 2\u001b[39m, in \u001b[36mtest_commutative\u001b[39m\u001b[34m()\u001b[39m\n\u001b[32m      1\u001b[39m \u001b[38;5;129m@given\u001b[39m(st.floats(), st.floats())\n\u001b[32m----> \u001b[39m\u001b[32m2\u001b[39m \u001b[38;5;28;01mdef\u001b[39;00m\u001b[38;5;250m \u001b[39m\u001b[34mtest_commutative\u001b[39m(a, b):\n\u001b[32m      3\u001b[39m \u001b[38;5;250m    \u001b[39m\u001b[33;03m\"\"\"Test that multiplication is commutative for floats.\"\"\"\u001b[39;00m\n\u001b[32m      4\u001b[39m     \u001b[38;5;28;01massert\u001b[39;00m multiply(a, b) == multiply(b, a)\n",
      "    \u001b[31m[... skipping hidden 1 frame]\u001b[39m\n",
      "\u001b[36mCell\u001b[39m\u001b[36m \u001b[39m\u001b[32mIn[71]\u001b[39m\u001b[32m, line 4\u001b[39m, in \u001b[36mtest_commutative\u001b[39m\u001b[34m(a, b)\u001b[39m\n\u001b[32m      1\u001b[39m \u001b[38;5;129m@given\u001b[39m(st.floats(), st.floats())\n\u001b[32m      2\u001b[39m \u001b[38;5;28;01mdef\u001b[39;00m\u001b[38;5;250m \u001b[39m\u001b[34mtest_commutative\u001b[39m(a, b):\n\u001b[32m      3\u001b[39m \u001b[38;5;250m    \u001b[39m\u001b[33;03m\"\"\"Test that multiplication is commutative for floats.\"\"\"\u001b[39;00m\n\u001b[32m----> \u001b[39m\u001b[32m4\u001b[39m     \u001b[38;5;28;01massert\u001b[39;00m multiply(a, b) == multiply(b, a)\n",
      "\u001b[31mAssertionError\u001b[39m: ",
      "Falsifying example: test_commutative(\n    a=0.0,\n    b=inf,\n)"
     ]
    }
   ],
   "source": [
    "@given(st.floats(), st.floats())\n",
    "def test_commutative(a, b):\n",
    "    \"\"\"Test that multiplication is commutative for floats.\"\"\"\n",
    "    assert multiply(a, b) == multiply(b, a)\n",
    "\n",
    "test_commutative()"
   ]
  },
  {
   "cell_type": "markdown",
   "id": "763331ab",
   "metadata": {},
   "source": [
    "This time, you should receive an assertion error, indicating that the property\n",
    "does not hold for floating-point numbers. "
   ]
  },
  {
   "cell_type": "code",
   "execution_count": null,
   "id": "a5795e54",
   "metadata": {},
   "outputs": [],
   "source": []
  },
  {
   "cell_type": "code",
   "execution_count": null,
   "id": "0b56c15b",
   "metadata": {},
   "outputs": [],
   "source": [
    "@given(st.floats(), st.floats())\n",
    "def test_associative(a, b):\n",
    "    \"\"\"Test that multiplication is associative.\"\"\"\n",
    "    assert multiply(multiply(a, b), 2) == multiply(a, multiply(b, 2))"
   ]
  },
  {
   "cell_type": "code",
   "execution_count": 21,
   "id": "6076bb6d",
   "metadata": {},
   "outputs": [
    {
     "ename": "AssertionError",
     "evalue": "",
     "output_type": "error",
     "traceback": [
      "\u001b[31m---------------------------------------------------------------------------\u001b[39m",
      "\u001b[31mAssertionError\u001b[39m                            Traceback (most recent call last)",
      "\u001b[36mCell\u001b[39m\u001b[36m \u001b[39m\u001b[32mIn[21]\u001b[39m\u001b[32m, line 1\u001b[39m\n\u001b[32m----> \u001b[39m\u001b[32m1\u001b[39m \u001b[43mtest_associative\u001b[49m\u001b[43m(\u001b[49m\u001b[43m)\u001b[49m\n",
      "\u001b[36mCell\u001b[39m\u001b[36m \u001b[39m\u001b[32mIn[20]\u001b[39m\u001b[32m, line 13\u001b[39m, in \u001b[36mtest_associative\u001b[39m\u001b[34m()\u001b[39m\n\u001b[32m      9\u001b[39m \u001b[38;5;250m    \u001b[39m\u001b[33;03m\"\"\"Test that multiplication is commutative for floats.\"\"\"\u001b[39;00m\n\u001b[32m     10\u001b[39m     \u001b[38;5;28;01massert\u001b[39;00m multiply(a, b) == multiply(b, a)\n\u001b[32m     12\u001b[39m \u001b[38;5;129m@given\u001b[39m(st.floats(), st.floats())\n\u001b[32m---> \u001b[39m\u001b[32m13\u001b[39m \u001b[38;5;28;01mdef\u001b[39;00m\u001b[38;5;250m \u001b[39m\u001b[34mtest_associative\u001b[39m(a, b):\n\u001b[32m     14\u001b[39m \u001b[38;5;250m    \u001b[39m\u001b[33;03m\"\"\"Test that multiplication is associative.\"\"\"\u001b[39;00m\n\u001b[32m     15\u001b[39m     \u001b[38;5;28;01massert\u001b[39;00m multiply(multiply(a, b), \u001b[32m2\u001b[39m) == multiply(a, multiply(b, \u001b[32m2\u001b[39m))\n",
      "    \u001b[31m[... skipping hidden 1 frame]\u001b[39m\n",
      "\u001b[36mCell\u001b[39m\u001b[36m \u001b[39m\u001b[32mIn[20]\u001b[39m\u001b[32m, line 15\u001b[39m, in \u001b[36mtest_associative\u001b[39m\u001b[34m(a, b)\u001b[39m\n\u001b[32m     12\u001b[39m \u001b[38;5;129m@given\u001b[39m(st.floats(), st.floats())\n\u001b[32m     13\u001b[39m \u001b[38;5;28;01mdef\u001b[39;00m\u001b[38;5;250m \u001b[39m\u001b[34mtest_associative\u001b[39m(a, b):\n\u001b[32m     14\u001b[39m \u001b[38;5;250m    \u001b[39m\u001b[33;03m\"\"\"Test that multiplication is associative.\"\"\"\u001b[39;00m\n\u001b[32m---> \u001b[39m\u001b[32m15\u001b[39m     \u001b[38;5;28;01massert\u001b[39;00m multiply(multiply(a, b), \u001b[32m2\u001b[39m) == multiply(a, multiply(b, \u001b[32m2\u001b[39m))\n",
      "\u001b[31mAssertionError\u001b[39m: ",
      "Falsifying example: test_associative(\n    a=0.0,\n    b=8.98846567431158e+307,\n)"
     ]
    }
   ],
   "source": [
    "test_associative()"
   ]
  },
  {
   "cell_type": "code",
   "execution_count": null,
   "id": "086ede20",
   "metadata": {},
   "outputs": [],
   "source": [
    "# Now, let's run the test\n",
    "if __name__ == \"__main__\":\n",
    "    import pytest\n",
    "    pytest.main([__file__])"
   ]
  },
  {
   "cell_type": "code",
   "execution_count": 22,
   "id": "b3144643",
   "metadata": {},
   "outputs": [],
   "source": [
    "from hypothesis.extra.numpy import arrays as st_arrays"
   ]
  },
  {
   "cell_type": "code",
   "execution_count": 8,
   "id": "6e2a32a7",
   "metadata": {},
   "outputs": [],
   "source": [
    "@given(st_arrays(dtype=float, shape=(10,)))\n",
    "def d_dx(q, dx):\n",
    "    \"\"\"Centered finite difference approximation of the derivative.\"\"\"\n",
    "    return (q[2:] - q[:-2]) / (2 * dx)"
   ]
  },
  {
   "cell_type": "code",
   "execution_count": null,
   "id": "2db1e4ef",
   "metadata": {},
   "outputs": [],
   "source": []
  }
 ],
 "metadata": {
  "kernelspec": {
   "display_name": "r3sw",
   "language": "python",
   "name": "python3"
  },
  "language_info": {
   "codemirror_mode": {
    "name": "ipython",
    "version": 3
   },
   "file_extension": ".py",
   "mimetype": "text/x-python",
   "name": "python",
   "nbconvert_exporter": "python",
   "pygments_lexer": "ipython3",
   "version": "3.12.11"
  }
 },
 "nbformat": 4,
 "nbformat_minor": 5
}
