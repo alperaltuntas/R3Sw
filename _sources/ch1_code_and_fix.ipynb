{
 "cells": [
  {
   "cell_type": "markdown",
   "id": "7dcc98b8",
   "metadata": {},
   "source": [
    "# Chapter 1: Code and Fix\n",
    "\n",
    "In this section, we introduce our running example that we will use throughout the tutorial:\n",
    "the 1-D heat equation. We will develop a simple numerical solver for this equation (~10 lines of code).\n",
    "To do so, we'll start the way many scientific codes start: based on a scientific description,\n",
    "start coding, and get something working.\n",
    "\n",
    "---\n",
    "\n",
    "### Goals\n",
    "- Implement a quick, working solution for the 1-D heat equation using explicit Euler scheme.\n",
    "- Experience the \"business-as-usual\" approach to scientific computing.\n",
    "- Observe the drawbacks of unstructured, monolithic code.\n",
    "\n",
    "### Key Concepts\n",
    "- Diffusion equation (PDE) and discretization\n",
    "- Flux calculations and explicit Euler update\n",
    "- \"Code-and-fix\" model: fast prototyping with minimal reasoning\n",
    "\n",
    "---\n"
   ]
  },
  {
   "cell_type": "markdown",
   "id": "6cab0d80",
   "metadata": {},
   "source": [
    "## The 1-D Heat Equation\n",
    "Consider a 1-D insulated rod (no internal sources/sinks). The temperature u(x,t)\n",
    "evolves by the heat equation:\n",
    "\n",
    "$$\\frac{\\partial u}{\\partial t} = \\kappa \\frac{\\partial^2 u}{\\partial x^2}$$\n",
    "\n",
    "where $\\kappa$ is the thermal diffusivity of the material [$m^2/s$].\n",
    "\n",
    "## Discretization (finite-volume flavor)\n",
    "\n",
    " - Split the domain into $N$ cells of width $\\Delta x$.\n",
    " - Advance the simulation in time by a small time step $\\Delta t$.\n",
    " - Let $F_{i}$ be the diffusive flux of $u$ across the interface between cells i-1 and i.\n",
    "\n",
    "   $$F_{i} = -\\kappa \\frac{u_{i} - u_{i-1}}{\\Delta x}$$\n",
    "\n",
    "- Let $div(F_i)$ be the divergence of flux in cell i.\n",
    "\n",
    "  $$div(F_i) = \\frac{F_{i} - F_{i+1}}{\\Delta x}$$\n",
    "\n",
    "- Let $u_i(t)$ be the average temperature in the i-th cell.\n",
    "\n",
    "  $$u_i^{n+1} = u_i^n + \\Delta t \\cdot div(F_i)$$\n",
    "\n",
    "  where the superscript $n$ denotes the time step.\n",
    "\n",
    "\n",
    "\n",
    "### Boundary Conditions\n",
    "\n",
    "At the outermost interfaces, we apply Neumann boundary conditions:\n",
    " - Prescribed diffusive heat fluxes at the boundaries ($q_L$ and $q_R$).\n",
    " - For example, setting $q_L$ = $q_R$ = 0.0 models an insulated rod (no heat leaving or entering the domain).\n",
    "\n",
    "### Mesh \n",
    "\n",
    "Here is a visualization of a 1-D mesh consisting of 3 cells. The temperature values $u_i$ are stored at the cell centers while the fluxes $F_i$ are computed at the cell faces where positive fluxes indicate heat flow to the right. Boundary fluxes $F_0$ and $F_N$ are set according to the Neumann boundary conditions.\n",
    "\n",
    "![1D mesh with fluxes](img/mesh.png)\n"
   ]
  },
  {
   "cell_type": "markdown",
   "id": "2d686011",
   "metadata": {},
   "source": [
    "## Exercise 1.1 - fill in the missing lines\n",
    "\n",
    "Complete the following function that advances the temperature by nt steps\n",
    "using the formulas for the diffusive flux $F$ and the temperature $u$.\n"
   ]
  },
  {
   "cell_type": "code",
   "execution_count": 7,
   "id": "ba28d733",
   "metadata": {},
   "outputs": [],
   "source": [
    "def solve_heat_eqn(u0, kappa, dx, dt, qL, qR, nt):\n",
    "    \"\"\"Numerically solve the 1D heat equation.\n",
    "\n",
    "    Arguments\n",
    "    ---------\n",
    "    u0 : array,      The initial temperature distribution (C)\n",
    "    kappa : float,  The thermal diffusivity (m^2/s).\n",
    "    dx : float,     The spacing between grid points (m).\n",
    "    dt : float,     The time step size (s).\n",
    "    qL : float,     The diffusive heat flux at the left boundary (W/m^2).\n",
    "    qR : float,     The diffusive heat flux at the right boundary (W/m^2).\n",
    "    nt : int,       The number of time steps to simulate.\n",
    "\n",
    "    Returns\n",
    "    -------\n",
    "    array,          The updated temperature distribution.\n",
    "    \"\"\"\n",
    "\n",
    "    N = len(u0)          # Number of grid points\n",
    "    u = u0.copy()        # Create a mutable copy of the initial condition\n",
    "    F = [0.0] * (N+1)   # Fluxes at interfaces\n",
    "    dudt = [0.0] * N    # Tendencies\n",
    "\n",
    "    for _ in range(nt):\n",
    "\n",
    "        # Boundary conditions\n",
    "        F[0], F[-1] = qL, qR\n",
    "\n",
    "        # Compute diffusive fluxes F\n",
    "        ... # TODO\n",
    "\n",
    "        # Compute divergence of fluxes dudt\n",
    "        ... # TODO\n",
    "\n",
    "        # Update the temperature field u\n",
    "        ... # TODO\n",
    "\n",
    "    return u"
   ]
  },
  {
   "cell_type": "markdown",
   "id": "f0510cd9",
   "metadata": {},
   "source": [
    "**One Possible Solution**\n",
    "\n",
    "Below collapsed cell includes a possible solution. Compare it with your own implementation. A common source of error is the loop indexing of the fluxes and the temperature arrays.\n"
   ]
  },
  {
   "cell_type": "code",
   "execution_count": 8,
   "id": "74200ca3",
   "metadata": {},
   "outputs": [],
   "source": [
    "def solve_heat_eqn(u0, kappa, dx, dt, qL, qR, nt):\n",
    "    \"\"\"Numerically solve the 1D heat equation.\n",
    "\n",
    "    Arguments\n",
    "    ---------\n",
    "    u0 : array,      The initial temperature distribution (C)\n",
    "    kappa : float,  The thermal diffusivity (m^2/s).\n",
    "    dx : float,     The spacing between grid points (m).\n",
    "    dt : float,     The time step size (s).\n",
    "    qL : float,     The diffusive heat flux at the left boundary (W/m^2).\n",
    "    qR : float,     The diffusive heat flux at the right boundary (W/m^2).\n",
    "    nt : int,       The number of time steps to simulate.\n",
    "\n",
    "    Returns\n",
    "    -------\n",
    "    array,          The updated temperature distribution.\n",
    "    \"\"\"\n",
    "\n",
    "    N = len(u0)          # Number of grid points\n",
    "    u = u0.copy()        # Create a mutable copy of the initial condition\n",
    "    F = [0.0] * (N+1)   # Fluxes at interfaces\n",
    "    dudt = [0.0] * N    # Tendencies\n",
    "\n",
    "    for _ in range(nt):\n",
    "\n",
    "        # Boundary conditions\n",
    "        F[0], F[-1] = qL, qR\n",
    "\n",
    "        # Fluxes at intermediate interfaces\n",
    "        for i in range(1, N):\n",
    "            F[i] = -kappa * (u[i] - u[i-1]) / dx\n",
    "\n",
    "        # Compute tendencies\n",
    "        for i in range(N):\n",
    "            dudt[i] = (F[i] - F[i+1]) / dx\n",
    "\n",
    "        # Update the temperature distribution\n",
    "        for i in range(N):\n",
    "            u[i] += dt * dudt[i]\n",
    "\n",
    "    return u"
   ]
  },
  {
   "cell_type": "markdown",
   "id": "aef7dc28",
   "metadata": {},
   "source": [
    "## Quick Sanity Checks\n",
    "\n",
    "Try running this function for one timestep with the following input temperature distibution: [0.0, 100.0, 0.0]. The expected output is a new array representing the temperature distribution after one time step. One would expect the outer cells to heat up, while the middle cell cools down."
   ]
  },
  {
   "cell_type": "code",
   "execution_count": 9,
   "id": "10c5431b",
   "metadata": {},
   "outputs": [
    {
     "data": {
      "text/plain": [
       "[0.1, 99.8, 0.1]"
      ]
     },
     "execution_count": 9,
     "metadata": {},
     "output_type": "execute_result"
    }
   ],
   "source": [
    "solve_heat_eqn(\n",
    "    u0 = [0.0, 100.0, 0.0],\n",
    "    kappa = 0.1, # thermal diffusivity (m^2/s)\n",
    "    dx = 1.0,    # spatial step size (m)\n",
    "    dt = 0.01,    # time step size (s)\n",
    "    qL = 0.0,    # left boundary heat flux (W/m^2)\n",
    "    qR = 0.0,    # right boundary heat flux (W/m^2)\n",
    "    nt = 1\n",
    ")"
   ]
  },
  {
   "cell_type": "markdown",
   "id": "7b67bbe7",
   "metadata": {},
   "source": [
    "Now, let's re-run the function with a longer time step and see how the temperature distribution evolves."
   ]
  },
  {
   "cell_type": "code",
   "execution_count": 10,
   "id": "30df049d",
   "metadata": {},
   "outputs": [
    {
     "data": {
      "text/plain": [
       "[10.0, 80.0, 10.0]"
      ]
     },
     "execution_count": 10,
     "metadata": {},
     "output_type": "execute_result"
    }
   ],
   "source": [
    "solve_heat_eqn(\n",
    "    u0 = [0.0, 100.0, 0.0],\n",
    "    kappa = 0.1, # thermal diffusivity (m^2/s)\n",
    "    dx = 1.0,    # length of each spatial cell (m)\n",
    "    dt = 1.0,    # time step size (s)\n",
    "    qL = 0.0,    # left boundary heat flux (W/m^2)\n",
    "    qR = 0.0,    # right boundary heat flux (W/m^2)\n",
    "    nt = 1\n",
    ")"
   ]
  },
  {
   "cell_type": "markdown",
   "id": "1a60423e",
   "metadata": {},
   "source": [
    "As expected, the diffusion process is more pronounced with a larger time step. Now let's run the simulation for 1000 time steps instead of just 1."
   ]
  },
  {
   "cell_type": "code",
   "execution_count": 11,
   "id": "191e5193",
   "metadata": {},
   "outputs": [
    {
     "data": {
      "text/plain": [
       "[33.33333333333137, 33.333333333337265, 33.33333333333137]"
      ]
     },
     "execution_count": 11,
     "metadata": {},
     "output_type": "execute_result"
    }
   ],
   "source": [
    "solve_heat_eqn(\n",
    "    u0 = [0.0, 100.0, 0.0],\n",
    "    kappa = 0.1, # thermal diffusivity (m^2/s)\n",
    "    dx = 1.0,    # length of each spatial cell (m)\n",
    "    dt = 0.1,    # time step size (s)\n",
    "    qL = 0.0,    # left boundary heat flux (W/m^2)\n",
    "    qR = 0.0,    # right boundary heat flux (W/m^2)\n",
    "    nt = 1000\n",
    ")"
   ]
  },
  {
   "cell_type": "markdown",
   "id": "bf4eafcd",
   "metadata": {},
   "source": [
    "The result of the above function call should converge to the steady-state solution of the heat equation: the mean temperature of the three nodes [0.0, 100.0, 0.0], i.e., 33.33 °C everywhere."
   ]
  },
  {
   "cell_type": "markdown",
   "id": "0fb5af57",
   "metadata": {},
   "source": [
    "## Exercise 1.2 - more sanity checks\n",
    "\n",
    "Come up with more sanity checks for `solve_heat_equation` in an attempt to find any potential flaws. Alternatively, check your own version of `solve_heat_eqn` for any discrepancies.\n"
   ]
  },
  {
   "cell_type": "code",
   "execution_count": 12,
   "id": "0c0aba2e",
   "metadata": {},
   "outputs": [],
   "source": [
    "# TODO: more sanity checks"
   ]
  },
  {
   "cell_type": "markdown",
   "id": "f3eeed2d",
   "metadata": {},
   "source": [
    "## What we just did\n",
    "\n",
    " - **Got something working fast:** based on a scientific description of the problem,\n",
    "  we quickly implemented a computational solution.\n",
    "\n",
    " - **Mixed concerns:** one function that applies flux BCs,\n",
    "  computes fluxes, and updates temperatures.\n",
    "\n",
    " - **Stateful, in-place update:** harder to reason about and to test in isolation.\n",
    "\n",
    " - **No reasoning artifacts:** no preconditions/postconditions, no invariants, no stability checks.\n",
    "\n",
    " - **Only ad-hoc sanity checks:** nothing automated to guard against regressions.\n",
    "\n",
    "This \"code and fix\" pattern is common in scientific computing and fine for \n",
    "prototyping, but it doesn’t scale.\n",
    "\n",
    "\n",
    "\n",
    "## Looking Ahead\n",
    "\n",
    "Next, we'll:\n",
    "\n",
    " - name the behaviors we want (pre/postconditions, invariants like conservation under zero flux),\n",
    " - separate concerns (BCs, fluxes, updates), \n",
    " - and refactor stepwise. \n",
    "\n",
    "That will make the code testable (Ch.3), let us express properties to try to refute (Ch.4), and even enable bounded checking with contracts (Ch.5)."
   ]
  },
  {
   "cell_type": "markdown",
   "id": "526aa89f",
   "metadata": {},
   "source": [
    "---\n",
    "\n",
    "R3Sw tutorial by Alper Altuntas (NSF NCAR). Sponsored by the BSSw Fellowship Program. © 2025.\n",
    "\n",
    "Cite as: Alper Altuntas, Philip Zucker, Deepak Cherian, Adrianna Foster, Manish Venumuddula, and Helen Kershaw. (2025). *\"Rigor and Reasoning in Research Software (R3Sw) Tutorial.\"* https://www.alperaltuntas.com/R3Sw"
   ]
  }
 ],
 "metadata": {
  "kernelspec": {
   "display_name": "r3sw",
   "language": "python",
   "name": "python3"
  },
  "language_info": {
   "codemirror_mode": {
    "name": "ipython",
    "version": 3
   },
   "file_extension": ".py",
   "mimetype": "text/x-python",
   "name": "python",
   "nbconvert_exporter": "python",
   "pygments_lexer": "ipython3",
   "version": "3.12.11"
  }
 },
 "nbformat": 4,
 "nbformat_minor": 5
}
