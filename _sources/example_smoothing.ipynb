{
 "cells": [
  {
   "cell_type": "markdown",
   "id": "a633ac17",
   "metadata": {},
   "source": [
    "# Candidate 1: Laplacian Smoothing\n",
    "\n",
    "In this section, we create a running example which will be used in the rest of the tutorial to introduce various testing and reasoning techniques.\n",
    "\n",
    "Laplacian smoothing is a simple and commonly used technique in scientific computing and data processing. It is often employed to reduce noise and improve the quality of data by averaging the values of neighboring points....\n"
   ]
  },
  {
   "cell_type": "markdown",
   "id": "d240bdc0",
   "metadata": {},
   "source": [
    "# Candidate 2: 2-D Box Filter\n",
    "\n",
    "Description:\n",
    "\n",
    "You're smoothing a gridded data (e.g., temperature). A common approach is a **local box average**: replace each point by the mean of its surrounding $K \\times K$ neighborhood including itself."
   ]
  },
  {
   "cell_type": "code",
   "execution_count": null,
   "id": "813bc56d",
   "metadata": {},
   "outputs": [],
   "source": [
    "import matplotlib.pyplot as plt\n",
    "import xarray as xr"
   ]
  },
  {
   "cell_type": "code",
   "execution_count": 51,
   "id": "3727a5db",
   "metadata": {},
   "outputs": [],
   "source": [
    "arr = xr.tutorial.open_dataset(\"air_temperature\").air.isel(time=0).values"
   ]
  },
  {
   "cell_type": "code",
   "execution_count": 52,
   "id": "1d12cbae",
   "metadata": {},
   "outputs": [
    {
     "data": {
      "text/plain": [
       "numpy.ndarray"
      ]
     },
     "execution_count": 52,
     "metadata": {},
     "output_type": "execute_result"
    }
   ],
   "source": [
    "type(arr)"
   ]
  },
  {
   "cell_type": "code",
   "execution_count": 53,
   "id": "41727472",
   "metadata": {},
   "outputs": [
    {
     "data": {
      "text/plain": [
       "(25, 53)"
      ]
     },
     "execution_count": 53,
     "metadata": {},
     "output_type": "execute_result"
    }
   ],
   "source": [
    "arr.shape"
   ]
  },
  {
   "cell_type": "code",
   "execution_count": 58,
   "id": "130e2e19",
   "metadata": {},
   "outputs": [],
   "source": [
    "arr = xr.tutorial.open_dataset(\"air_temperature\").air.isel(time=0).values"
   ]
  },
  {
   "cell_type": "code",
   "execution_count": 68,
   "id": "b41b099e",
   "metadata": {},
   "outputs": [
    {
     "data": {
      "text/plain": [
       "<matplotlib.image.AxesImage at 0x19fe01550>"
      ]
     },
     "execution_count": 68,
     "metadata": {},
     "output_type": "execute_result"
    },
    {
     "data": {
      "image/png": "[encoded data removed]",
      "text/plain": [
       "<Figure size 640x480 with 1 Axes>"
      ]
     },
     "metadata": {},
     "output_type": "display_data"
    }
   ],
   "source": [
    "plt.imshow(arr)"
   ]
  },
  {
   "cell_type": "code",
   "execution_count": 69,
   "id": "8dc47308",
   "metadata": {},
   "outputs": [],
   "source": [
    "def apply_box_filter(arr):\n",
    "    arr_filtered = arr.copy()\n",
    "    ni, nj = arr.shape\n",
    "    for i in range(ni):\n",
    "        for j in range(nj):\n",
    "            arr_filtered[i,j] = \\\n",
    "                arr[i-1,j-1]      + arr[i,j-1]      + arr[(i+1)%ni,j-1] + \\\n",
    "                arr[i-1,j]        + arr[i,j]        + arr[(i+1)%ni,j] + \\\n",
    "                arr[i-1,(j+1)%nj] + arr[i,(j+1)%nj] + arr[(i+1)%ni,(j+1)%nj]\n",
    "    return arr_filtered\n"
   ]
  },
  {
   "cell_type": "code",
   "execution_count": 70,
   "id": "77429ae2",
   "metadata": {},
   "outputs": [],
   "source": [
    "for i in range(10):\n",
    "    arr = apply_box_filter(arr)"
   ]
  },
  {
   "cell_type": "code",
   "execution_count": 71,
   "id": "2152a39c",
   "metadata": {},
   "outputs": [
    {
     "data": {
      "text/plain": [
       "<matplotlib.image.AxesImage at 0x19f61f8c0>"
      ]
     },
     "execution_count": 71,
     "metadata": {},
     "output_type": "execute_result"
    },
    {
     "data": {
      "image/png": "[encoded data removed]",
      "text/plain": [
       "<Figure size 640x480 with 1 Axes>"
      ]
     },
     "metadata": {},
     "output_type": "display_data"
    }
   ],
   "source": [
    "plt.imshow(arr)"
   ]
  },
  {
   "cell_type": "code",
   "execution_count": null,
   "id": "af4e3181",
   "metadata": {},
   "outputs": [],
   "source": [
    "apply"
   ]
  }
 ],
 "metadata": {
  "kernelspec": {
   "display_name": "r3sw",
   "language": "python",
   "name": "python3"
  },
  "language_info": {
   "codemirror_mode": {
    "name": "ipython",
    "version": 3
   },
   "file_extension": ".py",
   "mimetype": "text/x-python",
   "name": "python",
   "nbconvert_exporter": "python",
   "pygments_lexer": "ipython3",
   "version": "3.12.11"
  }
 },
 "nbformat": 4,
 "nbformat_minor": 5
}
