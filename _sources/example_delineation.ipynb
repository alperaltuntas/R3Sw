{
 "cells": [
  {
   "cell_type": "markdown",
   "id": "a633ac17",
   "metadata": {},
   "source": [
    "# Watershed Delineation\n",
    "\n",
    "You are given a 2D grid representing the elevation of each point in a landscape.\n",
    "Water flows downhill from each cell to exactly one of its four neighbors (north, south, east, or west) that has the lowest elevation strictly less than the current cell’s elevation.\n",
    "If no neighbor has a lower elevation, the current cell is a sink, and water stays there.\n",
    "\n",
    "Two cells are part of the same watershed if water from both cells eventually flows into the same sink.\n",
    "\n",
    "Your task is to label each cell with a watershed ID, where:\n",
    "\n",
    " - Watershed IDs are assigned alphabetically starting from 'A' for the first discovered basin.\n",
    "\n",
    " - Watersheds should be labeled in row-major order: scan rows top-to-bottom, and within a row, left-to-right. The first sink you encounter becomes 'A', the next distinct sink becomes 'B', and so on.\n",
    "\n",
    "Return a 2D array of characters representing the watershed labels for each cell.\n"
   ]
  },
  {
   "cell_type": "code",
   "execution_count": 27,
   "id": "813bc56d",
   "metadata": {},
   "outputs": [],
   "source": [
    "import matplotlib.pyplot as plt\n",
    "from collections import defaultdict"
   ]
  },
  {
   "cell_type": "code",
   "execution_count": 6,
   "id": "7a8466d2",
   "metadata": {},
   "outputs": [],
   "source": [
    "elevations = [\n",
    "  [9, 6, 3],\n",
    "  [5, 9, 6],\n",
    "  [3, 5, 9]\n",
    "]"
   ]
  },
  {
   "cell_type": "code",
   "execution_count": 117,
   "id": "8cca972e",
   "metadata": {},
   "outputs": [],
   "source": [
    "def neighbors(j, i, m, n):\n",
    "    if j > 0:     yield (j-1, i)\n",
    "    if j < m-1:   yield (j+1, i)\n",
    "    if i > 0:     yield (j, i-1)\n",
    "    if i < n-1:   yield (j, i+1)\n",
    "\n",
    "def watershed_delineation(elevations):\n",
    "    m = len(elevations)\n",
    "    n = len(elevations[0])\n",
    "\n",
    "    basin = [[None for i in range(n)] for j in range(m)]\n",
    "\n",
    "    basin_ctr = 0\n",
    "\n",
    "    def get_basin(j,i):\n",
    "\n",
    "        if basin[j][i] is not None:\n",
    "            return basin[j][i]\n",
    "\n",
    "        lowneig = j,i\n",
    "        for neig in neighbors(j,i,m,n):\n",
    "            if elevations[neig[0]][neig[1]] < elevations[lowneig[0]][lowneig[1]]:\n",
    "                lowneig = neig\n",
    "\n",
    "        if lowneig == (j,i):\n",
    "            nonlocal basin_ctr\n",
    "            basin[j][i] = chr(ord('A')+basin_ctr)\n",
    "            basin_ctr+=1\n",
    "        else:\n",
    "            basin[j][i] = get_basin(*lowneig)\n",
    "\n",
    "        return basin[j][i]\n",
    "\n",
    "    for j in range(m):\n",
    "        for i in range(n):\n",
    "            get_basin(j,i)\n",
    "    \n",
    "    return basin"
   ]
  },
  {
   "cell_type": "code",
   "execution_count": null,
   "id": "dbaf55ca",
   "metadata": {},
   "outputs": [],
   "source": []
  },
  {
   "cell_type": "code",
   "execution_count": 118,
   "id": "5a640032",
   "metadata": {},
   "outputs": [],
   "source": [
    "elevations = [\n",
    "    [1, 3, 5],\n",
    "    [3, 5, 4],\n",
    "    [5, 4, 3]\n",
    "]"
   ]
  },
  {
   "cell_type": "code",
   "execution_count": 119,
   "id": "926a4922",
   "metadata": {},
   "outputs": [
    {
     "data": {
      "text/plain": [
       "[['A', 'A', 'A'], ['A', 'A', 'B'], ['A', 'B', 'B']]"
      ]
     },
     "execution_count": 119,
     "metadata": {},
     "output_type": "execute_result"
    }
   ],
   "source": [
    "watershed_delineation(elevations)"
   ]
  },
  {
   "cell_type": "code",
   "execution_count": 120,
   "id": "49b0919d",
   "metadata": {},
   "outputs": [],
   "source": [
    "heights = [\n",
    "    [1,2,2,0,5],\n",
    "    [3,2,0,4,4],\n",
    "    [2,4,0,0,1],\n",
    "    [6,7,1,4,5],\n",
    "    [5,1,1,2,4]\n",
    "]"
   ]
  },
  {
   "cell_type": "code",
   "execution_count": 122,
   "id": "2de638bd",
   "metadata": {},
   "outputs": [
    {
     "data": {
      "text/plain": [
       "[['A', 'A', 'B', 'C', 'C'],\n",
       " ['A', 'B', 'B', 'C', 'D'],\n",
       " ['E', 'F', 'F', 'D', 'D'],\n",
       " ['E', 'G', 'F', 'D', 'D'],\n",
       " ['G', 'G', 'H', 'H', 'H']]"
      ]
     },
     "execution_count": 122,
     "metadata": {},
     "output_type": "execute_result"
    }
   ],
   "source": [
    "watershed_delineation(heights)"
   ]
  },
  {
   "cell_type": "code",
   "execution_count": null,
   "id": "c5f3886f",
   "metadata": {},
   "outputs": [],
   "source": []
  }
 ],
 "metadata": {
  "kernelspec": {
   "display_name": "r3sw",
   "language": "python",
   "name": "python3"
  },
  "language_info": {
   "codemirror_mode": {
    "name": "ipython",
    "version": 3
   },
   "file_extension": ".py",
   "mimetype": "text/x-python",
   "name": "python",
   "nbconvert_exporter": "python",
   "pygments_lexer": "ipython3",
   "version": "3.12.11"
  }
 },
 "nbformat": 4,
 "nbformat_minor": 5
}
